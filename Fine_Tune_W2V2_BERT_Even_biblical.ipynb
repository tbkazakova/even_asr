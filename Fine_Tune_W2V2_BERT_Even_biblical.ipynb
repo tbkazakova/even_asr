{
  "cells": [
    {
      "cell_type": "markdown",
      "metadata": {
        "id": "LBSYoWbi-45k"
      },
      "source": [
        "# **Fine-Tune W2V2-Bert for low-resource ASR with 🤗 Transformers**\n",
        "\n",
        "[Fine-tuning XLS-R on Multi-Lingual ASR](https://huggingface.co/blog/fine-tune-xlsr-wav2vec2) and [Fine-tuning MMS Adapter Models for Multi-Lingual ASR](https://huggingface.co/blog/mms_adapters)."
      ]
    },
    {
      "cell_type": "markdown",
      "metadata": {
        "id": "nT_QrfWtsxIz"
      },
      "source": [
        "## Notebook Setup"
      ]
    },
    {
      "cell_type": "code",
      "execution_count": null,
      "metadata": {
        "colab": {
          "base_uri": "https://localhost:8080/"
        },
        "id": "YELVqGxMxnbG",
        "outputId": "8667bfd5-3b5f-4464-8ddb-63a855b8993c"
      },
      "outputs": [
        {
          "output_type": "stream",
          "name": "stdout",
          "text": [
            "Fri May 31 08:02:21 2024       \n",
            "+---------------------------------------------------------------------------------------+\n",
            "| NVIDIA-SMI 535.104.05             Driver Version: 535.104.05   CUDA Version: 12.2     |\n",
            "|-----------------------------------------+----------------------+----------------------+\n",
            "| GPU  Name                 Persistence-M | Bus-Id        Disp.A | Volatile Uncorr. ECC |\n",
            "| Fan  Temp   Perf          Pwr:Usage/Cap |         Memory-Usage | GPU-Util  Compute M. |\n",
            "|                                         |                      |               MIG M. |\n",
            "|=========================================+======================+======================|\n",
            "|   0  Tesla T4                       Off | 00000000:00:04.0 Off |                    0 |\n",
            "| N/A   40C    P8               9W /  70W |      0MiB / 15360MiB |      0%      Default |\n",
            "|                                         |                      |                  N/A |\n",
            "+-----------------------------------------+----------------------+----------------------+\n",
            "                                                                                         \n",
            "+---------------------------------------------------------------------------------------+\n",
            "| Processes:                                                                            |\n",
            "|  GPU   GI   CI        PID   Type   Process name                            GPU Memory |\n",
            "|        ID   ID                                                             Usage      |\n",
            "|=======================================================================================|\n",
            "|  No running processes found                                                           |\n",
            "+---------------------------------------------------------------------------------------+\n"
          ]
        }
      ],
      "source": [
        "gpu_info = !nvidia-smi\n",
        "gpu_info = '\\n'.join(gpu_info)\n",
        "if gpu_info.find('failed') >= 0:\n",
        "  print('Not connected to a GPU')\n",
        "else:\n",
        "  print(gpu_info)"
      ]
    },
    {
      "cell_type": "code",
      "execution_count": null,
      "metadata": {
        "id": "c8eh87Hoee5d"
      },
      "outputs": [],
      "source": [
        "%%capture\n",
        "!pip install datasets\n",
        "!pip install transformers\n",
        "!pip install torchaudio\n",
        "!pip install jiwer\n",
        "!pip install accelerate -U"
      ]
    },
    {
      "cell_type": "code",
      "source": [
        "import IPython.display as ipd\n",
        "import numpy as np\n",
        "import random\n",
        "from datasets import ClassLabel\n",
        "import pandas as pd\n",
        "from IPython.display import display, HTML\n",
        "import torch\n",
        "from dataclasses import dataclass, field\n",
        "from typing import Any, Dict, List, Optional, Union"
      ],
      "metadata": {
        "id": "ZSRGc4WRdEYU"
      },
      "execution_count": null,
      "outputs": []
    },
    {
      "cell_type": "code",
      "execution_count": null,
      "metadata": {
        "id": "mlMSH3T3EazV"
      },
      "outputs": [],
      "source": [
        "from huggingface_hub import notebook_login\n",
        "\n",
        "notebook_login()"
      ]
    },
    {
      "cell_type": "code",
      "execution_count": null,
      "metadata": {
        "id": "WcR-d83OEkqb"
      },
      "outputs": [],
      "source": [
        "%%capture\n",
        "!apt install git-lfs"
      ]
    },
    {
      "cell_type": "markdown",
      "metadata": {
        "id": "0mW-C1Nt-j7k"
      },
      "source": [
        "## Prepare Data, Tokenizer, Feature Extractor"
      ]
    },
    {
      "cell_type": "markdown",
      "metadata": {
        "id": "sEXEWEJGQPqD"
      },
      "source": [
        "### Create `Wav2Vec2CTCTokenizer`"
      ]
    },
    {
      "cell_type": "code",
      "source": [
        "from datasets import load_dataset, load_metric, Audio"
      ],
      "metadata": {
        "id": "89zsaff5JhYh"
      },
      "execution_count": null,
      "outputs": []
    },
    {
      "cell_type": "code",
      "source": [
        "dataset = load_dataset(\"tbkazakova/even_speech\", split='train').train_test_split(test_size=0.2)"
      ],
      "metadata": {
        "colab": {
          "base_uri": "https://localhost:8080/",
          "height": 145,
          "referenced_widgets": [
            "434a188109f34ef4b93d99977e50226b",
            "5eef2421d2d24ce4a7b0ec4820e438e1",
            "c93e4c5dcff44c15982f3ec306a65381",
            "7015a30fffef46c1afb91c352275d878",
            "16a475184bdf4fd69ff07e235c12d1ba",
            "8cc39e85bf354e40b72ab75e1a46f614",
            "a32bd19c472c4be5879bcfa385358408",
            "8cd6272354b044c0bc4121b3e44deff6",
            "d82216a447c24f5998cb313f8fece218",
            "75662b6dc60a4d13b284c486bfb1d252",
            "03d767a935324952b25c8f7a61a43a4f",
            "5bbdab3c2f364b31b2c489274df875c2",
            "cad12500aaca42bbb6ce8ed0b26a6eac",
            "74275da1a05a4f7d9d6d561ba2160357",
            "0df49153dfa74b13be7cdb3f8c6d0630",
            "2b033f74d55948eca4105ae13af6b4e1",
            "dd0540237ea24861bbb094bcd0bc1ae5",
            "5d290cf1464844d497b08a852bc3e5df",
            "c41b81f6cff14923b306c4f90cf7ba6f",
            "fe36ededfef340b8992b2bc6cec4f4b8",
            "13004eb6667e40e7b558b455cbcfd0d5",
            "c795962dae944b17afd9d8cf44f8c7f9",
            "94c6891d1a53424997f8144cabcb3673",
            "35c8b570fb0b4f36a9cb95147faa3a2f",
            "c88315def21e49d8acb8d0f66baf8d75",
            "2daeece52df24b63afc25e0c8660bdb1",
            "79088cc9393b46e79d955f53325aba25",
            "afe03f7f8849460e858395d657703da3",
            "1a8436f8f7894b3b9abb21de5dc720aa",
            "5c2d89ee045a494cb814081043d65ef6",
            "7ab2ba4160544600a57452cc1345ca61",
            "cb5f6dae7ccf4a189d99689b8e67fe76",
            "0d8fc4fceabc48e8872aef09038fe941",
            "48ce0cc9689c4f08b5558d203884b857",
            "c08b61752495494380cb1b13f9e98779",
            "474ef3a838614bbbb9e105e5b66815e5",
            "b6d3ad89e89c4f568379f2c557fd98c8",
            "8aceb90476c14d969935d80166a44bd2",
            "0966439997c9482d9ef14e491f88c45a",
            "d3e434622a20417ca79a60e3e8856878",
            "f35f3ca745504e269e72bcadfac397f5",
            "676f595cda9f4396aa66ff9aee3ae45b",
            "726b29eb56c14fe6ad79085be0d5a85c",
            "259b2d76571b495f8823441e0cd4b0da"
          ]
        },
        "id": "g8x_DD-xwJzB",
        "outputId": "83b2ee2e-888a-4958-ea96-0cf795730e71"
      },
      "execution_count": null,
      "outputs": [
        {
          "output_type": "display_data",
          "data": {
            "text/plain": [
              "Downloading readme:   0%|          | 0.00/1.39k [00:00<?, ?B/s]"
            ],
            "application/vnd.jupyter.widget-view+json": {
              "version_major": 2,
              "version_minor": 0,
              "model_id": "434a188109f34ef4b93d99977e50226b"
            }
          },
          "metadata": {}
        },
        {
          "output_type": "display_data",
          "data": {
            "text/plain": [
              "Resolving data files:   0%|          | 0/1774 [00:00<?, ?it/s]"
            ],
            "application/vnd.jupyter.widget-view+json": {
              "version_major": 2,
              "version_minor": 0,
              "model_id": "5bbdab3c2f364b31b2c489274df875c2"
            }
          },
          "metadata": {}
        },
        {
          "output_type": "display_data",
          "data": {
            "text/plain": [
              "Downloading data:   0%|          | 0/1774 [00:00<?, ?files/s]"
            ],
            "application/vnd.jupyter.widget-view+json": {
              "version_major": 2,
              "version_minor": 0,
              "model_id": "94c6891d1a53424997f8144cabcb3673"
            }
          },
          "metadata": {}
        },
        {
          "output_type": "display_data",
          "data": {
            "text/plain": [
              "Generating train split:   0%|          | 0/1773 [00:00<?, ? examples/s]"
            ],
            "application/vnd.jupyter.widget-view+json": {
              "version_major": 2,
              "version_minor": 0,
              "model_id": "48ce0cc9689c4f08b5558d203884b857"
            }
          },
          "metadata": {}
        }
      ]
    },
    {
      "cell_type": "code",
      "source": [
        "dataset"
      ],
      "metadata": {
        "colab": {
          "base_uri": "https://localhost:8080/"
        },
        "id": "qzJCMbEVPX_y",
        "outputId": "78379633-d8af-4a03-cc66-9b1d82255c61"
      },
      "execution_count": null,
      "outputs": [
        {
          "output_type": "execute_result",
          "data": {
            "text/plain": [
              "DatasetDict({\n",
              "    train: Dataset({\n",
              "        features: ['audio', 'transcription'],\n",
              "        num_rows: 1418\n",
              "    })\n",
              "    test: Dataset({\n",
              "        features: ['audio', 'transcription'],\n",
              "        num_rows: 355\n",
              "    })\n",
              "})"
            ]
          },
          "metadata": {},
          "execution_count": 13
        }
      ]
    },
    {
      "cell_type": "code",
      "source": [
        "even_train = dataset['train']\n",
        "even_test = dataset['test']"
      ],
      "metadata": {
        "id": "HY23BNYz1Pb_"
      },
      "execution_count": null,
      "outputs": []
    },
    {
      "cell_type": "markdown",
      "metadata": {
        "id": "Go9Hq4e4NDT9"
      },
      "source": [
        "Let's write a short function to display some random samples of the dataset and run it a couple of times to get a feeling for the transcriptions."
      ]
    },
    {
      "cell_type": "code",
      "execution_count": null,
      "metadata": {
        "id": "72737oog2F6U"
      },
      "outputs": [],
      "source": [
        "def show_random_elements(dataset, num_examples=10):\n",
        "    assert num_examples <= len(dataset), \"Can't pick more elements than there are in the dataset.\"\n",
        "    picks = []\n",
        "    for _ in range(num_examples):\n",
        "        pick = random.randint(0, len(dataset)-1)\n",
        "        while pick in picks:\n",
        "            pick = random.randint(0, len(dataset)-1)\n",
        "        picks.append(pick)\n",
        "\n",
        "    df = pd.DataFrame(dataset[picks])\n",
        "    display(HTML(df.to_html()))"
      ]
    },
    {
      "cell_type": "code",
      "execution_count": null,
      "metadata": {
        "colab": {
          "base_uri": "https://localhost:8080/",
          "height": 1000
        },
        "id": "K_JUmf3G3b9S",
        "outputId": "87396d65-4b8a-49ac-ff25-821ee6e07544"
      },
      "outputs": [
        {
          "output_type": "display_data",
          "data": {
            "text/plain": [
              "<IPython.core.display.HTML object>"
            ],
            "text/html": [
              "<table border=\"1\" class=\"dataframe\">\n",
              "  <thead>\n",
              "    <tr style=\"text-align: right;\">\n",
              "      <th></th>\n",
              "      <th>audio</th>\n",
              "      <th>transcription</th>\n",
              "    </tr>\n",
              "  </thead>\n",
              "  <tbody>\n",
              "    <tr>\n",
              "      <th>0</th>\n",
              "      <td>{'path': '/root/.cache/huggingface/datasets/downloads/fbcfed7d2a2b6f0524cc7a950c22fc384d4c173a69184d89eea4e213b1323cf7', 'array': [-0.0035400390625, -0.002777099609375, -0.001373291015625, -0.000274658203125, 0.000457763671875, 0.001434326171875, 0.002532958984375, 0.003753662109375, 0.004058837890625, 0.0045166015625, 0.00494384765625, 0.00482177734375, 0.004638671875, 0.00421142578125, 0.0035400390625, 0.00250244140625, 0.000885009765625, -0.000518798828125, -0.001312255859375, -0.00250244140625, -0.00372314453125, -0.00469970703125, -0.00531005859375, -0.00604248046875, -0.006622314453125, -0.006195068359375, -0.005340576171875, -0.003936767578125, -0.0028076171875, -0.00128173828125, 0.0008544921875, 0.002410888671875, 0.004150390625, 0.005950927734375, 0.007049560546875, 0.00726318359375, 0.0069580078125, 0.00628662109375, 0.005523681640625, 0.004486083984375, 0.003265380859375, 0.0020751953125, 0.000518798828125, -0.000762939453125, -0.001190185546875, -0.001251220703125, -0.00152587890625, -0.002197265625, -0.0035400390625, -0.004638671875, -0.00543212890625, -0.005828857421875, -0.0048828125, -0.003753662109375, -0.002532958984375, -0.0006103515625, 0.002044677734375, 0.0047607421875, 0.00634765625, 0.00701904296875, 0.006439208984375, 0.004608154296875, 0.0020751953125, 0.0, -0.001190185546875, -0.001678466796875, -0.001495361328125, -0.001373291015625, -0.001068115234375, -0.0010986328125, -0.00146484375, -0.001861572265625, -0.002532958984375, -0.00408935546875, -0.00592041015625, -0.00677490234375, -0.006561279296875, -0.00494384765625, -0.002349853515625, 0.00054931640625, 0.002777099609375, 0.00384521484375, 0.003814697265625, 0.003173828125, 0.00244140625, 0.0008544921875, -0.000579833984375, -0.00189208984375, -0.002899169921875, -0.003173828125, -0.0028076171875, -0.00201416015625, -0.001800537109375, -0.002197265625, -0.003326416015625, -0.004425048828125, -0.00494384765625, -0.00482177734375, -0.003753662109375, -0.001861572265625, ...], 'sampling_rate': 22050}</td>\n",
              "      <td>Хөвки төррэ мөв тилкамкандаӈан дюгулин</td>\n",
              "    </tr>\n",
              "    <tr>\n",
              "      <th>1</th>\n",
              "      <td>{'path': '/root/.cache/huggingface/datasets/downloads/3c980ae5bcc7ff73e9817ebccc6567da59570b4dd1ee9fa1747cf9c04b13407e', 'array': [0.0001220703125, 9.1552734375e-05, -0.000213623046875, -0.00018310546875, -3.0517578125e-05, -0.000152587890625, 3.0517578125e-05, 0.00018310546875, 0.000244140625, 3.0517578125e-05, 3.0517578125e-05, 3.0517578125e-05, -0.000213623046875, 6.103515625e-05, 0.000213623046875, 0.0001220703125, -6.103515625e-05, 6.103515625e-05, 0.0003662109375, 0.000152587890625, -0.000152587890625, -0.00018310546875, -0.000244140625, -0.000335693359375, -0.000213623046875, -0.000213623046875, -0.00018310546875, -6.103515625e-05, 0.0001220703125, 0.0001220703125, -6.103515625e-05, 0.0, -6.103515625e-05, -6.103515625e-05, 0.00018310546875, 0.0001220703125, 9.1552734375e-05, 0.0001220703125, 0.000152587890625, 0.000244140625, 0.00018310546875, 0.00018310546875, 0.0, -0.000152587890625, -3.0517578125e-05, 3.0517578125e-05, 6.103515625e-05, 3.0517578125e-05, -6.103515625e-05, 0.0, 6.103515625e-05, -0.000152587890625, -0.00018310546875, 0.0001220703125, -3.0517578125e-05, -0.00018310546875, -0.0001220703125, 0.0, 3.0517578125e-05, 3.0517578125e-05, 6.103515625e-05, -3.0517578125e-05, 6.103515625e-05, 0.000152587890625, 9.1552734375e-05, -9.1552734375e-05, -6.103515625e-05, 3.0517578125e-05, 0.0, 0.000244140625, 0.000244140625, 0.0001220703125, 9.1552734375e-05, -3.0517578125e-05, 6.103515625e-05, 0.00018310546875, 0.000152587890625, 9.1552734375e-05, 9.1552734375e-05, 0.0, 6.103515625e-05, 0.0, -0.0001220703125, -3.0517578125e-05, -6.103515625e-05, 0.0, -3.0517578125e-05, -3.0517578125e-05, 3.0517578125e-05, -6.103515625e-05, 6.103515625e-05, 3.0517578125e-05, -0.00018310546875, -0.000213623046875, -0.0001220703125, 6.103515625e-05, -0.00018310546875, -0.000274658203125, -3.0517578125e-05, -3.0517578125e-05, ...], 'sampling_rate': 22050}</td>\n",
              "      <td>Тадук Авраамдула Хөвки төрэнни ихөнчэ:</td>\n",
              "    </tr>\n",
              "    <tr>\n",
              "      <th>2</th>\n",
              "      <td>{'path': '/root/.cache/huggingface/datasets/downloads/69efd4bd3b21535d2645636ab6bb6be308eeb784b8cee22ce8413f60d59d6b6e', 'array': [-0.001220703125, -0.001129150390625, -0.000885009765625, -0.000946044921875, -0.0006103515625, -0.000457763671875, -0.00030517578125, 0.000274658203125, 0.000579833984375, 0.0009765625, 0.001220703125, 0.001434326171875, 0.0015869140625, 0.001495361328125, 0.00140380859375, 0.001251220703125, 0.000946044921875, 0.000701904296875, 0.000335693359375, -0.000152587890625, -0.00048828125, -0.001068115234375, -0.001220703125, -0.001556396484375, -0.001861572265625, -0.001739501953125, -0.001861572265625, -0.001953125, -0.0018310546875, -0.001434326171875, -0.001220703125, -0.0010986328125, -0.000732421875, -0.000213623046875, -9.1552734375e-05, -0.000213623046875, -6.103515625e-05, 0.0001220703125, 0.000152587890625, 6.103515625e-05, 0.0001220703125, 0.000244140625, 0.000396728515625, 0.000244140625, 0.000274658203125, 0.000518798828125, 0.0006103515625, 0.00067138671875, 0.000701904296875, 0.00103759765625, 0.00091552734375, 0.0009765625, 0.00103759765625, 0.000732421875, 0.000732421875, 0.000579833984375, 0.0003662109375, -3.0517578125e-05, -0.000579833984375, -0.000640869140625, -0.000701904296875, -0.0010986328125, -0.001373291015625, -0.001312255859375, -0.001373291015625, -0.001434326171875, -0.00103759765625, -0.000946044921875, -0.00079345703125, -0.00042724609375, 0.0, 0.00079345703125, 0.0010986328125, 0.00140380859375, 0.001708984375, 0.001861572265625, 0.001983642578125, 0.001800537109375, 0.001678466796875, 0.001312255859375, 0.000762939453125, -0.000152587890625, -0.000732421875, -0.00140380859375, -0.002227783203125, -0.00262451171875, -0.00323486328125, -0.003631591796875, -0.003753662109375, -0.00372314453125, -0.00360107421875, -0.003143310546875, -0.00250244140625, -0.001861572265625, -0.00091552734375, 0.00018310546875, 0.00140380859375, 0.00250244140625, 0.00335693359375, 0.00421142578125, ...], 'sampling_rate': 22050}</td>\n",
              "      <td>Ху хас,</td>\n",
              "    </tr>\n",
              "    <tr>\n",
              "      <th>3</th>\n",
              "      <td>{'path': '/root/.cache/huggingface/datasets/downloads/eead0c10d971b311b984d9b195844838aac9d6db9e95ab20d04af063d3e828ea', 'array': [-0.000518798828125, -0.000579833984375, -0.0006103515625, -0.00054931640625, -0.000274658203125, -0.000274658203125, -0.0003662109375, -0.0001220703125, -0.00018310546875, -6.103515625e-05, -0.0001220703125, -3.0517578125e-05, 0.0001220703125, 6.103515625e-05, 0.000244140625, 0.000213623046875, 0.000274658203125, 0.000213623046875, 0.000274658203125, 0.000457763671875, 0.00030517578125, 0.000518798828125, 0.000732421875, 0.00048828125, 0.00067138671875, 0.00079345703125, 0.0003662109375, 0.000518798828125, 0.000396728515625, 0.0003662109375, 0.000518798828125, 0.000396728515625, 0.000518798828125, 0.00030517578125, 0.00030517578125, 0.000457763671875, 0.0003662109375, 0.000274658203125, 0.000518798828125, 0.00054931640625, 0.000457763671875, 0.00048828125, 0.00030517578125, 0.000244140625, 0.000274658203125, 0.000335693359375, 0.00018310546875, 9.1552734375e-05, -3.0517578125e-05, -6.103515625e-05, 6.103515625e-05, 3.0517578125e-05, -3.0517578125e-05, -0.00030517578125, -0.000152587890625, -0.0001220703125, -9.1552734375e-05, -0.000152587890625, -0.000213623046875, -0.00018310546875, -0.000213623046875, 3.0517578125e-05, 0.0, -0.0001220703125, -0.00030517578125, -0.000152587890625, -0.00018310546875, -0.000213623046875, 0.0, -0.000152587890625, 6.103515625e-05, -0.0001220703125, -0.000213623046875, -6.103515625e-05, -3.0517578125e-05, -9.1552734375e-05, -0.00030517578125, -0.0001220703125, 3.0517578125e-05, 0.0, 6.103515625e-05, -9.1552734375e-05, -0.0001220703125, 0.0, -0.000152587890625, -0.000213623046875, -0.000213623046875, -0.000274658203125, -0.000244140625, -0.000335693359375, -0.000152587890625, -0.000152587890625, -0.000274658203125, -9.1552734375e-05, 0.0, 6.103515625e-05, 3.0517578125e-05, -3.0517578125e-05, 0.0, 6.103515625e-05, ...], 'sampling_rate': 22050}</td>\n",
              "      <td>Би эр городла бинилкэн мө гилдэлдэри окатбан иттив,</td>\n",
              "    </tr>\n",
              "    <tr>\n",
              "      <th>4</th>\n",
              "      <td>{'path': '/root/.cache/huggingface/datasets/downloads/fe91e7d180aee2b2cb20e654f7be5b9b40ef65630fdb53ad21166f403ac72d5c', 'array': [-0.000396728515625, -9.1552734375e-05, 3.0517578125e-05, 0.000274658203125, 0.000579833984375, 0.000701904296875, 0.000762939453125, 0.00079345703125, 0.000885009765625, 0.00103759765625, 0.00103759765625, 0.0009765625, 0.000885009765625, 0.000732421875, 0.00054931640625, 0.0001220703125, 6.103515625e-05, 0.0, -0.000274658203125, -0.000244140625, -0.00018310546875, -0.000152587890625, -0.00030517578125, -0.000244140625, -0.000244140625, -0.000335693359375, -0.000274658203125, -0.000213623046875, -6.103515625e-05, -3.0517578125e-05, 0.0001220703125, 0.0003662109375, 0.000274658203125, 0.000244140625, 0.00048828125, 0.000396728515625, 0.000213623046875, 0.0001220703125, 0.0, -6.103515625e-05, -9.1552734375e-05, -0.000152587890625, -0.000274658203125, -0.00018310546875, -0.00030517578125, -0.000518798828125, -0.00054931640625, -0.0006103515625, -0.00048828125, -0.00042724609375, -0.0003662109375, -0.00030517578125, -0.000335693359375, -0.000244140625, -9.1552734375e-05, -3.0517578125e-05, 0.0, 0.00018310546875, 0.000152587890625, 0.000152587890625, 0.000213623046875, 9.1552734375e-05, 0.000152587890625, 9.1552734375e-05, 0.0, 0.0, -0.00018310546875, -0.0001220703125, -9.1552734375e-05, -0.00018310546875, -0.000335693359375, -0.00048828125, -0.000396728515625, -0.000457763671875, -0.00048828125, -0.000335693359375, -0.000396728515625, -0.000274658203125, -0.000335693359375, -0.000335693359375, 6.103515625e-05, -3.0517578125e-05, 6.103515625e-05, 0.000396728515625, 0.000396728515625, 0.0003662109375, 0.000335693359375, 0.000518798828125, 0.0006103515625, 0.000701904296875, 0.000396728515625, 0.000274658203125, 0.00048828125, 0.000274658203125, 0.00030517578125, 0.000213623046875, 0.0001220703125, 6.103515625e-05, 0.0, 0.0, ...], 'sampling_rate': 22050}</td>\n",
              "      <td>дэпки тутчэ.</td>\n",
              "    </tr>\n",
              "  </tbody>\n",
              "</table>"
            ]
          },
          "metadata": {}
        }
      ],
      "source": [
        "show_random_elements(even_train, num_examples=5)"
      ]
    },
    {
      "cell_type": "markdown",
      "metadata": {
        "id": "vq7OR50LN49m"
      },
      "source": [
        "We can see that the transcriptions contain some special characters, such as `,.?!;:`. Without a language model, it is much harder to classify speech chunks to such special characters because they don't really correspond to a characteristic sound unit. *E.g.*, the letter `\"s\"` has a more or less clear sound, whereas the special character `\".\"` does not.\n",
        "Also in order to understand the meaning of a speech signal, it is usually not necessary to include special characters in the transcription.\n",
        "\n",
        "Let's simply remove all characters that don't contribute to the meaning of a word and cannot really be represented by an acoustic sound and normalize the text."
      ]
    },
    {
      "cell_type": "code",
      "execution_count": null,
      "metadata": {
        "id": "svKzVJ_hQGK6"
      },
      "outputs": [],
      "source": [
        "import re\n",
        "chars_to_remove_regex = '[\\,\\?\\.\\!\\-\\;\\:\\\"\\“\\%\\‘\\”\\�\\'\\»\\«\\„\\‐\\–]'\n",
        "\n",
        "def remove_special_characters(batch):\n",
        "    # remove special characters\n",
        "    batch[\"transcription\"] = re.sub(chars_to_remove_regex, '', batch[\"transcription\"]).lower()\n",
        "\n",
        "    return batch"
      ]
    },
    {
      "cell_type": "code",
      "execution_count": null,
      "metadata": {
        "colab": {
          "base_uri": "https://localhost:8080/",
          "height": 81,
          "referenced_widgets": [
            "f2f9562bc95949d188b81868e6c14e47",
            "c64d3413818948628b6111664f86da2b",
            "715dd07204e6476abee63a8098997a2a",
            "4b6c3ff66ac341d5922a08d26fc264f3",
            "899330715b62466dac72b24c741697d8",
            "0163353117ec4d45bee1a7569ef0601c",
            "abc53b6b24cb404abcef8b4550a601e4",
            "6709be3c77204be68e730d0063ae4894",
            "e0dcd5f732f34a93a629d11fa60a23bd",
            "946fdff14ebf4eda8cf2cbbce2dd50c4",
            "5b14d8eca18e44ebb0aa1f2e99cfa38a",
            "13ae63a2a5b64255b8ef66446a0d4d9f",
            "30bc239293414e168005d63871a3d879",
            "eea48a3e57824da1878bafe64dec3ec6",
            "a2b5ec8ac3694a6ca395956f01586d7c",
            "b4aba882e67543019e0de9a49cde3145",
            "c6424c460080483d916a5c267b91b32f",
            "8e47dfefecea4d6abd09751a4ca1d2fb",
            "28c4e00f920a411684faa10eb257e285",
            "a39fbda1586e4ad5b53e5acafb249351",
            "11af124c463e40158f978bc039330c00",
            "1626239b4d43468bb1426f491ff915c8"
          ]
        },
        "id": "XIHocAuTQbBR",
        "outputId": "4d6d46b0-41f9-4e64-f35e-75a802c186f2"
      },
      "outputs": [
        {
          "output_type": "display_data",
          "data": {
            "text/plain": [
              "Map:   0%|          | 0/1418 [00:00<?, ? examples/s]"
            ],
            "application/vnd.jupyter.widget-view+json": {
              "version_major": 2,
              "version_minor": 0,
              "model_id": "f2f9562bc95949d188b81868e6c14e47"
            }
          },
          "metadata": {}
        },
        {
          "output_type": "display_data",
          "data": {
            "text/plain": [
              "Map:   0%|          | 0/355 [00:00<?, ? examples/s]"
            ],
            "application/vnd.jupyter.widget-view+json": {
              "version_major": 2,
              "version_minor": 0,
              "model_id": "13ae63a2a5b64255b8ef66446a0d4d9f"
            }
          },
          "metadata": {}
        }
      ],
      "source": [
        "even_train = even_train.map(remove_special_characters)\n",
        "even_test = even_test.map(remove_special_characters)"
      ]
    },
    {
      "cell_type": "markdown",
      "metadata": {
        "id": "TxnVS9gIhIma"
      },
      "source": [
        "Let's look at the processed text labels again."
      ]
    },
    {
      "cell_type": "code",
      "execution_count": null,
      "metadata": {
        "colab": {
          "base_uri": "https://localhost:8080/",
          "height": 363
        },
        "id": "RBDRAAYxRE6n",
        "outputId": "0be4d97b-ba71-440f-c9af-98bf11d069ab"
      },
      "outputs": [
        {
          "output_type": "display_data",
          "data": {
            "text/plain": [
              "<IPython.core.display.HTML object>"
            ],
            "text/html": [
              "<table border=\"1\" class=\"dataframe\">\n",
              "  <thead>\n",
              "    <tr style=\"text-align: right;\">\n",
              "      <th></th>\n",
              "      <th>transcription</th>\n",
              "    </tr>\n",
              "  </thead>\n",
              "  <tbody>\n",
              "    <tr>\n",
              "      <th>0</th>\n",
              "      <td>ноӈортон коллидюр хөбөлчэл</td>\n",
              "    </tr>\n",
              "    <tr>\n",
              "      <th>1</th>\n",
              "      <td>хину хиргэччим</td>\n",
              "    </tr>\n",
              "    <tr>\n",
              "      <th>2</th>\n",
              "      <td>няниндула бихи дэгилбу ичэлдэ</td>\n",
              "    </tr>\n",
              "    <tr>\n",
              "      <th>3</th>\n",
              "      <td>хинимкилдук бугин эхэлдэ</td>\n",
              "    </tr>\n",
              "    <tr>\n",
              "      <th>4</th>\n",
              "      <td>көкэмидэ урдин</td>\n",
              "    </tr>\n",
              "    <tr>\n",
              "      <th>5</th>\n",
              "      <td>эсимэсукэн хиладдытки бэйтэки самариянкан дагамрин</td>\n",
              "    </tr>\n",
              "    <tr>\n",
              "      <th>6</th>\n",
              "      <td>тар эчин бихин</td>\n",
              "    </tr>\n",
              "    <tr>\n",
              "      <th>7</th>\n",
              "      <td>тала хөвки төрэмутнэ улкуча тиэми тар городу вавилон гөникэн гөрбучэл</td>\n",
              "    </tr>\n",
              "    <tr>\n",
              "      <th>8</th>\n",
              "      <td>тадук ноӈортон эрэгэр бэгэнтэдир</td>\n",
              "    </tr>\n",
              "    <tr>\n",
              "      <th>9</th>\n",
              "      <td>муттэ амандулат</td>\n",
              "    </tr>\n",
              "  </tbody>\n",
              "</table>"
            ]
          },
          "metadata": {}
        }
      ],
      "source": [
        "show_random_elements(even_train.remove_columns([\"audio\"]))"
      ]
    },
    {
      "cell_type": "markdown",
      "metadata": {
        "id": "3ORHDb2Th2TW"
      },
      "source": [
        "In CTC, it is common to classify speech chunks into letters, so we will do the same here.\n",
        "Let's extract all distinct letters of the training and test data and build our vocabulary from this set of letters.\n",
        "\n",
        "We write a mapping function that concatenates all transcriptions into one long transcription and then transforms the string into a set of chars.\n",
        "It is important to pass the argument `batched=True` to the `map(...)` function so that the mapping function has access to all transcriptions at once."
      ]
    },
    {
      "cell_type": "code",
      "execution_count": null,
      "metadata": {
        "id": "LwCshNbbeRZR"
      },
      "outputs": [],
      "source": [
        "def extract_all_chars(batch):\n",
        "  all_text = \" \".join(batch[\"transcription\"])\n",
        "  vocab = list(set(all_text))\n",
        "  return {\"vocab\": [vocab], \"all_text\": [all_text]}"
      ]
    },
    {
      "cell_type": "code",
      "execution_count": null,
      "metadata": {
        "colab": {
          "base_uri": "https://localhost:8080/",
          "height": 81,
          "referenced_widgets": [
            "d4fc36b8de9e4a48bd07778c62a797a6",
            "2559891fa94d4e42a789a17f09d5a698",
            "5ce438b1d9684b6faab25f18ddf63a28",
            "f5c66602e0184414977c1cc591f24703",
            "5ebb86d372314b4c80d865a838ecf333",
            "9423712a028645e58c82f755c265f16c",
            "53ba4b1881554f9cba9cb326c12712b4",
            "47458fe52f0047939931066becf24f24",
            "28238718c9134ae5b2b037cf2f38bc85",
            "8c81c42d69d24c5ba8efd89dc6c14538",
            "ab503a4782064490987290c2ff525bef",
            "87f67c65cbfd48808ba3df44e243a363",
            "dada0db38243430ba9f5e05e51dba5d0",
            "7d5c8d3bf14546bc875b8fa73e5ed79f",
            "09072a78d89a47fd88c0fc3138cef048",
            "0e754112fdb64957b878041d4d798167",
            "869f82be72ed42218841ce36f6a737e4",
            "7c3c045366c14113bb2b0144e8225f6d",
            "90edd39dd7a64e1ca57c9aa0fc3ddec7",
            "b873d352682b4b0d82d07c3375df27c2",
            "061843f944794d14bafb3891d1edfac5",
            "748270e88dd54d0aa026309b39a95a2f"
          ]
        },
        "id": "_m6uUjjcfbjH",
        "outputId": "7c8e8ec5-df1e-4fca-84d6-024335c25dbe"
      },
      "outputs": [
        {
          "output_type": "display_data",
          "data": {
            "text/plain": [
              "Map:   0%|          | 0/1418 [00:00<?, ? examples/s]"
            ],
            "application/vnd.jupyter.widget-view+json": {
              "version_major": 2,
              "version_minor": 0,
              "model_id": "d4fc36b8de9e4a48bd07778c62a797a6"
            }
          },
          "metadata": {}
        },
        {
          "output_type": "display_data",
          "data": {
            "text/plain": [
              "Map:   0%|          | 0/355 [00:00<?, ? examples/s]"
            ],
            "application/vnd.jupyter.widget-view+json": {
              "version_major": 2,
              "version_minor": 0,
              "model_id": "87f67c65cbfd48808ba3df44e243a363"
            }
          },
          "metadata": {}
        }
      ],
      "source": [
        "vocab_train = even_train.map(extract_all_chars, batched=True, batch_size=-1, keep_in_memory=True, remove_columns=even_train.column_names)\n",
        "vocab_test = even_test.map(extract_all_chars, batched=True, batch_size=-1, keep_in_memory=True, remove_columns=even_test.column_names)"
      ]
    },
    {
      "cell_type": "markdown",
      "metadata": {
        "id": "7oVgE8RZSJNP"
      },
      "source": [
        "Now, we create the union of all distinct letters in the training dataset and test dataset and convert the resulting list into an enumerated dictionary."
      ]
    },
    {
      "cell_type": "code",
      "execution_count": null,
      "metadata": {
        "id": "aQfneNsmlJI0"
      },
      "outputs": [],
      "source": [
        "vocab_list = list(set(vocab_train[\"vocab\"][0]) | set(vocab_test[\"vocab\"][0]))"
      ]
    },
    {
      "cell_type": "code",
      "execution_count": null,
      "metadata": {
        "colab": {
          "base_uri": "https://localhost:8080/"
        },
        "id": "_0kRndSvqaKk",
        "outputId": "0fbef43c-d815-4e73-b9c4-1394ec832906"
      },
      "outputs": [
        {
          "output_type": "execute_result",
          "data": {
            "text/plain": [
              "{' ': 0,\n",
              " 'а': 1,\n",
              " 'б': 2,\n",
              " 'в': 3,\n",
              " 'г': 4,\n",
              " 'д': 5,\n",
              " 'е': 6,\n",
              " 'з': 7,\n",
              " 'и': 8,\n",
              " 'й': 9,\n",
              " 'к': 10,\n",
              " 'л': 11,\n",
              " 'м': 12,\n",
              " 'н': 13,\n",
              " 'о': 14,\n",
              " 'п': 15,\n",
              " 'р': 16,\n",
              " 'с': 17,\n",
              " 'т': 18,\n",
              " 'у': 19,\n",
              " 'ф': 20,\n",
              " 'х': 21,\n",
              " 'ц': 22,\n",
              " 'ч': 23,\n",
              " 'ш': 24,\n",
              " 'ы': 25,\n",
              " 'ь': 26,\n",
              " 'э': 27,\n",
              " 'ю': 28,\n",
              " 'я': 29,\n",
              " 'ё': 30,\n",
              " 'ӈ': 31,\n",
              " 'ө': 32,\n",
              " 'ӫ': 33}"
            ]
          },
          "metadata": {},
          "execution_count": 20
        }
      ],
      "source": [
        "vocab_dict = {v: k for k, v in enumerate(sorted(vocab_list))}\n",
        "vocab_dict"
      ]
    },
    {
      "cell_type": "markdown",
      "metadata": {
        "id": "b1fBRCn-TRaO"
      },
      "source": [
        "To make it clearer that `\" \"` has its own token class, we give it a more visible character `|`. In addition, we also add an \"unknown\" token so that the model can later deal with characters not encountered in training set."
      ]
    },
    {
      "cell_type": "code",
      "execution_count": null,
      "metadata": {
        "id": "npbIbBoLgaFX"
      },
      "outputs": [],
      "source": [
        "vocab_dict[\"|\"] = vocab_dict[\" \"]\n",
        "del vocab_dict[\" \"]"
      ]
    },
    {
      "cell_type": "markdown",
      "metadata": {
        "id": "_9yCWg4Sd0cb"
      },
      "source": [
        "Finally, we also add a padding token that corresponds to CTC's \"*blank token*\".\n",
        "\n",
        "\n",
        "The \"blank token\" is a core component of the CTC algorithm. For more information, please take a look at the \"Alignment\" section [here](https://distill.pub/2017/ctc/)."
      ]
    },
    {
      "cell_type": "code",
      "execution_count": null,
      "metadata": {
        "colab": {
          "base_uri": "https://localhost:8080/"
        },
        "id": "znF0bNunsjbl",
        "outputId": "10febaf6-b65a-425c-de7a-63c2fa599c2d"
      },
      "outputs": [
        {
          "output_type": "execute_result",
          "data": {
            "text/plain": [
              "36"
            ]
          },
          "metadata": {},
          "execution_count": 22
        }
      ],
      "source": [
        "vocab_dict[\"[UNK]\"] = len(vocab_dict)\n",
        "vocab_dict[\"[PAD]\"] = len(vocab_dict)\n",
        "len(vocab_dict)"
      ]
    },
    {
      "cell_type": "markdown",
      "metadata": {
        "id": "SFPGfet8U5sL"
      },
      "source": [
        "Cool, now our vocabulary is complete and consists of 36 tokens, which means that the linear layer that we will add on top of the pretrained W2V-BERT checkpoint will have an output dimension of 36."
      ]
    },
    {
      "cell_type": "markdown",
      "metadata": {
        "id": "1CujRgBNVRaD"
      },
      "source": [
        "Let's now save the vocabulary as a json file."
      ]
    },
    {
      "cell_type": "code",
      "execution_count": null,
      "metadata": {
        "id": "ehyUoh9vk191"
      },
      "outputs": [],
      "source": [
        "import json\n",
        "with open('vocab.json', 'w') as vocab_file:\n",
        "    json.dump(vocab_dict, vocab_file)"
      ]
    },
    {
      "cell_type": "markdown",
      "metadata": {
        "id": "SHJDaKlIVVim"
      },
      "source": [
        "In a final step, we use the json file to load the vocabulary into an instance of the `Wav2Vec2CTCTokenizer` class."
      ]
    },
    {
      "cell_type": "code",
      "execution_count": null,
      "metadata": {
        "id": "xriFGEWQkO4M"
      },
      "outputs": [],
      "source": [
        "from transformers import Wav2Vec2CTCTokenizer\n",
        "\n",
        "tokenizer = Wav2Vec2CTCTokenizer.from_pretrained(\"./\", unk_token=\"[UNK]\", pad_token=\"[PAD]\", word_delimiter_token=\"|\")"
      ]
    },
    {
      "cell_type": "code",
      "execution_count": null,
      "metadata": {
        "id": "A1XApZBAF2zr"
      },
      "outputs": [],
      "source": [
        "repo_name = \"wav2vec-bert-2.0-even-biblical\""
      ]
    },
    {
      "cell_type": "markdown",
      "metadata": {
        "id": "B1BiezWZF16d"
      },
      "source": [
        "and upload the tokenizer to the [🤗 Hub](https://huggingface.co/)"
      ]
    },
    {
      "cell_type": "code",
      "execution_count": null,
      "metadata": {
        "colab": {
          "base_uri": "https://localhost:8080/",
          "height": 104
        },
        "id": "zytE1175GAKM",
        "outputId": "2e8901ad-9423-4a55-dc27-f323967e2dae"
      },
      "outputs": [
        {
          "output_type": "execute_result",
          "data": {
            "text/plain": [
              "CommitInfo(commit_url='https://huggingface.co/tbkazakova/w2v-bert-2.0-even-colab-CV16.0/commit/7290507d09f58cf27b3199522a4cfcab567830ea', commit_message='Upload tokenizer', commit_description='', oid='7290507d09f58cf27b3199522a4cfcab567830ea', pr_url=None, pr_revision=None, pr_num=None)"
            ],
            "application/vnd.google.colaboratory.intrinsic+json": {
              "type": "string"
            }
          },
          "metadata": {},
          "execution_count": 50
        }
      ],
      "source": [
        "tokenizer.push_to_hub(repo_name)"
      ]
    },
    {
      "cell_type": "markdown",
      "metadata": {
        "id": "mYcIiR2FQ96i"
      },
      "source": [
        "### Create `SeamlessM4TFeatureExtractor`"
      ]
    },
    {
      "cell_type": "markdown",
      "metadata": {
        "id": "KuUbPW7oV-B5"
      },
      "source": [
        "The role of the `SeamlessM4TFeatureExtractor` is to prepare the raw audio input in a format that the model can \"understand\". It therefore maps the sequence of one-dimensional amplitude values (aka the raw audio input) to a two-dimensional matrix of log-mel spectrogram values. The latter encodes the signal frequency information as a function of time. See [this section](https://huggingface.co/learn/audio-course/chapter1/audio_data#the-frequency-spectrum) from the Audio Transformers course to learn more about spectrograms and why they are important.\n",
        "\n",
        "Unlike the tokenizer, the feature extractor doesn't need to be \"learned\" from the data, so we can load it directly from the [initial model checkpoint](https://huggingface.co/facebook/w2v-bert-2.0).\n"
      ]
    },
    {
      "cell_type": "code",
      "execution_count": null,
      "metadata": {
        "id": "kAR0-2KLkopp"
      },
      "outputs": [],
      "source": [
        "from transformers import SeamlessM4TFeatureExtractor\n",
        "\n",
        "feature_extractor = SeamlessM4TFeatureExtractor(feature_size=80, num_mel_bins=80, sampling_rate=16000, padding_value=0.0)"
      ]
    },
    {
      "cell_type": "markdown",
      "metadata": {
        "id": "qUETetgqYC3W"
      },
      "source": [
        "Great, W2V-BERT's feature extraction pipeline is thereby fully defined!\n",
        "\n",
        "For improved user-friendliness, the feature extractor and tokenizer are *wrapped* into a single `Wav2Vec2BertProcessor` class so that one only needs a `model` and `processor` object."
      ]
    },
    {
      "cell_type": "code",
      "execution_count": null,
      "metadata": {
        "id": "KYZtoW-tlZgl"
      },
      "outputs": [],
      "source": [
        "from transformers import Wav2Vec2BertProcessor\n",
        "\n",
        "processor = Wav2Vec2BertProcessor(feature_extractor=feature_extractor, tokenizer=tokenizer)\n",
        "processor.push_to_hub(repo_name)"
      ]
    },
    {
      "cell_type": "markdown",
      "metadata": {
        "id": "DrKnYuvDIoOO"
      },
      "source": [
        "Next, we can prepare the dataset."
      ]
    },
    {
      "cell_type": "markdown",
      "metadata": {
        "id": "YFmShnl7RE35"
      },
      "source": [
        "### Preprocess Data\n"
      ]
    },
    {
      "cell_type": "code",
      "execution_count": null,
      "metadata": {
        "colab": {
          "base_uri": "https://localhost:8080/"
        },
        "id": "TTCS7W6XJ9BG",
        "outputId": "c6dbb62b-db1c-49c9-bb0c-88569316839b"
      },
      "outputs": [
        {
          "output_type": "execute_result",
          "data": {
            "text/plain": [
              "{'path': '/root/.cache/huggingface/datasets/downloads/29efc52131f2a4f6cbddaa641a21410181863e6bd5bf39096ba46a582a7ec0bc',\n",
              " 'array': array([-6.10351562e-05,  9.15527344e-05,  0.00000000e+00, ...,\n",
              "         3.17382812e-03,  1.67846680e-03,  9.15527344e-05]),\n",
              " 'sampling_rate': 22050}"
            ]
          },
          "metadata": {},
          "execution_count": 55
        }
      ],
      "source": [
        "even_train[0][\"audio\"]"
      ]
    },
    {
      "cell_type": "markdown",
      "metadata": {
        "id": "T6ndIjHGFp0W"
      },
      "source": [
        "W2V-BERT expects the input in the format of a 1-dimensional array of 16 kHz. This means that the audio file has to be loaded and resampled.\n",
        "\n",
        " Thankfully, `datasets` does this automatically by calling the other column `audio`. Let try it out."
      ]
    },
    {
      "cell_type": "code",
      "execution_count": null,
      "metadata": {
        "id": "rrv65aj7G95i"
      },
      "outputs": [],
      "source": [
        "even_train = even_train.cast_column(\"audio\", Audio(sampling_rate=16_000))\n",
        "even_test = even_test.cast_column(\"audio\", Audio(sampling_rate=16_000))"
      ]
    },
    {
      "cell_type": "markdown",
      "metadata": {
        "id": "PcnO4x-NGBEi"
      },
      "source": [
        "Let's take a look at `\"audio\"` again."
      ]
    },
    {
      "cell_type": "code",
      "execution_count": null,
      "metadata": {
        "colab": {
          "base_uri": "https://localhost:8080/"
        },
        "id": "aKtkc1o_HWHC",
        "outputId": "995093e5-2ed1-4caf-db68-b838b9b54b31"
      },
      "outputs": [
        {
          "output_type": "execute_result",
          "data": {
            "text/plain": [
              "{'path': '/root/.cache/huggingface/datasets/downloads/29efc52131f2a4f6cbddaa641a21410181863e6bd5bf39096ba46a582a7ec0bc',\n",
              " 'array': array([-1.21104122e-05,  3.83910628e-05,  1.51483182e-04, ...,\n",
              "         3.50215565e-03,  1.44801906e-03,  0.00000000e+00]),\n",
              " 'sampling_rate': 16000}"
            ]
          },
          "metadata": {},
          "execution_count": 57
        }
      ],
      "source": [
        "even_train[0][\"audio\"]"
      ]
    },
    {
      "cell_type": "markdown",
      "metadata": {
        "id": "SOckzFd4Mbzq"
      },
      "source": [
        "This seemed to have worked! Let's listen to a couple of audio files to better understand the dataset and verify that the audio was correctly loaded.\n",
        "\n",
        "**Note**: *You can click the following cell a couple of times to listen to different speech samples.*"
      ]
    },
    {
      "cell_type": "code",
      "execution_count": null,
      "metadata": {
        "colab": {
          "base_uri": "https://localhost:8080/",
          "height": 93
        },
        "id": "dueM6U7Ev0OA",
        "outputId": "25cc7b35-c8f9-4aba-dfa5-2005b9ca998a"
      },
      "outputs": [
        {
          "output_type": "stream",
          "name": "stdout",
          "text": [
            "тар хотарандули иисус иэлтэннэн бичэ\n"
          ]
        },
        {
          "output_type": "execute_result",
          "data": {
            "text/plain": [
              "<IPython.lib.display.Audio object>"
            ],
            "text/html": [
              "\n",
              "                <audio  controls=\"controls\" autoplay=\"autoplay\">\n",
              "                    <source src=\"data:audio/wav;base64,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\" type=\"audio/wav\" />\n",
              "                    Your browser does not support the audio element.\n",
              "                </audio>\n",
              "              "
            ]
          },
          "metadata": {},
          "execution_count": 61
        }
      ],
      "source": [
        "rand_int = random.randint(0, len(even_train)-1)\n",
        "\n",
        "print(even_train[rand_int][\"transcription\"])\n",
        "ipd.Audio(data=even_train[rand_int][\"audio\"][\"array\"], autoplay=True, rate=16000)"
      ]
    },
    {
      "cell_type": "markdown",
      "metadata": {
        "id": "gY8m3vARHYTa"
      },
      "source": [
        "It seems like the data is now correctly loaded and resampled."
      ]
    },
    {
      "cell_type": "markdown",
      "metadata": {
        "id": "1MaL9J2dNVtG"
      },
      "source": [
        "It can be heard, that the speakers change along with their speaking rate, accent, and background environment, etc. Overall, the recordings sound acceptably clear though, which is to be expected from a crowd-sourced read speech corpus.\n",
        "\n",
        "Let's do a final check that the data is correctly prepared, by printing the shape of the speech input, its transcription, and the corresponding sampling rate.\n",
        "\n",
        "**Note**: *You can click the following cell a couple of times to verify multiple samples.*"
      ]
    },
    {
      "cell_type": "code",
      "execution_count": null,
      "metadata": {
        "colab": {
          "base_uri": "https://localhost:8080/"
        },
        "id": "1Po2g7YPuRTx",
        "outputId": "ecc6bbea-d9cc-4b07-ba7e-78b23b752104"
      },
      "outputs": [
        {
          "output_type": "stream",
          "name": "stdout",
          "text": [
            "Target text: нян хагахрит кунича\n",
            "Input array shape: (24176,)\n",
            "Sampling rate: 16000\n"
          ]
        }
      ],
      "source": [
        "rand_int = random.randint(0, len(even_train)-1)\n",
        "\n",
        "print(\"Target text:\", even_train[rand_int][\"transcription\"])\n",
        "print(\"Input array shape:\", even_train[rand_int][\"audio\"][\"array\"].shape)\n",
        "print(\"Sampling rate:\", even_train[rand_int][\"audio\"][\"sampling_rate\"])"
      ]
    },
    {
      "cell_type": "markdown",
      "metadata": {
        "id": "M9teZcSwOBJ4"
      },
      "source": [
        "Good! Everything looks fine - the data is a 1-dimensional array, the sampling rate always corresponds to 16kHz, and the target text is normalized."
      ]
    },
    {
      "cell_type": "markdown",
      "metadata": {
        "id": "k3Pbn5WvOYZF"
      },
      "source": [
        "Finally, we can leverage `Wav2Vec2BertProcessor` to process the data to the format expected by `Wav2Vec2BertForCTC` for training. To do so let's make use of Dataset's [`map(...)`](https://huggingface.co/docs/datasets/package_reference/main_classes.html?highlight=map#datasets.DatasetDict.map) function.\n",
        "\n",
        "First, we load and resample the audio data, simply by calling `batch[\"audio\"]`.\n",
        "Second, we extract the `input_features` from the loaded audio file. In our case, the `Wav2Vec2BertProcessor` creates a more complex representation as the raw waveform, known as [Log-Mel feature extraction](https://en.wikipedia.org/wiki/Mel-frequency_cepstrum).\n",
        "Third, we encode the transcriptions to label ids.\n"
      ]
    },
    {
      "cell_type": "code",
      "execution_count": null,
      "metadata": {
        "id": "eJY7I0XAwe9p"
      },
      "outputs": [],
      "source": [
        "def prepare_dataset(batch):\n",
        "    audio = batch[\"audio\"]\n",
        "    batch[\"input_features\"] = processor(audio[\"array\"], sampling_rate=audio[\"sampling_rate\"]).input_features[0]\n",
        "    batch[\"input_length\"] = len(batch[\"input_features\"])\n",
        "\n",
        "    batch[\"labels\"] = processor(text=batch[\"transcription\"]).input_ids\n",
        "    return batch"
      ]
    },
    {
      "cell_type": "markdown",
      "metadata": {
        "id": "q6Pg_WR3OGAP"
      },
      "source": [
        "Let's apply the data preparation function to all examples."
      ]
    },
    {
      "cell_type": "code",
      "execution_count": null,
      "metadata": {
        "colab": {
          "base_uri": "https://localhost:8080/",
          "height": 81,
          "referenced_widgets": [
            "b5372914818a4d869ccd950fc61e17a9",
            "cd9e2ab93936436593926da9a30b246a",
            "242eacd0617546cfa3c8e4a2ecab8b51",
            "53b1d7f413904c8889068caf9e67f60d",
            "15e1505563cf4f53a2eb4244432a0908",
            "54d0da5d782645d79af1052df811b912",
            "9e7134fcfa2d401ea4ddf60804d7f9cf",
            "a9e89e2f735040208aafc39637c13e68",
            "12a0956cf4f84d0d91c447186a6a7c9f",
            "546e1d22d4fe4dfba86bf7dde3560b1c",
            "be84fe81dd264250986b27b0ee195e42",
            "ed7bbba50d8a474e8815929737ea0ec5",
            "0dd2c6dad843409486ecdeabfca6c650",
            "31a7996cbd3d43fd9a9c3e61971ca0e6",
            "08626cf99cd647ad8bfbc0b54cc9d61b",
            "73a10dc06c984b1ea5cfa93479505451",
            "ba11c99dee8044ff854df4f528538ac7",
            "911c43fbe1334bdda685053ef75f390d",
            "64c1041908b0491bb7cac5768426d34e",
            "e2514d915abb467cb400bec535139c3f",
            "40cd9bb88fca41ea80f87335867982b8",
            "9a5046b207904992bc0de20cd127f53d"
          ]
        },
        "id": "-np9xYK-wl8q",
        "outputId": "3a02075e-0298-46de-abb1-9a022f107245"
      },
      "outputs": [
        {
          "output_type": "display_data",
          "data": {
            "text/plain": [
              "Map:   0%|          | 0/1418 [00:00<?, ? examples/s]"
            ],
            "application/vnd.jupyter.widget-view+json": {
              "version_major": 2,
              "version_minor": 0,
              "model_id": "b5372914818a4d869ccd950fc61e17a9"
            }
          },
          "metadata": {}
        },
        {
          "output_type": "display_data",
          "data": {
            "text/plain": [
              "Map:   0%|          | 0/355 [00:00<?, ? examples/s]"
            ],
            "application/vnd.jupyter.widget-view+json": {
              "version_major": 2,
              "version_minor": 0,
              "model_id": "ed7bbba50d8a474e8815929737ea0ec5"
            }
          },
          "metadata": {}
        }
      ],
      "source": [
        "even_train = even_train.map(prepare_dataset, remove_columns=even_train.column_names)\n",
        "even_test = even_test.map(prepare_dataset, remove_columns=even_test.column_names)"
      ]
    },
    {
      "cell_type": "markdown",
      "metadata": {
        "id": "nKcEWHvKI1by"
      },
      "source": [
        "**Note**: `datasets` automatically takes care of audio loading and resampling. If you wish to implement your own costumized data loading/sampling, feel free to just make use of the `\"path\"` column instead and disregard the `\"audio\"` column."
      ]
    },
    {
      "cell_type": "markdown",
      "metadata": {
        "id": "1ZWDCCKqwcfS"
      },
      "source": [
        "Awesome, now we are ready to start training!"
      ]
    },
    {
      "cell_type": "markdown",
      "metadata": {
        "id": "gYlQkKVoRUos"
      },
      "source": [
        "## Training"
      ]
    },
    {
      "cell_type": "markdown",
      "metadata": {
        "id": "Slk403unUS91"
      },
      "source": [
        "### Set-up Trainer\n",
        "\n",
        "Let's start by defining the data collator. The code for the data collator was copied from [this example](https://github.com/huggingface/transformers/blob/7e61d56a45c19284cfda0cee8995fb552f6b1f4e/examples/pytorch/speech-recognition/run_speech_recognition_ctc.py#L219).\n",
        "\n",
        "Without going into too many details, in contrast to the common data collators, this data collator treats the `input_features` and `labels` differently and thus applies to separate padding functions on them. This is necessary because in speech input and output are of different modalities meaning that they should not be treated by the same padding function.\n",
        "Analogous to the common data collators, the padding tokens in the labels with `-100` so that those tokens are **not** taken into account when computing the loss."
      ]
    },
    {
      "cell_type": "code",
      "execution_count": null,
      "metadata": {
        "id": "tborvC9hx88e"
      },
      "outputs": [],
      "source": [
        "@dataclass\n",
        "class DataCollatorCTCWithPadding:\n",
        "    processor: Wav2Vec2BertProcessor\n",
        "    padding: Union[bool, str] = True\n",
        "\n",
        "    def __call__(self, features: List[Dict[str, Union[List[int], torch.Tensor]]]) -> Dict[str, torch.Tensor]:\n",
        "        # split inputs and labels since they have to be of different lenghts and need\n",
        "        # different padding methods\n",
        "        input_features = [{\"input_features\": feature[\"input_features\"]} for feature in features]\n",
        "        label_features = [{\"input_ids\": feature[\"labels\"]} for feature in features]\n",
        "\n",
        "        batch = self.processor.pad(\n",
        "            input_features,\n",
        "            padding=self.padding,\n",
        "            return_tensors=\"pt\",\n",
        "        )\n",
        "\n",
        "        labels_batch = self.processor.pad(\n",
        "            labels=label_features,\n",
        "            padding=self.padding,\n",
        "            return_tensors=\"pt\",\n",
        "        )\n",
        "        # replace padding with -100 to ignore loss correctly\n",
        "        labels = labels_batch[\"input_ids\"].masked_fill(labels_batch.attention_mask.ne(1), -100)\n",
        "\n",
        "        batch[\"labels\"] = labels\n",
        "\n",
        "        return batch"
      ]
    },
    {
      "cell_type": "code",
      "execution_count": null,
      "metadata": {
        "id": "lbQf5GuZyQ4_"
      },
      "outputs": [],
      "source": [
        "data_collator = DataCollatorCTCWithPadding(processor=processor, padding=True)"
      ]
    },
    {
      "cell_type": "markdown",
      "metadata": {
        "id": "xO-Zdj-5cxXp"
      },
      "source": [
        "Next, the evaluation metric is defined. As mentioned earlier, the\n",
        "predominant metric in ASR is the word error rate (WER), hence we will use it in this notebook as well."
      ]
    },
    {
      "cell_type": "code",
      "execution_count": null,
      "metadata": {
        "colab": {
          "base_uri": "https://localhost:8080/",
          "height": 173,
          "referenced_widgets": [
            "e9691a5eb4dd451486abfff97324b505",
            "82a8cbb71706404c940cbd8a674060ae",
            "70a68844e04c48f0b60afea6296d35f0",
            "62688232ac4e431c84e9eecb941f3182",
            "c2f86052295e4f66a100e1e6348ba2c1",
            "80528fa3edea4989bee6a33f899131de",
            "5daefc5e69654a91846f727b6ee7a37b",
            "414151485ab943a68a423dc7a6906b36",
            "5d43229a3eb54fba83319c62faf1f924",
            "57ff4b601ae14576ac005d98af1bbd1f",
            "e8acb531c0ea4c4e8d8859444c13a472"
          ]
        },
        "id": "9Xsux2gmyXso",
        "outputId": "d457cff6-c248-4e1a-b239-a822aca9d184"
      },
      "outputs": [
        {
          "output_type": "stream",
          "name": "stderr",
          "text": [
            "<ipython-input-8-605de035dfd7>:1: FutureWarning: load_metric is deprecated and will be removed in the next major version of datasets. Use 'evaluate.load' instead, from the new library 🤗 Evaluate: https://huggingface.co/docs/evaluate\n",
            "  wer_metric = load_metric(\"wer\")\n",
            "/usr/local/lib/python3.10/dist-packages/datasets/load.py:759: FutureWarning: The repository for wer contains custom code which must be executed to correctly load the metric. You can inspect the repository content at https://raw.githubusercontent.com/huggingface/datasets/2.19.1/metrics/wer/wer.py\n",
            "You can avoid this message in future by passing the argument `trust_remote_code=True`.\n",
            "Passing `trust_remote_code=True` will be mandatory to load this metric from the next major release of `datasets`.\n",
            "  warnings.warn(\n"
          ]
        },
        {
          "output_type": "display_data",
          "data": {
            "text/plain": [
              "Downloading builder script:   0%|          | 0.00/1.90k [00:00<?, ?B/s]"
            ],
            "application/vnd.jupyter.widget-view+json": {
              "version_major": 2,
              "version_minor": 0,
              "model_id": "e9691a5eb4dd451486abfff97324b505"
            }
          },
          "metadata": {}
        }
      ],
      "source": [
        "wer_metric = load_metric(\"wer\")"
      ]
    },
    {
      "cell_type": "code",
      "source": [
        "cer_metric = load_metric(\"cer\")"
      ],
      "metadata": {
        "colab": {
          "base_uri": "https://localhost:8080/",
          "height": 138,
          "referenced_widgets": [
            "094c699d6bfe4c7b97cc67aa7ccd582f",
            "ff3f8c8771db4c76b2182433513ae981",
            "0e5c72caf1104d6a8e5e18afe3591139",
            "3373c594bfc043cc8e246a75de947ff2",
            "4eb9cd4998dd4899ab6f512769636622",
            "1284e9b8f55e47ba82b5ce3dd23f0071",
            "c39b1eeed45b415984f04c9281009ad9",
            "8f7bff58a7fd4d09abf43bd9e3a505c1",
            "ad36c50477b14df7a20bb3b44e2c0de7",
            "e87185793a5748e0927b604844bc9f75",
            "625bcce878864d1bba81460b8df51511"
          ]
        },
        "id": "RjVUS58jbkxK",
        "outputId": "ece83536-3cd9-4832-8856-6c229855691a"
      },
      "execution_count": null,
      "outputs": [
        {
          "output_type": "stream",
          "name": "stderr",
          "text": [
            "/usr/local/lib/python3.10/dist-packages/datasets/load.py:759: FutureWarning: The repository for cer contains custom code which must be executed to correctly load the metric. You can inspect the repository content at https://raw.githubusercontent.com/huggingface/datasets/2.19.1/metrics/cer/cer.py\n",
            "You can avoid this message in future by passing the argument `trust_remote_code=True`.\n",
            "Passing `trust_remote_code=True` will be mandatory to load this metric from the next major release of `datasets`.\n",
            "  warnings.warn(\n"
          ]
        },
        {
          "output_type": "display_data",
          "data": {
            "text/plain": [
              "Downloading builder script:   0%|          | 0.00/2.16k [00:00<?, ?B/s]"
            ],
            "application/vnd.jupyter.widget-view+json": {
              "version_major": 2,
              "version_minor": 0,
              "model_id": "094c699d6bfe4c7b97cc67aa7ccd582f"
            }
          },
          "metadata": {}
        }
      ]
    },
    {
      "cell_type": "markdown",
      "metadata": {
        "id": "E1qZU5p-deqB"
      },
      "source": [
        "The model will return a sequence of logit vectors:\n",
        "$\\mathbf{y}_1, \\ldots, \\mathbf{y}_m$ with $\\mathbf{y}_1 = f_{\\theta}(x_1, \\ldots, x_n)[0]$ and $n >> m$.\n",
        "\n",
        "A logit vector $\\mathbf{y}_1$ contains the log-odds for each word in the vocabulary we defined earlier, thus $\\text{len}(\\mathbf{y}_i) =$ `config.vocab_size`. We are interested in the most likely prediction of the model and thus take the `argmax(...)` of the logits. Also, we transform the encoded labels back to the original string by replacing `-100` with the `pad_token_id` and decoding the ids while making sure that consecutive tokens are **not** grouped to the same token in CTC style ${}^1$."
      ]
    },
    {
      "cell_type": "code",
      "execution_count": null,
      "metadata": {
        "id": "1XZ-kjweyTy_"
      },
      "outputs": [],
      "source": [
        "def compute_metrics(pred):\n",
        "    pred_logits = pred.predictions\n",
        "    pred_ids = np.argmax(pred_logits, axis=-1)\n",
        "\n",
        "    pred.label_ids[pred.label_ids == -100] = processor.tokenizer.pad_token_id\n",
        "\n",
        "    pred_str = processor.batch_decode(pred_ids)\n",
        "    # we do not want to group tokens when computing the metrics\n",
        "    label_str = processor.batch_decode(pred.label_ids, group_tokens=False)\n",
        "\n",
        "    wer = wer_metric.compute(predictions=pred_str, references=label_str)\n",
        "    cer = cer_metric.compute(predictions=pred_str, references=label_str)\n",
        "\n",
        "\n",
        "    return {\"wer\": wer, \"cer\": cer}"
      ]
    },
    {
      "cell_type": "markdown",
      "metadata": {
        "id": "Xmgrx4bRwLIH"
      },
      "source": [
        "Now, we can load the pretrained checkpoint of [Wav2Vec2-XLS-R-300M](https://huggingface.co/facebook/wav2vec2-xls-r-300m). The tokenizer's `pad_token_id` must be to define the model's `pad_token_id` or in the case of `Wav2Vec2BertForCTC` also CTC's *blank token* ${}^2$. To save GPU memory, we enable PyTorch's [gradient checkpointing](https://pytorch.org/docs/stable/checkpoint.html) and also set the loss reduction to \"*mean*\".\n",
        "\n",
        "Since, we're only training a small subset of weights, the model is not prone to overfitting. Therefore, we make sure to disable all dropout layers."
      ]
    },
    {
      "cell_type": "code",
      "execution_count": null,
      "metadata": {
        "colab": {
          "base_uri": "https://localhost:8080/",
          "height": 136,
          "referenced_widgets": [
            "9bd06f3a17d84b189c1292b786c9b943",
            "8cb73ff0eca6462fa616c6560a9eb028",
            "adeac013054047e79d2b8b1883de0d6b",
            "6e2d7f01bdd142ea817336b5d5d1c18d",
            "1f9552fe88234b44b2914c97350a699e",
            "dfd236f5890a4e8c83e3ed1ed32e10ca",
            "7c826878c2484fe6ade876973f851d93",
            "30546424db524c938643159dbf580df2",
            "837ab5fe9e0f4e918b1cd452d910b7cd",
            "94e8d6cac33a4b99a3a188557946eb8d",
            "d177f4b35e49493fa5c44d80e045bf2a",
            "babc7ac10fa54ac1b510a77dad80f8ce",
            "06fa898c9e224b3298b56452436b8767",
            "0babd84c87804a44bbb2b13ce8f13b4c",
            "afe67be0fb2446d9ae0d030bb196f552",
            "105b2a7d89454497a7f5ce6adc4663fd",
            "4d412e10a7fa4bc2844bc841deaa3157",
            "450cb8acfc4f4d15b6355f8b6d0e3942",
            "b67827f135da436da3256708e2310118",
            "f40ab290e43343679a2da1ccaaa999ca",
            "bf614c0a840441a9acfae611695a7bb9",
            "6a604ca30c0642cb82068cdc3deb8fd6"
          ]
        },
        "id": "e7cqAWIayn6w",
        "outputId": "48576a48-51dc-4f61-db35-d258ee6b66a8"
      },
      "outputs": [
        {
          "output_type": "display_data",
          "data": {
            "text/plain": [
              "config.json:   0%|          | 0.00/1.87k [00:00<?, ?B/s]"
            ],
            "application/vnd.jupyter.widget-view+json": {
              "version_major": 2,
              "version_minor": 0,
              "model_id": "9bd06f3a17d84b189c1292b786c9b943"
            }
          },
          "metadata": {}
        },
        {
          "output_type": "display_data",
          "data": {
            "text/plain": [
              "model.safetensors:   0%|          | 0.00/2.32G [00:00<?, ?B/s]"
            ],
            "application/vnd.jupyter.widget-view+json": {
              "version_major": 2,
              "version_minor": 0,
              "model_id": "babc7ac10fa54ac1b510a77dad80f8ce"
            }
          },
          "metadata": {}
        },
        {
          "output_type": "stream",
          "name": "stderr",
          "text": [
            "Some weights of Wav2Vec2BertForCTC were not initialized from the model checkpoint at facebook/w2v-bert-2.0 and are newly initialized: ['adapter.layers.0.ffn.intermediate_dense.bias', 'adapter.layers.0.ffn.intermediate_dense.weight', 'adapter.layers.0.ffn.output_dense.bias', 'adapter.layers.0.ffn.output_dense.weight', 'adapter.layers.0.ffn_layer_norm.bias', 'adapter.layers.0.ffn_layer_norm.weight', 'adapter.layers.0.residual_conv.bias', 'adapter.layers.0.residual_conv.weight', 'adapter.layers.0.residual_layer_norm.bias', 'adapter.layers.0.residual_layer_norm.weight', 'adapter.layers.0.self_attn.linear_k.bias', 'adapter.layers.0.self_attn.linear_k.weight', 'adapter.layers.0.self_attn.linear_out.bias', 'adapter.layers.0.self_attn.linear_out.weight', 'adapter.layers.0.self_attn.linear_q.bias', 'adapter.layers.0.self_attn.linear_q.weight', 'adapter.layers.0.self_attn.linear_v.bias', 'adapter.layers.0.self_attn.linear_v.weight', 'adapter.layers.0.self_attn_conv.bias', 'adapter.layers.0.self_attn_conv.weight', 'adapter.layers.0.self_attn_layer_norm.bias', 'adapter.layers.0.self_attn_layer_norm.weight', 'lm_head.bias', 'lm_head.weight']\n",
            "You should probably TRAIN this model on a down-stream task to be able to use it for predictions and inference.\n"
          ]
        }
      ],
      "source": [
        "from transformers import Wav2Vec2BertForCTC\n",
        "\n",
        "model = Wav2Vec2BertForCTC.from_pretrained(\n",
        "    \"facebook/w2v-bert-2.0\",\n",
        "    attention_dropout=0.0,\n",
        "    hidden_dropout=0.0,\n",
        "    feat_proj_dropout=0.0,\n",
        "    mask_time_prob=0.0,\n",
        "    layerdrop=0.0,\n",
        "    ctc_loss_reduction=\"mean\",\n",
        "    add_adapter=True,\n",
        "    pad_token_id=processor.tokenizer.pad_token_id,\n",
        "    vocab_size=len(processor.tokenizer),\n",
        ")"
      ]
    },
    {
      "cell_type": "markdown",
      "metadata": {
        "id": "lD4aGhQM0K-D"
      },
      "source": [
        "In a final step, we define all parameters related to training.\n",
        "To give more explanation on some of the parameters:\n",
        "- `group_by_length` makes training more efficient by grouping training samples of similar input length into one batch. This can significantly speed up training time by heavily reducing the overall number of useless padding tokens that are passed through the model\n",
        "- `learning_rate` was heuristically tuned until fine-tuning has become stable. Note that those parameters strongly depend on the Common Voice dataset and might be suboptimal for other speech datasets.\n",
        "\n",
        "For more explanations on other parameters, one can take a look at the [docs](https://huggingface.co/transformers/master/main_classes/trainer.html?highlight=trainer#trainingarguments)."
      ]
    },
    {
      "cell_type": "code",
      "execution_count": null,
      "metadata": {
        "id": "KbeKSV7uzGPP",
        "colab": {
          "base_uri": "https://localhost:8080/"
        },
        "outputId": "1b1a34d4-d992-44a6-96a9-c1daf721b414"
      },
      "outputs": [
        {
          "output_type": "stream",
          "name": "stderr",
          "text": [
            "/usr/local/lib/python3.10/dist-packages/transformers/training_args.py:1474: FutureWarning: `evaluation_strategy` is deprecated and will be removed in version 4.46 of 🤗 Transformers. Use `eval_strategy` instead\n",
            "  warnings.warn(\n"
          ]
        }
      ],
      "source": [
        "from transformers import TrainingArguments\n",
        "\n",
        "training_args = TrainingArguments(\n",
        "  output_dir=repo_name,\n",
        "  group_by_length=True,\n",
        "  per_device_train_batch_size=16,\n",
        "  gradient_accumulation_steps=2,\n",
        "  evaluation_strategy=\"steps\",\n",
        "  num_train_epochs=10,\n",
        "  gradient_checkpointing=True,\n",
        "  fp16=True,\n",
        "  save_steps=300,\n",
        "  eval_steps=200,\n",
        "  logging_steps=200,\n",
        "  learning_rate=5e-5,\n",
        "  warmup_steps=500,\n",
        "  save_total_limit=2,\n",
        "  push_to_hub=True,\n",
        ")"
      ]
    },
    {
      "cell_type": "markdown",
      "metadata": {
        "id": "OsW-WZcL1ZtN"
      },
      "source": [
        "Now, all instances can be passed to Trainer and we are ready to start training!"
      ]
    },
    {
      "cell_type": "code",
      "execution_count": null,
      "metadata": {
        "id": "rY7vBmFCPFgC"
      },
      "outputs": [],
      "source": [
        "from transformers import Trainer\n",
        "\n",
        "trainer = Trainer(\n",
        "    model=model,\n",
        "    data_collator=data_collator,\n",
        "    args=training_args,\n",
        "    compute_metrics=compute_metrics,\n",
        "    train_dataset=even_train,\n",
        "    eval_dataset=even_test,\n",
        "    tokenizer=processor.feature_extractor,\n",
        ")"
      ]
    },
    {
      "cell_type": "markdown",
      "metadata": {
        "id": "UoXBx1JAA0DX"
      },
      "source": [
        "\n",
        "\n",
        "---\n",
        "\n",
        "${}^1$ To allow models to become independent of the speaker rate, in CTC, consecutive tokens that are identical are simply grouped as a single token. However, the encoded labels should not be grouped when decoding since they don't correspond to the predicted tokens of the model, which is why the `group_tokens=False` parameter has to be passed. If we wouldn't pass this parameter a word like `\"hello\"` would incorrectly be encoded, and decoded as `\"helo\"`.\n",
        "\n",
        "${}^2$ The blank token allows the model to predict a word, such as `\"hello\"` by forcing it to insert the blank token between the two l's. A CTC-conform prediction of `\"hello\"` of our model would be `[PAD] [PAD] \"h\" \"e\" \"e\" \"l\" \"l\" [PAD] \"l\" \"o\" \"o\" [PAD]`."
      ]
    },
    {
      "cell_type": "markdown",
      "metadata": {
        "id": "rpvZHM1xReIW"
      },
      "source": [
        "### Training"
      ]
    },
    {
      "cell_type": "markdown",
      "metadata": {
        "id": "j-3oKSzZ1hGq"
      },
      "source": [
        "In case you want to use this google colab to fine-tune your model, you should make sure that your training doesn't stop due to inactivity. A simple hack to prevent this is to paste the following code into the console of this tab (*right mouse click -> inspect -> Console tab and insert code*)."
      ]
    },
    {
      "cell_type": "markdown",
      "metadata": {
        "id": "VYYAvgkW4P0m"
      },
      "source": [
        "```javascript\n",
        "function ConnectButton(){\n",
        "    console.log(\"Connect pushed\");\n",
        "    document.querySelector(\"#top-toolbar > colab-connect-button\").shadowRoot.querySelector(\"#connect\").click()\n",
        "}\n",
        "setInterval(ConnectButton,60000);\n",
        "```"
      ]
    },
    {
      "cell_type": "markdown",
      "metadata": {
        "id": "7bGgLV2r0yvZ"
      },
      "source": [
        "Depending on what GPU was allocated to your google colab it might be possible that you are seeing an `\"out-of-memory\"` error here. In this case, it's probably best to reduce `per_device_train_batch_size` to 8 or even less and increase [`gradient_accumulation`](https://huggingface.co/transformers/master/main_classes/trainer.html#trainingarguments)."
      ]
    },
    {
      "cell_type": "code",
      "execution_count": null,
      "metadata": {
        "colab": {
          "base_uri": "https://localhost:8080/",
          "height": 266
        },
        "id": "9fRr9TG5pGBl",
        "outputId": "37c00cfd-fdd8-465f-e946-81105331a7bb"
      },
      "outputs": [
        {
          "output_type": "stream",
          "name": "stderr",
          "text": [
            "/usr/local/lib/python3.10/dist-packages/torch/utils/checkpoint.py:464: UserWarning: torch.utils.checkpoint: the use_reentrant parameter should be passed explicitly. In version 2.4 we will raise an exception if use_reentrant is not passed. use_reentrant=False is recommended, but if you need to preserve the current default behavior, you can pass use_reentrant=True. Refer to docs for more details on the differences between the two variants.\n",
            "  warnings.warn(\n"
          ]
        },
        {
          "output_type": "display_data",
          "data": {
            "text/plain": [
              "<IPython.core.display.HTML object>"
            ],
            "text/html": [
              "\n",
              "    <div>\n",
              "      \n",
              "      <progress value='440' max='440' style='width:300px; height:20px; vertical-align: middle;'></progress>\n",
              "      [440/440 18:38, Epoch 9/10]\n",
              "    </div>\n",
              "    <table border=\"1\" class=\"dataframe\">\n",
              "  <thead>\n",
              " <tr style=\"text-align: left;\">\n",
              "      <th>Step</th>\n",
              "      <th>Training Loss</th>\n",
              "      <th>Validation Loss</th>\n",
              "      <th>Wer</th>\n",
              "    </tr>\n",
              "  </thead>\n",
              "  <tbody>\n",
              "    <tr>\n",
              "      <td>300</td>\n",
              "      <td>2.046500</td>\n",
              "      <td>inf</td>\n",
              "      <td>0.769182</td>\n",
              "    </tr>\n",
              "  </tbody>\n",
              "</table><p>"
            ]
          },
          "metadata": {}
        },
        {
          "output_type": "stream",
          "name": "stderr",
          "text": [
            "/usr/local/lib/python3.10/dist-packages/torch/autograd/graph.py:744: UserWarning: Plan failed with a cudnnException: CUDNN_BACKEND_EXECUTION_PLAN_DESCRIPTOR: cudnnFinalize Descriptor Failed cudnn_status: CUDNN_STATUS_NOT_SUPPORTED (Triggered internally at ../aten/src/ATen/native/cudnn/Conv_v8.cpp:919.)\n",
            "  return Variable._execution_engine.run_backward(  # Calls into the C++ engine to run the backward pass\n"
          ]
        },
        {
          "output_type": "execute_result",
          "data": {
            "text/plain": [
              "TrainOutput(global_step=440, training_loss=1.739978686246005, metrics={'train_runtime': 1126.9185, 'train_samples_per_second': 12.583, 'train_steps_per_second': 0.39, 'total_flos': 9.970586122667789e+17, 'train_loss': 1.739978686246005, 'epoch': 9.887640449438202})"
            ]
          },
          "metadata": {},
          "execution_count": 72
        }
      ],
      "source": [
        "trainer.train()"
      ]
    },
    {
      "cell_type": "markdown",
      "metadata": {
        "id": "4Ya7WEy0pd13"
      },
      "source": [
        "You can now upload the result of the training to the 🤗 Hub, just execute this instruction:"
      ]
    },
    {
      "cell_type": "code",
      "execution_count": null,
      "metadata": {
        "colab": {
          "base_uri": "https://localhost:8080/",
          "height": 232,
          "referenced_widgets": [
            "1424ffba3d454631a5bde2146f760b74",
            "7d271c26aa8846ff91df5210e13e796f",
            "83f525ed39284ea1ae5f9cbf45ad3d7b",
            "079d4c81fcdb412186e61d4d4c82756a",
            "c2aea561ab044312b5131050a685b763",
            "53e5e308be6e415db2d6ad5f9af13414",
            "cb87b8f1e4284f839dae9228dfefdb99",
            "2b0686fdf5c3411a8f151c0983a98743",
            "696ebe7f1d4f430aa8448b6df3101f40",
            "fe28719c36ad4beb99d544fe6aa2c13e",
            "8469d41447a9436c916a195397b17ce9",
            "04971cf7277944cda39c428f9dba7a82",
            "5b1e303328e945bdb576922f9658e888",
            "99bf284afe204ddc84aabf6b4724d929",
            "eb223cce1a75475892b346c698fc0729",
            "c348f71951c54c57bf3b33aea1ec6398",
            "a08fa4326ad747e7bc61fd15ded7c803",
            "33bc0ead776c45bea015149d61cb360d",
            "d630b2b9c506488b86e5f8f4f21246e9",
            "dc2af247546b4ddbb522658a66509240",
            "46be9f63b7644a47a16ce3b2fbf7878c",
            "37be06ae1e2143ada1fdb20faea851f6",
            "f8114e1583c34d3ebbdcc6e43b268064",
            "5d64728c67ba486191f70d183aa8e7fb",
            "c3b780a5fd2f4724a689bcce720e3f4a",
            "90eaef289c294df19dd79122f8ce7e4b",
            "313d9175c5964b149a747caaff66256d",
            "c15590db8b6a41d582dcad8fbe7d92c6",
            "5dfc5898f0304f688c9a243626357bbb",
            "2017b0d89c984108a658ef042e473e61",
            "294f1a6c810d4409b9b46bb5db20ac70",
            "4722b73525a74a2ca74c446054f2ee3d",
            "f9c25b5f24a44ad2bc31e3d6d98eab95",
            "80e6702224eb431788ae2c849afd2213",
            "7bfef79a3e0140bdaced248345cd9abe",
            "3be482a6195d4d8982e671b36cf8436f",
            "fa580a18376c4f36914b15a6467cb49c",
            "bacb14678bf841229e989a6852dc4312",
            "5d24fcde291c4715b9cbd0af476d084b",
            "a3e5db8590ca493395161f93f116bc9b",
            "363c2a2b300c44a98e2fce1f1699983b",
            "28f4d35dabb54ced86a95be1d6022539",
            "572ea0941b564266a3b9f257219207a1",
            "4bbf32f4469f4e7bbe51342d3c569cf0"
          ]
        },
        "id": "ArG1Thf6NBWm",
        "outputId": "7901f715-6c34-49cc-d3ff-33c7d42981c7"
      },
      "outputs": [
        {
          "output_type": "display_data",
          "data": {
            "text/plain": [
              "model.safetensors:   0%|          | 0.00/2.42G [00:00<?, ?B/s]"
            ],
            "application/vnd.jupyter.widget-view+json": {
              "version_major": 2,
              "version_minor": 0,
              "model_id": "1424ffba3d454631a5bde2146f760b74"
            }
          },
          "metadata": {}
        },
        {
          "output_type": "display_data",
          "data": {
            "text/plain": [
              "events.out.tfevents.1717188729.6f6b557b0f8a.129.0:   0%|          | 0.00/6.97k [00:00<?, ?B/s]"
            ],
            "application/vnd.jupyter.widget-view+json": {
              "version_major": 2,
              "version_minor": 0,
              "model_id": "04971cf7277944cda39c428f9dba7a82"
            }
          },
          "metadata": {}
        },
        {
          "output_type": "display_data",
          "data": {
            "text/plain": [
              "Upload 3 LFS files:   0%|          | 0/3 [00:00<?, ?it/s]"
            ],
            "application/vnd.jupyter.widget-view+json": {
              "version_major": 2,
              "version_minor": 0,
              "model_id": "f8114e1583c34d3ebbdcc6e43b268064"
            }
          },
          "metadata": {}
        },
        {
          "output_type": "display_data",
          "data": {
            "text/plain": [
              "training_args.bin:   0%|          | 0.00/5.11k [00:00<?, ?B/s]"
            ],
            "application/vnd.jupyter.widget-view+json": {
              "version_major": 2,
              "version_minor": 0,
              "model_id": "80e6702224eb431788ae2c849afd2213"
            }
          },
          "metadata": {}
        },
        {
          "output_type": "execute_result",
          "data": {
            "text/plain": [
              "CommitInfo(commit_url='https://huggingface.co/tbkazakova/wav2vec-bert-2.0-even/commit/1589f8045572233f5ac038727901d0adf8efadb3', commit_message='End of training', commit_description='', oid='1589f8045572233f5ac038727901d0adf8efadb3', pr_url=None, pr_revision=None, pr_num=None)"
            ],
            "application/vnd.google.colaboratory.intrinsic+json": {
              "type": "string"
            }
          },
          "metadata": {},
          "execution_count": 73
        }
      ],
      "source": [
        "trainer.push_to_hub()"
      ]
    },
    {
      "cell_type": "markdown",
      "metadata": {
        "id": "pmi1cX0fRBit"
      },
      "source": [
        "For more examples of how W2V-BERT can be fine-tuned, please take a look at the [official speech recognition examples](https://github.com/huggingface/transformers/tree/master/examples/pytorch/speech-recognition#examples)."
      ]
    },
    {
      "cell_type": "markdown",
      "metadata": {
        "id": "L8b8Qkoy3KyS"
      },
      "source": [
        "### Evaluation"
      ]
    },
    {
      "cell_type": "code",
      "execution_count": null,
      "metadata": {
        "id": "R351I9IQp_9D"
      },
      "outputs": [],
      "source": [
        "from transformers import AutoModelForCTC, Wav2Vec2BertProcessor\n",
        "\n",
        "model = AutoModelForCTC.from_pretrained(\"tbkazakova/wav2vec-bert-2.0-even\").to(\"cuda\")\n",
        "processor = Wav2Vec2BertProcessor.from_pretrained(\"tbkazakova/wav2vec-bert-2.0-even\")"
      ]
    },
    {
      "cell_type": "markdown",
      "metadata": {
        "id": "qD2v7KT6kurE"
      },
      "source": [
        "Let's process the audio, run a forward pass and predict the ids"
      ]
    },
    {
      "cell_type": "code",
      "execution_count": null,
      "metadata": {
        "id": "X2Jf2cO7gKrp"
      },
      "outputs": [],
      "source": [
        "input_dict = even_test[0]\n",
        "\n",
        "logits = model(torch.tensor(input_dict[\"input_features\"]).to(\"cuda\").unsqueeze(0)).logits\n",
        "\n",
        "pred_ids = torch.argmax(logits, dim=-1)[0]"
      ]
    },
    {
      "cell_type": "markdown",
      "metadata": {
        "id": "YiyKkRlpzAHO"
      },
      "source": [
        "\n",
        "Finally, we can decode the example from the predicted tokens:"
      ]
    },
    {
      "cell_type": "code",
      "execution_count": null,
      "metadata": {
        "colab": {
          "base_uri": "https://localhost:8080/",
          "height": 35
        },
        "id": "1L6lJFi2zAHO",
        "outputId": "76686c92-f65b-45bb-9559-318fa6380f23"
      },
      "outputs": [
        {
          "output_type": "execute_result",
          "data": {
            "text/plain": [
              "'авраам халалбигэрридиттэкэн охукан илан б илгэмача'"
            ],
            "application/vnd.google.colaboratory.intrinsic+json": {
              "type": "string"
            }
          },
          "metadata": {},
          "execution_count": 33
        }
      ],
      "source": [
        "processor.decode(pred_ids)"
      ]
    },
    {
      "cell_type": "markdown",
      "metadata": {
        "id": "fCjw3-e_vFO8"
      },
      "source": [
        "And compare it to the reference transcription:"
      ]
    },
    {
      "cell_type": "code",
      "execution_count": null,
      "metadata": {
        "colab": {
          "base_uri": "https://localhost:8080/",
          "height": 35
        },
        "id": "5yz8BmIAu8do",
        "outputId": "b642e183-0151-404c-abc2-acb56c683b13"
      },
      "outputs": [
        {
          "output_type": "execute_result",
          "data": {
            "text/plain": [
              "'аврам яхалалби өгөриди итэкэн ахукан илан бөӫл илгамачал'"
            ],
            "application/vnd.google.colaboratory.intrinsic+json": {
              "type": "string"
            }
          },
          "metadata": {},
          "execution_count": 34
        }
      ],
      "source": [
        "processor.decode(input_dict[\"labels\"]).lower()"
      ]
    },
    {
      "cell_type": "code",
      "source": [
        "len(even_test)"
      ],
      "metadata": {
        "colab": {
          "base_uri": "https://localhost:8080/"
        },
        "id": "SIAMJQlUjG1K",
        "outputId": "69a5792f-90da-4ec1-d971-a84836d9eb96"
      },
      "execution_count": null,
      "outputs": [
        {
          "output_type": "execute_result",
          "data": {
            "text/plain": [
              "355"
            ]
          },
          "metadata": {},
          "execution_count": 35
        }
      ]
    },
    {
      "cell_type": "code",
      "source": [
        "predictions = []\n",
        "references = []\n",
        "for i in range(len(even_test)):\n",
        "    input_dict = even_test[i]\n",
        "    logits = model(torch.tensor(input_dict[\"input_features\"]).to(\"cuda\").unsqueeze(0)).logits\n",
        "    pred_ids = torch.argmax(logits, dim=-1)[0]\n",
        "    predictions.append(processor.decode(pred_ids))\n",
        "    references.append(processor.decode(input_dict[\"labels\"]).lower())\n",
        "\n",
        "\n",
        "wer = wer_metric.compute(predictions=predictions, references=references)\n",
        "cer = cer_metric.compute(predictions=predictions, references=references)"
      ],
      "metadata": {
        "id": "ECn0TBMgihrb"
      },
      "execution_count": null,
      "outputs": []
    },
    {
      "cell_type": "code",
      "source": [
        "wer, cer"
      ],
      "metadata": {
        "colab": {
          "base_uri": "https://localhost:8080/"
        },
        "id": "3Dw5cfYolwl7",
        "outputId": "47988351-e536-4dc7-eed9-f34b3b010749"
      },
      "execution_count": null,
      "outputs": [
        {
          "output_type": "execute_result",
          "data": {
            "text/plain": [
              "(0.7643186306780777, 0.20378542708639796)"
            ]
          },
          "metadata": {},
          "execution_count": 38
        }
      ]
    },
    {
      "cell_type": "code",
      "source": [
        "pred_real = pd.DataFrame()\n",
        "pred_real['pred'] = predictions\n",
        "pred_real['real'] = references\n",
        "pred_real"
      ],
      "metadata": {
        "colab": {
          "base_uri": "https://localhost:8080/",
          "height": 424
        },
        "id": "6EZb7MKrlDA6",
        "outputId": "6069d17b-207a-4a10-f987-e2548b28c7fb"
      },
      "execution_count": null,
      "outputs": [
        {
          "output_type": "execute_result",
          "data": {
            "text/plain": [
              "                                                  pred  \\\n",
              "0    авраам халалбигэрридиттэкэн охукан илан б илгэ...   \n",
              "1                               иисус ноӈонтикин гөнин   \n",
              "2                                   тачинда ивитнэкрин   \n",
              "3         эмнэкэн исус варисий нянамам аавамӈанэӈнэмин   \n",
              "4                            тарит нойхонтэ дэгивтинчэ   \n",
              "..                                                 ...   \n",
              "350                                  идэкмуткилибугэди   \n",
              "351                                       хөвки гөнчэн   \n",
              "352      төрду одо ӈалби булбунян далгэнкэлбу ачалтаде   \n",
              "353                            тар хакита даиан эмниди   \n",
              "354                                       эхи барагрин   \n",
              "\n",
              "                                                  real  \n",
              "0    аврам яхалалби өгөриди итэкэн ахукан илан бөӫл...  \n",
              "1                                исус ноӈонтикин гөнин  \n",
              "2                                 тачинта левит некрин  \n",
              "3       өмнэкэн исус фарисей нян тамам тавамӈа нэӈнэми  \n",
              "4                          тарит ной хөнтэ дэгив тинчэ  \n",
              "..                                                 ...  \n",
              "350                              идук мут килепу гадип  \n",
              "351                                        хөвки гөнчэ  \n",
              "352   төрдук одаӈалби бөӫлбу нян дэлгэнкэлбу ачалтадим  \n",
              "353                         тар хиакита далилан эмниди  \n",
              "354                                       ахи барагрин  \n",
              "\n",
              "[355 rows x 2 columns]"
            ],
            "text/html": [
              "\n",
              "  <div id=\"df-f016592f-4667-4678-8791-59002cee1fd6\" class=\"colab-df-container\">\n",
              "    <div>\n",
              "<style scoped>\n",
              "    .dataframe tbody tr th:only-of-type {\n",
              "        vertical-align: middle;\n",
              "    }\n",
              "\n",
              "    .dataframe tbody tr th {\n",
              "        vertical-align: top;\n",
              "    }\n",
              "\n",
              "    .dataframe thead th {\n",
              "        text-align: right;\n",
              "    }\n",
              "</style>\n",
              "<table border=\"1\" class=\"dataframe\">\n",
              "  <thead>\n",
              "    <tr style=\"text-align: right;\">\n",
              "      <th></th>\n",
              "      <th>pred</th>\n",
              "      <th>real</th>\n",
              "    </tr>\n",
              "  </thead>\n",
              "  <tbody>\n",
              "    <tr>\n",
              "      <th>0</th>\n",
              "      <td>авраам халалбигэрридиттэкэн охукан илан б илгэ...</td>\n",
              "      <td>аврам яхалалби өгөриди итэкэн ахукан илан бөӫл...</td>\n",
              "    </tr>\n",
              "    <tr>\n",
              "      <th>1</th>\n",
              "      <td>иисус ноӈонтикин гөнин</td>\n",
              "      <td>исус ноӈонтикин гөнин</td>\n",
              "    </tr>\n",
              "    <tr>\n",
              "      <th>2</th>\n",
              "      <td>тачинда ивитнэкрин</td>\n",
              "      <td>тачинта левит некрин</td>\n",
              "    </tr>\n",
              "    <tr>\n",
              "      <th>3</th>\n",
              "      <td>эмнэкэн исус варисий нянамам аавамӈанэӈнэмин</td>\n",
              "      <td>өмнэкэн исус фарисей нян тамам тавамӈа нэӈнэми</td>\n",
              "    </tr>\n",
              "    <tr>\n",
              "      <th>4</th>\n",
              "      <td>тарит нойхонтэ дэгивтинчэ</td>\n",
              "      <td>тарит ной хөнтэ дэгив тинчэ</td>\n",
              "    </tr>\n",
              "    <tr>\n",
              "      <th>...</th>\n",
              "      <td>...</td>\n",
              "      <td>...</td>\n",
              "    </tr>\n",
              "    <tr>\n",
              "      <th>350</th>\n",
              "      <td>идэкмуткилибугэди</td>\n",
              "      <td>идук мут килепу гадип</td>\n",
              "    </tr>\n",
              "    <tr>\n",
              "      <th>351</th>\n",
              "      <td>хөвки гөнчэн</td>\n",
              "      <td>хөвки гөнчэ</td>\n",
              "    </tr>\n",
              "    <tr>\n",
              "      <th>352</th>\n",
              "      <td>төрду одо ӈалби булбунян далгэнкэлбу ачалтаде</td>\n",
              "      <td>төрдук одаӈалби бөӫлбу нян дэлгэнкэлбу ачалтадим</td>\n",
              "    </tr>\n",
              "    <tr>\n",
              "      <th>353</th>\n",
              "      <td>тар хакита даиан эмниди</td>\n",
              "      <td>тар хиакита далилан эмниди</td>\n",
              "    </tr>\n",
              "    <tr>\n",
              "      <th>354</th>\n",
              "      <td>эхи барагрин</td>\n",
              "      <td>ахи барагрин</td>\n",
              "    </tr>\n",
              "  </tbody>\n",
              "</table>\n",
              "<p>355 rows × 2 columns</p>\n",
              "</div>\n",
              "    <div class=\"colab-df-buttons\">\n",
              "\n",
              "  <div class=\"colab-df-container\">\n",
              "    <button class=\"colab-df-convert\" onclick=\"convertToInteractive('df-f016592f-4667-4678-8791-59002cee1fd6')\"\n",
              "            title=\"Convert this dataframe to an interactive table.\"\n",
              "            style=\"display:none;\">\n",
              "\n",
              "  <svg xmlns=\"http://www.w3.org/2000/svg\" height=\"24px\" viewBox=\"0 -960 960 960\">\n",
              "    <path d=\"M120-120v-720h720v720H120Zm60-500h600v-160H180v160Zm220 220h160v-160H400v160Zm0 220h160v-160H400v160ZM180-400h160v-160H180v160Zm440 0h160v-160H620v160ZM180-180h160v-160H180v160Zm440 0h160v-160H620v160Z\"/>\n",
              "  </svg>\n",
              "    </button>\n",
              "\n",
              "  <style>\n",
              "    .colab-df-container {\n",
              "      display:flex;\n",
              "      gap: 12px;\n",
              "    }\n",
              "\n",
              "    .colab-df-convert {\n",
              "      background-color: #E8F0FE;\n",
              "      border: none;\n",
              "      border-radius: 50%;\n",
              "      cursor: pointer;\n",
              "      display: none;\n",
              "      fill: #1967D2;\n",
              "      height: 32px;\n",
              "      padding: 0 0 0 0;\n",
              "      width: 32px;\n",
              "    }\n",
              "\n",
              "    .colab-df-convert:hover {\n",
              "      background-color: #E2EBFA;\n",
              "      box-shadow: 0px 1px 2px rgba(60, 64, 67, 0.3), 0px 1px 3px 1px rgba(60, 64, 67, 0.15);\n",
              "      fill: #174EA6;\n",
              "    }\n",
              "\n",
              "    .colab-df-buttons div {\n",
              "      margin-bottom: 4px;\n",
              "    }\n",
              "\n",
              "    [theme=dark] .colab-df-convert {\n",
              "      background-color: #3B4455;\n",
              "      fill: #D2E3FC;\n",
              "    }\n",
              "\n",
              "    [theme=dark] .colab-df-convert:hover {\n",
              "      background-color: #434B5C;\n",
              "      box-shadow: 0px 1px 3px 1px rgba(0, 0, 0, 0.15);\n",
              "      filter: drop-shadow(0px 1px 2px rgba(0, 0, 0, 0.3));\n",
              "      fill: #FFFFFF;\n",
              "    }\n",
              "  </style>\n",
              "\n",
              "    <script>\n",
              "      const buttonEl =\n",
              "        document.querySelector('#df-f016592f-4667-4678-8791-59002cee1fd6 button.colab-df-convert');\n",
              "      buttonEl.style.display =\n",
              "        google.colab.kernel.accessAllowed ? 'block' : 'none';\n",
              "\n",
              "      async function convertToInteractive(key) {\n",
              "        const element = document.querySelector('#df-f016592f-4667-4678-8791-59002cee1fd6');\n",
              "        const dataTable =\n",
              "          await google.colab.kernel.invokeFunction('convertToInteractive',\n",
              "                                                    [key], {});\n",
              "        if (!dataTable) return;\n",
              "\n",
              "        const docLinkHtml = 'Like what you see? Visit the ' +\n",
              "          '<a target=\"_blank\" href=https://colab.research.google.com/notebooks/data_table.ipynb>data table notebook</a>'\n",
              "          + ' to learn more about interactive tables.';\n",
              "        element.innerHTML = '';\n",
              "        dataTable['output_type'] = 'display_data';\n",
              "        await google.colab.output.renderOutput(dataTable, element);\n",
              "        const docLink = document.createElement('div');\n",
              "        docLink.innerHTML = docLinkHtml;\n",
              "        element.appendChild(docLink);\n",
              "      }\n",
              "    </script>\n",
              "  </div>\n",
              "\n",
              "\n",
              "<div id=\"df-2075940f-18f7-44a7-a7f5-7cfae84d583a\">\n",
              "  <button class=\"colab-df-quickchart\" onclick=\"quickchart('df-2075940f-18f7-44a7-a7f5-7cfae84d583a')\"\n",
              "            title=\"Suggest charts\"\n",
              "            style=\"display:none;\">\n",
              "\n",
              "<svg xmlns=\"http://www.w3.org/2000/svg\" height=\"24px\"viewBox=\"0 0 24 24\"\n",
              "     width=\"24px\">\n",
              "    <g>\n",
              "        <path d=\"M19 3H5c-1.1 0-2 .9-2 2v14c0 1.1.9 2 2 2h14c1.1 0 2-.9 2-2V5c0-1.1-.9-2-2-2zM9 17H7v-7h2v7zm4 0h-2V7h2v10zm4 0h-2v-4h2v4z\"/>\n",
              "    </g>\n",
              "</svg>\n",
              "  </button>\n",
              "\n",
              "<style>\n",
              "  .colab-df-quickchart {\n",
              "      --bg-color: #E8F0FE;\n",
              "      --fill-color: #1967D2;\n",
              "      --hover-bg-color: #E2EBFA;\n",
              "      --hover-fill-color: #174EA6;\n",
              "      --disabled-fill-color: #AAA;\n",
              "      --disabled-bg-color: #DDD;\n",
              "  }\n",
              "\n",
              "  [theme=dark] .colab-df-quickchart {\n",
              "      --bg-color: #3B4455;\n",
              "      --fill-color: #D2E3FC;\n",
              "      --hover-bg-color: #434B5C;\n",
              "      --hover-fill-color: #FFFFFF;\n",
              "      --disabled-bg-color: #3B4455;\n",
              "      --disabled-fill-color: #666;\n",
              "  }\n",
              "\n",
              "  .colab-df-quickchart {\n",
              "    background-color: var(--bg-color);\n",
              "    border: none;\n",
              "    border-radius: 50%;\n",
              "    cursor: pointer;\n",
              "    display: none;\n",
              "    fill: var(--fill-color);\n",
              "    height: 32px;\n",
              "    padding: 0;\n",
              "    width: 32px;\n",
              "  }\n",
              "\n",
              "  .colab-df-quickchart:hover {\n",
              "    background-color: var(--hover-bg-color);\n",
              "    box-shadow: 0 1px 2px rgba(60, 64, 67, 0.3), 0 1px 3px 1px rgba(60, 64, 67, 0.15);\n",
              "    fill: var(--button-hover-fill-color);\n",
              "  }\n",
              "\n",
              "  .colab-df-quickchart-complete:disabled,\n",
              "  .colab-df-quickchart-complete:disabled:hover {\n",
              "    background-color: var(--disabled-bg-color);\n",
              "    fill: var(--disabled-fill-color);\n",
              "    box-shadow: none;\n",
              "  }\n",
              "\n",
              "  .colab-df-spinner {\n",
              "    border: 2px solid var(--fill-color);\n",
              "    border-color: transparent;\n",
              "    border-bottom-color: var(--fill-color);\n",
              "    animation:\n",
              "      spin 1s steps(1) infinite;\n",
              "  }\n",
              "\n",
              "  @keyframes spin {\n",
              "    0% {\n",
              "      border-color: transparent;\n",
              "      border-bottom-color: var(--fill-color);\n",
              "      border-left-color: var(--fill-color);\n",
              "    }\n",
              "    20% {\n",
              "      border-color: transparent;\n",
              "      border-left-color: var(--fill-color);\n",
              "      border-top-color: var(--fill-color);\n",
              "    }\n",
              "    30% {\n",
              "      border-color: transparent;\n",
              "      border-left-color: var(--fill-color);\n",
              "      border-top-color: var(--fill-color);\n",
              "      border-right-color: var(--fill-color);\n",
              "    }\n",
              "    40% {\n",
              "      border-color: transparent;\n",
              "      border-right-color: var(--fill-color);\n",
              "      border-top-color: var(--fill-color);\n",
              "    }\n",
              "    60% {\n",
              "      border-color: transparent;\n",
              "      border-right-color: var(--fill-color);\n",
              "    }\n",
              "    80% {\n",
              "      border-color: transparent;\n",
              "      border-right-color: var(--fill-color);\n",
              "      border-bottom-color: var(--fill-color);\n",
              "    }\n",
              "    90% {\n",
              "      border-color: transparent;\n",
              "      border-bottom-color: var(--fill-color);\n",
              "    }\n",
              "  }\n",
              "</style>\n",
              "\n",
              "  <script>\n",
              "    async function quickchart(key) {\n",
              "      const quickchartButtonEl =\n",
              "        document.querySelector('#' + key + ' button');\n",
              "      quickchartButtonEl.disabled = true;  // To prevent multiple clicks.\n",
              "      quickchartButtonEl.classList.add('colab-df-spinner');\n",
              "      try {\n",
              "        const charts = await google.colab.kernel.invokeFunction(\n",
              "            'suggestCharts', [key], {});\n",
              "      } catch (error) {\n",
              "        console.error('Error during call to suggestCharts:', error);\n",
              "      }\n",
              "      quickchartButtonEl.classList.remove('colab-df-spinner');\n",
              "      quickchartButtonEl.classList.add('colab-df-quickchart-complete');\n",
              "    }\n",
              "    (() => {\n",
              "      let quickchartButtonEl =\n",
              "        document.querySelector('#df-2075940f-18f7-44a7-a7f5-7cfae84d583a button');\n",
              "      quickchartButtonEl.style.display =\n",
              "        google.colab.kernel.accessAllowed ? 'block' : 'none';\n",
              "    })();\n",
              "  </script>\n",
              "</div>\n",
              "    </div>\n",
              "  </div>\n"
            ],
            "application/vnd.google.colaboratory.intrinsic+json": {
              "type": "dataframe",
              "variable_name": "pred_real",
              "summary": "{\n  \"name\": \"pred_real\",\n  \"rows\": 355,\n  \"fields\": [\n    {\n      \"column\": \"pred\",\n      \"properties\": {\n        \"dtype\": \"string\",\n        \"num_unique_values\": 354,\n        \"samples\": [\n          \"\\u0442\\u0430\\u0447\\u043d \\u0442\\u04e9\\u0440 \\u044d\\u043f\\u0438\\u0432 \\u043d\\u043e\\u04c8\\u043e\\u0440\\u0434\\u0443\\u0442\\u043d\\u0430\",\n          \"\\u04c8\\u044d\\u043d\\u043c\\u0438\\u0440 \\u0431\\u044d\\u0433\\u044d\\u043d\\u0442\\u044d\\u043d\",\n          \"\\u0438\\u0438\\u0441\\u0443\\u0441 \\u044d\\u0433\\u044d\\u043a\\u0438 \\u043a\\u04e9\\u0438\\u0434\\u0438 \\u0433\\u04e9\\u043d\\u0447\"\n        ],\n        \"semantic_type\": \"\",\n        \"description\": \"\"\n      }\n    },\n    {\n      \"column\": \"real\",\n      \"properties\": {\n        \"dtype\": \"string\",\n        \"num_unique_values\": 348,\n        \"samples\": [\n          \"\\u043d\\u044e\\u04c8\\u0438\\u0441 \\u0438\\u043d\\u044d\\u04c8\\u0438 \\u0442\\u0430\\u0447\\u0438\\u043d \\u0438\\u044d\\u043b\\u0442\\u044d\\u043d\\u0447\\u044d\",\n          \"\\u0434\\u044d\\u043b\\u0433\\u044d\\u043d\\u043a\\u044d\\u043b\\u0434\\u0443 \\u043e\\u043b\\u0434\\u043e\\u043b\\u0434\\u0443\",\n          \"\\u043d\\u043e\\u04c8\\u043e\\u043d \\u044d\\u0433\\u0434\\u0435\\u043d\\u044d\\u0442 \\u043c\\u044d\\u0440\\u0433\\u044d\\u0442\\u0447\\u044d\"\n        ],\n        \"semantic_type\": \"\",\n        \"description\": \"\"\n      }\n    }\n  ]\n}"
            }
          },
          "metadata": {},
          "execution_count": 39
        }
      ]
    }
  ],
  "metadata": {
    "accelerator": "GPU",
    "colab": {
      "gpuType": "T4",
      "provenance": []
    },
    "kernelspec": {
      "display_name": "Python 3",
      "name": "python3"
    },
    "widgets": {
      "application/vnd.jupyter.widget-state+json": {
        "9bd06f3a17d84b189c1292b786c9b943": {
          "model_module": "@jupyter-widgets/controls",
          "model_name": "HBoxModel",
          "model_module_version": "1.5.0",
          "state": {
            "_dom_classes": [],
            "_model_module": "@jupyter-widgets/controls",
            "_model_module_version": "1.5.0",
            "_model_name": "HBoxModel",
            "_view_count": null,
            "_view_module": "@jupyter-widgets/controls",
            "_view_module_version": "1.5.0",
            "_view_name": "HBoxView",
            "box_style": "",
            "children": [
              "IPY_MODEL_8cb73ff0eca6462fa616c6560a9eb028",
              "IPY_MODEL_adeac013054047e79d2b8b1883de0d6b",
              "IPY_MODEL_6e2d7f01bdd142ea817336b5d5d1c18d"
            ],
            "layout": "IPY_MODEL_1f9552fe88234b44b2914c97350a699e"
          }
        },
        "8cb73ff0eca6462fa616c6560a9eb028": {
          "model_module": "@jupyter-widgets/controls",
          "model_name": "HTMLModel",
          "model_module_version": "1.5.0",
          "state": {
            "_dom_classes": [],
            "_model_module": "@jupyter-widgets/controls",
            "_model_module_version": "1.5.0",
            "_model_name": "HTMLModel",
            "_view_count": null,
            "_view_module": "@jupyter-widgets/controls",
            "_view_module_version": "1.5.0",
            "_view_name": "HTMLView",
            "description": "",
            "description_tooltip": null,
            "layout": "IPY_MODEL_dfd236f5890a4e8c83e3ed1ed32e10ca",
            "placeholder": "​",
            "style": "IPY_MODEL_7c826878c2484fe6ade876973f851d93",
            "value": "config.json: 100%"
          }
        },
        "adeac013054047e79d2b8b1883de0d6b": {
          "model_module": "@jupyter-widgets/controls",
          "model_name": "FloatProgressModel",
          "model_module_version": "1.5.0",
          "state": {
            "_dom_classes": [],
            "_model_module": "@jupyter-widgets/controls",
            "_model_module_version": "1.5.0",
            "_model_name": "FloatProgressModel",
            "_view_count": null,
            "_view_module": "@jupyter-widgets/controls",
            "_view_module_version": "1.5.0",
            "_view_name": "ProgressView",
            "bar_style": "success",
            "description": "",
            "description_tooltip": null,
            "layout": "IPY_MODEL_30546424db524c938643159dbf580df2",
            "max": 1874,
            "min": 0,
            "orientation": "horizontal",
            "style": "IPY_MODEL_837ab5fe9e0f4e918b1cd452d910b7cd",
            "value": 1874
          }
        },
        "6e2d7f01bdd142ea817336b5d5d1c18d": {
          "model_module": "@jupyter-widgets/controls",
          "model_name": "HTMLModel",
          "model_module_version": "1.5.0",
          "state": {
            "_dom_classes": [],
            "_model_module": "@jupyter-widgets/controls",
            "_model_module_version": "1.5.0",
            "_model_name": "HTMLModel",
            "_view_count": null,
            "_view_module": "@jupyter-widgets/controls",
            "_view_module_version": "1.5.0",
            "_view_name": "HTMLView",
            "description": "",
            "description_tooltip": null,
            "layout": "IPY_MODEL_94e8d6cac33a4b99a3a188557946eb8d",
            "placeholder": "​",
            "style": "IPY_MODEL_d177f4b35e49493fa5c44d80e045bf2a",
            "value": " 1.87k/1.87k [00:00&lt;00:00, 59.5kB/s]"
          }
        },
        "1f9552fe88234b44b2914c97350a699e": {
          "model_module": "@jupyter-widgets/base",
          "model_name": "LayoutModel",
          "model_module_version": "1.2.0",
          "state": {
            "_model_module": "@jupyter-widgets/base",
            "_model_module_version": "1.2.0",
            "_model_name": "LayoutModel",
            "_view_count": null,
            "_view_module": "@jupyter-widgets/base",
            "_view_module_version": "1.2.0",
            "_view_name": "LayoutView",
            "align_content": null,
            "align_items": null,
            "align_self": null,
            "border": null,
            "bottom": null,
            "display": null,
            "flex": null,
            "flex_flow": null,
            "grid_area": null,
            "grid_auto_columns": null,
            "grid_auto_flow": null,
            "grid_auto_rows": null,
            "grid_column": null,
            "grid_gap": null,
            "grid_row": null,
            "grid_template_areas": null,
            "grid_template_columns": null,
            "grid_template_rows": null,
            "height": null,
            "justify_content": null,
            "justify_items": null,
            "left": null,
            "margin": null,
            "max_height": null,
            "max_width": null,
            "min_height": null,
            "min_width": null,
            "object_fit": null,
            "object_position": null,
            "order": null,
            "overflow": null,
            "overflow_x": null,
            "overflow_y": null,
            "padding": null,
            "right": null,
            "top": null,
            "visibility": null,
            "width": null
          }
        },
        "dfd236f5890a4e8c83e3ed1ed32e10ca": {
          "model_module": "@jupyter-widgets/base",
          "model_name": "LayoutModel",
          "model_module_version": "1.2.0",
          "state": {
            "_model_module": "@jupyter-widgets/base",
            "_model_module_version": "1.2.0",
            "_model_name": "LayoutModel",
            "_view_count": null,
            "_view_module": "@jupyter-widgets/base",
            "_view_module_version": "1.2.0",
            "_view_name": "LayoutView",
            "align_content": null,
            "align_items": null,
            "align_self": null,
            "border": null,
            "bottom": null,
            "display": null,
            "flex": null,
            "flex_flow": null,
            "grid_area": null,
            "grid_auto_columns": null,
            "grid_auto_flow": null,
            "grid_auto_rows": null,
            "grid_column": null,
            "grid_gap": null,
            "grid_row": null,
            "grid_template_areas": null,
            "grid_template_columns": null,
            "grid_template_rows": null,
            "height": null,
            "justify_content": null,
            "justify_items": null,
            "left": null,
            "margin": null,
            "max_height": null,
            "max_width": null,
            "min_height": null,
            "min_width": null,
            "object_fit": null,
            "object_position": null,
            "order": null,
            "overflow": null,
            "overflow_x": null,
            "overflow_y": null,
            "padding": null,
            "right": null,
            "top": null,
            "visibility": null,
            "width": null
          }
        },
        "7c826878c2484fe6ade876973f851d93": {
          "model_module": "@jupyter-widgets/controls",
          "model_name": "DescriptionStyleModel",
          "model_module_version": "1.5.0",
          "state": {
            "_model_module": "@jupyter-widgets/controls",
            "_model_module_version": "1.5.0",
            "_model_name": "DescriptionStyleModel",
            "_view_count": null,
            "_view_module": "@jupyter-widgets/base",
            "_view_module_version": "1.2.0",
            "_view_name": "StyleView",
            "description_width": ""
          }
        },
        "30546424db524c938643159dbf580df2": {
          "model_module": "@jupyter-widgets/base",
          "model_name": "LayoutModel",
          "model_module_version": "1.2.0",
          "state": {
            "_model_module": "@jupyter-widgets/base",
            "_model_module_version": "1.2.0",
            "_model_name": "LayoutModel",
            "_view_count": null,
            "_view_module": "@jupyter-widgets/base",
            "_view_module_version": "1.2.0",
            "_view_name": "LayoutView",
            "align_content": null,
            "align_items": null,
            "align_self": null,
            "border": null,
            "bottom": null,
            "display": null,
            "flex": null,
            "flex_flow": null,
            "grid_area": null,
            "grid_auto_columns": null,
            "grid_auto_flow": null,
            "grid_auto_rows": null,
            "grid_column": null,
            "grid_gap": null,
            "grid_row": null,
            "grid_template_areas": null,
            "grid_template_columns": null,
            "grid_template_rows": null,
            "height": null,
            "justify_content": null,
            "justify_items": null,
            "left": null,
            "margin": null,
            "max_height": null,
            "max_width": null,
            "min_height": null,
            "min_width": null,
            "object_fit": null,
            "object_position": null,
            "order": null,
            "overflow": null,
            "overflow_x": null,
            "overflow_y": null,
            "padding": null,
            "right": null,
            "top": null,
            "visibility": null,
            "width": null
          }
        },
        "837ab5fe9e0f4e918b1cd452d910b7cd": {
          "model_module": "@jupyter-widgets/controls",
          "model_name": "ProgressStyleModel",
          "model_module_version": "1.5.0",
          "state": {
            "_model_module": "@jupyter-widgets/controls",
            "_model_module_version": "1.5.0",
            "_model_name": "ProgressStyleModel",
            "_view_count": null,
            "_view_module": "@jupyter-widgets/base",
            "_view_module_version": "1.2.0",
            "_view_name": "StyleView",
            "bar_color": null,
            "description_width": ""
          }
        },
        "94e8d6cac33a4b99a3a188557946eb8d": {
          "model_module": "@jupyter-widgets/base",
          "model_name": "LayoutModel",
          "model_module_version": "1.2.0",
          "state": {
            "_model_module": "@jupyter-widgets/base",
            "_model_module_version": "1.2.0",
            "_model_name": "LayoutModel",
            "_view_count": null,
            "_view_module": "@jupyter-widgets/base",
            "_view_module_version": "1.2.0",
            "_view_name": "LayoutView",
            "align_content": null,
            "align_items": null,
            "align_self": null,
            "border": null,
            "bottom": null,
            "display": null,
            "flex": null,
            "flex_flow": null,
            "grid_area": null,
            "grid_auto_columns": null,
            "grid_auto_flow": null,
            "grid_auto_rows": null,
            "grid_column": null,
            "grid_gap": null,
            "grid_row": null,
            "grid_template_areas": null,
            "grid_template_columns": null,
            "grid_template_rows": null,
            "height": null,
            "justify_content": null,
            "justify_items": null,
            "left": null,
            "margin": null,
            "max_height": null,
            "max_width": null,
            "min_height": null,
            "min_width": null,
            "object_fit": null,
            "object_position": null,
            "order": null,
            "overflow": null,
            "overflow_x": null,
            "overflow_y": null,
            "padding": null,
            "right": null,
            "top": null,
            "visibility": null,
            "width": null
          }
        },
        "d177f4b35e49493fa5c44d80e045bf2a": {
          "model_module": "@jupyter-widgets/controls",
          "model_name": "DescriptionStyleModel",
          "model_module_version": "1.5.0",
          "state": {
            "_model_module": "@jupyter-widgets/controls",
            "_model_module_version": "1.5.0",
            "_model_name": "DescriptionStyleModel",
            "_view_count": null,
            "_view_module": "@jupyter-widgets/base",
            "_view_module_version": "1.2.0",
            "_view_name": "StyleView",
            "description_width": ""
          }
        },
        "babc7ac10fa54ac1b510a77dad80f8ce": {
          "model_module": "@jupyter-widgets/controls",
          "model_name": "HBoxModel",
          "model_module_version": "1.5.0",
          "state": {
            "_dom_classes": [],
            "_model_module": "@jupyter-widgets/controls",
            "_model_module_version": "1.5.0",
            "_model_name": "HBoxModel",
            "_view_count": null,
            "_view_module": "@jupyter-widgets/controls",
            "_view_module_version": "1.5.0",
            "_view_name": "HBoxView",
            "box_style": "",
            "children": [
              "IPY_MODEL_06fa898c9e224b3298b56452436b8767",
              "IPY_MODEL_0babd84c87804a44bbb2b13ce8f13b4c",
              "IPY_MODEL_afe67be0fb2446d9ae0d030bb196f552"
            ],
            "layout": "IPY_MODEL_105b2a7d89454497a7f5ce6adc4663fd"
          }
        },
        "06fa898c9e224b3298b56452436b8767": {
          "model_module": "@jupyter-widgets/controls",
          "model_name": "HTMLModel",
          "model_module_version": "1.5.0",
          "state": {
            "_dom_classes": [],
            "_model_module": "@jupyter-widgets/controls",
            "_model_module_version": "1.5.0",
            "_model_name": "HTMLModel",
            "_view_count": null,
            "_view_module": "@jupyter-widgets/controls",
            "_view_module_version": "1.5.0",
            "_view_name": "HTMLView",
            "description": "",
            "description_tooltip": null,
            "layout": "IPY_MODEL_4d412e10a7fa4bc2844bc841deaa3157",
            "placeholder": "​",
            "style": "IPY_MODEL_450cb8acfc4f4d15b6355f8b6d0e3942",
            "value": "model.safetensors: 100%"
          }
        },
        "0babd84c87804a44bbb2b13ce8f13b4c": {
          "model_module": "@jupyter-widgets/controls",
          "model_name": "FloatProgressModel",
          "model_module_version": "1.5.0",
          "state": {
            "_dom_classes": [],
            "_model_module": "@jupyter-widgets/controls",
            "_model_module_version": "1.5.0",
            "_model_name": "FloatProgressModel",
            "_view_count": null,
            "_view_module": "@jupyter-widgets/controls",
            "_view_module_version": "1.5.0",
            "_view_name": "ProgressView",
            "bar_style": "success",
            "description": "",
            "description_tooltip": null,
            "layout": "IPY_MODEL_b67827f135da436da3256708e2310118",
            "max": 2322063736,
            "min": 0,
            "orientation": "horizontal",
            "style": "IPY_MODEL_f40ab290e43343679a2da1ccaaa999ca",
            "value": 2322063736
          }
        },
        "afe67be0fb2446d9ae0d030bb196f552": {
          "model_module": "@jupyter-widgets/controls",
          "model_name": "HTMLModel",
          "model_module_version": "1.5.0",
          "state": {
            "_dom_classes": [],
            "_model_module": "@jupyter-widgets/controls",
            "_model_module_version": "1.5.0",
            "_model_name": "HTMLModel",
            "_view_count": null,
            "_view_module": "@jupyter-widgets/controls",
            "_view_module_version": "1.5.0",
            "_view_name": "HTMLView",
            "description": "",
            "description_tooltip": null,
            "layout": "IPY_MODEL_bf614c0a840441a9acfae611695a7bb9",
            "placeholder": "​",
            "style": "IPY_MODEL_6a604ca30c0642cb82068cdc3deb8fd6",
            "value": " 2.32G/2.32G [00:16&lt;00:00, 89.3MB/s]"
          }
        },
        "105b2a7d89454497a7f5ce6adc4663fd": {
          "model_module": "@jupyter-widgets/base",
          "model_name": "LayoutModel",
          "model_module_version": "1.2.0",
          "state": {
            "_model_module": "@jupyter-widgets/base",
            "_model_module_version": "1.2.0",
            "_model_name": "LayoutModel",
            "_view_count": null,
            "_view_module": "@jupyter-widgets/base",
            "_view_module_version": "1.2.0",
            "_view_name": "LayoutView",
            "align_content": null,
            "align_items": null,
            "align_self": null,
            "border": null,
            "bottom": null,
            "display": null,
            "flex": null,
            "flex_flow": null,
            "grid_area": null,
            "grid_auto_columns": null,
            "grid_auto_flow": null,
            "grid_auto_rows": null,
            "grid_column": null,
            "grid_gap": null,
            "grid_row": null,
            "grid_template_areas": null,
            "grid_template_columns": null,
            "grid_template_rows": null,
            "height": null,
            "justify_content": null,
            "justify_items": null,
            "left": null,
            "margin": null,
            "max_height": null,
            "max_width": null,
            "min_height": null,
            "min_width": null,
            "object_fit": null,
            "object_position": null,
            "order": null,
            "overflow": null,
            "overflow_x": null,
            "overflow_y": null,
            "padding": null,
            "right": null,
            "top": null,
            "visibility": null,
            "width": null
          }
        },
        "4d412e10a7fa4bc2844bc841deaa3157": {
          "model_module": "@jupyter-widgets/base",
          "model_name": "LayoutModel",
          "model_module_version": "1.2.0",
          "state": {
            "_model_module": "@jupyter-widgets/base",
            "_model_module_version": "1.2.0",
            "_model_name": "LayoutModel",
            "_view_count": null,
            "_view_module": "@jupyter-widgets/base",
            "_view_module_version": "1.2.0",
            "_view_name": "LayoutView",
            "align_content": null,
            "align_items": null,
            "align_self": null,
            "border": null,
            "bottom": null,
            "display": null,
            "flex": null,
            "flex_flow": null,
            "grid_area": null,
            "grid_auto_columns": null,
            "grid_auto_flow": null,
            "grid_auto_rows": null,
            "grid_column": null,
            "grid_gap": null,
            "grid_row": null,
            "grid_template_areas": null,
            "grid_template_columns": null,
            "grid_template_rows": null,
            "height": null,
            "justify_content": null,
            "justify_items": null,
            "left": null,
            "margin": null,
            "max_height": null,
            "max_width": null,
            "min_height": null,
            "min_width": null,
            "object_fit": null,
            "object_position": null,
            "order": null,
            "overflow": null,
            "overflow_x": null,
            "overflow_y": null,
            "padding": null,
            "right": null,
            "top": null,
            "visibility": null,
            "width": null
          }
        },
        "450cb8acfc4f4d15b6355f8b6d0e3942": {
          "model_module": "@jupyter-widgets/controls",
          "model_name": "DescriptionStyleModel",
          "model_module_version": "1.5.0",
          "state": {
            "_model_module": "@jupyter-widgets/controls",
            "_model_module_version": "1.5.0",
            "_model_name": "DescriptionStyleModel",
            "_view_count": null,
            "_view_module": "@jupyter-widgets/base",
            "_view_module_version": "1.2.0",
            "_view_name": "StyleView",
            "description_width": ""
          }
        },
        "b67827f135da436da3256708e2310118": {
          "model_module": "@jupyter-widgets/base",
          "model_name": "LayoutModel",
          "model_module_version": "1.2.0",
          "state": {
            "_model_module": "@jupyter-widgets/base",
            "_model_module_version": "1.2.0",
            "_model_name": "LayoutModel",
            "_view_count": null,
            "_view_module": "@jupyter-widgets/base",
            "_view_module_version": "1.2.0",
            "_view_name": "LayoutView",
            "align_content": null,
            "align_items": null,
            "align_self": null,
            "border": null,
            "bottom": null,
            "display": null,
            "flex": null,
            "flex_flow": null,
            "grid_area": null,
            "grid_auto_columns": null,
            "grid_auto_flow": null,
            "grid_auto_rows": null,
            "grid_column": null,
            "grid_gap": null,
            "grid_row": null,
            "grid_template_areas": null,
            "grid_template_columns": null,
            "grid_template_rows": null,
            "height": null,
            "justify_content": null,
            "justify_items": null,
            "left": null,
            "margin": null,
            "max_height": null,
            "max_width": null,
            "min_height": null,
            "min_width": null,
            "object_fit": null,
            "object_position": null,
            "order": null,
            "overflow": null,
            "overflow_x": null,
            "overflow_y": null,
            "padding": null,
            "right": null,
            "top": null,
            "visibility": null,
            "width": null
          }
        },
        "f40ab290e43343679a2da1ccaaa999ca": {
          "model_module": "@jupyter-widgets/controls",
          "model_name": "ProgressStyleModel",
          "model_module_version": "1.5.0",
          "state": {
            "_model_module": "@jupyter-widgets/controls",
            "_model_module_version": "1.5.0",
            "_model_name": "ProgressStyleModel",
            "_view_count": null,
            "_view_module": "@jupyter-widgets/base",
            "_view_module_version": "1.2.0",
            "_view_name": "StyleView",
            "bar_color": null,
            "description_width": ""
          }
        },
        "bf614c0a840441a9acfae611695a7bb9": {
          "model_module": "@jupyter-widgets/base",
          "model_name": "LayoutModel",
          "model_module_version": "1.2.0",
          "state": {
            "_model_module": "@jupyter-widgets/base",
            "_model_module_version": "1.2.0",
            "_model_name": "LayoutModel",
            "_view_count": null,
            "_view_module": "@jupyter-widgets/base",
            "_view_module_version": "1.2.0",
            "_view_name": "LayoutView",
            "align_content": null,
            "align_items": null,
            "align_self": null,
            "border": null,
            "bottom": null,
            "display": null,
            "flex": null,
            "flex_flow": null,
            "grid_area": null,
            "grid_auto_columns": null,
            "grid_auto_flow": null,
            "grid_auto_rows": null,
            "grid_column": null,
            "grid_gap": null,
            "grid_row": null,
            "grid_template_areas": null,
            "grid_template_columns": null,
            "grid_template_rows": null,
            "height": null,
            "justify_content": null,
            "justify_items": null,
            "left": null,
            "margin": null,
            "max_height": null,
            "max_width": null,
            "min_height": null,
            "min_width": null,
            "object_fit": null,
            "object_position": null,
            "order": null,
            "overflow": null,
            "overflow_x": null,
            "overflow_y": null,
            "padding": null,
            "right": null,
            "top": null,
            "visibility": null,
            "width": null
          }
        },
        "6a604ca30c0642cb82068cdc3deb8fd6": {
          "model_module": "@jupyter-widgets/controls",
          "model_name": "DescriptionStyleModel",
          "model_module_version": "1.5.0",
          "state": {
            "_model_module": "@jupyter-widgets/controls",
            "_model_module_version": "1.5.0",
            "_model_name": "DescriptionStyleModel",
            "_view_count": null,
            "_view_module": "@jupyter-widgets/base",
            "_view_module_version": "1.2.0",
            "_view_name": "StyleView",
            "description_width": ""
          }
        },
        "1424ffba3d454631a5bde2146f760b74": {
          "model_module": "@jupyter-widgets/controls",
          "model_name": "HBoxModel",
          "model_module_version": "1.5.0",
          "state": {
            "_dom_classes": [],
            "_model_module": "@jupyter-widgets/controls",
            "_model_module_version": "1.5.0",
            "_model_name": "HBoxModel",
            "_view_count": null,
            "_view_module": "@jupyter-widgets/controls",
            "_view_module_version": "1.5.0",
            "_view_name": "HBoxView",
            "box_style": "",
            "children": [
              "IPY_MODEL_7d271c26aa8846ff91df5210e13e796f",
              "IPY_MODEL_83f525ed39284ea1ae5f9cbf45ad3d7b",
              "IPY_MODEL_079d4c81fcdb412186e61d4d4c82756a"
            ],
            "layout": "IPY_MODEL_c2aea561ab044312b5131050a685b763"
          }
        },
        "7d271c26aa8846ff91df5210e13e796f": {
          "model_module": "@jupyter-widgets/controls",
          "model_name": "HTMLModel",
          "model_module_version": "1.5.0",
          "state": {
            "_dom_classes": [],
            "_model_module": "@jupyter-widgets/controls",
            "_model_module_version": "1.5.0",
            "_model_name": "HTMLModel",
            "_view_count": null,
            "_view_module": "@jupyter-widgets/controls",
            "_view_module_version": "1.5.0",
            "_view_name": "HTMLView",
            "description": "",
            "description_tooltip": null,
            "layout": "IPY_MODEL_53e5e308be6e415db2d6ad5f9af13414",
            "placeholder": "​",
            "style": "IPY_MODEL_cb87b8f1e4284f839dae9228dfefdb99",
            "value": "model.safetensors: 100%"
          }
        },
        "83f525ed39284ea1ae5f9cbf45ad3d7b": {
          "model_module": "@jupyter-widgets/controls",
          "model_name": "FloatProgressModel",
          "model_module_version": "1.5.0",
          "state": {
            "_dom_classes": [],
            "_model_module": "@jupyter-widgets/controls",
            "_model_module_version": "1.5.0",
            "_model_name": "FloatProgressModel",
            "_view_count": null,
            "_view_module": "@jupyter-widgets/controls",
            "_view_module_version": "1.5.0",
            "_view_name": "ProgressView",
            "bar_style": "success",
            "description": "",
            "description_tooltip": null,
            "layout": "IPY_MODEL_2b0686fdf5c3411a8f151c0983a98743",
            "max": 2422970360,
            "min": 0,
            "orientation": "horizontal",
            "style": "IPY_MODEL_696ebe7f1d4f430aa8448b6df3101f40",
            "value": 2422970360
          }
        },
        "079d4c81fcdb412186e61d4d4c82756a": {
          "model_module": "@jupyter-widgets/controls",
          "model_name": "HTMLModel",
          "model_module_version": "1.5.0",
          "state": {
            "_dom_classes": [],
            "_model_module": "@jupyter-widgets/controls",
            "_model_module_version": "1.5.0",
            "_model_name": "HTMLModel",
            "_view_count": null,
            "_view_module": "@jupyter-widgets/controls",
            "_view_module_version": "1.5.0",
            "_view_name": "HTMLView",
            "description": "",
            "description_tooltip": null,
            "layout": "IPY_MODEL_fe28719c36ad4beb99d544fe6aa2c13e",
            "placeholder": "​",
            "style": "IPY_MODEL_8469d41447a9436c916a195397b17ce9",
            "value": " 2.42G/2.42G [01:13&lt;00:00, 51.0MB/s]"
          }
        },
        "c2aea561ab044312b5131050a685b763": {
          "model_module": "@jupyter-widgets/base",
          "model_name": "LayoutModel",
          "model_module_version": "1.2.0",
          "state": {
            "_model_module": "@jupyter-widgets/base",
            "_model_module_version": "1.2.0",
            "_model_name": "LayoutModel",
            "_view_count": null,
            "_view_module": "@jupyter-widgets/base",
            "_view_module_version": "1.2.0",
            "_view_name": "LayoutView",
            "align_content": null,
            "align_items": null,
            "align_self": null,
            "border": null,
            "bottom": null,
            "display": null,
            "flex": null,
            "flex_flow": null,
            "grid_area": null,
            "grid_auto_columns": null,
            "grid_auto_flow": null,
            "grid_auto_rows": null,
            "grid_column": null,
            "grid_gap": null,
            "grid_row": null,
            "grid_template_areas": null,
            "grid_template_columns": null,
            "grid_template_rows": null,
            "height": null,
            "justify_content": null,
            "justify_items": null,
            "left": null,
            "margin": null,
            "max_height": null,
            "max_width": null,
            "min_height": null,
            "min_width": null,
            "object_fit": null,
            "object_position": null,
            "order": null,
            "overflow": null,
            "overflow_x": null,
            "overflow_y": null,
            "padding": null,
            "right": null,
            "top": null,
            "visibility": null,
            "width": null
          }
        },
        "53e5e308be6e415db2d6ad5f9af13414": {
          "model_module": "@jupyter-widgets/base",
          "model_name": "LayoutModel",
          "model_module_version": "1.2.0",
          "state": {
            "_model_module": "@jupyter-widgets/base",
            "_model_module_version": "1.2.0",
            "_model_name": "LayoutModel",
            "_view_count": null,
            "_view_module": "@jupyter-widgets/base",
            "_view_module_version": "1.2.0",
            "_view_name": "LayoutView",
            "align_content": null,
            "align_items": null,
            "align_self": null,
            "border": null,
            "bottom": null,
            "display": null,
            "flex": null,
            "flex_flow": null,
            "grid_area": null,
            "grid_auto_columns": null,
            "grid_auto_flow": null,
            "grid_auto_rows": null,
            "grid_column": null,
            "grid_gap": null,
            "grid_row": null,
            "grid_template_areas": null,
            "grid_template_columns": null,
            "grid_template_rows": null,
            "height": null,
            "justify_content": null,
            "justify_items": null,
            "left": null,
            "margin": null,
            "max_height": null,
            "max_width": null,
            "min_height": null,
            "min_width": null,
            "object_fit": null,
            "object_position": null,
            "order": null,
            "overflow": null,
            "overflow_x": null,
            "overflow_y": null,
            "padding": null,
            "right": null,
            "top": null,
            "visibility": null,
            "width": null
          }
        },
        "cb87b8f1e4284f839dae9228dfefdb99": {
          "model_module": "@jupyter-widgets/controls",
          "model_name": "DescriptionStyleModel",
          "model_module_version": "1.5.0",
          "state": {
            "_model_module": "@jupyter-widgets/controls",
            "_model_module_version": "1.5.0",
            "_model_name": "DescriptionStyleModel",
            "_view_count": null,
            "_view_module": "@jupyter-widgets/base",
            "_view_module_version": "1.2.0",
            "_view_name": "StyleView",
            "description_width": ""
          }
        },
        "2b0686fdf5c3411a8f151c0983a98743": {
          "model_module": "@jupyter-widgets/base",
          "model_name": "LayoutModel",
          "model_module_version": "1.2.0",
          "state": {
            "_model_module": "@jupyter-widgets/base",
            "_model_module_version": "1.2.0",
            "_model_name": "LayoutModel",
            "_view_count": null,
            "_view_module": "@jupyter-widgets/base",
            "_view_module_version": "1.2.0",
            "_view_name": "LayoutView",
            "align_content": null,
            "align_items": null,
            "align_self": null,
            "border": null,
            "bottom": null,
            "display": null,
            "flex": null,
            "flex_flow": null,
            "grid_area": null,
            "grid_auto_columns": null,
            "grid_auto_flow": null,
            "grid_auto_rows": null,
            "grid_column": null,
            "grid_gap": null,
            "grid_row": null,
            "grid_template_areas": null,
            "grid_template_columns": null,
            "grid_template_rows": null,
            "height": null,
            "justify_content": null,
            "justify_items": null,
            "left": null,
            "margin": null,
            "max_height": null,
            "max_width": null,
            "min_height": null,
            "min_width": null,
            "object_fit": null,
            "object_position": null,
            "order": null,
            "overflow": null,
            "overflow_x": null,
            "overflow_y": null,
            "padding": null,
            "right": null,
            "top": null,
            "visibility": null,
            "width": null
          }
        },
        "696ebe7f1d4f430aa8448b6df3101f40": {
          "model_module": "@jupyter-widgets/controls",
          "model_name": "ProgressStyleModel",
          "model_module_version": "1.5.0",
          "state": {
            "_model_module": "@jupyter-widgets/controls",
            "_model_module_version": "1.5.0",
            "_model_name": "ProgressStyleModel",
            "_view_count": null,
            "_view_module": "@jupyter-widgets/base",
            "_view_module_version": "1.2.0",
            "_view_name": "StyleView",
            "bar_color": null,
            "description_width": ""
          }
        },
        "fe28719c36ad4beb99d544fe6aa2c13e": {
          "model_module": "@jupyter-widgets/base",
          "model_name": "LayoutModel",
          "model_module_version": "1.2.0",
          "state": {
            "_model_module": "@jupyter-widgets/base",
            "_model_module_version": "1.2.0",
            "_model_name": "LayoutModel",
            "_view_count": null,
            "_view_module": "@jupyter-widgets/base",
            "_view_module_version": "1.2.0",
            "_view_name": "LayoutView",
            "align_content": null,
            "align_items": null,
            "align_self": null,
            "border": null,
            "bottom": null,
            "display": null,
            "flex": null,
            "flex_flow": null,
            "grid_area": null,
            "grid_auto_columns": null,
            "grid_auto_flow": null,
            "grid_auto_rows": null,
            "grid_column": null,
            "grid_gap": null,
            "grid_row": null,
            "grid_template_areas": null,
            "grid_template_columns": null,
            "grid_template_rows": null,
            "height": null,
            "justify_content": null,
            "justify_items": null,
            "left": null,
            "margin": null,
            "max_height": null,
            "max_width": null,
            "min_height": null,
            "min_width": null,
            "object_fit": null,
            "object_position": null,
            "order": null,
            "overflow": null,
            "overflow_x": null,
            "overflow_y": null,
            "padding": null,
            "right": null,
            "top": null,
            "visibility": null,
            "width": null
          }
        },
        "8469d41447a9436c916a195397b17ce9": {
          "model_module": "@jupyter-widgets/controls",
          "model_name": "DescriptionStyleModel",
          "model_module_version": "1.5.0",
          "state": {
            "_model_module": "@jupyter-widgets/controls",
            "_model_module_version": "1.5.0",
            "_model_name": "DescriptionStyleModel",
            "_view_count": null,
            "_view_module": "@jupyter-widgets/base",
            "_view_module_version": "1.2.0",
            "_view_name": "StyleView",
            "description_width": ""
          }
        },
        "04971cf7277944cda39c428f9dba7a82": {
          "model_module": "@jupyter-widgets/controls",
          "model_name": "HBoxModel",
          "model_module_version": "1.5.0",
          "state": {
            "_dom_classes": [],
            "_model_module": "@jupyter-widgets/controls",
            "_model_module_version": "1.5.0",
            "_model_name": "HBoxModel",
            "_view_count": null,
            "_view_module": "@jupyter-widgets/controls",
            "_view_module_version": "1.5.0",
            "_view_name": "HBoxView",
            "box_style": "",
            "children": [
              "IPY_MODEL_5b1e303328e945bdb576922f9658e888",
              "IPY_MODEL_99bf284afe204ddc84aabf6b4724d929",
              "IPY_MODEL_eb223cce1a75475892b346c698fc0729"
            ],
            "layout": "IPY_MODEL_c348f71951c54c57bf3b33aea1ec6398"
          }
        },
        "5b1e303328e945bdb576922f9658e888": {
          "model_module": "@jupyter-widgets/controls",
          "model_name": "HTMLModel",
          "model_module_version": "1.5.0",
          "state": {
            "_dom_classes": [],
            "_model_module": "@jupyter-widgets/controls",
            "_model_module_version": "1.5.0",
            "_model_name": "HTMLModel",
            "_view_count": null,
            "_view_module": "@jupyter-widgets/controls",
            "_view_module_version": "1.5.0",
            "_view_name": "HTMLView",
            "description": "",
            "description_tooltip": null,
            "layout": "IPY_MODEL_a08fa4326ad747e7bc61fd15ded7c803",
            "placeholder": "​",
            "style": "IPY_MODEL_33bc0ead776c45bea015149d61cb360d",
            "value": "events.out.tfevents.1717188729.6f6b557b0f8a.129.0: 100%"
          }
        },
        "99bf284afe204ddc84aabf6b4724d929": {
          "model_module": "@jupyter-widgets/controls",
          "model_name": "FloatProgressModel",
          "model_module_version": "1.5.0",
          "state": {
            "_dom_classes": [],
            "_model_module": "@jupyter-widgets/controls",
            "_model_module_version": "1.5.0",
            "_model_name": "FloatProgressModel",
            "_view_count": null,
            "_view_module": "@jupyter-widgets/controls",
            "_view_module_version": "1.5.0",
            "_view_name": "ProgressView",
            "bar_style": "success",
            "description": "",
            "description_tooltip": null,
            "layout": "IPY_MODEL_d630b2b9c506488b86e5f8f4f21246e9",
            "max": 6968,
            "min": 0,
            "orientation": "horizontal",
            "style": "IPY_MODEL_dc2af247546b4ddbb522658a66509240",
            "value": 6968
          }
        },
        "eb223cce1a75475892b346c698fc0729": {
          "model_module": "@jupyter-widgets/controls",
          "model_name": "HTMLModel",
          "model_module_version": "1.5.0",
          "state": {
            "_dom_classes": [],
            "_model_module": "@jupyter-widgets/controls",
            "_model_module_version": "1.5.0",
            "_model_name": "HTMLModel",
            "_view_count": null,
            "_view_module": "@jupyter-widgets/controls",
            "_view_module_version": "1.5.0",
            "_view_name": "HTMLView",
            "description": "",
            "description_tooltip": null,
            "layout": "IPY_MODEL_46be9f63b7644a47a16ce3b2fbf7878c",
            "placeholder": "​",
            "style": "IPY_MODEL_37be06ae1e2143ada1fdb20faea851f6",
            "value": " 6.97k/6.97k [00:00&lt;00:00, 14.5kB/s]"
          }
        },
        "c348f71951c54c57bf3b33aea1ec6398": {
          "model_module": "@jupyter-widgets/base",
          "model_name": "LayoutModel",
          "model_module_version": "1.2.0",
          "state": {
            "_model_module": "@jupyter-widgets/base",
            "_model_module_version": "1.2.0",
            "_model_name": "LayoutModel",
            "_view_count": null,
            "_view_module": "@jupyter-widgets/base",
            "_view_module_version": "1.2.0",
            "_view_name": "LayoutView",
            "align_content": null,
            "align_items": null,
            "align_self": null,
            "border": null,
            "bottom": null,
            "display": null,
            "flex": null,
            "flex_flow": null,
            "grid_area": null,
            "grid_auto_columns": null,
            "grid_auto_flow": null,
            "grid_auto_rows": null,
            "grid_column": null,
            "grid_gap": null,
            "grid_row": null,
            "grid_template_areas": null,
            "grid_template_columns": null,
            "grid_template_rows": null,
            "height": null,
            "justify_content": null,
            "justify_items": null,
            "left": null,
            "margin": null,
            "max_height": null,
            "max_width": null,
            "min_height": null,
            "min_width": null,
            "object_fit": null,
            "object_position": null,
            "order": null,
            "overflow": null,
            "overflow_x": null,
            "overflow_y": null,
            "padding": null,
            "right": null,
            "top": null,
            "visibility": null,
            "width": null
          }
        },
        "a08fa4326ad747e7bc61fd15ded7c803": {
          "model_module": "@jupyter-widgets/base",
          "model_name": "LayoutModel",
          "model_module_version": "1.2.0",
          "state": {
            "_model_module": "@jupyter-widgets/base",
            "_model_module_version": "1.2.0",
            "_model_name": "LayoutModel",
            "_view_count": null,
            "_view_module": "@jupyter-widgets/base",
            "_view_module_version": "1.2.0",
            "_view_name": "LayoutView",
            "align_content": null,
            "align_items": null,
            "align_self": null,
            "border": null,
            "bottom": null,
            "display": null,
            "flex": null,
            "flex_flow": null,
            "grid_area": null,
            "grid_auto_columns": null,
            "grid_auto_flow": null,
            "grid_auto_rows": null,
            "grid_column": null,
            "grid_gap": null,
            "grid_row": null,
            "grid_template_areas": null,
            "grid_template_columns": null,
            "grid_template_rows": null,
            "height": null,
            "justify_content": null,
            "justify_items": null,
            "left": null,
            "margin": null,
            "max_height": null,
            "max_width": null,
            "min_height": null,
            "min_width": null,
            "object_fit": null,
            "object_position": null,
            "order": null,
            "overflow": null,
            "overflow_x": null,
            "overflow_y": null,
            "padding": null,
            "right": null,
            "top": null,
            "visibility": null,
            "width": null
          }
        },
        "33bc0ead776c45bea015149d61cb360d": {
          "model_module": "@jupyter-widgets/controls",
          "model_name": "DescriptionStyleModel",
          "model_module_version": "1.5.0",
          "state": {
            "_model_module": "@jupyter-widgets/controls",
            "_model_module_version": "1.5.0",
            "_model_name": "DescriptionStyleModel",
            "_view_count": null,
            "_view_module": "@jupyter-widgets/base",
            "_view_module_version": "1.2.0",
            "_view_name": "StyleView",
            "description_width": ""
          }
        },
        "d630b2b9c506488b86e5f8f4f21246e9": {
          "model_module": "@jupyter-widgets/base",
          "model_name": "LayoutModel",
          "model_module_version": "1.2.0",
          "state": {
            "_model_module": "@jupyter-widgets/base",
            "_model_module_version": "1.2.0",
            "_model_name": "LayoutModel",
            "_view_count": null,
            "_view_module": "@jupyter-widgets/base",
            "_view_module_version": "1.2.0",
            "_view_name": "LayoutView",
            "align_content": null,
            "align_items": null,
            "align_self": null,
            "border": null,
            "bottom": null,
            "display": null,
            "flex": null,
            "flex_flow": null,
            "grid_area": null,
            "grid_auto_columns": null,
            "grid_auto_flow": null,
            "grid_auto_rows": null,
            "grid_column": null,
            "grid_gap": null,
            "grid_row": null,
            "grid_template_areas": null,
            "grid_template_columns": null,
            "grid_template_rows": null,
            "height": null,
            "justify_content": null,
            "justify_items": null,
            "left": null,
            "margin": null,
            "max_height": null,
            "max_width": null,
            "min_height": null,
            "min_width": null,
            "object_fit": null,
            "object_position": null,
            "order": null,
            "overflow": null,
            "overflow_x": null,
            "overflow_y": null,
            "padding": null,
            "right": null,
            "top": null,
            "visibility": null,
            "width": null
          }
        },
        "dc2af247546b4ddbb522658a66509240": {
          "model_module": "@jupyter-widgets/controls",
          "model_name": "ProgressStyleModel",
          "model_module_version": "1.5.0",
          "state": {
            "_model_module": "@jupyter-widgets/controls",
            "_model_module_version": "1.5.0",
            "_model_name": "ProgressStyleModel",
            "_view_count": null,
            "_view_module": "@jupyter-widgets/base",
            "_view_module_version": "1.2.0",
            "_view_name": "StyleView",
            "bar_color": null,
            "description_width": ""
          }
        },
        "46be9f63b7644a47a16ce3b2fbf7878c": {
          "model_module": "@jupyter-widgets/base",
          "model_name": "LayoutModel",
          "model_module_version": "1.2.0",
          "state": {
            "_model_module": "@jupyter-widgets/base",
            "_model_module_version": "1.2.0",
            "_model_name": "LayoutModel",
            "_view_count": null,
            "_view_module": "@jupyter-widgets/base",
            "_view_module_version": "1.2.0",
            "_view_name": "LayoutView",
            "align_content": null,
            "align_items": null,
            "align_self": null,
            "border": null,
            "bottom": null,
            "display": null,
            "flex": null,
            "flex_flow": null,
            "grid_area": null,
            "grid_auto_columns": null,
            "grid_auto_flow": null,
            "grid_auto_rows": null,
            "grid_column": null,
            "grid_gap": null,
            "grid_row": null,
            "grid_template_areas": null,
            "grid_template_columns": null,
            "grid_template_rows": null,
            "height": null,
            "justify_content": null,
            "justify_items": null,
            "left": null,
            "margin": null,
            "max_height": null,
            "max_width": null,
            "min_height": null,
            "min_width": null,
            "object_fit": null,
            "object_position": null,
            "order": null,
            "overflow": null,
            "overflow_x": null,
            "overflow_y": null,
            "padding": null,
            "right": null,
            "top": null,
            "visibility": null,
            "width": null
          }
        },
        "37be06ae1e2143ada1fdb20faea851f6": {
          "model_module": "@jupyter-widgets/controls",
          "model_name": "DescriptionStyleModel",
          "model_module_version": "1.5.0",
          "state": {
            "_model_module": "@jupyter-widgets/controls",
            "_model_module_version": "1.5.0",
            "_model_name": "DescriptionStyleModel",
            "_view_count": null,
            "_view_module": "@jupyter-widgets/base",
            "_view_module_version": "1.2.0",
            "_view_name": "StyleView",
            "description_width": ""
          }
        },
        "f8114e1583c34d3ebbdcc6e43b268064": {
          "model_module": "@jupyter-widgets/controls",
          "model_name": "HBoxModel",
          "model_module_version": "1.5.0",
          "state": {
            "_dom_classes": [],
            "_model_module": "@jupyter-widgets/controls",
            "_model_module_version": "1.5.0",
            "_model_name": "HBoxModel",
            "_view_count": null,
            "_view_module": "@jupyter-widgets/controls",
            "_view_module_version": "1.5.0",
            "_view_name": "HBoxView",
            "box_style": "",
            "children": [
              "IPY_MODEL_5d64728c67ba486191f70d183aa8e7fb",
              "IPY_MODEL_c3b780a5fd2f4724a689bcce720e3f4a",
              "IPY_MODEL_90eaef289c294df19dd79122f8ce7e4b"
            ],
            "layout": "IPY_MODEL_313d9175c5964b149a747caaff66256d"
          }
        },
        "5d64728c67ba486191f70d183aa8e7fb": {
          "model_module": "@jupyter-widgets/controls",
          "model_name": "HTMLModel",
          "model_module_version": "1.5.0",
          "state": {
            "_dom_classes": [],
            "_model_module": "@jupyter-widgets/controls",
            "_model_module_version": "1.5.0",
            "_model_name": "HTMLModel",
            "_view_count": null,
            "_view_module": "@jupyter-widgets/controls",
            "_view_module_version": "1.5.0",
            "_view_name": "HTMLView",
            "description": "",
            "description_tooltip": null,
            "layout": "IPY_MODEL_c15590db8b6a41d582dcad8fbe7d92c6",
            "placeholder": "​",
            "style": "IPY_MODEL_5dfc5898f0304f688c9a243626357bbb",
            "value": "Upload 3 LFS files: 100%"
          }
        },
        "c3b780a5fd2f4724a689bcce720e3f4a": {
          "model_module": "@jupyter-widgets/controls",
          "model_name": "FloatProgressModel",
          "model_module_version": "1.5.0",
          "state": {
            "_dom_classes": [],
            "_model_module": "@jupyter-widgets/controls",
            "_model_module_version": "1.5.0",
            "_model_name": "FloatProgressModel",
            "_view_count": null,
            "_view_module": "@jupyter-widgets/controls",
            "_view_module_version": "1.5.0",
            "_view_name": "ProgressView",
            "bar_style": "success",
            "description": "",
            "description_tooltip": null,
            "layout": "IPY_MODEL_2017b0d89c984108a658ef042e473e61",
            "max": 3,
            "min": 0,
            "orientation": "horizontal",
            "style": "IPY_MODEL_294f1a6c810d4409b9b46bb5db20ac70",
            "value": 3
          }
        },
        "90eaef289c294df19dd79122f8ce7e4b": {
          "model_module": "@jupyter-widgets/controls",
          "model_name": "HTMLModel",
          "model_module_version": "1.5.0",
          "state": {
            "_dom_classes": [],
            "_model_module": "@jupyter-widgets/controls",
            "_model_module_version": "1.5.0",
            "_model_name": "HTMLModel",
            "_view_count": null,
            "_view_module": "@jupyter-widgets/controls",
            "_view_module_version": "1.5.0",
            "_view_name": "HTMLView",
            "description": "",
            "description_tooltip": null,
            "layout": "IPY_MODEL_4722b73525a74a2ca74c446054f2ee3d",
            "placeholder": "​",
            "style": "IPY_MODEL_f9c25b5f24a44ad2bc31e3d6d98eab95",
            "value": " 3/3 [01:14&lt;00:00, 74.29s/it]"
          }
        },
        "313d9175c5964b149a747caaff66256d": {
          "model_module": "@jupyter-widgets/base",
          "model_name": "LayoutModel",
          "model_module_version": "1.2.0",
          "state": {
            "_model_module": "@jupyter-widgets/base",
            "_model_module_version": "1.2.0",
            "_model_name": "LayoutModel",
            "_view_count": null,
            "_view_module": "@jupyter-widgets/base",
            "_view_module_version": "1.2.0",
            "_view_name": "LayoutView",
            "align_content": null,
            "align_items": null,
            "align_self": null,
            "border": null,
            "bottom": null,
            "display": null,
            "flex": null,
            "flex_flow": null,
            "grid_area": null,
            "grid_auto_columns": null,
            "grid_auto_flow": null,
            "grid_auto_rows": null,
            "grid_column": null,
            "grid_gap": null,
            "grid_row": null,
            "grid_template_areas": null,
            "grid_template_columns": null,
            "grid_template_rows": null,
            "height": null,
            "justify_content": null,
            "justify_items": null,
            "left": null,
            "margin": null,
            "max_height": null,
            "max_width": null,
            "min_height": null,
            "min_width": null,
            "object_fit": null,
            "object_position": null,
            "order": null,
            "overflow": null,
            "overflow_x": null,
            "overflow_y": null,
            "padding": null,
            "right": null,
            "top": null,
            "visibility": null,
            "width": null
          }
        },
        "c15590db8b6a41d582dcad8fbe7d92c6": {
          "model_module": "@jupyter-widgets/base",
          "model_name": "LayoutModel",
          "model_module_version": "1.2.0",
          "state": {
            "_model_module": "@jupyter-widgets/base",
            "_model_module_version": "1.2.0",
            "_model_name": "LayoutModel",
            "_view_count": null,
            "_view_module": "@jupyter-widgets/base",
            "_view_module_version": "1.2.0",
            "_view_name": "LayoutView",
            "align_content": null,
            "align_items": null,
            "align_self": null,
            "border": null,
            "bottom": null,
            "display": null,
            "flex": null,
            "flex_flow": null,
            "grid_area": null,
            "grid_auto_columns": null,
            "grid_auto_flow": null,
            "grid_auto_rows": null,
            "grid_column": null,
            "grid_gap": null,
            "grid_row": null,
            "grid_template_areas": null,
            "grid_template_columns": null,
            "grid_template_rows": null,
            "height": null,
            "justify_content": null,
            "justify_items": null,
            "left": null,
            "margin": null,
            "max_height": null,
            "max_width": null,
            "min_height": null,
            "min_width": null,
            "object_fit": null,
            "object_position": null,
            "order": null,
            "overflow": null,
            "overflow_x": null,
            "overflow_y": null,
            "padding": null,
            "right": null,
            "top": null,
            "visibility": null,
            "width": null
          }
        },
        "5dfc5898f0304f688c9a243626357bbb": {
          "model_module": "@jupyter-widgets/controls",
          "model_name": "DescriptionStyleModel",
          "model_module_version": "1.5.0",
          "state": {
            "_model_module": "@jupyter-widgets/controls",
            "_model_module_version": "1.5.0",
            "_model_name": "DescriptionStyleModel",
            "_view_count": null,
            "_view_module": "@jupyter-widgets/base",
            "_view_module_version": "1.2.0",
            "_view_name": "StyleView",
            "description_width": ""
          }
        },
        "2017b0d89c984108a658ef042e473e61": {
          "model_module": "@jupyter-widgets/base",
          "model_name": "LayoutModel",
          "model_module_version": "1.2.0",
          "state": {
            "_model_module": "@jupyter-widgets/base",
            "_model_module_version": "1.2.0",
            "_model_name": "LayoutModel",
            "_view_count": null,
            "_view_module": "@jupyter-widgets/base",
            "_view_module_version": "1.2.0",
            "_view_name": "LayoutView",
            "align_content": null,
            "align_items": null,
            "align_self": null,
            "border": null,
            "bottom": null,
            "display": null,
            "flex": null,
            "flex_flow": null,
            "grid_area": null,
            "grid_auto_columns": null,
            "grid_auto_flow": null,
            "grid_auto_rows": null,
            "grid_column": null,
            "grid_gap": null,
            "grid_row": null,
            "grid_template_areas": null,
            "grid_template_columns": null,
            "grid_template_rows": null,
            "height": null,
            "justify_content": null,
            "justify_items": null,
            "left": null,
            "margin": null,
            "max_height": null,
            "max_width": null,
            "min_height": null,
            "min_width": null,
            "object_fit": null,
            "object_position": null,
            "order": null,
            "overflow": null,
            "overflow_x": null,
            "overflow_y": null,
            "padding": null,
            "right": null,
            "top": null,
            "visibility": null,
            "width": null
          }
        },
        "294f1a6c810d4409b9b46bb5db20ac70": {
          "model_module": "@jupyter-widgets/controls",
          "model_name": "ProgressStyleModel",
          "model_module_version": "1.5.0",
          "state": {
            "_model_module": "@jupyter-widgets/controls",
            "_model_module_version": "1.5.0",
            "_model_name": "ProgressStyleModel",
            "_view_count": null,
            "_view_module": "@jupyter-widgets/base",
            "_view_module_version": "1.2.0",
            "_view_name": "StyleView",
            "bar_color": null,
            "description_width": ""
          }
        },
        "4722b73525a74a2ca74c446054f2ee3d": {
          "model_module": "@jupyter-widgets/base",
          "model_name": "LayoutModel",
          "model_module_version": "1.2.0",
          "state": {
            "_model_module": "@jupyter-widgets/base",
            "_model_module_version": "1.2.0",
            "_model_name": "LayoutModel",
            "_view_count": null,
            "_view_module": "@jupyter-widgets/base",
            "_view_module_version": "1.2.0",
            "_view_name": "LayoutView",
            "align_content": null,
            "align_items": null,
            "align_self": null,
            "border": null,
            "bottom": null,
            "display": null,
            "flex": null,
            "flex_flow": null,
            "grid_area": null,
            "grid_auto_columns": null,
            "grid_auto_flow": null,
            "grid_auto_rows": null,
            "grid_column": null,
            "grid_gap": null,
            "grid_row": null,
            "grid_template_areas": null,
            "grid_template_columns": null,
            "grid_template_rows": null,
            "height": null,
            "justify_content": null,
            "justify_items": null,
            "left": null,
            "margin": null,
            "max_height": null,
            "max_width": null,
            "min_height": null,
            "min_width": null,
            "object_fit": null,
            "object_position": null,
            "order": null,
            "overflow": null,
            "overflow_x": null,
            "overflow_y": null,
            "padding": null,
            "right": null,
            "top": null,
            "visibility": null,
            "width": null
          }
        },
        "f9c25b5f24a44ad2bc31e3d6d98eab95": {
          "model_module": "@jupyter-widgets/controls",
          "model_name": "DescriptionStyleModel",
          "model_module_version": "1.5.0",
          "state": {
            "_model_module": "@jupyter-widgets/controls",
            "_model_module_version": "1.5.0",
            "_model_name": "DescriptionStyleModel",
            "_view_count": null,
            "_view_module": "@jupyter-widgets/base",
            "_view_module_version": "1.2.0",
            "_view_name": "StyleView",
            "description_width": ""
          }
        },
        "80e6702224eb431788ae2c849afd2213": {
          "model_module": "@jupyter-widgets/controls",
          "model_name": "HBoxModel",
          "model_module_version": "1.5.0",
          "state": {
            "_dom_classes": [],
            "_model_module": "@jupyter-widgets/controls",
            "_model_module_version": "1.5.0",
            "_model_name": "HBoxModel",
            "_view_count": null,
            "_view_module": "@jupyter-widgets/controls",
            "_view_module_version": "1.5.0",
            "_view_name": "HBoxView",
            "box_style": "",
            "children": [
              "IPY_MODEL_7bfef79a3e0140bdaced248345cd9abe",
              "IPY_MODEL_3be482a6195d4d8982e671b36cf8436f",
              "IPY_MODEL_fa580a18376c4f36914b15a6467cb49c"
            ],
            "layout": "IPY_MODEL_bacb14678bf841229e989a6852dc4312"
          }
        },
        "7bfef79a3e0140bdaced248345cd9abe": {
          "model_module": "@jupyter-widgets/controls",
          "model_name": "HTMLModel",
          "model_module_version": "1.5.0",
          "state": {
            "_dom_classes": [],
            "_model_module": "@jupyter-widgets/controls",
            "_model_module_version": "1.5.0",
            "_model_name": "HTMLModel",
            "_view_count": null,
            "_view_module": "@jupyter-widgets/controls",
            "_view_module_version": "1.5.0",
            "_view_name": "HTMLView",
            "description": "",
            "description_tooltip": null,
            "layout": "IPY_MODEL_5d24fcde291c4715b9cbd0af476d084b",
            "placeholder": "​",
            "style": "IPY_MODEL_a3e5db8590ca493395161f93f116bc9b",
            "value": "training_args.bin: 100%"
          }
        },
        "3be482a6195d4d8982e671b36cf8436f": {
          "model_module": "@jupyter-widgets/controls",
          "model_name": "FloatProgressModel",
          "model_module_version": "1.5.0",
          "state": {
            "_dom_classes": [],
            "_model_module": "@jupyter-widgets/controls",
            "_model_module_version": "1.5.0",
            "_model_name": "FloatProgressModel",
            "_view_count": null,
            "_view_module": "@jupyter-widgets/controls",
            "_view_module_version": "1.5.0",
            "_view_name": "ProgressView",
            "bar_style": "success",
            "description": "",
            "description_tooltip": null,
            "layout": "IPY_MODEL_363c2a2b300c44a98e2fce1f1699983b",
            "max": 5112,
            "min": 0,
            "orientation": "horizontal",
            "style": "IPY_MODEL_28f4d35dabb54ced86a95be1d6022539",
            "value": 5112
          }
        },
        "fa580a18376c4f36914b15a6467cb49c": {
          "model_module": "@jupyter-widgets/controls",
          "model_name": "HTMLModel",
          "model_module_version": "1.5.0",
          "state": {
            "_dom_classes": [],
            "_model_module": "@jupyter-widgets/controls",
            "_model_module_version": "1.5.0",
            "_model_name": "HTMLModel",
            "_view_count": null,
            "_view_module": "@jupyter-widgets/controls",
            "_view_module_version": "1.5.0",
            "_view_name": "HTMLView",
            "description": "",
            "description_tooltip": null,
            "layout": "IPY_MODEL_572ea0941b564266a3b9f257219207a1",
            "placeholder": "​",
            "style": "IPY_MODEL_4bbf32f4469f4e7bbe51342d3c569cf0",
            "value": " 5.11k/5.11k [00:00&lt;00:00, 12.8kB/s]"
          }
        },
        "bacb14678bf841229e989a6852dc4312": {
          "model_module": "@jupyter-widgets/base",
          "model_name": "LayoutModel",
          "model_module_version": "1.2.0",
          "state": {
            "_model_module": "@jupyter-widgets/base",
            "_model_module_version": "1.2.0",
            "_model_name": "LayoutModel",
            "_view_count": null,
            "_view_module": "@jupyter-widgets/base",
            "_view_module_version": "1.2.0",
            "_view_name": "LayoutView",
            "align_content": null,
            "align_items": null,
            "align_self": null,
            "border": null,
            "bottom": null,
            "display": null,
            "flex": null,
            "flex_flow": null,
            "grid_area": null,
            "grid_auto_columns": null,
            "grid_auto_flow": null,
            "grid_auto_rows": null,
            "grid_column": null,
            "grid_gap": null,
            "grid_row": null,
            "grid_template_areas": null,
            "grid_template_columns": null,
            "grid_template_rows": null,
            "height": null,
            "justify_content": null,
            "justify_items": null,
            "left": null,
            "margin": null,
            "max_height": null,
            "max_width": null,
            "min_height": null,
            "min_width": null,
            "object_fit": null,
            "object_position": null,
            "order": null,
            "overflow": null,
            "overflow_x": null,
            "overflow_y": null,
            "padding": null,
            "right": null,
            "top": null,
            "visibility": null,
            "width": null
          }
        },
        "5d24fcde291c4715b9cbd0af476d084b": {
          "model_module": "@jupyter-widgets/base",
          "model_name": "LayoutModel",
          "model_module_version": "1.2.0",
          "state": {
            "_model_module": "@jupyter-widgets/base",
            "_model_module_version": "1.2.0",
            "_model_name": "LayoutModel",
            "_view_count": null,
            "_view_module": "@jupyter-widgets/base",
            "_view_module_version": "1.2.0",
            "_view_name": "LayoutView",
            "align_content": null,
            "align_items": null,
            "align_self": null,
            "border": null,
            "bottom": null,
            "display": null,
            "flex": null,
            "flex_flow": null,
            "grid_area": null,
            "grid_auto_columns": null,
            "grid_auto_flow": null,
            "grid_auto_rows": null,
            "grid_column": null,
            "grid_gap": null,
            "grid_row": null,
            "grid_template_areas": null,
            "grid_template_columns": null,
            "grid_template_rows": null,
            "height": null,
            "justify_content": null,
            "justify_items": null,
            "left": null,
            "margin": null,
            "max_height": null,
            "max_width": null,
            "min_height": null,
            "min_width": null,
            "object_fit": null,
            "object_position": null,
            "order": null,
            "overflow": null,
            "overflow_x": null,
            "overflow_y": null,
            "padding": null,
            "right": null,
            "top": null,
            "visibility": null,
            "width": null
          }
        },
        "a3e5db8590ca493395161f93f116bc9b": {
          "model_module": "@jupyter-widgets/controls",
          "model_name": "DescriptionStyleModel",
          "model_module_version": "1.5.0",
          "state": {
            "_model_module": "@jupyter-widgets/controls",
            "_model_module_version": "1.5.0",
            "_model_name": "DescriptionStyleModel",
            "_view_count": null,
            "_view_module": "@jupyter-widgets/base",
            "_view_module_version": "1.2.0",
            "_view_name": "StyleView",
            "description_width": ""
          }
        },
        "363c2a2b300c44a98e2fce1f1699983b": {
          "model_module": "@jupyter-widgets/base",
          "model_name": "LayoutModel",
          "model_module_version": "1.2.0",
          "state": {
            "_model_module": "@jupyter-widgets/base",
            "_model_module_version": "1.2.0",
            "_model_name": "LayoutModel",
            "_view_count": null,
            "_view_module": "@jupyter-widgets/base",
            "_view_module_version": "1.2.0",
            "_view_name": "LayoutView",
            "align_content": null,
            "align_items": null,
            "align_self": null,
            "border": null,
            "bottom": null,
            "display": null,
            "flex": null,
            "flex_flow": null,
            "grid_area": null,
            "grid_auto_columns": null,
            "grid_auto_flow": null,
            "grid_auto_rows": null,
            "grid_column": null,
            "grid_gap": null,
            "grid_row": null,
            "grid_template_areas": null,
            "grid_template_columns": null,
            "grid_template_rows": null,
            "height": null,
            "justify_content": null,
            "justify_items": null,
            "left": null,
            "margin": null,
            "max_height": null,
            "max_width": null,
            "min_height": null,
            "min_width": null,
            "object_fit": null,
            "object_position": null,
            "order": null,
            "overflow": null,
            "overflow_x": null,
            "overflow_y": null,
            "padding": null,
            "right": null,
            "top": null,
            "visibility": null,
            "width": null
          }
        },
        "28f4d35dabb54ced86a95be1d6022539": {
          "model_module": "@jupyter-widgets/controls",
          "model_name": "ProgressStyleModel",
          "model_module_version": "1.5.0",
          "state": {
            "_model_module": "@jupyter-widgets/controls",
            "_model_module_version": "1.5.0",
            "_model_name": "ProgressStyleModel",
            "_view_count": null,
            "_view_module": "@jupyter-widgets/base",
            "_view_module_version": "1.2.0",
            "_view_name": "StyleView",
            "bar_color": null,
            "description_width": ""
          }
        },
        "572ea0941b564266a3b9f257219207a1": {
          "model_module": "@jupyter-widgets/base",
          "model_name": "LayoutModel",
          "model_module_version": "1.2.0",
          "state": {
            "_model_module": "@jupyter-widgets/base",
            "_model_module_version": "1.2.0",
            "_model_name": "LayoutModel",
            "_view_count": null,
            "_view_module": "@jupyter-widgets/base",
            "_view_module_version": "1.2.0",
            "_view_name": "LayoutView",
            "align_content": null,
            "align_items": null,
            "align_self": null,
            "border": null,
            "bottom": null,
            "display": null,
            "flex": null,
            "flex_flow": null,
            "grid_area": null,
            "grid_auto_columns": null,
            "grid_auto_flow": null,
            "grid_auto_rows": null,
            "grid_column": null,
            "grid_gap": null,
            "grid_row": null,
            "grid_template_areas": null,
            "grid_template_columns": null,
            "grid_template_rows": null,
            "height": null,
            "justify_content": null,
            "justify_items": null,
            "left": null,
            "margin": null,
            "max_height": null,
            "max_width": null,
            "min_height": null,
            "min_width": null,
            "object_fit": null,
            "object_position": null,
            "order": null,
            "overflow": null,
            "overflow_x": null,
            "overflow_y": null,
            "padding": null,
            "right": null,
            "top": null,
            "visibility": null,
            "width": null
          }
        },
        "4bbf32f4469f4e7bbe51342d3c569cf0": {
          "model_module": "@jupyter-widgets/controls",
          "model_name": "DescriptionStyleModel",
          "model_module_version": "1.5.0",
          "state": {
            "_model_module": "@jupyter-widgets/controls",
            "_model_module_version": "1.5.0",
            "_model_name": "DescriptionStyleModel",
            "_view_count": null,
            "_view_module": "@jupyter-widgets/base",
            "_view_module_version": "1.2.0",
            "_view_name": "StyleView",
            "description_width": ""
          }
        },
        "434a188109f34ef4b93d99977e50226b": {
          "model_module": "@jupyter-widgets/controls",
          "model_name": "HBoxModel",
          "model_module_version": "1.5.0",
          "state": {
            "_dom_classes": [],
            "_model_module": "@jupyter-widgets/controls",
            "_model_module_version": "1.5.0",
            "_model_name": "HBoxModel",
            "_view_count": null,
            "_view_module": "@jupyter-widgets/controls",
            "_view_module_version": "1.5.0",
            "_view_name": "HBoxView",
            "box_style": "",
            "children": [
              "IPY_MODEL_5eef2421d2d24ce4a7b0ec4820e438e1",
              "IPY_MODEL_c93e4c5dcff44c15982f3ec306a65381",
              "IPY_MODEL_7015a30fffef46c1afb91c352275d878"
            ],
            "layout": "IPY_MODEL_16a475184bdf4fd69ff07e235c12d1ba"
          }
        },
        "5eef2421d2d24ce4a7b0ec4820e438e1": {
          "model_module": "@jupyter-widgets/controls",
          "model_name": "HTMLModel",
          "model_module_version": "1.5.0",
          "state": {
            "_dom_classes": [],
            "_model_module": "@jupyter-widgets/controls",
            "_model_module_version": "1.5.0",
            "_model_name": "HTMLModel",
            "_view_count": null,
            "_view_module": "@jupyter-widgets/controls",
            "_view_module_version": "1.5.0",
            "_view_name": "HTMLView",
            "description": "",
            "description_tooltip": null,
            "layout": "IPY_MODEL_8cc39e85bf354e40b72ab75e1a46f614",
            "placeholder": "​",
            "style": "IPY_MODEL_a32bd19c472c4be5879bcfa385358408",
            "value": "Downloading readme: 100%"
          }
        },
        "c93e4c5dcff44c15982f3ec306a65381": {
          "model_module": "@jupyter-widgets/controls",
          "model_name": "FloatProgressModel",
          "model_module_version": "1.5.0",
          "state": {
            "_dom_classes": [],
            "_model_module": "@jupyter-widgets/controls",
            "_model_module_version": "1.5.0",
            "_model_name": "FloatProgressModel",
            "_view_count": null,
            "_view_module": "@jupyter-widgets/controls",
            "_view_module_version": "1.5.0",
            "_view_name": "ProgressView",
            "bar_style": "success",
            "description": "",
            "description_tooltip": null,
            "layout": "IPY_MODEL_8cd6272354b044c0bc4121b3e44deff6",
            "max": 1388,
            "min": 0,
            "orientation": "horizontal",
            "style": "IPY_MODEL_d82216a447c24f5998cb313f8fece218",
            "value": 1388
          }
        },
        "7015a30fffef46c1afb91c352275d878": {
          "model_module": "@jupyter-widgets/controls",
          "model_name": "HTMLModel",
          "model_module_version": "1.5.0",
          "state": {
            "_dom_classes": [],
            "_model_module": "@jupyter-widgets/controls",
            "_model_module_version": "1.5.0",
            "_model_name": "HTMLModel",
            "_view_count": null,
            "_view_module": "@jupyter-widgets/controls",
            "_view_module_version": "1.5.0",
            "_view_name": "HTMLView",
            "description": "",
            "description_tooltip": null,
            "layout": "IPY_MODEL_75662b6dc60a4d13b284c486bfb1d252",
            "placeholder": "​",
            "style": "IPY_MODEL_03d767a935324952b25c8f7a61a43a4f",
            "value": " 1.39k/1.39k [00:00&lt;00:00, 101kB/s]"
          }
        },
        "16a475184bdf4fd69ff07e235c12d1ba": {
          "model_module": "@jupyter-widgets/base",
          "model_name": "LayoutModel",
          "model_module_version": "1.2.0",
          "state": {
            "_model_module": "@jupyter-widgets/base",
            "_model_module_version": "1.2.0",
            "_model_name": "LayoutModel",
            "_view_count": null,
            "_view_module": "@jupyter-widgets/base",
            "_view_module_version": "1.2.0",
            "_view_name": "LayoutView",
            "align_content": null,
            "align_items": null,
            "align_self": null,
            "border": null,
            "bottom": null,
            "display": null,
            "flex": null,
            "flex_flow": null,
            "grid_area": null,
            "grid_auto_columns": null,
            "grid_auto_flow": null,
            "grid_auto_rows": null,
            "grid_column": null,
            "grid_gap": null,
            "grid_row": null,
            "grid_template_areas": null,
            "grid_template_columns": null,
            "grid_template_rows": null,
            "height": null,
            "justify_content": null,
            "justify_items": null,
            "left": null,
            "margin": null,
            "max_height": null,
            "max_width": null,
            "min_height": null,
            "min_width": null,
            "object_fit": null,
            "object_position": null,
            "order": null,
            "overflow": null,
            "overflow_x": null,
            "overflow_y": null,
            "padding": null,
            "right": null,
            "top": null,
            "visibility": null,
            "width": null
          }
        },
        "8cc39e85bf354e40b72ab75e1a46f614": {
          "model_module": "@jupyter-widgets/base",
          "model_name": "LayoutModel",
          "model_module_version": "1.2.0",
          "state": {
            "_model_module": "@jupyter-widgets/base",
            "_model_module_version": "1.2.0",
            "_model_name": "LayoutModel",
            "_view_count": null,
            "_view_module": "@jupyter-widgets/base",
            "_view_module_version": "1.2.0",
            "_view_name": "LayoutView",
            "align_content": null,
            "align_items": null,
            "align_self": null,
            "border": null,
            "bottom": null,
            "display": null,
            "flex": null,
            "flex_flow": null,
            "grid_area": null,
            "grid_auto_columns": null,
            "grid_auto_flow": null,
            "grid_auto_rows": null,
            "grid_column": null,
            "grid_gap": null,
            "grid_row": null,
            "grid_template_areas": null,
            "grid_template_columns": null,
            "grid_template_rows": null,
            "height": null,
            "justify_content": null,
            "justify_items": null,
            "left": null,
            "margin": null,
            "max_height": null,
            "max_width": null,
            "min_height": null,
            "min_width": null,
            "object_fit": null,
            "object_position": null,
            "order": null,
            "overflow": null,
            "overflow_x": null,
            "overflow_y": null,
            "padding": null,
            "right": null,
            "top": null,
            "visibility": null,
            "width": null
          }
        },
        "a32bd19c472c4be5879bcfa385358408": {
          "model_module": "@jupyter-widgets/controls",
          "model_name": "DescriptionStyleModel",
          "model_module_version": "1.5.0",
          "state": {
            "_model_module": "@jupyter-widgets/controls",
            "_model_module_version": "1.5.0",
            "_model_name": "DescriptionStyleModel",
            "_view_count": null,
            "_view_module": "@jupyter-widgets/base",
            "_view_module_version": "1.2.0",
            "_view_name": "StyleView",
            "description_width": ""
          }
        },
        "8cd6272354b044c0bc4121b3e44deff6": {
          "model_module": "@jupyter-widgets/base",
          "model_name": "LayoutModel",
          "model_module_version": "1.2.0",
          "state": {
            "_model_module": "@jupyter-widgets/base",
            "_model_module_version": "1.2.0",
            "_model_name": "LayoutModel",
            "_view_count": null,
            "_view_module": "@jupyter-widgets/base",
            "_view_module_version": "1.2.0",
            "_view_name": "LayoutView",
            "align_content": null,
            "align_items": null,
            "align_self": null,
            "border": null,
            "bottom": null,
            "display": null,
            "flex": null,
            "flex_flow": null,
            "grid_area": null,
            "grid_auto_columns": null,
            "grid_auto_flow": null,
            "grid_auto_rows": null,
            "grid_column": null,
            "grid_gap": null,
            "grid_row": null,
            "grid_template_areas": null,
            "grid_template_columns": null,
            "grid_template_rows": null,
            "height": null,
            "justify_content": null,
            "justify_items": null,
            "left": null,
            "margin": null,
            "max_height": null,
            "max_width": null,
            "min_height": null,
            "min_width": null,
            "object_fit": null,
            "object_position": null,
            "order": null,
            "overflow": null,
            "overflow_x": null,
            "overflow_y": null,
            "padding": null,
            "right": null,
            "top": null,
            "visibility": null,
            "width": null
          }
        },
        "d82216a447c24f5998cb313f8fece218": {
          "model_module": "@jupyter-widgets/controls",
          "model_name": "ProgressStyleModel",
          "model_module_version": "1.5.0",
          "state": {
            "_model_module": "@jupyter-widgets/controls",
            "_model_module_version": "1.5.0",
            "_model_name": "ProgressStyleModel",
            "_view_count": null,
            "_view_module": "@jupyter-widgets/base",
            "_view_module_version": "1.2.0",
            "_view_name": "StyleView",
            "bar_color": null,
            "description_width": ""
          }
        },
        "75662b6dc60a4d13b284c486bfb1d252": {
          "model_module": "@jupyter-widgets/base",
          "model_name": "LayoutModel",
          "model_module_version": "1.2.0",
          "state": {
            "_model_module": "@jupyter-widgets/base",
            "_model_module_version": "1.2.0",
            "_model_name": "LayoutModel",
            "_view_count": null,
            "_view_module": "@jupyter-widgets/base",
            "_view_module_version": "1.2.0",
            "_view_name": "LayoutView",
            "align_content": null,
            "align_items": null,
            "align_self": null,
            "border": null,
            "bottom": null,
            "display": null,
            "flex": null,
            "flex_flow": null,
            "grid_area": null,
            "grid_auto_columns": null,
            "grid_auto_flow": null,
            "grid_auto_rows": null,
            "grid_column": null,
            "grid_gap": null,
            "grid_row": null,
            "grid_template_areas": null,
            "grid_template_columns": null,
            "grid_template_rows": null,
            "height": null,
            "justify_content": null,
            "justify_items": null,
            "left": null,
            "margin": null,
            "max_height": null,
            "max_width": null,
            "min_height": null,
            "min_width": null,
            "object_fit": null,
            "object_position": null,
            "order": null,
            "overflow": null,
            "overflow_x": null,
            "overflow_y": null,
            "padding": null,
            "right": null,
            "top": null,
            "visibility": null,
            "width": null
          }
        },
        "03d767a935324952b25c8f7a61a43a4f": {
          "model_module": "@jupyter-widgets/controls",
          "model_name": "DescriptionStyleModel",
          "model_module_version": "1.5.0",
          "state": {
            "_model_module": "@jupyter-widgets/controls",
            "_model_module_version": "1.5.0",
            "_model_name": "DescriptionStyleModel",
            "_view_count": null,
            "_view_module": "@jupyter-widgets/base",
            "_view_module_version": "1.2.0",
            "_view_name": "StyleView",
            "description_width": ""
          }
        },
        "5bbdab3c2f364b31b2c489274df875c2": {
          "model_module": "@jupyter-widgets/controls",
          "model_name": "HBoxModel",
          "model_module_version": "1.5.0",
          "state": {
            "_dom_classes": [],
            "_model_module": "@jupyter-widgets/controls",
            "_model_module_version": "1.5.0",
            "_model_name": "HBoxModel",
            "_view_count": null,
            "_view_module": "@jupyter-widgets/controls",
            "_view_module_version": "1.5.0",
            "_view_name": "HBoxView",
            "box_style": "",
            "children": [
              "IPY_MODEL_cad12500aaca42bbb6ce8ed0b26a6eac",
              "IPY_MODEL_74275da1a05a4f7d9d6d561ba2160357",
              "IPY_MODEL_0df49153dfa74b13be7cdb3f8c6d0630"
            ],
            "layout": "IPY_MODEL_2b033f74d55948eca4105ae13af6b4e1"
          }
        },
        "cad12500aaca42bbb6ce8ed0b26a6eac": {
          "model_module": "@jupyter-widgets/controls",
          "model_name": "HTMLModel",
          "model_module_version": "1.5.0",
          "state": {
            "_dom_classes": [],
            "_model_module": "@jupyter-widgets/controls",
            "_model_module_version": "1.5.0",
            "_model_name": "HTMLModel",
            "_view_count": null,
            "_view_module": "@jupyter-widgets/controls",
            "_view_module_version": "1.5.0",
            "_view_name": "HTMLView",
            "description": "",
            "description_tooltip": null,
            "layout": "IPY_MODEL_dd0540237ea24861bbb094bcd0bc1ae5",
            "placeholder": "​",
            "style": "IPY_MODEL_5d290cf1464844d497b08a852bc3e5df",
            "value": "Resolving data files: 100%"
          }
        },
        "74275da1a05a4f7d9d6d561ba2160357": {
          "model_module": "@jupyter-widgets/controls",
          "model_name": "FloatProgressModel",
          "model_module_version": "1.5.0",
          "state": {
            "_dom_classes": [],
            "_model_module": "@jupyter-widgets/controls",
            "_model_module_version": "1.5.0",
            "_model_name": "FloatProgressModel",
            "_view_count": null,
            "_view_module": "@jupyter-widgets/controls",
            "_view_module_version": "1.5.0",
            "_view_name": "ProgressView",
            "bar_style": "success",
            "description": "",
            "description_tooltip": null,
            "layout": "IPY_MODEL_c41b81f6cff14923b306c4f90cf7ba6f",
            "max": 1774,
            "min": 0,
            "orientation": "horizontal",
            "style": "IPY_MODEL_fe36ededfef340b8992b2bc6cec4f4b8",
            "value": 1774
          }
        },
        "0df49153dfa74b13be7cdb3f8c6d0630": {
          "model_module": "@jupyter-widgets/controls",
          "model_name": "HTMLModel",
          "model_module_version": "1.5.0",
          "state": {
            "_dom_classes": [],
            "_model_module": "@jupyter-widgets/controls",
            "_model_module_version": "1.5.0",
            "_model_name": "HTMLModel",
            "_view_count": null,
            "_view_module": "@jupyter-widgets/controls",
            "_view_module_version": "1.5.0",
            "_view_name": "HTMLView",
            "description": "",
            "description_tooltip": null,
            "layout": "IPY_MODEL_13004eb6667e40e7b558b455cbcfd0d5",
            "placeholder": "​",
            "style": "IPY_MODEL_c795962dae944b17afd9d8cf44f8c7f9",
            "value": " 1774/1774 [00:00&lt;00:00, 44.25it/s]"
          }
        },
        "2b033f74d55948eca4105ae13af6b4e1": {
          "model_module": "@jupyter-widgets/base",
          "model_name": "LayoutModel",
          "model_module_version": "1.2.0",
          "state": {
            "_model_module": "@jupyter-widgets/base",
            "_model_module_version": "1.2.0",
            "_model_name": "LayoutModel",
            "_view_count": null,
            "_view_module": "@jupyter-widgets/base",
            "_view_module_version": "1.2.0",
            "_view_name": "LayoutView",
            "align_content": null,
            "align_items": null,
            "align_self": null,
            "border": null,
            "bottom": null,
            "display": null,
            "flex": null,
            "flex_flow": null,
            "grid_area": null,
            "grid_auto_columns": null,
            "grid_auto_flow": null,
            "grid_auto_rows": null,
            "grid_column": null,
            "grid_gap": null,
            "grid_row": null,
            "grid_template_areas": null,
            "grid_template_columns": null,
            "grid_template_rows": null,
            "height": null,
            "justify_content": null,
            "justify_items": null,
            "left": null,
            "margin": null,
            "max_height": null,
            "max_width": null,
            "min_height": null,
            "min_width": null,
            "object_fit": null,
            "object_position": null,
            "order": null,
            "overflow": null,
            "overflow_x": null,
            "overflow_y": null,
            "padding": null,
            "right": null,
            "top": null,
            "visibility": null,
            "width": null
          }
        },
        "dd0540237ea24861bbb094bcd0bc1ae5": {
          "model_module": "@jupyter-widgets/base",
          "model_name": "LayoutModel",
          "model_module_version": "1.2.0",
          "state": {
            "_model_module": "@jupyter-widgets/base",
            "_model_module_version": "1.2.0",
            "_model_name": "LayoutModel",
            "_view_count": null,
            "_view_module": "@jupyter-widgets/base",
            "_view_module_version": "1.2.0",
            "_view_name": "LayoutView",
            "align_content": null,
            "align_items": null,
            "align_self": null,
            "border": null,
            "bottom": null,
            "display": null,
            "flex": null,
            "flex_flow": null,
            "grid_area": null,
            "grid_auto_columns": null,
            "grid_auto_flow": null,
            "grid_auto_rows": null,
            "grid_column": null,
            "grid_gap": null,
            "grid_row": null,
            "grid_template_areas": null,
            "grid_template_columns": null,
            "grid_template_rows": null,
            "height": null,
            "justify_content": null,
            "justify_items": null,
            "left": null,
            "margin": null,
            "max_height": null,
            "max_width": null,
            "min_height": null,
            "min_width": null,
            "object_fit": null,
            "object_position": null,
            "order": null,
            "overflow": null,
            "overflow_x": null,
            "overflow_y": null,
            "padding": null,
            "right": null,
            "top": null,
            "visibility": null,
            "width": null
          }
        },
        "5d290cf1464844d497b08a852bc3e5df": {
          "model_module": "@jupyter-widgets/controls",
          "model_name": "DescriptionStyleModel",
          "model_module_version": "1.5.0",
          "state": {
            "_model_module": "@jupyter-widgets/controls",
            "_model_module_version": "1.5.0",
            "_model_name": "DescriptionStyleModel",
            "_view_count": null,
            "_view_module": "@jupyter-widgets/base",
            "_view_module_version": "1.2.0",
            "_view_name": "StyleView",
            "description_width": ""
          }
        },
        "c41b81f6cff14923b306c4f90cf7ba6f": {
          "model_module": "@jupyter-widgets/base",
          "model_name": "LayoutModel",
          "model_module_version": "1.2.0",
          "state": {
            "_model_module": "@jupyter-widgets/base",
            "_model_module_version": "1.2.0",
            "_model_name": "LayoutModel",
            "_view_count": null,
            "_view_module": "@jupyter-widgets/base",
            "_view_module_version": "1.2.0",
            "_view_name": "LayoutView",
            "align_content": null,
            "align_items": null,
            "align_self": null,
            "border": null,
            "bottom": null,
            "display": null,
            "flex": null,
            "flex_flow": null,
            "grid_area": null,
            "grid_auto_columns": null,
            "grid_auto_flow": null,
            "grid_auto_rows": null,
            "grid_column": null,
            "grid_gap": null,
            "grid_row": null,
            "grid_template_areas": null,
            "grid_template_columns": null,
            "grid_template_rows": null,
            "height": null,
            "justify_content": null,
            "justify_items": null,
            "left": null,
            "margin": null,
            "max_height": null,
            "max_width": null,
            "min_height": null,
            "min_width": null,
            "object_fit": null,
            "object_position": null,
            "order": null,
            "overflow": null,
            "overflow_x": null,
            "overflow_y": null,
            "padding": null,
            "right": null,
            "top": null,
            "visibility": null,
            "width": null
          }
        },
        "fe36ededfef340b8992b2bc6cec4f4b8": {
          "model_module": "@jupyter-widgets/controls",
          "model_name": "ProgressStyleModel",
          "model_module_version": "1.5.0",
          "state": {
            "_model_module": "@jupyter-widgets/controls",
            "_model_module_version": "1.5.0",
            "_model_name": "ProgressStyleModel",
            "_view_count": null,
            "_view_module": "@jupyter-widgets/base",
            "_view_module_version": "1.2.0",
            "_view_name": "StyleView",
            "bar_color": null,
            "description_width": ""
          }
        },
        "13004eb6667e40e7b558b455cbcfd0d5": {
          "model_module": "@jupyter-widgets/base",
          "model_name": "LayoutModel",
          "model_module_version": "1.2.0",
          "state": {
            "_model_module": "@jupyter-widgets/base",
            "_model_module_version": "1.2.0",
            "_model_name": "LayoutModel",
            "_view_count": null,
            "_view_module": "@jupyter-widgets/base",
            "_view_module_version": "1.2.0",
            "_view_name": "LayoutView",
            "align_content": null,
            "align_items": null,
            "align_self": null,
            "border": null,
            "bottom": null,
            "display": null,
            "flex": null,
            "flex_flow": null,
            "grid_area": null,
            "grid_auto_columns": null,
            "grid_auto_flow": null,
            "grid_auto_rows": null,
            "grid_column": null,
            "grid_gap": null,
            "grid_row": null,
            "grid_template_areas": null,
            "grid_template_columns": null,
            "grid_template_rows": null,
            "height": null,
            "justify_content": null,
            "justify_items": null,
            "left": null,
            "margin": null,
            "max_height": null,
            "max_width": null,
            "min_height": null,
            "min_width": null,
            "object_fit": null,
            "object_position": null,
            "order": null,
            "overflow": null,
            "overflow_x": null,
            "overflow_y": null,
            "padding": null,
            "right": null,
            "top": null,
            "visibility": null,
            "width": null
          }
        },
        "c795962dae944b17afd9d8cf44f8c7f9": {
          "model_module": "@jupyter-widgets/controls",
          "model_name": "DescriptionStyleModel",
          "model_module_version": "1.5.0",
          "state": {
            "_model_module": "@jupyter-widgets/controls",
            "_model_module_version": "1.5.0",
            "_model_name": "DescriptionStyleModel",
            "_view_count": null,
            "_view_module": "@jupyter-widgets/base",
            "_view_module_version": "1.2.0",
            "_view_name": "StyleView",
            "description_width": ""
          }
        },
        "94c6891d1a53424997f8144cabcb3673": {
          "model_module": "@jupyter-widgets/controls",
          "model_name": "HBoxModel",
          "model_module_version": "1.5.0",
          "state": {
            "_dom_classes": [],
            "_model_module": "@jupyter-widgets/controls",
            "_model_module_version": "1.5.0",
            "_model_name": "HBoxModel",
            "_view_count": null,
            "_view_module": "@jupyter-widgets/controls",
            "_view_module_version": "1.5.0",
            "_view_name": "HBoxView",
            "box_style": "",
            "children": [
              "IPY_MODEL_35c8b570fb0b4f36a9cb95147faa3a2f",
              "IPY_MODEL_c88315def21e49d8acb8d0f66baf8d75",
              "IPY_MODEL_2daeece52df24b63afc25e0c8660bdb1"
            ],
            "layout": "IPY_MODEL_79088cc9393b46e79d955f53325aba25"
          }
        },
        "35c8b570fb0b4f36a9cb95147faa3a2f": {
          "model_module": "@jupyter-widgets/controls",
          "model_name": "HTMLModel",
          "model_module_version": "1.5.0",
          "state": {
            "_dom_classes": [],
            "_model_module": "@jupyter-widgets/controls",
            "_model_module_version": "1.5.0",
            "_model_name": "HTMLModel",
            "_view_count": null,
            "_view_module": "@jupyter-widgets/controls",
            "_view_module_version": "1.5.0",
            "_view_name": "HTMLView",
            "description": "",
            "description_tooltip": null,
            "layout": "IPY_MODEL_afe03f7f8849460e858395d657703da3",
            "placeholder": "​",
            "style": "IPY_MODEL_1a8436f8f7894b3b9abb21de5dc720aa",
            "value": "Downloading data: 100%"
          }
        },
        "c88315def21e49d8acb8d0f66baf8d75": {
          "model_module": "@jupyter-widgets/controls",
          "model_name": "FloatProgressModel",
          "model_module_version": "1.5.0",
          "state": {
            "_dom_classes": [],
            "_model_module": "@jupyter-widgets/controls",
            "_model_module_version": "1.5.0",
            "_model_name": "FloatProgressModel",
            "_view_count": null,
            "_view_module": "@jupyter-widgets/controls",
            "_view_module_version": "1.5.0",
            "_view_name": "ProgressView",
            "bar_style": "success",
            "description": "",
            "description_tooltip": null,
            "layout": "IPY_MODEL_5c2d89ee045a494cb814081043d65ef6",
            "max": 1774,
            "min": 0,
            "orientation": "horizontal",
            "style": "IPY_MODEL_7ab2ba4160544600a57452cc1345ca61",
            "value": 1774
          }
        },
        "2daeece52df24b63afc25e0c8660bdb1": {
          "model_module": "@jupyter-widgets/controls",
          "model_name": "HTMLModel",
          "model_module_version": "1.5.0",
          "state": {
            "_dom_classes": [],
            "_model_module": "@jupyter-widgets/controls",
            "_model_module_version": "1.5.0",
            "_model_name": "HTMLModel",
            "_view_count": null,
            "_view_module": "@jupyter-widgets/controls",
            "_view_module_version": "1.5.0",
            "_view_name": "HTMLView",
            "description": "",
            "description_tooltip": null,
            "layout": "IPY_MODEL_cb5f6dae7ccf4a189d99689b8e67fe76",
            "placeholder": "​",
            "style": "IPY_MODEL_0d8fc4fceabc48e8872aef09038fe941",
            "value": " 1774/1774 [02:03&lt;00:00, 12.55files/s]"
          }
        },
        "79088cc9393b46e79d955f53325aba25": {
          "model_module": "@jupyter-widgets/base",
          "model_name": "LayoutModel",
          "model_module_version": "1.2.0",
          "state": {
            "_model_module": "@jupyter-widgets/base",
            "_model_module_version": "1.2.0",
            "_model_name": "LayoutModel",
            "_view_count": null,
            "_view_module": "@jupyter-widgets/base",
            "_view_module_version": "1.2.0",
            "_view_name": "LayoutView",
            "align_content": null,
            "align_items": null,
            "align_self": null,
            "border": null,
            "bottom": null,
            "display": null,
            "flex": null,
            "flex_flow": null,
            "grid_area": null,
            "grid_auto_columns": null,
            "grid_auto_flow": null,
            "grid_auto_rows": null,
            "grid_column": null,
            "grid_gap": null,
            "grid_row": null,
            "grid_template_areas": null,
            "grid_template_columns": null,
            "grid_template_rows": null,
            "height": null,
            "justify_content": null,
            "justify_items": null,
            "left": null,
            "margin": null,
            "max_height": null,
            "max_width": null,
            "min_height": null,
            "min_width": null,
            "object_fit": null,
            "object_position": null,
            "order": null,
            "overflow": null,
            "overflow_x": null,
            "overflow_y": null,
            "padding": null,
            "right": null,
            "top": null,
            "visibility": null,
            "width": null
          }
        },
        "afe03f7f8849460e858395d657703da3": {
          "model_module": "@jupyter-widgets/base",
          "model_name": "LayoutModel",
          "model_module_version": "1.2.0",
          "state": {
            "_model_module": "@jupyter-widgets/base",
            "_model_module_version": "1.2.0",
            "_model_name": "LayoutModel",
            "_view_count": null,
            "_view_module": "@jupyter-widgets/base",
            "_view_module_version": "1.2.0",
            "_view_name": "LayoutView",
            "align_content": null,
            "align_items": null,
            "align_self": null,
            "border": null,
            "bottom": null,
            "display": null,
            "flex": null,
            "flex_flow": null,
            "grid_area": null,
            "grid_auto_columns": null,
            "grid_auto_flow": null,
            "grid_auto_rows": null,
            "grid_column": null,
            "grid_gap": null,
            "grid_row": null,
            "grid_template_areas": null,
            "grid_template_columns": null,
            "grid_template_rows": null,
            "height": null,
            "justify_content": null,
            "justify_items": null,
            "left": null,
            "margin": null,
            "max_height": null,
            "max_width": null,
            "min_height": null,
            "min_width": null,
            "object_fit": null,
            "object_position": null,
            "order": null,
            "overflow": null,
            "overflow_x": null,
            "overflow_y": null,
            "padding": null,
            "right": null,
            "top": null,
            "visibility": null,
            "width": null
          }
        },
        "1a8436f8f7894b3b9abb21de5dc720aa": {
          "model_module": "@jupyter-widgets/controls",
          "model_name": "DescriptionStyleModel",
          "model_module_version": "1.5.0",
          "state": {
            "_model_module": "@jupyter-widgets/controls",
            "_model_module_version": "1.5.0",
            "_model_name": "DescriptionStyleModel",
            "_view_count": null,
            "_view_module": "@jupyter-widgets/base",
            "_view_module_version": "1.2.0",
            "_view_name": "StyleView",
            "description_width": ""
          }
        },
        "5c2d89ee045a494cb814081043d65ef6": {
          "model_module": "@jupyter-widgets/base",
          "model_name": "LayoutModel",
          "model_module_version": "1.2.0",
          "state": {
            "_model_module": "@jupyter-widgets/base",
            "_model_module_version": "1.2.0",
            "_model_name": "LayoutModel",
            "_view_count": null,
            "_view_module": "@jupyter-widgets/base",
            "_view_module_version": "1.2.0",
            "_view_name": "LayoutView",
            "align_content": null,
            "align_items": null,
            "align_self": null,
            "border": null,
            "bottom": null,
            "display": null,
            "flex": null,
            "flex_flow": null,
            "grid_area": null,
            "grid_auto_columns": null,
            "grid_auto_flow": null,
            "grid_auto_rows": null,
            "grid_column": null,
            "grid_gap": null,
            "grid_row": null,
            "grid_template_areas": null,
            "grid_template_columns": null,
            "grid_template_rows": null,
            "height": null,
            "justify_content": null,
            "justify_items": null,
            "left": null,
            "margin": null,
            "max_height": null,
            "max_width": null,
            "min_height": null,
            "min_width": null,
            "object_fit": null,
            "object_position": null,
            "order": null,
            "overflow": null,
            "overflow_x": null,
            "overflow_y": null,
            "padding": null,
            "right": null,
            "top": null,
            "visibility": null,
            "width": null
          }
        },
        "7ab2ba4160544600a57452cc1345ca61": {
          "model_module": "@jupyter-widgets/controls",
          "model_name": "ProgressStyleModel",
          "model_module_version": "1.5.0",
          "state": {
            "_model_module": "@jupyter-widgets/controls",
            "_model_module_version": "1.5.0",
            "_model_name": "ProgressStyleModel",
            "_view_count": null,
            "_view_module": "@jupyter-widgets/base",
            "_view_module_version": "1.2.0",
            "_view_name": "StyleView",
            "bar_color": null,
            "description_width": ""
          }
        },
        "cb5f6dae7ccf4a189d99689b8e67fe76": {
          "model_module": "@jupyter-widgets/base",
          "model_name": "LayoutModel",
          "model_module_version": "1.2.0",
          "state": {
            "_model_module": "@jupyter-widgets/base",
            "_model_module_version": "1.2.0",
            "_model_name": "LayoutModel",
            "_view_count": null,
            "_view_module": "@jupyter-widgets/base",
            "_view_module_version": "1.2.0",
            "_view_name": "LayoutView",
            "align_content": null,
            "align_items": null,
            "align_self": null,
            "border": null,
            "bottom": null,
            "display": null,
            "flex": null,
            "flex_flow": null,
            "grid_area": null,
            "grid_auto_columns": null,
            "grid_auto_flow": null,
            "grid_auto_rows": null,
            "grid_column": null,
            "grid_gap": null,
            "grid_row": null,
            "grid_template_areas": null,
            "grid_template_columns": null,
            "grid_template_rows": null,
            "height": null,
            "justify_content": null,
            "justify_items": null,
            "left": null,
            "margin": null,
            "max_height": null,
            "max_width": null,
            "min_height": null,
            "min_width": null,
            "object_fit": null,
            "object_position": null,
            "order": null,
            "overflow": null,
            "overflow_x": null,
            "overflow_y": null,
            "padding": null,
            "right": null,
            "top": null,
            "visibility": null,
            "width": null
          }
        },
        "0d8fc4fceabc48e8872aef09038fe941": {
          "model_module": "@jupyter-widgets/controls",
          "model_name": "DescriptionStyleModel",
          "model_module_version": "1.5.0",
          "state": {
            "_model_module": "@jupyter-widgets/controls",
            "_model_module_version": "1.5.0",
            "_model_name": "DescriptionStyleModel",
            "_view_count": null,
            "_view_module": "@jupyter-widgets/base",
            "_view_module_version": "1.2.0",
            "_view_name": "StyleView",
            "description_width": ""
          }
        },
        "48ce0cc9689c4f08b5558d203884b857": {
          "model_module": "@jupyter-widgets/controls",
          "model_name": "HBoxModel",
          "model_module_version": "1.5.0",
          "state": {
            "_dom_classes": [],
            "_model_module": "@jupyter-widgets/controls",
            "_model_module_version": "1.5.0",
            "_model_name": "HBoxModel",
            "_view_count": null,
            "_view_module": "@jupyter-widgets/controls",
            "_view_module_version": "1.5.0",
            "_view_name": "HBoxView",
            "box_style": "",
            "children": [
              "IPY_MODEL_c08b61752495494380cb1b13f9e98779",
              "IPY_MODEL_474ef3a838614bbbb9e105e5b66815e5",
              "IPY_MODEL_b6d3ad89e89c4f568379f2c557fd98c8"
            ],
            "layout": "IPY_MODEL_8aceb90476c14d969935d80166a44bd2"
          }
        },
        "c08b61752495494380cb1b13f9e98779": {
          "model_module": "@jupyter-widgets/controls",
          "model_name": "HTMLModel",
          "model_module_version": "1.5.0",
          "state": {
            "_dom_classes": [],
            "_model_module": "@jupyter-widgets/controls",
            "_model_module_version": "1.5.0",
            "_model_name": "HTMLModel",
            "_view_count": null,
            "_view_module": "@jupyter-widgets/controls",
            "_view_module_version": "1.5.0",
            "_view_name": "HTMLView",
            "description": "",
            "description_tooltip": null,
            "layout": "IPY_MODEL_0966439997c9482d9ef14e491f88c45a",
            "placeholder": "​",
            "style": "IPY_MODEL_d3e434622a20417ca79a60e3e8856878",
            "value": "Generating train split: 100%"
          }
        },
        "474ef3a838614bbbb9e105e5b66815e5": {
          "model_module": "@jupyter-widgets/controls",
          "model_name": "FloatProgressModel",
          "model_module_version": "1.5.0",
          "state": {
            "_dom_classes": [],
            "_model_module": "@jupyter-widgets/controls",
            "_model_module_version": "1.5.0",
            "_model_name": "FloatProgressModel",
            "_view_count": null,
            "_view_module": "@jupyter-widgets/controls",
            "_view_module_version": "1.5.0",
            "_view_name": "ProgressView",
            "bar_style": "success",
            "description": "",
            "description_tooltip": null,
            "layout": "IPY_MODEL_f35f3ca745504e269e72bcadfac397f5",
            "max": 1773,
            "min": 0,
            "orientation": "horizontal",
            "style": "IPY_MODEL_676f595cda9f4396aa66ff9aee3ae45b",
            "value": 1773
          }
        },
        "b6d3ad89e89c4f568379f2c557fd98c8": {
          "model_module": "@jupyter-widgets/controls",
          "model_name": "HTMLModel",
          "model_module_version": "1.5.0",
          "state": {
            "_dom_classes": [],
            "_model_module": "@jupyter-widgets/controls",
            "_model_module_version": "1.5.0",
            "_model_name": "HTMLModel",
            "_view_count": null,
            "_view_module": "@jupyter-widgets/controls",
            "_view_module_version": "1.5.0",
            "_view_name": "HTMLView",
            "description": "",
            "description_tooltip": null,
            "layout": "IPY_MODEL_726b29eb56c14fe6ad79085be0d5a85c",
            "placeholder": "​",
            "style": "IPY_MODEL_259b2d76571b495f8823441e0cd4b0da",
            "value": " 1773/1773 [00:00&lt;00:00, 3634.45 examples/s]"
          }
        },
        "8aceb90476c14d969935d80166a44bd2": {
          "model_module": "@jupyter-widgets/base",
          "model_name": "LayoutModel",
          "model_module_version": "1.2.0",
          "state": {
            "_model_module": "@jupyter-widgets/base",
            "_model_module_version": "1.2.0",
            "_model_name": "LayoutModel",
            "_view_count": null,
            "_view_module": "@jupyter-widgets/base",
            "_view_module_version": "1.2.0",
            "_view_name": "LayoutView",
            "align_content": null,
            "align_items": null,
            "align_self": null,
            "border": null,
            "bottom": null,
            "display": null,
            "flex": null,
            "flex_flow": null,
            "grid_area": null,
            "grid_auto_columns": null,
            "grid_auto_flow": null,
            "grid_auto_rows": null,
            "grid_column": null,
            "grid_gap": null,
            "grid_row": null,
            "grid_template_areas": null,
            "grid_template_columns": null,
            "grid_template_rows": null,
            "height": null,
            "justify_content": null,
            "justify_items": null,
            "left": null,
            "margin": null,
            "max_height": null,
            "max_width": null,
            "min_height": null,
            "min_width": null,
            "object_fit": null,
            "object_position": null,
            "order": null,
            "overflow": null,
            "overflow_x": null,
            "overflow_y": null,
            "padding": null,
            "right": null,
            "top": null,
            "visibility": null,
            "width": null
          }
        },
        "0966439997c9482d9ef14e491f88c45a": {
          "model_module": "@jupyter-widgets/base",
          "model_name": "LayoutModel",
          "model_module_version": "1.2.0",
          "state": {
            "_model_module": "@jupyter-widgets/base",
            "_model_module_version": "1.2.0",
            "_model_name": "LayoutModel",
            "_view_count": null,
            "_view_module": "@jupyter-widgets/base",
            "_view_module_version": "1.2.0",
            "_view_name": "LayoutView",
            "align_content": null,
            "align_items": null,
            "align_self": null,
            "border": null,
            "bottom": null,
            "display": null,
            "flex": null,
            "flex_flow": null,
            "grid_area": null,
            "grid_auto_columns": null,
            "grid_auto_flow": null,
            "grid_auto_rows": null,
            "grid_column": null,
            "grid_gap": null,
            "grid_row": null,
            "grid_template_areas": null,
            "grid_template_columns": null,
            "grid_template_rows": null,
            "height": null,
            "justify_content": null,
            "justify_items": null,
            "left": null,
            "margin": null,
            "max_height": null,
            "max_width": null,
            "min_height": null,
            "min_width": null,
            "object_fit": null,
            "object_position": null,
            "order": null,
            "overflow": null,
            "overflow_x": null,
            "overflow_y": null,
            "padding": null,
            "right": null,
            "top": null,
            "visibility": null,
            "width": null
          }
        },
        "d3e434622a20417ca79a60e3e8856878": {
          "model_module": "@jupyter-widgets/controls",
          "model_name": "DescriptionStyleModel",
          "model_module_version": "1.5.0",
          "state": {
            "_model_module": "@jupyter-widgets/controls",
            "_model_module_version": "1.5.0",
            "_model_name": "DescriptionStyleModel",
            "_view_count": null,
            "_view_module": "@jupyter-widgets/base",
            "_view_module_version": "1.2.0",
            "_view_name": "StyleView",
            "description_width": ""
          }
        },
        "f35f3ca745504e269e72bcadfac397f5": {
          "model_module": "@jupyter-widgets/base",
          "model_name": "LayoutModel",
          "model_module_version": "1.2.0",
          "state": {
            "_model_module": "@jupyter-widgets/base",
            "_model_module_version": "1.2.0",
            "_model_name": "LayoutModel",
            "_view_count": null,
            "_view_module": "@jupyter-widgets/base",
            "_view_module_version": "1.2.0",
            "_view_name": "LayoutView",
            "align_content": null,
            "align_items": null,
            "align_self": null,
            "border": null,
            "bottom": null,
            "display": null,
            "flex": null,
            "flex_flow": null,
            "grid_area": null,
            "grid_auto_columns": null,
            "grid_auto_flow": null,
            "grid_auto_rows": null,
            "grid_column": null,
            "grid_gap": null,
            "grid_row": null,
            "grid_template_areas": null,
            "grid_template_columns": null,
            "grid_template_rows": null,
            "height": null,
            "justify_content": null,
            "justify_items": null,
            "left": null,
            "margin": null,
            "max_height": null,
            "max_width": null,
            "min_height": null,
            "min_width": null,
            "object_fit": null,
            "object_position": null,
            "order": null,
            "overflow": null,
            "overflow_x": null,
            "overflow_y": null,
            "padding": null,
            "right": null,
            "top": null,
            "visibility": null,
            "width": null
          }
        },
        "676f595cda9f4396aa66ff9aee3ae45b": {
          "model_module": "@jupyter-widgets/controls",
          "model_name": "ProgressStyleModel",
          "model_module_version": "1.5.0",
          "state": {
            "_model_module": "@jupyter-widgets/controls",
            "_model_module_version": "1.5.0",
            "_model_name": "ProgressStyleModel",
            "_view_count": null,
            "_view_module": "@jupyter-widgets/base",
            "_view_module_version": "1.2.0",
            "_view_name": "StyleView",
            "bar_color": null,
            "description_width": ""
          }
        },
        "726b29eb56c14fe6ad79085be0d5a85c": {
          "model_module": "@jupyter-widgets/base",
          "model_name": "LayoutModel",
          "model_module_version": "1.2.0",
          "state": {
            "_model_module": "@jupyter-widgets/base",
            "_model_module_version": "1.2.0",
            "_model_name": "LayoutModel",
            "_view_count": null,
            "_view_module": "@jupyter-widgets/base",
            "_view_module_version": "1.2.0",
            "_view_name": "LayoutView",
            "align_content": null,
            "align_items": null,
            "align_self": null,
            "border": null,
            "bottom": null,
            "display": null,
            "flex": null,
            "flex_flow": null,
            "grid_area": null,
            "grid_auto_columns": null,
            "grid_auto_flow": null,
            "grid_auto_rows": null,
            "grid_column": null,
            "grid_gap": null,
            "grid_row": null,
            "grid_template_areas": null,
            "grid_template_columns": null,
            "grid_template_rows": null,
            "height": null,
            "justify_content": null,
            "justify_items": null,
            "left": null,
            "margin": null,
            "max_height": null,
            "max_width": null,
            "min_height": null,
            "min_width": null,
            "object_fit": null,
            "object_position": null,
            "order": null,
            "overflow": null,
            "overflow_x": null,
            "overflow_y": null,
            "padding": null,
            "right": null,
            "top": null,
            "visibility": null,
            "width": null
          }
        },
        "259b2d76571b495f8823441e0cd4b0da": {
          "model_module": "@jupyter-widgets/controls",
          "model_name": "DescriptionStyleModel",
          "model_module_version": "1.5.0",
          "state": {
            "_model_module": "@jupyter-widgets/controls",
            "_model_module_version": "1.5.0",
            "_model_name": "DescriptionStyleModel",
            "_view_count": null,
            "_view_module": "@jupyter-widgets/base",
            "_view_module_version": "1.2.0",
            "_view_name": "StyleView",
            "description_width": ""
          }
        },
        "f2f9562bc95949d188b81868e6c14e47": {
          "model_module": "@jupyter-widgets/controls",
          "model_name": "HBoxModel",
          "model_module_version": "1.5.0",
          "state": {
            "_dom_classes": [],
            "_model_module": "@jupyter-widgets/controls",
            "_model_module_version": "1.5.0",
            "_model_name": "HBoxModel",
            "_view_count": null,
            "_view_module": "@jupyter-widgets/controls",
            "_view_module_version": "1.5.0",
            "_view_name": "HBoxView",
            "box_style": "",
            "children": [
              "IPY_MODEL_c64d3413818948628b6111664f86da2b",
              "IPY_MODEL_715dd07204e6476abee63a8098997a2a",
              "IPY_MODEL_4b6c3ff66ac341d5922a08d26fc264f3"
            ],
            "layout": "IPY_MODEL_899330715b62466dac72b24c741697d8"
          }
        },
        "c64d3413818948628b6111664f86da2b": {
          "model_module": "@jupyter-widgets/controls",
          "model_name": "HTMLModel",
          "model_module_version": "1.5.0",
          "state": {
            "_dom_classes": [],
            "_model_module": "@jupyter-widgets/controls",
            "_model_module_version": "1.5.0",
            "_model_name": "HTMLModel",
            "_view_count": null,
            "_view_module": "@jupyter-widgets/controls",
            "_view_module_version": "1.5.0",
            "_view_name": "HTMLView",
            "description": "",
            "description_tooltip": null,
            "layout": "IPY_MODEL_0163353117ec4d45bee1a7569ef0601c",
            "placeholder": "​",
            "style": "IPY_MODEL_abc53b6b24cb404abcef8b4550a601e4",
            "value": "Map: 100%"
          }
        },
        "715dd07204e6476abee63a8098997a2a": {
          "model_module": "@jupyter-widgets/controls",
          "model_name": "FloatProgressModel",
          "model_module_version": "1.5.0",
          "state": {
            "_dom_classes": [],
            "_model_module": "@jupyter-widgets/controls",
            "_model_module_version": "1.5.0",
            "_model_name": "FloatProgressModel",
            "_view_count": null,
            "_view_module": "@jupyter-widgets/controls",
            "_view_module_version": "1.5.0",
            "_view_name": "ProgressView",
            "bar_style": "success",
            "description": "",
            "description_tooltip": null,
            "layout": "IPY_MODEL_6709be3c77204be68e730d0063ae4894",
            "max": 1418,
            "min": 0,
            "orientation": "horizontal",
            "style": "IPY_MODEL_e0dcd5f732f34a93a629d11fa60a23bd",
            "value": 1418
          }
        },
        "4b6c3ff66ac341d5922a08d26fc264f3": {
          "model_module": "@jupyter-widgets/controls",
          "model_name": "HTMLModel",
          "model_module_version": "1.5.0",
          "state": {
            "_dom_classes": [],
            "_model_module": "@jupyter-widgets/controls",
            "_model_module_version": "1.5.0",
            "_model_name": "HTMLModel",
            "_view_count": null,
            "_view_module": "@jupyter-widgets/controls",
            "_view_module_version": "1.5.0",
            "_view_name": "HTMLView",
            "description": "",
            "description_tooltip": null,
            "layout": "IPY_MODEL_946fdff14ebf4eda8cf2cbbce2dd50c4",
            "placeholder": "​",
            "style": "IPY_MODEL_5b14d8eca18e44ebb0aa1f2e99cfa38a",
            "value": " 1418/1418 [00:00&lt;00:00, 4839.43 examples/s]"
          }
        },
        "899330715b62466dac72b24c741697d8": {
          "model_module": "@jupyter-widgets/base",
          "model_name": "LayoutModel",
          "model_module_version": "1.2.0",
          "state": {
            "_model_module": "@jupyter-widgets/base",
            "_model_module_version": "1.2.0",
            "_model_name": "LayoutModel",
            "_view_count": null,
            "_view_module": "@jupyter-widgets/base",
            "_view_module_version": "1.2.0",
            "_view_name": "LayoutView",
            "align_content": null,
            "align_items": null,
            "align_self": null,
            "border": null,
            "bottom": null,
            "display": null,
            "flex": null,
            "flex_flow": null,
            "grid_area": null,
            "grid_auto_columns": null,
            "grid_auto_flow": null,
            "grid_auto_rows": null,
            "grid_column": null,
            "grid_gap": null,
            "grid_row": null,
            "grid_template_areas": null,
            "grid_template_columns": null,
            "grid_template_rows": null,
            "height": null,
            "justify_content": null,
            "justify_items": null,
            "left": null,
            "margin": null,
            "max_height": null,
            "max_width": null,
            "min_height": null,
            "min_width": null,
            "object_fit": null,
            "object_position": null,
            "order": null,
            "overflow": null,
            "overflow_x": null,
            "overflow_y": null,
            "padding": null,
            "right": null,
            "top": null,
            "visibility": null,
            "width": null
          }
        },
        "0163353117ec4d45bee1a7569ef0601c": {
          "model_module": "@jupyter-widgets/base",
          "model_name": "LayoutModel",
          "model_module_version": "1.2.0",
          "state": {
            "_model_module": "@jupyter-widgets/base",
            "_model_module_version": "1.2.0",
            "_model_name": "LayoutModel",
            "_view_count": null,
            "_view_module": "@jupyter-widgets/base",
            "_view_module_version": "1.2.0",
            "_view_name": "LayoutView",
            "align_content": null,
            "align_items": null,
            "align_self": null,
            "border": null,
            "bottom": null,
            "display": null,
            "flex": null,
            "flex_flow": null,
            "grid_area": null,
            "grid_auto_columns": null,
            "grid_auto_flow": null,
            "grid_auto_rows": null,
            "grid_column": null,
            "grid_gap": null,
            "grid_row": null,
            "grid_template_areas": null,
            "grid_template_columns": null,
            "grid_template_rows": null,
            "height": null,
            "justify_content": null,
            "justify_items": null,
            "left": null,
            "margin": null,
            "max_height": null,
            "max_width": null,
            "min_height": null,
            "min_width": null,
            "object_fit": null,
            "object_position": null,
            "order": null,
            "overflow": null,
            "overflow_x": null,
            "overflow_y": null,
            "padding": null,
            "right": null,
            "top": null,
            "visibility": null,
            "width": null
          }
        },
        "abc53b6b24cb404abcef8b4550a601e4": {
          "model_module": "@jupyter-widgets/controls",
          "model_name": "DescriptionStyleModel",
          "model_module_version": "1.5.0",
          "state": {
            "_model_module": "@jupyter-widgets/controls",
            "_model_module_version": "1.5.0",
            "_model_name": "DescriptionStyleModel",
            "_view_count": null,
            "_view_module": "@jupyter-widgets/base",
            "_view_module_version": "1.2.0",
            "_view_name": "StyleView",
            "description_width": ""
          }
        },
        "6709be3c77204be68e730d0063ae4894": {
          "model_module": "@jupyter-widgets/base",
          "model_name": "LayoutModel",
          "model_module_version": "1.2.0",
          "state": {
            "_model_module": "@jupyter-widgets/base",
            "_model_module_version": "1.2.0",
            "_model_name": "LayoutModel",
            "_view_count": null,
            "_view_module": "@jupyter-widgets/base",
            "_view_module_version": "1.2.0",
            "_view_name": "LayoutView",
            "align_content": null,
            "align_items": null,
            "align_self": null,
            "border": null,
            "bottom": null,
            "display": null,
            "flex": null,
            "flex_flow": null,
            "grid_area": null,
            "grid_auto_columns": null,
            "grid_auto_flow": null,
            "grid_auto_rows": null,
            "grid_column": null,
            "grid_gap": null,
            "grid_row": null,
            "grid_template_areas": null,
            "grid_template_columns": null,
            "grid_template_rows": null,
            "height": null,
            "justify_content": null,
            "justify_items": null,
            "left": null,
            "margin": null,
            "max_height": null,
            "max_width": null,
            "min_height": null,
            "min_width": null,
            "object_fit": null,
            "object_position": null,
            "order": null,
            "overflow": null,
            "overflow_x": null,
            "overflow_y": null,
            "padding": null,
            "right": null,
            "top": null,
            "visibility": null,
            "width": null
          }
        },
        "e0dcd5f732f34a93a629d11fa60a23bd": {
          "model_module": "@jupyter-widgets/controls",
          "model_name": "ProgressStyleModel",
          "model_module_version": "1.5.0",
          "state": {
            "_model_module": "@jupyter-widgets/controls",
            "_model_module_version": "1.5.0",
            "_model_name": "ProgressStyleModel",
            "_view_count": null,
            "_view_module": "@jupyter-widgets/base",
            "_view_module_version": "1.2.0",
            "_view_name": "StyleView",
            "bar_color": null,
            "description_width": ""
          }
        },
        "946fdff14ebf4eda8cf2cbbce2dd50c4": {
          "model_module": "@jupyter-widgets/base",
          "model_name": "LayoutModel",
          "model_module_version": "1.2.0",
          "state": {
            "_model_module": "@jupyter-widgets/base",
            "_model_module_version": "1.2.0",
            "_model_name": "LayoutModel",
            "_view_count": null,
            "_view_module": "@jupyter-widgets/base",
            "_view_module_version": "1.2.0",
            "_view_name": "LayoutView",
            "align_content": null,
            "align_items": null,
            "align_self": null,
            "border": null,
            "bottom": null,
            "display": null,
            "flex": null,
            "flex_flow": null,
            "grid_area": null,
            "grid_auto_columns": null,
            "grid_auto_flow": null,
            "grid_auto_rows": null,
            "grid_column": null,
            "grid_gap": null,
            "grid_row": null,
            "grid_template_areas": null,
            "grid_template_columns": null,
            "grid_template_rows": null,
            "height": null,
            "justify_content": null,
            "justify_items": null,
            "left": null,
            "margin": null,
            "max_height": null,
            "max_width": null,
            "min_height": null,
            "min_width": null,
            "object_fit": null,
            "object_position": null,
            "order": null,
            "overflow": null,
            "overflow_x": null,
            "overflow_y": null,
            "padding": null,
            "right": null,
            "top": null,
            "visibility": null,
            "width": null
          }
        },
        "5b14d8eca18e44ebb0aa1f2e99cfa38a": {
          "model_module": "@jupyter-widgets/controls",
          "model_name": "DescriptionStyleModel",
          "model_module_version": "1.5.0",
          "state": {
            "_model_module": "@jupyter-widgets/controls",
            "_model_module_version": "1.5.0",
            "_model_name": "DescriptionStyleModel",
            "_view_count": null,
            "_view_module": "@jupyter-widgets/base",
            "_view_module_version": "1.2.0",
            "_view_name": "StyleView",
            "description_width": ""
          }
        },
        "13ae63a2a5b64255b8ef66446a0d4d9f": {
          "model_module": "@jupyter-widgets/controls",
          "model_name": "HBoxModel",
          "model_module_version": "1.5.0",
          "state": {
            "_dom_classes": [],
            "_model_module": "@jupyter-widgets/controls",
            "_model_module_version": "1.5.0",
            "_model_name": "HBoxModel",
            "_view_count": null,
            "_view_module": "@jupyter-widgets/controls",
            "_view_module_version": "1.5.0",
            "_view_name": "HBoxView",
            "box_style": "",
            "children": [
              "IPY_MODEL_30bc239293414e168005d63871a3d879",
              "IPY_MODEL_eea48a3e57824da1878bafe64dec3ec6",
              "IPY_MODEL_a2b5ec8ac3694a6ca395956f01586d7c"
            ],
            "layout": "IPY_MODEL_b4aba882e67543019e0de9a49cde3145"
          }
        },
        "30bc239293414e168005d63871a3d879": {
          "model_module": "@jupyter-widgets/controls",
          "model_name": "HTMLModel",
          "model_module_version": "1.5.0",
          "state": {
            "_dom_classes": [],
            "_model_module": "@jupyter-widgets/controls",
            "_model_module_version": "1.5.0",
            "_model_name": "HTMLModel",
            "_view_count": null,
            "_view_module": "@jupyter-widgets/controls",
            "_view_module_version": "1.5.0",
            "_view_name": "HTMLView",
            "description": "",
            "description_tooltip": null,
            "layout": "IPY_MODEL_c6424c460080483d916a5c267b91b32f",
            "placeholder": "​",
            "style": "IPY_MODEL_8e47dfefecea4d6abd09751a4ca1d2fb",
            "value": "Map: 100%"
          }
        },
        "eea48a3e57824da1878bafe64dec3ec6": {
          "model_module": "@jupyter-widgets/controls",
          "model_name": "FloatProgressModel",
          "model_module_version": "1.5.0",
          "state": {
            "_dom_classes": [],
            "_model_module": "@jupyter-widgets/controls",
            "_model_module_version": "1.5.0",
            "_model_name": "FloatProgressModel",
            "_view_count": null,
            "_view_module": "@jupyter-widgets/controls",
            "_view_module_version": "1.5.0",
            "_view_name": "ProgressView",
            "bar_style": "success",
            "description": "",
            "description_tooltip": null,
            "layout": "IPY_MODEL_28c4e00f920a411684faa10eb257e285",
            "max": 355,
            "min": 0,
            "orientation": "horizontal",
            "style": "IPY_MODEL_a39fbda1586e4ad5b53e5acafb249351",
            "value": 355
          }
        },
        "a2b5ec8ac3694a6ca395956f01586d7c": {
          "model_module": "@jupyter-widgets/controls",
          "model_name": "HTMLModel",
          "model_module_version": "1.5.0",
          "state": {
            "_dom_classes": [],
            "_model_module": "@jupyter-widgets/controls",
            "_model_module_version": "1.5.0",
            "_model_name": "HTMLModel",
            "_view_count": null,
            "_view_module": "@jupyter-widgets/controls",
            "_view_module_version": "1.5.0",
            "_view_name": "HTMLView",
            "description": "",
            "description_tooltip": null,
            "layout": "IPY_MODEL_11af124c463e40158f978bc039330c00",
            "placeholder": "​",
            "style": "IPY_MODEL_1626239b4d43468bb1426f491ff915c8",
            "value": " 355/355 [00:00&lt;00:00, 1540.74 examples/s]"
          }
        },
        "b4aba882e67543019e0de9a49cde3145": {
          "model_module": "@jupyter-widgets/base",
          "model_name": "LayoutModel",
          "model_module_version": "1.2.0",
          "state": {
            "_model_module": "@jupyter-widgets/base",
            "_model_module_version": "1.2.0",
            "_model_name": "LayoutModel",
            "_view_count": null,
            "_view_module": "@jupyter-widgets/base",
            "_view_module_version": "1.2.0",
            "_view_name": "LayoutView",
            "align_content": null,
            "align_items": null,
            "align_self": null,
            "border": null,
            "bottom": null,
            "display": null,
            "flex": null,
            "flex_flow": null,
            "grid_area": null,
            "grid_auto_columns": null,
            "grid_auto_flow": null,
            "grid_auto_rows": null,
            "grid_column": null,
            "grid_gap": null,
            "grid_row": null,
            "grid_template_areas": null,
            "grid_template_columns": null,
            "grid_template_rows": null,
            "height": null,
            "justify_content": null,
            "justify_items": null,
            "left": null,
            "margin": null,
            "max_height": null,
            "max_width": null,
            "min_height": null,
            "min_width": null,
            "object_fit": null,
            "object_position": null,
            "order": null,
            "overflow": null,
            "overflow_x": null,
            "overflow_y": null,
            "padding": null,
            "right": null,
            "top": null,
            "visibility": null,
            "width": null
          }
        },
        "c6424c460080483d916a5c267b91b32f": {
          "model_module": "@jupyter-widgets/base",
          "model_name": "LayoutModel",
          "model_module_version": "1.2.0",
          "state": {
            "_model_module": "@jupyter-widgets/base",
            "_model_module_version": "1.2.0",
            "_model_name": "LayoutModel",
            "_view_count": null,
            "_view_module": "@jupyter-widgets/base",
            "_view_module_version": "1.2.0",
            "_view_name": "LayoutView",
            "align_content": null,
            "align_items": null,
            "align_self": null,
            "border": null,
            "bottom": null,
            "display": null,
            "flex": null,
            "flex_flow": null,
            "grid_area": null,
            "grid_auto_columns": null,
            "grid_auto_flow": null,
            "grid_auto_rows": null,
            "grid_column": null,
            "grid_gap": null,
            "grid_row": null,
            "grid_template_areas": null,
            "grid_template_columns": null,
            "grid_template_rows": null,
            "height": null,
            "justify_content": null,
            "justify_items": null,
            "left": null,
            "margin": null,
            "max_height": null,
            "max_width": null,
            "min_height": null,
            "min_width": null,
            "object_fit": null,
            "object_position": null,
            "order": null,
            "overflow": null,
            "overflow_x": null,
            "overflow_y": null,
            "padding": null,
            "right": null,
            "top": null,
            "visibility": null,
            "width": null
          }
        },
        "8e47dfefecea4d6abd09751a4ca1d2fb": {
          "model_module": "@jupyter-widgets/controls",
          "model_name": "DescriptionStyleModel",
          "model_module_version": "1.5.0",
          "state": {
            "_model_module": "@jupyter-widgets/controls",
            "_model_module_version": "1.5.0",
            "_model_name": "DescriptionStyleModel",
            "_view_count": null,
            "_view_module": "@jupyter-widgets/base",
            "_view_module_version": "1.2.0",
            "_view_name": "StyleView",
            "description_width": ""
          }
        },
        "28c4e00f920a411684faa10eb257e285": {
          "model_module": "@jupyter-widgets/base",
          "model_name": "LayoutModel",
          "model_module_version": "1.2.0",
          "state": {
            "_model_module": "@jupyter-widgets/base",
            "_model_module_version": "1.2.0",
            "_model_name": "LayoutModel",
            "_view_count": null,
            "_view_module": "@jupyter-widgets/base",
            "_view_module_version": "1.2.0",
            "_view_name": "LayoutView",
            "align_content": null,
            "align_items": null,
            "align_self": null,
            "border": null,
            "bottom": null,
            "display": null,
            "flex": null,
            "flex_flow": null,
            "grid_area": null,
            "grid_auto_columns": null,
            "grid_auto_flow": null,
            "grid_auto_rows": null,
            "grid_column": null,
            "grid_gap": null,
            "grid_row": null,
            "grid_template_areas": null,
            "grid_template_columns": null,
            "grid_template_rows": null,
            "height": null,
            "justify_content": null,
            "justify_items": null,
            "left": null,
            "margin": null,
            "max_height": null,
            "max_width": null,
            "min_height": null,
            "min_width": null,
            "object_fit": null,
            "object_position": null,
            "order": null,
            "overflow": null,
            "overflow_x": null,
            "overflow_y": null,
            "padding": null,
            "right": null,
            "top": null,
            "visibility": null,
            "width": null
          }
        },
        "a39fbda1586e4ad5b53e5acafb249351": {
          "model_module": "@jupyter-widgets/controls",
          "model_name": "ProgressStyleModel",
          "model_module_version": "1.5.0",
          "state": {
            "_model_module": "@jupyter-widgets/controls",
            "_model_module_version": "1.5.0",
            "_model_name": "ProgressStyleModel",
            "_view_count": null,
            "_view_module": "@jupyter-widgets/base",
            "_view_module_version": "1.2.0",
            "_view_name": "StyleView",
            "bar_color": null,
            "description_width": ""
          }
        },
        "11af124c463e40158f978bc039330c00": {
          "model_module": "@jupyter-widgets/base",
          "model_name": "LayoutModel",
          "model_module_version": "1.2.0",
          "state": {
            "_model_module": "@jupyter-widgets/base",
            "_model_module_version": "1.2.0",
            "_model_name": "LayoutModel",
            "_view_count": null,
            "_view_module": "@jupyter-widgets/base",
            "_view_module_version": "1.2.0",
            "_view_name": "LayoutView",
            "align_content": null,
            "align_items": null,
            "align_self": null,
            "border": null,
            "bottom": null,
            "display": null,
            "flex": null,
            "flex_flow": null,
            "grid_area": null,
            "grid_auto_columns": null,
            "grid_auto_flow": null,
            "grid_auto_rows": null,
            "grid_column": null,
            "grid_gap": null,
            "grid_row": null,
            "grid_template_areas": null,
            "grid_template_columns": null,
            "grid_template_rows": null,
            "height": null,
            "justify_content": null,
            "justify_items": null,
            "left": null,
            "margin": null,
            "max_height": null,
            "max_width": null,
            "min_height": null,
            "min_width": null,
            "object_fit": null,
            "object_position": null,
            "order": null,
            "overflow": null,
            "overflow_x": null,
            "overflow_y": null,
            "padding": null,
            "right": null,
            "top": null,
            "visibility": null,
            "width": null
          }
        },
        "1626239b4d43468bb1426f491ff915c8": {
          "model_module": "@jupyter-widgets/controls",
          "model_name": "DescriptionStyleModel",
          "model_module_version": "1.5.0",
          "state": {
            "_model_module": "@jupyter-widgets/controls",
            "_model_module_version": "1.5.0",
            "_model_name": "DescriptionStyleModel",
            "_view_count": null,
            "_view_module": "@jupyter-widgets/base",
            "_view_module_version": "1.2.0",
            "_view_name": "StyleView",
            "description_width": ""
          }
        },
        "d4fc36b8de9e4a48bd07778c62a797a6": {
          "model_module": "@jupyter-widgets/controls",
          "model_name": "HBoxModel",
          "model_module_version": "1.5.0",
          "state": {
            "_dom_classes": [],
            "_model_module": "@jupyter-widgets/controls",
            "_model_module_version": "1.5.0",
            "_model_name": "HBoxModel",
            "_view_count": null,
            "_view_module": "@jupyter-widgets/controls",
            "_view_module_version": "1.5.0",
            "_view_name": "HBoxView",
            "box_style": "",
            "children": [
              "IPY_MODEL_2559891fa94d4e42a789a17f09d5a698",
              "IPY_MODEL_5ce438b1d9684b6faab25f18ddf63a28",
              "IPY_MODEL_f5c66602e0184414977c1cc591f24703"
            ],
            "layout": "IPY_MODEL_5ebb86d372314b4c80d865a838ecf333"
          }
        },
        "2559891fa94d4e42a789a17f09d5a698": {
          "model_module": "@jupyter-widgets/controls",
          "model_name": "HTMLModel",
          "model_module_version": "1.5.0",
          "state": {
            "_dom_classes": [],
            "_model_module": "@jupyter-widgets/controls",
            "_model_module_version": "1.5.0",
            "_model_name": "HTMLModel",
            "_view_count": null,
            "_view_module": "@jupyter-widgets/controls",
            "_view_module_version": "1.5.0",
            "_view_name": "HTMLView",
            "description": "",
            "description_tooltip": null,
            "layout": "IPY_MODEL_9423712a028645e58c82f755c265f16c",
            "placeholder": "​",
            "style": "IPY_MODEL_53ba4b1881554f9cba9cb326c12712b4",
            "value": "Map: 100%"
          }
        },
        "5ce438b1d9684b6faab25f18ddf63a28": {
          "model_module": "@jupyter-widgets/controls",
          "model_name": "FloatProgressModel",
          "model_module_version": "1.5.0",
          "state": {
            "_dom_classes": [],
            "_model_module": "@jupyter-widgets/controls",
            "_model_module_version": "1.5.0",
            "_model_name": "FloatProgressModel",
            "_view_count": null,
            "_view_module": "@jupyter-widgets/controls",
            "_view_module_version": "1.5.0",
            "_view_name": "ProgressView",
            "bar_style": "success",
            "description": "",
            "description_tooltip": null,
            "layout": "IPY_MODEL_47458fe52f0047939931066becf24f24",
            "max": 1418,
            "min": 0,
            "orientation": "horizontal",
            "style": "IPY_MODEL_28238718c9134ae5b2b037cf2f38bc85",
            "value": 1418
          }
        },
        "f5c66602e0184414977c1cc591f24703": {
          "model_module": "@jupyter-widgets/controls",
          "model_name": "HTMLModel",
          "model_module_version": "1.5.0",
          "state": {
            "_dom_classes": [],
            "_model_module": "@jupyter-widgets/controls",
            "_model_module_version": "1.5.0",
            "_model_name": "HTMLModel",
            "_view_count": null,
            "_view_module": "@jupyter-widgets/controls",
            "_view_module_version": "1.5.0",
            "_view_name": "HTMLView",
            "description": "",
            "description_tooltip": null,
            "layout": "IPY_MODEL_8c81c42d69d24c5ba8efd89dc6c14538",
            "placeholder": "​",
            "style": "IPY_MODEL_ab503a4782064490987290c2ff525bef",
            "value": " 1418/1418 [00:00&lt;00:00, 25370.79 examples/s]"
          }
        },
        "5ebb86d372314b4c80d865a838ecf333": {
          "model_module": "@jupyter-widgets/base",
          "model_name": "LayoutModel",
          "model_module_version": "1.2.0",
          "state": {
            "_model_module": "@jupyter-widgets/base",
            "_model_module_version": "1.2.0",
            "_model_name": "LayoutModel",
            "_view_count": null,
            "_view_module": "@jupyter-widgets/base",
            "_view_module_version": "1.2.0",
            "_view_name": "LayoutView",
            "align_content": null,
            "align_items": null,
            "align_self": null,
            "border": null,
            "bottom": null,
            "display": null,
            "flex": null,
            "flex_flow": null,
            "grid_area": null,
            "grid_auto_columns": null,
            "grid_auto_flow": null,
            "grid_auto_rows": null,
            "grid_column": null,
            "grid_gap": null,
            "grid_row": null,
            "grid_template_areas": null,
            "grid_template_columns": null,
            "grid_template_rows": null,
            "height": null,
            "justify_content": null,
            "justify_items": null,
            "left": null,
            "margin": null,
            "max_height": null,
            "max_width": null,
            "min_height": null,
            "min_width": null,
            "object_fit": null,
            "object_position": null,
            "order": null,
            "overflow": null,
            "overflow_x": null,
            "overflow_y": null,
            "padding": null,
            "right": null,
            "top": null,
            "visibility": null,
            "width": null
          }
        },
        "9423712a028645e58c82f755c265f16c": {
          "model_module": "@jupyter-widgets/base",
          "model_name": "LayoutModel",
          "model_module_version": "1.2.0",
          "state": {
            "_model_module": "@jupyter-widgets/base",
            "_model_module_version": "1.2.0",
            "_model_name": "LayoutModel",
            "_view_count": null,
            "_view_module": "@jupyter-widgets/base",
            "_view_module_version": "1.2.0",
            "_view_name": "LayoutView",
            "align_content": null,
            "align_items": null,
            "align_self": null,
            "border": null,
            "bottom": null,
            "display": null,
            "flex": null,
            "flex_flow": null,
            "grid_area": null,
            "grid_auto_columns": null,
            "grid_auto_flow": null,
            "grid_auto_rows": null,
            "grid_column": null,
            "grid_gap": null,
            "grid_row": null,
            "grid_template_areas": null,
            "grid_template_columns": null,
            "grid_template_rows": null,
            "height": null,
            "justify_content": null,
            "justify_items": null,
            "left": null,
            "margin": null,
            "max_height": null,
            "max_width": null,
            "min_height": null,
            "min_width": null,
            "object_fit": null,
            "object_position": null,
            "order": null,
            "overflow": null,
            "overflow_x": null,
            "overflow_y": null,
            "padding": null,
            "right": null,
            "top": null,
            "visibility": null,
            "width": null
          }
        },
        "53ba4b1881554f9cba9cb326c12712b4": {
          "model_module": "@jupyter-widgets/controls",
          "model_name": "DescriptionStyleModel",
          "model_module_version": "1.5.0",
          "state": {
            "_model_module": "@jupyter-widgets/controls",
            "_model_module_version": "1.5.0",
            "_model_name": "DescriptionStyleModel",
            "_view_count": null,
            "_view_module": "@jupyter-widgets/base",
            "_view_module_version": "1.2.0",
            "_view_name": "StyleView",
            "description_width": ""
          }
        },
        "47458fe52f0047939931066becf24f24": {
          "model_module": "@jupyter-widgets/base",
          "model_name": "LayoutModel",
          "model_module_version": "1.2.0",
          "state": {
            "_model_module": "@jupyter-widgets/base",
            "_model_module_version": "1.2.0",
            "_model_name": "LayoutModel",
            "_view_count": null,
            "_view_module": "@jupyter-widgets/base",
            "_view_module_version": "1.2.0",
            "_view_name": "LayoutView",
            "align_content": null,
            "align_items": null,
            "align_self": null,
            "border": null,
            "bottom": null,
            "display": null,
            "flex": null,
            "flex_flow": null,
            "grid_area": null,
            "grid_auto_columns": null,
            "grid_auto_flow": null,
            "grid_auto_rows": null,
            "grid_column": null,
            "grid_gap": null,
            "grid_row": null,
            "grid_template_areas": null,
            "grid_template_columns": null,
            "grid_template_rows": null,
            "height": null,
            "justify_content": null,
            "justify_items": null,
            "left": null,
            "margin": null,
            "max_height": null,
            "max_width": null,
            "min_height": null,
            "min_width": null,
            "object_fit": null,
            "object_position": null,
            "order": null,
            "overflow": null,
            "overflow_x": null,
            "overflow_y": null,
            "padding": null,
            "right": null,
            "top": null,
            "visibility": null,
            "width": null
          }
        },
        "28238718c9134ae5b2b037cf2f38bc85": {
          "model_module": "@jupyter-widgets/controls",
          "model_name": "ProgressStyleModel",
          "model_module_version": "1.5.0",
          "state": {
            "_model_module": "@jupyter-widgets/controls",
            "_model_module_version": "1.5.0",
            "_model_name": "ProgressStyleModel",
            "_view_count": null,
            "_view_module": "@jupyter-widgets/base",
            "_view_module_version": "1.2.0",
            "_view_name": "StyleView",
            "bar_color": null,
            "description_width": ""
          }
        },
        "8c81c42d69d24c5ba8efd89dc6c14538": {
          "model_module": "@jupyter-widgets/base",
          "model_name": "LayoutModel",
          "model_module_version": "1.2.0",
          "state": {
            "_model_module": "@jupyter-widgets/base",
            "_model_module_version": "1.2.0",
            "_model_name": "LayoutModel",
            "_view_count": null,
            "_view_module": "@jupyter-widgets/base",
            "_view_module_version": "1.2.0",
            "_view_name": "LayoutView",
            "align_content": null,
            "align_items": null,
            "align_self": null,
            "border": null,
            "bottom": null,
            "display": null,
            "flex": null,
            "flex_flow": null,
            "grid_area": null,
            "grid_auto_columns": null,
            "grid_auto_flow": null,
            "grid_auto_rows": null,
            "grid_column": null,
            "grid_gap": null,
            "grid_row": null,
            "grid_template_areas": null,
            "grid_template_columns": null,
            "grid_template_rows": null,
            "height": null,
            "justify_content": null,
            "justify_items": null,
            "left": null,
            "margin": null,
            "max_height": null,
            "max_width": null,
            "min_height": null,
            "min_width": null,
            "object_fit": null,
            "object_position": null,
            "order": null,
            "overflow": null,
            "overflow_x": null,
            "overflow_y": null,
            "padding": null,
            "right": null,
            "top": null,
            "visibility": null,
            "width": null
          }
        },
        "ab503a4782064490987290c2ff525bef": {
          "model_module": "@jupyter-widgets/controls",
          "model_name": "DescriptionStyleModel",
          "model_module_version": "1.5.0",
          "state": {
            "_model_module": "@jupyter-widgets/controls",
            "_model_module_version": "1.5.0",
            "_model_name": "DescriptionStyleModel",
            "_view_count": null,
            "_view_module": "@jupyter-widgets/base",
            "_view_module_version": "1.2.0",
            "_view_name": "StyleView",
            "description_width": ""
          }
        },
        "87f67c65cbfd48808ba3df44e243a363": {
          "model_module": "@jupyter-widgets/controls",
          "model_name": "HBoxModel",
          "model_module_version": "1.5.0",
          "state": {
            "_dom_classes": [],
            "_model_module": "@jupyter-widgets/controls",
            "_model_module_version": "1.5.0",
            "_model_name": "HBoxModel",
            "_view_count": null,
            "_view_module": "@jupyter-widgets/controls",
            "_view_module_version": "1.5.0",
            "_view_name": "HBoxView",
            "box_style": "",
            "children": [
              "IPY_MODEL_dada0db38243430ba9f5e05e51dba5d0",
              "IPY_MODEL_7d5c8d3bf14546bc875b8fa73e5ed79f",
              "IPY_MODEL_09072a78d89a47fd88c0fc3138cef048"
            ],
            "layout": "IPY_MODEL_0e754112fdb64957b878041d4d798167"
          }
        },
        "dada0db38243430ba9f5e05e51dba5d0": {
          "model_module": "@jupyter-widgets/controls",
          "model_name": "HTMLModel",
          "model_module_version": "1.5.0",
          "state": {
            "_dom_classes": [],
            "_model_module": "@jupyter-widgets/controls",
            "_model_module_version": "1.5.0",
            "_model_name": "HTMLModel",
            "_view_count": null,
            "_view_module": "@jupyter-widgets/controls",
            "_view_module_version": "1.5.0",
            "_view_name": "HTMLView",
            "description": "",
            "description_tooltip": null,
            "layout": "IPY_MODEL_869f82be72ed42218841ce36f6a737e4",
            "placeholder": "​",
            "style": "IPY_MODEL_7c3c045366c14113bb2b0144e8225f6d",
            "value": "Map: 100%"
          }
        },
        "7d5c8d3bf14546bc875b8fa73e5ed79f": {
          "model_module": "@jupyter-widgets/controls",
          "model_name": "FloatProgressModel",
          "model_module_version": "1.5.0",
          "state": {
            "_dom_classes": [],
            "_model_module": "@jupyter-widgets/controls",
            "_model_module_version": "1.5.0",
            "_model_name": "FloatProgressModel",
            "_view_count": null,
            "_view_module": "@jupyter-widgets/controls",
            "_view_module_version": "1.5.0",
            "_view_name": "ProgressView",
            "bar_style": "success",
            "description": "",
            "description_tooltip": null,
            "layout": "IPY_MODEL_90edd39dd7a64e1ca57c9aa0fc3ddec7",
            "max": 355,
            "min": 0,
            "orientation": "horizontal",
            "style": "IPY_MODEL_b873d352682b4b0d82d07c3375df27c2",
            "value": 355
          }
        },
        "09072a78d89a47fd88c0fc3138cef048": {
          "model_module": "@jupyter-widgets/controls",
          "model_name": "HTMLModel",
          "model_module_version": "1.5.0",
          "state": {
            "_dom_classes": [],
            "_model_module": "@jupyter-widgets/controls",
            "_model_module_version": "1.5.0",
            "_model_name": "HTMLModel",
            "_view_count": null,
            "_view_module": "@jupyter-widgets/controls",
            "_view_module_version": "1.5.0",
            "_view_name": "HTMLView",
            "description": "",
            "description_tooltip": null,
            "layout": "IPY_MODEL_061843f944794d14bafb3891d1edfac5",
            "placeholder": "​",
            "style": "IPY_MODEL_748270e88dd54d0aa026309b39a95a2f",
            "value": " 355/355 [00:00&lt;00:00, 5355.21 examples/s]"
          }
        },
        "0e754112fdb64957b878041d4d798167": {
          "model_module": "@jupyter-widgets/base",
          "model_name": "LayoutModel",
          "model_module_version": "1.2.0",
          "state": {
            "_model_module": "@jupyter-widgets/base",
            "_model_module_version": "1.2.0",
            "_model_name": "LayoutModel",
            "_view_count": null,
            "_view_module": "@jupyter-widgets/base",
            "_view_module_version": "1.2.0",
            "_view_name": "LayoutView",
            "align_content": null,
            "align_items": null,
            "align_self": null,
            "border": null,
            "bottom": null,
            "display": null,
            "flex": null,
            "flex_flow": null,
            "grid_area": null,
            "grid_auto_columns": null,
            "grid_auto_flow": null,
            "grid_auto_rows": null,
            "grid_column": null,
            "grid_gap": null,
            "grid_row": null,
            "grid_template_areas": null,
            "grid_template_columns": null,
            "grid_template_rows": null,
            "height": null,
            "justify_content": null,
            "justify_items": null,
            "left": null,
            "margin": null,
            "max_height": null,
            "max_width": null,
            "min_height": null,
            "min_width": null,
            "object_fit": null,
            "object_position": null,
            "order": null,
            "overflow": null,
            "overflow_x": null,
            "overflow_y": null,
            "padding": null,
            "right": null,
            "top": null,
            "visibility": null,
            "width": null
          }
        },
        "869f82be72ed42218841ce36f6a737e4": {
          "model_module": "@jupyter-widgets/base",
          "model_name": "LayoutModel",
          "model_module_version": "1.2.0",
          "state": {
            "_model_module": "@jupyter-widgets/base",
            "_model_module_version": "1.2.0",
            "_model_name": "LayoutModel",
            "_view_count": null,
            "_view_module": "@jupyter-widgets/base",
            "_view_module_version": "1.2.0",
            "_view_name": "LayoutView",
            "align_content": null,
            "align_items": null,
            "align_self": null,
            "border": null,
            "bottom": null,
            "display": null,
            "flex": null,
            "flex_flow": null,
            "grid_area": null,
            "grid_auto_columns": null,
            "grid_auto_flow": null,
            "grid_auto_rows": null,
            "grid_column": null,
            "grid_gap": null,
            "grid_row": null,
            "grid_template_areas": null,
            "grid_template_columns": null,
            "grid_template_rows": null,
            "height": null,
            "justify_content": null,
            "justify_items": null,
            "left": null,
            "margin": null,
            "max_height": null,
            "max_width": null,
            "min_height": null,
            "min_width": null,
            "object_fit": null,
            "object_position": null,
            "order": null,
            "overflow": null,
            "overflow_x": null,
            "overflow_y": null,
            "padding": null,
            "right": null,
            "top": null,
            "visibility": null,
            "width": null
          }
        },
        "7c3c045366c14113bb2b0144e8225f6d": {
          "model_module": "@jupyter-widgets/controls",
          "model_name": "DescriptionStyleModel",
          "model_module_version": "1.5.0",
          "state": {
            "_model_module": "@jupyter-widgets/controls",
            "_model_module_version": "1.5.0",
            "_model_name": "DescriptionStyleModel",
            "_view_count": null,
            "_view_module": "@jupyter-widgets/base",
            "_view_module_version": "1.2.0",
            "_view_name": "StyleView",
            "description_width": ""
          }
        },
        "90edd39dd7a64e1ca57c9aa0fc3ddec7": {
          "model_module": "@jupyter-widgets/base",
          "model_name": "LayoutModel",
          "model_module_version": "1.2.0",
          "state": {
            "_model_module": "@jupyter-widgets/base",
            "_model_module_version": "1.2.0",
            "_model_name": "LayoutModel",
            "_view_count": null,
            "_view_module": "@jupyter-widgets/base",
            "_view_module_version": "1.2.0",
            "_view_name": "LayoutView",
            "align_content": null,
            "align_items": null,
            "align_self": null,
            "border": null,
            "bottom": null,
            "display": null,
            "flex": null,
            "flex_flow": null,
            "grid_area": null,
            "grid_auto_columns": null,
            "grid_auto_flow": null,
            "grid_auto_rows": null,
            "grid_column": null,
            "grid_gap": null,
            "grid_row": null,
            "grid_template_areas": null,
            "grid_template_columns": null,
            "grid_template_rows": null,
            "height": null,
            "justify_content": null,
            "justify_items": null,
            "left": null,
            "margin": null,
            "max_height": null,
            "max_width": null,
            "min_height": null,
            "min_width": null,
            "object_fit": null,
            "object_position": null,
            "order": null,
            "overflow": null,
            "overflow_x": null,
            "overflow_y": null,
            "padding": null,
            "right": null,
            "top": null,
            "visibility": null,
            "width": null
          }
        },
        "b873d352682b4b0d82d07c3375df27c2": {
          "model_module": "@jupyter-widgets/controls",
          "model_name": "ProgressStyleModel",
          "model_module_version": "1.5.0",
          "state": {
            "_model_module": "@jupyter-widgets/controls",
            "_model_module_version": "1.5.0",
            "_model_name": "ProgressStyleModel",
            "_view_count": null,
            "_view_module": "@jupyter-widgets/base",
            "_view_module_version": "1.2.0",
            "_view_name": "StyleView",
            "bar_color": null,
            "description_width": ""
          }
        },
        "061843f944794d14bafb3891d1edfac5": {
          "model_module": "@jupyter-widgets/base",
          "model_name": "LayoutModel",
          "model_module_version": "1.2.0",
          "state": {
            "_model_module": "@jupyter-widgets/base",
            "_model_module_version": "1.2.0",
            "_model_name": "LayoutModel",
            "_view_count": null,
            "_view_module": "@jupyter-widgets/base",
            "_view_module_version": "1.2.0",
            "_view_name": "LayoutView",
            "align_content": null,
            "align_items": null,
            "align_self": null,
            "border": null,
            "bottom": null,
            "display": null,
            "flex": null,
            "flex_flow": null,
            "grid_area": null,
            "grid_auto_columns": null,
            "grid_auto_flow": null,
            "grid_auto_rows": null,
            "grid_column": null,
            "grid_gap": null,
            "grid_row": null,
            "grid_template_areas": null,
            "grid_template_columns": null,
            "grid_template_rows": null,
            "height": null,
            "justify_content": null,
            "justify_items": null,
            "left": null,
            "margin": null,
            "max_height": null,
            "max_width": null,
            "min_height": null,
            "min_width": null,
            "object_fit": null,
            "object_position": null,
            "order": null,
            "overflow": null,
            "overflow_x": null,
            "overflow_y": null,
            "padding": null,
            "right": null,
            "top": null,
            "visibility": null,
            "width": null
          }
        },
        "748270e88dd54d0aa026309b39a95a2f": {
          "model_module": "@jupyter-widgets/controls",
          "model_name": "DescriptionStyleModel",
          "model_module_version": "1.5.0",
          "state": {
            "_model_module": "@jupyter-widgets/controls",
            "_model_module_version": "1.5.0",
            "_model_name": "DescriptionStyleModel",
            "_view_count": null,
            "_view_module": "@jupyter-widgets/base",
            "_view_module_version": "1.2.0",
            "_view_name": "StyleView",
            "description_width": ""
          }
        },
        "b5372914818a4d869ccd950fc61e17a9": {
          "model_module": "@jupyter-widgets/controls",
          "model_name": "HBoxModel",
          "model_module_version": "1.5.0",
          "state": {
            "_dom_classes": [],
            "_model_module": "@jupyter-widgets/controls",
            "_model_module_version": "1.5.0",
            "_model_name": "HBoxModel",
            "_view_count": null,
            "_view_module": "@jupyter-widgets/controls",
            "_view_module_version": "1.5.0",
            "_view_name": "HBoxView",
            "box_style": "",
            "children": [
              "IPY_MODEL_cd9e2ab93936436593926da9a30b246a",
              "IPY_MODEL_242eacd0617546cfa3c8e4a2ecab8b51",
              "IPY_MODEL_53b1d7f413904c8889068caf9e67f60d"
            ],
            "layout": "IPY_MODEL_15e1505563cf4f53a2eb4244432a0908"
          }
        },
        "cd9e2ab93936436593926da9a30b246a": {
          "model_module": "@jupyter-widgets/controls",
          "model_name": "HTMLModel",
          "model_module_version": "1.5.0",
          "state": {
            "_dom_classes": [],
            "_model_module": "@jupyter-widgets/controls",
            "_model_module_version": "1.5.0",
            "_model_name": "HTMLModel",
            "_view_count": null,
            "_view_module": "@jupyter-widgets/controls",
            "_view_module_version": "1.5.0",
            "_view_name": "HTMLView",
            "description": "",
            "description_tooltip": null,
            "layout": "IPY_MODEL_54d0da5d782645d79af1052df811b912",
            "placeholder": "​",
            "style": "IPY_MODEL_9e7134fcfa2d401ea4ddf60804d7f9cf",
            "value": "Map: 100%"
          }
        },
        "242eacd0617546cfa3c8e4a2ecab8b51": {
          "model_module": "@jupyter-widgets/controls",
          "model_name": "FloatProgressModel",
          "model_module_version": "1.5.0",
          "state": {
            "_dom_classes": [],
            "_model_module": "@jupyter-widgets/controls",
            "_model_module_version": "1.5.0",
            "_model_name": "FloatProgressModel",
            "_view_count": null,
            "_view_module": "@jupyter-widgets/controls",
            "_view_module_version": "1.5.0",
            "_view_name": "ProgressView",
            "bar_style": "success",
            "description": "",
            "description_tooltip": null,
            "layout": "IPY_MODEL_a9e89e2f735040208aafc39637c13e68",
            "max": 1418,
            "min": 0,
            "orientation": "horizontal",
            "style": "IPY_MODEL_12a0956cf4f84d0d91c447186a6a7c9f",
            "value": 1418
          }
        },
        "53b1d7f413904c8889068caf9e67f60d": {
          "model_module": "@jupyter-widgets/controls",
          "model_name": "HTMLModel",
          "model_module_version": "1.5.0",
          "state": {
            "_dom_classes": [],
            "_model_module": "@jupyter-widgets/controls",
            "_model_module_version": "1.5.0",
            "_model_name": "HTMLModel",
            "_view_count": null,
            "_view_module": "@jupyter-widgets/controls",
            "_view_module_version": "1.5.0",
            "_view_name": "HTMLView",
            "description": "",
            "description_tooltip": null,
            "layout": "IPY_MODEL_546e1d22d4fe4dfba86bf7dde3560b1c",
            "placeholder": "​",
            "style": "IPY_MODEL_be84fe81dd264250986b27b0ee195e42",
            "value": " 1418/1418 [00:40&lt;00:00, 69.47 examples/s]"
          }
        },
        "15e1505563cf4f53a2eb4244432a0908": {
          "model_module": "@jupyter-widgets/base",
          "model_name": "LayoutModel",
          "model_module_version": "1.2.0",
          "state": {
            "_model_module": "@jupyter-widgets/base",
            "_model_module_version": "1.2.0",
            "_model_name": "LayoutModel",
            "_view_count": null,
            "_view_module": "@jupyter-widgets/base",
            "_view_module_version": "1.2.0",
            "_view_name": "LayoutView",
            "align_content": null,
            "align_items": null,
            "align_self": null,
            "border": null,
            "bottom": null,
            "display": null,
            "flex": null,
            "flex_flow": null,
            "grid_area": null,
            "grid_auto_columns": null,
            "grid_auto_flow": null,
            "grid_auto_rows": null,
            "grid_column": null,
            "grid_gap": null,
            "grid_row": null,
            "grid_template_areas": null,
            "grid_template_columns": null,
            "grid_template_rows": null,
            "height": null,
            "justify_content": null,
            "justify_items": null,
            "left": null,
            "margin": null,
            "max_height": null,
            "max_width": null,
            "min_height": null,
            "min_width": null,
            "object_fit": null,
            "object_position": null,
            "order": null,
            "overflow": null,
            "overflow_x": null,
            "overflow_y": null,
            "padding": null,
            "right": null,
            "top": null,
            "visibility": null,
            "width": null
          }
        },
        "54d0da5d782645d79af1052df811b912": {
          "model_module": "@jupyter-widgets/base",
          "model_name": "LayoutModel",
          "model_module_version": "1.2.0",
          "state": {
            "_model_module": "@jupyter-widgets/base",
            "_model_module_version": "1.2.0",
            "_model_name": "LayoutModel",
            "_view_count": null,
            "_view_module": "@jupyter-widgets/base",
            "_view_module_version": "1.2.0",
            "_view_name": "LayoutView",
            "align_content": null,
            "align_items": null,
            "align_self": null,
            "border": null,
            "bottom": null,
            "display": null,
            "flex": null,
            "flex_flow": null,
            "grid_area": null,
            "grid_auto_columns": null,
            "grid_auto_flow": null,
            "grid_auto_rows": null,
            "grid_column": null,
            "grid_gap": null,
            "grid_row": null,
            "grid_template_areas": null,
            "grid_template_columns": null,
            "grid_template_rows": null,
            "height": null,
            "justify_content": null,
            "justify_items": null,
            "left": null,
            "margin": null,
            "max_height": null,
            "max_width": null,
            "min_height": null,
            "min_width": null,
            "object_fit": null,
            "object_position": null,
            "order": null,
            "overflow": null,
            "overflow_x": null,
            "overflow_y": null,
            "padding": null,
            "right": null,
            "top": null,
            "visibility": null,
            "width": null
          }
        },
        "9e7134fcfa2d401ea4ddf60804d7f9cf": {
          "model_module": "@jupyter-widgets/controls",
          "model_name": "DescriptionStyleModel",
          "model_module_version": "1.5.0",
          "state": {
            "_model_module": "@jupyter-widgets/controls",
            "_model_module_version": "1.5.0",
            "_model_name": "DescriptionStyleModel",
            "_view_count": null,
            "_view_module": "@jupyter-widgets/base",
            "_view_module_version": "1.2.0",
            "_view_name": "StyleView",
            "description_width": ""
          }
        },
        "a9e89e2f735040208aafc39637c13e68": {
          "model_module": "@jupyter-widgets/base",
          "model_name": "LayoutModel",
          "model_module_version": "1.2.0",
          "state": {
            "_model_module": "@jupyter-widgets/base",
            "_model_module_version": "1.2.0",
            "_model_name": "LayoutModel",
            "_view_count": null,
            "_view_module": "@jupyter-widgets/base",
            "_view_module_version": "1.2.0",
            "_view_name": "LayoutView",
            "align_content": null,
            "align_items": null,
            "align_self": null,
            "border": null,
            "bottom": null,
            "display": null,
            "flex": null,
            "flex_flow": null,
            "grid_area": null,
            "grid_auto_columns": null,
            "grid_auto_flow": null,
            "grid_auto_rows": null,
            "grid_column": null,
            "grid_gap": null,
            "grid_row": null,
            "grid_template_areas": null,
            "grid_template_columns": null,
            "grid_template_rows": null,
            "height": null,
            "justify_content": null,
            "justify_items": null,
            "left": null,
            "margin": null,
            "max_height": null,
            "max_width": null,
            "min_height": null,
            "min_width": null,
            "object_fit": null,
            "object_position": null,
            "order": null,
            "overflow": null,
            "overflow_x": null,
            "overflow_y": null,
            "padding": null,
            "right": null,
            "top": null,
            "visibility": null,
            "width": null
          }
        },
        "12a0956cf4f84d0d91c447186a6a7c9f": {
          "model_module": "@jupyter-widgets/controls",
          "model_name": "ProgressStyleModel",
          "model_module_version": "1.5.0",
          "state": {
            "_model_module": "@jupyter-widgets/controls",
            "_model_module_version": "1.5.0",
            "_model_name": "ProgressStyleModel",
            "_view_count": null,
            "_view_module": "@jupyter-widgets/base",
            "_view_module_version": "1.2.0",
            "_view_name": "StyleView",
            "bar_color": null,
            "description_width": ""
          }
        },
        "546e1d22d4fe4dfba86bf7dde3560b1c": {
          "model_module": "@jupyter-widgets/base",
          "model_name": "LayoutModel",
          "model_module_version": "1.2.0",
          "state": {
            "_model_module": "@jupyter-widgets/base",
            "_model_module_version": "1.2.0",
            "_model_name": "LayoutModel",
            "_view_count": null,
            "_view_module": "@jupyter-widgets/base",
            "_view_module_version": "1.2.0",
            "_view_name": "LayoutView",
            "align_content": null,
            "align_items": null,
            "align_self": null,
            "border": null,
            "bottom": null,
            "display": null,
            "flex": null,
            "flex_flow": null,
            "grid_area": null,
            "grid_auto_columns": null,
            "grid_auto_flow": null,
            "grid_auto_rows": null,
            "grid_column": null,
            "grid_gap": null,
            "grid_row": null,
            "grid_template_areas": null,
            "grid_template_columns": null,
            "grid_template_rows": null,
            "height": null,
            "justify_content": null,
            "justify_items": null,
            "left": null,
            "margin": null,
            "max_height": null,
            "max_width": null,
            "min_height": null,
            "min_width": null,
            "object_fit": null,
            "object_position": null,
            "order": null,
            "overflow": null,
            "overflow_x": null,
            "overflow_y": null,
            "padding": null,
            "right": null,
            "top": null,
            "visibility": null,
            "width": null
          }
        },
        "be84fe81dd264250986b27b0ee195e42": {
          "model_module": "@jupyter-widgets/controls",
          "model_name": "DescriptionStyleModel",
          "model_module_version": "1.5.0",
          "state": {
            "_model_module": "@jupyter-widgets/controls",
            "_model_module_version": "1.5.0",
            "_model_name": "DescriptionStyleModel",
            "_view_count": null,
            "_view_module": "@jupyter-widgets/base",
            "_view_module_version": "1.2.0",
            "_view_name": "StyleView",
            "description_width": ""
          }
        },
        "ed7bbba50d8a474e8815929737ea0ec5": {
          "model_module": "@jupyter-widgets/controls",
          "model_name": "HBoxModel",
          "model_module_version": "1.5.0",
          "state": {
            "_dom_classes": [],
            "_model_module": "@jupyter-widgets/controls",
            "_model_module_version": "1.5.0",
            "_model_name": "HBoxModel",
            "_view_count": null,
            "_view_module": "@jupyter-widgets/controls",
            "_view_module_version": "1.5.0",
            "_view_name": "HBoxView",
            "box_style": "",
            "children": [
              "IPY_MODEL_0dd2c6dad843409486ecdeabfca6c650",
              "IPY_MODEL_31a7996cbd3d43fd9a9c3e61971ca0e6",
              "IPY_MODEL_08626cf99cd647ad8bfbc0b54cc9d61b"
            ],
            "layout": "IPY_MODEL_73a10dc06c984b1ea5cfa93479505451"
          }
        },
        "0dd2c6dad843409486ecdeabfca6c650": {
          "model_module": "@jupyter-widgets/controls",
          "model_name": "HTMLModel",
          "model_module_version": "1.5.0",
          "state": {
            "_dom_classes": [],
            "_model_module": "@jupyter-widgets/controls",
            "_model_module_version": "1.5.0",
            "_model_name": "HTMLModel",
            "_view_count": null,
            "_view_module": "@jupyter-widgets/controls",
            "_view_module_version": "1.5.0",
            "_view_name": "HTMLView",
            "description": "",
            "description_tooltip": null,
            "layout": "IPY_MODEL_ba11c99dee8044ff854df4f528538ac7",
            "placeholder": "​",
            "style": "IPY_MODEL_911c43fbe1334bdda685053ef75f390d",
            "value": "Map: 100%"
          }
        },
        "31a7996cbd3d43fd9a9c3e61971ca0e6": {
          "model_module": "@jupyter-widgets/controls",
          "model_name": "FloatProgressModel",
          "model_module_version": "1.5.0",
          "state": {
            "_dom_classes": [],
            "_model_module": "@jupyter-widgets/controls",
            "_model_module_version": "1.5.0",
            "_model_name": "FloatProgressModel",
            "_view_count": null,
            "_view_module": "@jupyter-widgets/controls",
            "_view_module_version": "1.5.0",
            "_view_name": "ProgressView",
            "bar_style": "success",
            "description": "",
            "description_tooltip": null,
            "layout": "IPY_MODEL_64c1041908b0491bb7cac5768426d34e",
            "max": 355,
            "min": 0,
            "orientation": "horizontal",
            "style": "IPY_MODEL_e2514d915abb467cb400bec535139c3f",
            "value": 355
          }
        },
        "08626cf99cd647ad8bfbc0b54cc9d61b": {
          "model_module": "@jupyter-widgets/controls",
          "model_name": "HTMLModel",
          "model_module_version": "1.5.0",
          "state": {
            "_dom_classes": [],
            "_model_module": "@jupyter-widgets/controls",
            "_model_module_version": "1.5.0",
            "_model_name": "HTMLModel",
            "_view_count": null,
            "_view_module": "@jupyter-widgets/controls",
            "_view_module_version": "1.5.0",
            "_view_name": "HTMLView",
            "description": "",
            "description_tooltip": null,
            "layout": "IPY_MODEL_40cd9bb88fca41ea80f87335867982b8",
            "placeholder": "​",
            "style": "IPY_MODEL_9a5046b207904992bc0de20cd127f53d",
            "value": " 355/355 [00:04&lt;00:00, 63.19 examples/s]"
          }
        },
        "73a10dc06c984b1ea5cfa93479505451": {
          "model_module": "@jupyter-widgets/base",
          "model_name": "LayoutModel",
          "model_module_version": "1.2.0",
          "state": {
            "_model_module": "@jupyter-widgets/base",
            "_model_module_version": "1.2.0",
            "_model_name": "LayoutModel",
            "_view_count": null,
            "_view_module": "@jupyter-widgets/base",
            "_view_module_version": "1.2.0",
            "_view_name": "LayoutView",
            "align_content": null,
            "align_items": null,
            "align_self": null,
            "border": null,
            "bottom": null,
            "display": null,
            "flex": null,
            "flex_flow": null,
            "grid_area": null,
            "grid_auto_columns": null,
            "grid_auto_flow": null,
            "grid_auto_rows": null,
            "grid_column": null,
            "grid_gap": null,
            "grid_row": null,
            "grid_template_areas": null,
            "grid_template_columns": null,
            "grid_template_rows": null,
            "height": null,
            "justify_content": null,
            "justify_items": null,
            "left": null,
            "margin": null,
            "max_height": null,
            "max_width": null,
            "min_height": null,
            "min_width": null,
            "object_fit": null,
            "object_position": null,
            "order": null,
            "overflow": null,
            "overflow_x": null,
            "overflow_y": null,
            "padding": null,
            "right": null,
            "top": null,
            "visibility": null,
            "width": null
          }
        },
        "ba11c99dee8044ff854df4f528538ac7": {
          "model_module": "@jupyter-widgets/base",
          "model_name": "LayoutModel",
          "model_module_version": "1.2.0",
          "state": {
            "_model_module": "@jupyter-widgets/base",
            "_model_module_version": "1.2.0",
            "_model_name": "LayoutModel",
            "_view_count": null,
            "_view_module": "@jupyter-widgets/base",
            "_view_module_version": "1.2.0",
            "_view_name": "LayoutView",
            "align_content": null,
            "align_items": null,
            "align_self": null,
            "border": null,
            "bottom": null,
            "display": null,
            "flex": null,
            "flex_flow": null,
            "grid_area": null,
            "grid_auto_columns": null,
            "grid_auto_flow": null,
            "grid_auto_rows": null,
            "grid_column": null,
            "grid_gap": null,
            "grid_row": null,
            "grid_template_areas": null,
            "grid_template_columns": null,
            "grid_template_rows": null,
            "height": null,
            "justify_content": null,
            "justify_items": null,
            "left": null,
            "margin": null,
            "max_height": null,
            "max_width": null,
            "min_height": null,
            "min_width": null,
            "object_fit": null,
            "object_position": null,
            "order": null,
            "overflow": null,
            "overflow_x": null,
            "overflow_y": null,
            "padding": null,
            "right": null,
            "top": null,
            "visibility": null,
            "width": null
          }
        },
        "911c43fbe1334bdda685053ef75f390d": {
          "model_module": "@jupyter-widgets/controls",
          "model_name": "DescriptionStyleModel",
          "model_module_version": "1.5.0",
          "state": {
            "_model_module": "@jupyter-widgets/controls",
            "_model_module_version": "1.5.0",
            "_model_name": "DescriptionStyleModel",
            "_view_count": null,
            "_view_module": "@jupyter-widgets/base",
            "_view_module_version": "1.2.0",
            "_view_name": "StyleView",
            "description_width": ""
          }
        },
        "64c1041908b0491bb7cac5768426d34e": {
          "model_module": "@jupyter-widgets/base",
          "model_name": "LayoutModel",
          "model_module_version": "1.2.0",
          "state": {
            "_model_module": "@jupyter-widgets/base",
            "_model_module_version": "1.2.0",
            "_model_name": "LayoutModel",
            "_view_count": null,
            "_view_module": "@jupyter-widgets/base",
            "_view_module_version": "1.2.0",
            "_view_name": "LayoutView",
            "align_content": null,
            "align_items": null,
            "align_self": null,
            "border": null,
            "bottom": null,
            "display": null,
            "flex": null,
            "flex_flow": null,
            "grid_area": null,
            "grid_auto_columns": null,
            "grid_auto_flow": null,
            "grid_auto_rows": null,
            "grid_column": null,
            "grid_gap": null,
            "grid_row": null,
            "grid_template_areas": null,
            "grid_template_columns": null,
            "grid_template_rows": null,
            "height": null,
            "justify_content": null,
            "justify_items": null,
            "left": null,
            "margin": null,
            "max_height": null,
            "max_width": null,
            "min_height": null,
            "min_width": null,
            "object_fit": null,
            "object_position": null,
            "order": null,
            "overflow": null,
            "overflow_x": null,
            "overflow_y": null,
            "padding": null,
            "right": null,
            "top": null,
            "visibility": null,
            "width": null
          }
        },
        "e2514d915abb467cb400bec535139c3f": {
          "model_module": "@jupyter-widgets/controls",
          "model_name": "ProgressStyleModel",
          "model_module_version": "1.5.0",
          "state": {
            "_model_module": "@jupyter-widgets/controls",
            "_model_module_version": "1.5.0",
            "_model_name": "ProgressStyleModel",
            "_view_count": null,
            "_view_module": "@jupyter-widgets/base",
            "_view_module_version": "1.2.0",
            "_view_name": "StyleView",
            "bar_color": null,
            "description_width": ""
          }
        },
        "40cd9bb88fca41ea80f87335867982b8": {
          "model_module": "@jupyter-widgets/base",
          "model_name": "LayoutModel",
          "model_module_version": "1.2.0",
          "state": {
            "_model_module": "@jupyter-widgets/base",
            "_model_module_version": "1.2.0",
            "_model_name": "LayoutModel",
            "_view_count": null,
            "_view_module": "@jupyter-widgets/base",
            "_view_module_version": "1.2.0",
            "_view_name": "LayoutView",
            "align_content": null,
            "align_items": null,
            "align_self": null,
            "border": null,
            "bottom": null,
            "display": null,
            "flex": null,
            "flex_flow": null,
            "grid_area": null,
            "grid_auto_columns": null,
            "grid_auto_flow": null,
            "grid_auto_rows": null,
            "grid_column": null,
            "grid_gap": null,
            "grid_row": null,
            "grid_template_areas": null,
            "grid_template_columns": null,
            "grid_template_rows": null,
            "height": null,
            "justify_content": null,
            "justify_items": null,
            "left": null,
            "margin": null,
            "max_height": null,
            "max_width": null,
            "min_height": null,
            "min_width": null,
            "object_fit": null,
            "object_position": null,
            "order": null,
            "overflow": null,
            "overflow_x": null,
            "overflow_y": null,
            "padding": null,
            "right": null,
            "top": null,
            "visibility": null,
            "width": null
          }
        },
        "9a5046b207904992bc0de20cd127f53d": {
          "model_module": "@jupyter-widgets/controls",
          "model_name": "DescriptionStyleModel",
          "model_module_version": "1.5.0",
          "state": {
            "_model_module": "@jupyter-widgets/controls",
            "_model_module_version": "1.5.0",
            "_model_name": "DescriptionStyleModel",
            "_view_count": null,
            "_view_module": "@jupyter-widgets/base",
            "_view_module_version": "1.2.0",
            "_view_name": "StyleView",
            "description_width": ""
          }
        },
        "e9691a5eb4dd451486abfff97324b505": {
          "model_module": "@jupyter-widgets/controls",
          "model_name": "HBoxModel",
          "model_module_version": "1.5.0",
          "state": {
            "_dom_classes": [],
            "_model_module": "@jupyter-widgets/controls",
            "_model_module_version": "1.5.0",
            "_model_name": "HBoxModel",
            "_view_count": null,
            "_view_module": "@jupyter-widgets/controls",
            "_view_module_version": "1.5.0",
            "_view_name": "HBoxView",
            "box_style": "",
            "children": [
              "IPY_MODEL_82a8cbb71706404c940cbd8a674060ae",
              "IPY_MODEL_70a68844e04c48f0b60afea6296d35f0",
              "IPY_MODEL_62688232ac4e431c84e9eecb941f3182"
            ],
            "layout": "IPY_MODEL_c2f86052295e4f66a100e1e6348ba2c1"
          }
        },
        "82a8cbb71706404c940cbd8a674060ae": {
          "model_module": "@jupyter-widgets/controls",
          "model_name": "HTMLModel",
          "model_module_version": "1.5.0",
          "state": {
            "_dom_classes": [],
            "_model_module": "@jupyter-widgets/controls",
            "_model_module_version": "1.5.0",
            "_model_name": "HTMLModel",
            "_view_count": null,
            "_view_module": "@jupyter-widgets/controls",
            "_view_module_version": "1.5.0",
            "_view_name": "HTMLView",
            "description": "",
            "description_tooltip": null,
            "layout": "IPY_MODEL_80528fa3edea4989bee6a33f899131de",
            "placeholder": "​",
            "style": "IPY_MODEL_5daefc5e69654a91846f727b6ee7a37b",
            "value": "Downloading builder script: "
          }
        },
        "70a68844e04c48f0b60afea6296d35f0": {
          "model_module": "@jupyter-widgets/controls",
          "model_name": "FloatProgressModel",
          "model_module_version": "1.5.0",
          "state": {
            "_dom_classes": [],
            "_model_module": "@jupyter-widgets/controls",
            "_model_module_version": "1.5.0",
            "_model_name": "FloatProgressModel",
            "_view_count": null,
            "_view_module": "@jupyter-widgets/controls",
            "_view_module_version": "1.5.0",
            "_view_name": "ProgressView",
            "bar_style": "success",
            "description": "",
            "description_tooltip": null,
            "layout": "IPY_MODEL_414151485ab943a68a423dc7a6906b36",
            "max": 1900,
            "min": 0,
            "orientation": "horizontal",
            "style": "IPY_MODEL_5d43229a3eb54fba83319c62faf1f924",
            "value": 1900
          }
        },
        "62688232ac4e431c84e9eecb941f3182": {
          "model_module": "@jupyter-widgets/controls",
          "model_name": "HTMLModel",
          "model_module_version": "1.5.0",
          "state": {
            "_dom_classes": [],
            "_model_module": "@jupyter-widgets/controls",
            "_model_module_version": "1.5.0",
            "_model_name": "HTMLModel",
            "_view_count": null,
            "_view_module": "@jupyter-widgets/controls",
            "_view_module_version": "1.5.0",
            "_view_name": "HTMLView",
            "description": "",
            "description_tooltip": null,
            "layout": "IPY_MODEL_57ff4b601ae14576ac005d98af1bbd1f",
            "placeholder": "​",
            "style": "IPY_MODEL_e8acb531c0ea4c4e8d8859444c13a472",
            "value": " 4.47k/? [00:00&lt;00:00, 244kB/s]"
          }
        },
        "c2f86052295e4f66a100e1e6348ba2c1": {
          "model_module": "@jupyter-widgets/base",
          "model_name": "LayoutModel",
          "model_module_version": "1.2.0",
          "state": {
            "_model_module": "@jupyter-widgets/base",
            "_model_module_version": "1.2.0",
            "_model_name": "LayoutModel",
            "_view_count": null,
            "_view_module": "@jupyter-widgets/base",
            "_view_module_version": "1.2.0",
            "_view_name": "LayoutView",
            "align_content": null,
            "align_items": null,
            "align_self": null,
            "border": null,
            "bottom": null,
            "display": null,
            "flex": null,
            "flex_flow": null,
            "grid_area": null,
            "grid_auto_columns": null,
            "grid_auto_flow": null,
            "grid_auto_rows": null,
            "grid_column": null,
            "grid_gap": null,
            "grid_row": null,
            "grid_template_areas": null,
            "grid_template_columns": null,
            "grid_template_rows": null,
            "height": null,
            "justify_content": null,
            "justify_items": null,
            "left": null,
            "margin": null,
            "max_height": null,
            "max_width": null,
            "min_height": null,
            "min_width": null,
            "object_fit": null,
            "object_position": null,
            "order": null,
            "overflow": null,
            "overflow_x": null,
            "overflow_y": null,
            "padding": null,
            "right": null,
            "top": null,
            "visibility": null,
            "width": null
          }
        },
        "80528fa3edea4989bee6a33f899131de": {
          "model_module": "@jupyter-widgets/base",
          "model_name": "LayoutModel",
          "model_module_version": "1.2.0",
          "state": {
            "_model_module": "@jupyter-widgets/base",
            "_model_module_version": "1.2.0",
            "_model_name": "LayoutModel",
            "_view_count": null,
            "_view_module": "@jupyter-widgets/base",
            "_view_module_version": "1.2.0",
            "_view_name": "LayoutView",
            "align_content": null,
            "align_items": null,
            "align_self": null,
            "border": null,
            "bottom": null,
            "display": null,
            "flex": null,
            "flex_flow": null,
            "grid_area": null,
            "grid_auto_columns": null,
            "grid_auto_flow": null,
            "grid_auto_rows": null,
            "grid_column": null,
            "grid_gap": null,
            "grid_row": null,
            "grid_template_areas": null,
            "grid_template_columns": null,
            "grid_template_rows": null,
            "height": null,
            "justify_content": null,
            "justify_items": null,
            "left": null,
            "margin": null,
            "max_height": null,
            "max_width": null,
            "min_height": null,
            "min_width": null,
            "object_fit": null,
            "object_position": null,
            "order": null,
            "overflow": null,
            "overflow_x": null,
            "overflow_y": null,
            "padding": null,
            "right": null,
            "top": null,
            "visibility": null,
            "width": null
          }
        },
        "5daefc5e69654a91846f727b6ee7a37b": {
          "model_module": "@jupyter-widgets/controls",
          "model_name": "DescriptionStyleModel",
          "model_module_version": "1.5.0",
          "state": {
            "_model_module": "@jupyter-widgets/controls",
            "_model_module_version": "1.5.0",
            "_model_name": "DescriptionStyleModel",
            "_view_count": null,
            "_view_module": "@jupyter-widgets/base",
            "_view_module_version": "1.2.0",
            "_view_name": "StyleView",
            "description_width": ""
          }
        },
        "414151485ab943a68a423dc7a6906b36": {
          "model_module": "@jupyter-widgets/base",
          "model_name": "LayoutModel",
          "model_module_version": "1.2.0",
          "state": {
            "_model_module": "@jupyter-widgets/base",
            "_model_module_version": "1.2.0",
            "_model_name": "LayoutModel",
            "_view_count": null,
            "_view_module": "@jupyter-widgets/base",
            "_view_module_version": "1.2.0",
            "_view_name": "LayoutView",
            "align_content": null,
            "align_items": null,
            "align_self": null,
            "border": null,
            "bottom": null,
            "display": null,
            "flex": null,
            "flex_flow": null,
            "grid_area": null,
            "grid_auto_columns": null,
            "grid_auto_flow": null,
            "grid_auto_rows": null,
            "grid_column": null,
            "grid_gap": null,
            "grid_row": null,
            "grid_template_areas": null,
            "grid_template_columns": null,
            "grid_template_rows": null,
            "height": null,
            "justify_content": null,
            "justify_items": null,
            "left": null,
            "margin": null,
            "max_height": null,
            "max_width": null,
            "min_height": null,
            "min_width": null,
            "object_fit": null,
            "object_position": null,
            "order": null,
            "overflow": null,
            "overflow_x": null,
            "overflow_y": null,
            "padding": null,
            "right": null,
            "top": null,
            "visibility": null,
            "width": null
          }
        },
        "5d43229a3eb54fba83319c62faf1f924": {
          "model_module": "@jupyter-widgets/controls",
          "model_name": "ProgressStyleModel",
          "model_module_version": "1.5.0",
          "state": {
            "_model_module": "@jupyter-widgets/controls",
            "_model_module_version": "1.5.0",
            "_model_name": "ProgressStyleModel",
            "_view_count": null,
            "_view_module": "@jupyter-widgets/base",
            "_view_module_version": "1.2.0",
            "_view_name": "StyleView",
            "bar_color": null,
            "description_width": ""
          }
        },
        "57ff4b601ae14576ac005d98af1bbd1f": {
          "model_module": "@jupyter-widgets/base",
          "model_name": "LayoutModel",
          "model_module_version": "1.2.0",
          "state": {
            "_model_module": "@jupyter-widgets/base",
            "_model_module_version": "1.2.0",
            "_model_name": "LayoutModel",
            "_view_count": null,
            "_view_module": "@jupyter-widgets/base",
            "_view_module_version": "1.2.0",
            "_view_name": "LayoutView",
            "align_content": null,
            "align_items": null,
            "align_self": null,
            "border": null,
            "bottom": null,
            "display": null,
            "flex": null,
            "flex_flow": null,
            "grid_area": null,
            "grid_auto_columns": null,
            "grid_auto_flow": null,
            "grid_auto_rows": null,
            "grid_column": null,
            "grid_gap": null,
            "grid_row": null,
            "grid_template_areas": null,
            "grid_template_columns": null,
            "grid_template_rows": null,
            "height": null,
            "justify_content": null,
            "justify_items": null,
            "left": null,
            "margin": null,
            "max_height": null,
            "max_width": null,
            "min_height": null,
            "min_width": null,
            "object_fit": null,
            "object_position": null,
            "order": null,
            "overflow": null,
            "overflow_x": null,
            "overflow_y": null,
            "padding": null,
            "right": null,
            "top": null,
            "visibility": null,
            "width": null
          }
        },
        "e8acb531c0ea4c4e8d8859444c13a472": {
          "model_module": "@jupyter-widgets/controls",
          "model_name": "DescriptionStyleModel",
          "model_module_version": "1.5.0",
          "state": {
            "_model_module": "@jupyter-widgets/controls",
            "_model_module_version": "1.5.0",
            "_model_name": "DescriptionStyleModel",
            "_view_count": null,
            "_view_module": "@jupyter-widgets/base",
            "_view_module_version": "1.2.0",
            "_view_name": "StyleView",
            "description_width": ""
          }
        },
        "094c699d6bfe4c7b97cc67aa7ccd582f": {
          "model_module": "@jupyter-widgets/controls",
          "model_name": "HBoxModel",
          "model_module_version": "1.5.0",
          "state": {
            "_dom_classes": [],
            "_model_module": "@jupyter-widgets/controls",
            "_model_module_version": "1.5.0",
            "_model_name": "HBoxModel",
            "_view_count": null,
            "_view_module": "@jupyter-widgets/controls",
            "_view_module_version": "1.5.0",
            "_view_name": "HBoxView",
            "box_style": "",
            "children": [
              "IPY_MODEL_ff3f8c8771db4c76b2182433513ae981",
              "IPY_MODEL_0e5c72caf1104d6a8e5e18afe3591139",
              "IPY_MODEL_3373c594bfc043cc8e246a75de947ff2"
            ],
            "layout": "IPY_MODEL_4eb9cd4998dd4899ab6f512769636622"
          }
        },
        "ff3f8c8771db4c76b2182433513ae981": {
          "model_module": "@jupyter-widgets/controls",
          "model_name": "HTMLModel",
          "model_module_version": "1.5.0",
          "state": {
            "_dom_classes": [],
            "_model_module": "@jupyter-widgets/controls",
            "_model_module_version": "1.5.0",
            "_model_name": "HTMLModel",
            "_view_count": null,
            "_view_module": "@jupyter-widgets/controls",
            "_view_module_version": "1.5.0",
            "_view_name": "HTMLView",
            "description": "",
            "description_tooltip": null,
            "layout": "IPY_MODEL_1284e9b8f55e47ba82b5ce3dd23f0071",
            "placeholder": "​",
            "style": "IPY_MODEL_c39b1eeed45b415984f04c9281009ad9",
            "value": "Downloading builder script: "
          }
        },
        "0e5c72caf1104d6a8e5e18afe3591139": {
          "model_module": "@jupyter-widgets/controls",
          "model_name": "FloatProgressModel",
          "model_module_version": "1.5.0",
          "state": {
            "_dom_classes": [],
            "_model_module": "@jupyter-widgets/controls",
            "_model_module_version": "1.5.0",
            "_model_name": "FloatProgressModel",
            "_view_count": null,
            "_view_module": "@jupyter-widgets/controls",
            "_view_module_version": "1.5.0",
            "_view_name": "ProgressView",
            "bar_style": "success",
            "description": "",
            "description_tooltip": null,
            "layout": "IPY_MODEL_8f7bff58a7fd4d09abf43bd9e3a505c1",
            "max": 2159,
            "min": 0,
            "orientation": "horizontal",
            "style": "IPY_MODEL_ad36c50477b14df7a20bb3b44e2c0de7",
            "value": 2159
          }
        },
        "3373c594bfc043cc8e246a75de947ff2": {
          "model_module": "@jupyter-widgets/controls",
          "model_name": "HTMLModel",
          "model_module_version": "1.5.0",
          "state": {
            "_dom_classes": [],
            "_model_module": "@jupyter-widgets/controls",
            "_model_module_version": "1.5.0",
            "_model_name": "HTMLModel",
            "_view_count": null,
            "_view_module": "@jupyter-widgets/controls",
            "_view_module_version": "1.5.0",
            "_view_name": "HTMLView",
            "description": "",
            "description_tooltip": null,
            "layout": "IPY_MODEL_e87185793a5748e0927b604844bc9f75",
            "placeholder": "​",
            "style": "IPY_MODEL_625bcce878864d1bba81460b8df51511",
            "value": " 5.59k/? [00:00&lt;00:00, 186kB/s]"
          }
        },
        "4eb9cd4998dd4899ab6f512769636622": {
          "model_module": "@jupyter-widgets/base",
          "model_name": "LayoutModel",
          "model_module_version": "1.2.0",
          "state": {
            "_model_module": "@jupyter-widgets/base",
            "_model_module_version": "1.2.0",
            "_model_name": "LayoutModel",
            "_view_count": null,
            "_view_module": "@jupyter-widgets/base",
            "_view_module_version": "1.2.0",
            "_view_name": "LayoutView",
            "align_content": null,
            "align_items": null,
            "align_self": null,
            "border": null,
            "bottom": null,
            "display": null,
            "flex": null,
            "flex_flow": null,
            "grid_area": null,
            "grid_auto_columns": null,
            "grid_auto_flow": null,
            "grid_auto_rows": null,
            "grid_column": null,
            "grid_gap": null,
            "grid_row": null,
            "grid_template_areas": null,
            "grid_template_columns": null,
            "grid_template_rows": null,
            "height": null,
            "justify_content": null,
            "justify_items": null,
            "left": null,
            "margin": null,
            "max_height": null,
            "max_width": null,
            "min_height": null,
            "min_width": null,
            "object_fit": null,
            "object_position": null,
            "order": null,
            "overflow": null,
            "overflow_x": null,
            "overflow_y": null,
            "padding": null,
            "right": null,
            "top": null,
            "visibility": null,
            "width": null
          }
        },
        "1284e9b8f55e47ba82b5ce3dd23f0071": {
          "model_module": "@jupyter-widgets/base",
          "model_name": "LayoutModel",
          "model_module_version": "1.2.0",
          "state": {
            "_model_module": "@jupyter-widgets/base",
            "_model_module_version": "1.2.0",
            "_model_name": "LayoutModel",
            "_view_count": null,
            "_view_module": "@jupyter-widgets/base",
            "_view_module_version": "1.2.0",
            "_view_name": "LayoutView",
            "align_content": null,
            "align_items": null,
            "align_self": null,
            "border": null,
            "bottom": null,
            "display": null,
            "flex": null,
            "flex_flow": null,
            "grid_area": null,
            "grid_auto_columns": null,
            "grid_auto_flow": null,
            "grid_auto_rows": null,
            "grid_column": null,
            "grid_gap": null,
            "grid_row": null,
            "grid_template_areas": null,
            "grid_template_columns": null,
            "grid_template_rows": null,
            "height": null,
            "justify_content": null,
            "justify_items": null,
            "left": null,
            "margin": null,
            "max_height": null,
            "max_width": null,
            "min_height": null,
            "min_width": null,
            "object_fit": null,
            "object_position": null,
            "order": null,
            "overflow": null,
            "overflow_x": null,
            "overflow_y": null,
            "padding": null,
            "right": null,
            "top": null,
            "visibility": null,
            "width": null
          }
        },
        "c39b1eeed45b415984f04c9281009ad9": {
          "model_module": "@jupyter-widgets/controls",
          "model_name": "DescriptionStyleModel",
          "model_module_version": "1.5.0",
          "state": {
            "_model_module": "@jupyter-widgets/controls",
            "_model_module_version": "1.5.0",
            "_model_name": "DescriptionStyleModel",
            "_view_count": null,
            "_view_module": "@jupyter-widgets/base",
            "_view_module_version": "1.2.0",
            "_view_name": "StyleView",
            "description_width": ""
          }
        },
        "8f7bff58a7fd4d09abf43bd9e3a505c1": {
          "model_module": "@jupyter-widgets/base",
          "model_name": "LayoutModel",
          "model_module_version": "1.2.0",
          "state": {
            "_model_module": "@jupyter-widgets/base",
            "_model_module_version": "1.2.0",
            "_model_name": "LayoutModel",
            "_view_count": null,
            "_view_module": "@jupyter-widgets/base",
            "_view_module_version": "1.2.0",
            "_view_name": "LayoutView",
            "align_content": null,
            "align_items": null,
            "align_self": null,
            "border": null,
            "bottom": null,
            "display": null,
            "flex": null,
            "flex_flow": null,
            "grid_area": null,
            "grid_auto_columns": null,
            "grid_auto_flow": null,
            "grid_auto_rows": null,
            "grid_column": null,
            "grid_gap": null,
            "grid_row": null,
            "grid_template_areas": null,
            "grid_template_columns": null,
            "grid_template_rows": null,
            "height": null,
            "justify_content": null,
            "justify_items": null,
            "left": null,
            "margin": null,
            "max_height": null,
            "max_width": null,
            "min_height": null,
            "min_width": null,
            "object_fit": null,
            "object_position": null,
            "order": null,
            "overflow": null,
            "overflow_x": null,
            "overflow_y": null,
            "padding": null,
            "right": null,
            "top": null,
            "visibility": null,
            "width": null
          }
        },
        "ad36c50477b14df7a20bb3b44e2c0de7": {
          "model_module": "@jupyter-widgets/controls",
          "model_name": "ProgressStyleModel",
          "model_module_version": "1.5.0",
          "state": {
            "_model_module": "@jupyter-widgets/controls",
            "_model_module_version": "1.5.0",
            "_model_name": "ProgressStyleModel",
            "_view_count": null,
            "_view_module": "@jupyter-widgets/base",
            "_view_module_version": "1.2.0",
            "_view_name": "StyleView",
            "bar_color": null,
            "description_width": ""
          }
        },
        "e87185793a5748e0927b604844bc9f75": {
          "model_module": "@jupyter-widgets/base",
          "model_name": "LayoutModel",
          "model_module_version": "1.2.0",
          "state": {
            "_model_module": "@jupyter-widgets/base",
            "_model_module_version": "1.2.0",
            "_model_name": "LayoutModel",
            "_view_count": null,
            "_view_module": "@jupyter-widgets/base",
            "_view_module_version": "1.2.0",
            "_view_name": "LayoutView",
            "align_content": null,
            "align_items": null,
            "align_self": null,
            "border": null,
            "bottom": null,
            "display": null,
            "flex": null,
            "flex_flow": null,
            "grid_area": null,
            "grid_auto_columns": null,
            "grid_auto_flow": null,
            "grid_auto_rows": null,
            "grid_column": null,
            "grid_gap": null,
            "grid_row": null,
            "grid_template_areas": null,
            "grid_template_columns": null,
            "grid_template_rows": null,
            "height": null,
            "justify_content": null,
            "justify_items": null,
            "left": null,
            "margin": null,
            "max_height": null,
            "max_width": null,
            "min_height": null,
            "min_width": null,
            "object_fit": null,
            "object_position": null,
            "order": null,
            "overflow": null,
            "overflow_x": null,
            "overflow_y": null,
            "padding": null,
            "right": null,
            "top": null,
            "visibility": null,
            "width": null
          }
        },
        "625bcce878864d1bba81460b8df51511": {
          "model_module": "@jupyter-widgets/controls",
          "model_name": "DescriptionStyleModel",
          "model_module_version": "1.5.0",
          "state": {
            "_model_module": "@jupyter-widgets/controls",
            "_model_module_version": "1.5.0",
            "_model_name": "DescriptionStyleModel",
            "_view_count": null,
            "_view_module": "@jupyter-widgets/base",
            "_view_module_version": "1.2.0",
            "_view_name": "StyleView",
            "description_width": ""
          }
        }
      }
    }
  },
  "nbformat": 4,
  "nbformat_minor": 0
}