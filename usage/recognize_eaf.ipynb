{
 "cells": [
  {
   "cell_type": "markdown",
   "id": "3c32d3ae-b54c-4e20-be3d-e43bd2be2ace",
   "metadata": {},
   "source": [
    "# Recognize eaf\n",
    "Принимает eaf c пустыми спанами, распознаёт их и записывает в eaf"
   ]
  },
  {
   "cell_type": "code",
   "execution_count": 94,
   "id": "8fc799fb-7c02-414f-99d4-2cdd665966db",
   "metadata": {},
   "outputs": [],
   "source": [
    "import re\n",
    "import os\n",
    "from tqdm import tqdm\n",
    "from collections import Counter, OrderedDict\n",
    "from bs4 import BeautifulSoup\n",
    "import warnings\n",
    "from bs4 import XMLParsedAsHTMLWarning\n",
    "warnings.filterwarnings(\"ignore\", category=XMLParsedAsHTMLWarning, module='bs4')\n",
    "from pydub import AudioSegment\n",
    "import librosa\n",
    "import torch\n",
    "from IPython.display import Audio"
   ]
  },
  {
   "cell_type": "code",
   "execution_count": 20,
   "id": "847efbbd-cb65-4ba1-acea-8f3963fb4285",
   "metadata": {},
   "outputs": [
    {
     "name": "stderr",
     "output_type": "stream",
     "text": [
      "Special tokens have been added in the vocabulary, make sure the associated word embeddings are fine-tuned or trained.\n"
     ]
    }
   ],
   "source": [
    "from transformers import AutoModelForCTC, Wav2Vec2BertProcessor\n",
    "\n",
    "model = AutoModelForCTC.from_pretrained(\"tbkazakova/wav2vec-bert-2.0-even-pakendorf\")\n",
    "processor = Wav2Vec2BertProcessor.from_pretrained(\"tbkazakova/wav2vec-bert-2.0-even-pakendorf\")"
   ]
  },
  {
   "cell_type": "code",
   "execution_count": 1,
   "id": "d493c82c-e8cf-4a95-8e0e-b3a9db8d27ac",
   "metadata": {},
   "outputs": [],
   "source": [
    "filename = 'eve_KEP_20230808_biography_toasr.eaf'"
   ]
  },
  {
   "cell_type": "code",
   "execution_count": 7,
   "id": "049f2e86-0e68-4aec-bc34-5de1c0c33d67",
   "metadata": {},
   "outputs": [],
   "source": [
    "# Получаем таймкоды границ\n",
    "def get_timecodes(soup):\n",
    "    timecodes = soup.find_all('time_slot')\n",
    "    ts_msec = {}\n",
    "    for timecode in timecodes:\n",
    "        if timecode.get('time_value'):\n",
    "            ts_msec[timecode.get('time_slot_id')] = int(timecode.get('time_value'))\n",
    "    return ts_msec"
   ]
  },
  {
   "cell_type": "code",
   "execution_count": 84,
   "id": "64d72f64-7015-49c7-b218-2540a58b9c2a",
   "metadata": {},
   "outputs": [
    {
     "name": "stderr",
     "output_type": "stream",
     "text": [
      "100%|███████████████████████████████████████████████████████████████████████████████████████████████████████████████████| 46/46 [16:45<00:00, 21.86s/it]\n"
     ]
    }
   ],
   "source": [
    "id_text = []\n",
    "\n",
    "wavname = filename[:-10]+'.wav'\n",
    "audio, sr = librosa.load(wavname)\n",
    "\n",
    "\n",
    "with open(filename) as f:\n",
    "    file = f.read()\n",
    "soup = BeautifulSoup(file)\n",
    "ts_msec = get_timecodes(soup)\n",
    "\n",
    "ann_ref = 0\n",
    "ann_phrase = {}\n",
    "for tier in soup.find_all('tier'):\n",
    "    if tier.get('tier_id').startswith('tx'):\n",
    "        anns = tier.find_all('alignable_annotation')\n",
    "        for ann in tqdm(anns):\n",
    "            start = int(ts_msec[ann.get('time_slot_ref1')]/1000*sr)\n",
    "            end = int(ts_msec[ann.get('time_slot_ref2')]/1000*sr)\n",
    "            \n",
    "            segment = audio[start:end]\n",
    "            librosa.resample(segment, orig_sr=sr, target_sr=16000)\n",
    "            logits = model(torch.tensor(processor(segment,\n",
    "                                                  sampling_rate=16000).input_features[0]).unsqueeze(0)).logits\n",
    "          \n",
    "            pred_ids = torch.argmax(logits, dim=-1)[0]\n",
    "            text = processor.decode(pred_ids)\n",
    "            id_text.append([ann.get('annotation_id'), text])"
   ]
  },
  {
   "cell_type": "code",
   "execution_count": 96,
   "id": "2cbf4c51-7521-4a91-9a28-60514226f67a",
   "metadata": {},
   "outputs": [],
   "source": [
    "templ_past = '''(<ALIGNABLE_ANNOTATION ANNOTATION_ID=\"{ann_id}\"(.|\\n)*?)(<ANNOTATION_VALUE/>)'''\n",
    "templ_furure = r'\\1<ANNOTATION_VALUE>{text}</ANNOTATION_VALUE>'"
   ]
  },
  {
   "cell_type": "code",
   "execution_count": 101,
   "id": "1fb58165-d99a-4f95-99df-6148ba3703d5",
   "metadata": {},
   "outputs": [
    {
     "name": "stderr",
     "output_type": "stream",
     "text": [
      "100%|█████████████████████████████████████████████████████████████████████████████████████████████████████████████████| 46/46 [00:00<00:00, 9156.57it/s]\n"
     ]
    }
   ],
   "source": [
    "new_eaf_filename = filename[:-10]+'_asr.eaf'\n",
    "with open(filename, encoding='utf8') as f:\n",
    "    new_eaf = f.read()\n",
    "\n",
    "for ann_id, text in tqdm(id_text):\n",
    "    past = templ_past.format(ann_id=ann_id)\n",
    "    future = templ_furure.format(text=text)\n",
    "    new_eaf = re.sub(past, future, new_eaf)\n",
    "    \n",
    "with open(new_eaf_filename, 'w', encoding='utf-8') as f:\n",
    "    f.write(new_eaf)"
   ]
  }
 ],
 "metadata": {
  "kernelspec": {
   "display_name": "Python 3 (ipykernel)",
   "language": "python",
   "name": "python3"
  },
  "language_info": {
   "codemirror_mode": {
    "name": "ipython",
    "version": 3
   },
   "file_extension": ".py",
   "mimetype": "text/x-python",
   "name": "python",
   "nbconvert_exporter": "python",
   "pygments_lexer": "ipython3",
   "version": "3.8.10"
  }
 },
 "nbformat": 4,
 "nbformat_minor": 5
}
