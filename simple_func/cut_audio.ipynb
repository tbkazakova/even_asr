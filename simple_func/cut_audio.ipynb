{
 "cells": [
  {
   "cell_type": "markdown",
   "id": "146fe5c1-7233-4395-ae08-c27acccf9125",
   "metadata": {},
   "source": [
    "# Делит аудиофайлы на кусочки"
   ]
  },
  {
   "cell_type": "code",
   "execution_count": 1,
   "id": "80d6e6be-906b-4c9c-812e-68062416aa0c",
   "metadata": {},
   "outputs": [],
   "source": [
    "from pydub import AudioSegment"
   ]
  },
  {
   "cell_type": "code",
   "execution_count": 2,
   "id": "fc3d4a31-14c1-4cf9-8cff-3b765f235945",
   "metadata": {},
   "outputs": [
    {
     "data": {
      "text/plain": [
       "<_io.BufferedRandom name='newSong.wav'>"
      ]
     },
     "execution_count": 2,
     "metadata": {},
     "output_type": "execute_result"
    }
   ],
   "source": [
    "t1 = 21025\n",
    "t2 = 24065\n",
    "newAudio = AudioSegment.from_wav(\"../audio/Bystraja District__Conversations__Adukanova_Ichanga_Managic__Managic.wav\")\n",
    "newAudio = newAudio[t1:t2]\n",
    "newAudio.export('newSong.wav', format=\"wav\") #Exports to a wav file in the current path."
   ]
  }
 ],
 "metadata": {
  "kernelspec": {
   "display_name": "Python 3 (ipykernel)",
   "language": "python",
   "name": "python3"
  },
  "language_info": {
   "codemirror_mode": {
    "name": "ipython",
    "version": 3
   },
   "file_extension": ".py",
   "mimetype": "text/x-python",
   "name": "python",
   "nbconvert_exporter": "python",
   "pygments_lexer": "ipython3",
   "version": "3.12.0"
  }
 },
 "nbformat": 4,
 "nbformat_minor": 5
}
