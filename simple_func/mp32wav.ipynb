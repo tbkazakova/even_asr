{
 "cells": [
  {
   "cell_type": "markdown",
   "id": "fb0c018b-5620-4f18-8062-3961b7714a93",
   "metadata": {},
   "source": [
    "### Конвертер mp3 в wav"
   ]
  },
  {
   "cell_type": "code",
   "execution_count": 10,
   "id": "5c0ba44d-eb56-4172-a269-ba997127f432",
   "metadata": {},
   "outputs": [
    {
     "name": "stdout",
     "output_type": "stream",
     "text": [
      "Collecting pydub\n",
      "  Downloading pydub-0.25.1-py2.py3-none-any.whl.metadata (1.4 kB)\n",
      "Downloading pydub-0.25.1-py2.py3-none-any.whl (32 kB)\n",
      "Installing collected packages: pydub\n",
      "Successfully installed pydub-0.25.1\n",
      "\n",
      "\u001b[1m[\u001b[0m\u001b[34;49mnotice\u001b[0m\u001b[1;39;49m]\u001b[0m\u001b[39;49m A new release of pip is available: \u001b[0m\u001b[31;49m23.3.1\u001b[0m\u001b[39;49m -> \u001b[0m\u001b[32;49m24.0\u001b[0m\n",
      "\u001b[1m[\u001b[0m\u001b[34;49mnotice\u001b[0m\u001b[1;39;49m]\u001b[0m\u001b[39;49m To update, run: \u001b[0m\u001b[32;49mpip install --upgrade pip\u001b[0m\n"
     ]
    }
   ],
   "source": [
    "! pip install pydub"
   ]
  },
  {
   "cell_type": "code",
   "execution_count": 17,
   "id": "6b990058-dc08-4524-be9a-056e0ca69a75",
   "metadata": {},
   "outputs": [],
   "source": [
    "import os\n",
    "from os import path\n",
    "from pydub import AudioSegment\n",
    "from tqdm import tqdm"
   ]
  },
  {
   "cell_type": "code",
   "execution_count": 33,
   "id": "c50446b1-dbde-4175-a2b6-dadc8db38702",
   "metadata": {
    "scrolled": true
   },
   "outputs": [
    {
     "name": "stderr",
     "output_type": "stream",
     "text": [
      "100%|███████████████████████████████████████████| 27/27 [00:30<00:00,  1.13s/it]\n"
     ]
    }
   ],
   "source": [
    "filenames = os.listdir('../biblio/mp3')\n",
    "for file in tqdm(filenames):\n",
    "    input_file = \"../biblio/mp3/\"+file\n",
    "    output_file =  \"../biblio/mp3/\"+file[:-3]+'wav'\n",
    "  \n",
    "    # convert mp3 file to wav file \n",
    "    sound = AudioSegment.from_mp3(input_file) \n",
    "    sound.export(output_file, format=\"wav\") "
   ]
  }
 ],
 "metadata": {
  "kernelspec": {
   "display_name": "Python 3 (ipykernel)",
   "language": "python",
   "name": "python3"
  },
  "language_info": {
   "codemirror_mode": {
    "name": "ipython",
    "version": 3
   },
   "file_extension": ".py",
   "mimetype": "text/x-python",
   "name": "python",
   "nbconvert_exporter": "python",
   "pygments_lexer": "ipython3",
   "version": "3.12.0"
  }
 },
 "nbformat": 4,
 "nbformat_minor": 5
}
