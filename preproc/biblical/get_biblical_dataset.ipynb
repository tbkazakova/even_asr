{
 "cells": [
  {
   "cell_type": "markdown",
   "id": "c8c93f26-d1da-4f2f-bd20-9fd6c8450483",
   "metadata": {},
   "source": [
    "Эта тетрадка из размеченных eaf файлов создаёт библейскую часть датасета"
   ]
  },
  {
   "cell_type": "code",
   "execution_count": 1,
   "id": "7cc19519-7890-4efa-8967-afa3eca12cbb",
   "metadata": {},
   "outputs": [],
   "source": [
    "import os, re\n",
    "import pandas as pd\n",
    "from tqdm import tqdm\n",
    "from bs4 import BeautifulSoup\n",
    "import warnings\n",
    "from bs4 import XMLParsedAsHTMLWarning\n",
    "warnings.filterwarnings(\"ignore\", category=XMLParsedAsHTMLWarning, module='bs4')\n",
    "from pydub import AudioSegment\n",
    "import mutagen \n",
    "from mutagen.wave import WAVE "
   ]
  },
  {
   "cell_type": "code",
   "execution_count": 2,
   "id": "d579db54-ba9a-40aa-8a60-48f0f76f5a38",
   "metadata": {},
   "outputs": [
    {
     "data": {
      "text/plain": [
       "['001 vki onmain_ann.eaf',\n",
       " '002 vki nonap bylbu odaan_ann.eaf',\n",
       " '003 byl vkiduk rritne_ann.eaf',\n",
       " '004 byl kenilikki guukenten_ann.eaf',\n",
       " '005 vki trre mv tilkamkandaan dugulin_ann.eaf',\n",
       " '006 byl trre oyalbudaatna nan vkiv omodaatnan_ann.eaf',\n",
       " '007 vki byldu nan-da ichuunche_ann.eaf',\n",
       " '008 vki avraam tedemen yaruttan_ann.eaf',\n",
       " '009 iisus khristos baldadakan_ann.eaf',\n",
       " '010 miami oldov epkudek_ann.eaf',\n",
       " '011 iisus nan samariya ain_ann.eaf',\n",
       " '012 iisus tunon tikicha byu debukendeen_ann.eaf',\n",
       " '013 iisus bylbu bgdedden_ann.eaf',\n",
       " '014 iisus egden unev odukanin_ann.eaf',\n",
       " '015 arikalbu ilbeendeen_ann.eaf',\n",
       " '016 iisus lazaru urukanin_ann.eaf',\n",
       " '017 iisus bylbu upkuchedden_ann.eaf',\n",
       " '018 iisus mutt u kelmettey emnin_ann.eaf',\n",
       " '019 iisus bylbu ayday emnin_ann.eaf',\n",
       " '020 iisus noman miavandukur mendeschirilbu mentiki gadin_ann.eaf',\n",
       " '021 iisus kkedeken_ann.eaf',\n",
       " '022 iisus urrin_ann.eaf',\n",
       " '023 iisus nanindula ennin_ann.eaf',\n",
       " '024 iisustu tederil chakabakan baldanmain_ann.eaf',\n",
       " '025 iisus dris emenni nan yak taduk onnan_ann.eaf',\n",
       " 'pr 001 meykechetche nyarikan khut dyogulin tele_ann.eaf',\n",
       " 'pr 002 ay samariyankan dyogulin tele_ann.eaf',\n",
       " 'pr 003 khebdekedek debedeklen achin dyogulin tele_ann.eaf',\n",
       " 'pr 004 farisey nyan tamam tavama dyogulin tele_ann.eaf']"
      ]
     },
     "execution_count": 2,
     "metadata": {},
     "output_type": "execute_result"
    }
   ],
   "source": [
    "eaf_filenames = sorted([name for name in os.listdir(\"../biblio\") if name.endswith('_ann.eaf')])\n",
    "eaf_filenames"
   ]
  },
  {
   "cell_type": "code",
   "execution_count": 3,
   "id": "dc5ea458-0ba3-4bd9-840d-16f23492a48e",
   "metadata": {},
   "outputs": [],
   "source": [
    "# Получаем soup файла\n",
    "def get_soup(filename):\n",
    "    with open('../biblio/'+filename) as f:\n",
    "        file = f.read()\n",
    "    soup = BeautifulSoup(file)\n",
    "    return soup"
   ]
  },
  {
   "cell_type": "code",
   "execution_count": 4,
   "id": "7b74de16-34e1-43f4-8094-dd5ed585ae3b",
   "metadata": {},
   "outputs": [],
   "source": [
    "# Получаем таймкоды границ\n",
    "def get_timecodes(soup):\n",
    "    timecodes = soup.find_all('time_slot')\n",
    "    ts_msec = {}\n",
    "    for timecode in timecodes:\n",
    "        if timecode.get('time_value'):\n",
    "            ts_msec[timecode.get('time_slot_id')] = int(timecode.get('time_value'))\n",
    "    return ts_msec"
   ]
  },
  {
   "cell_type": "code",
   "execution_count": 53,
   "id": "767771bc-53d1-4005-8414-18bef25458d9",
   "metadata": {},
   "outputs": [
    {
     "name": "stderr",
     "output_type": "stream",
     "text": [
      "100%|███████████████████████████████████████████| 29/29 [00:22<00:00,  1.30it/s]\n"
     ]
    }
   ],
   "source": [
    "file_phrase_start_end = []\n",
    "for eaf_filename in tqdm(eaf_filenames):\n",
    "    soup = get_soup(eaf_filename)\n",
    "    ts_msec = get_timecodes(soup)\n",
    "    \n",
    "    for tier in soup.find_all('tier'):\n",
    "        anns = tier.find_all('alignable_annotation')\n",
    "        for i, ann in enumerate(anns):\n",
    "            ann_ts_1 = ann.get('time_slot_ref1')\n",
    "            ann_ts_2 = ann.get('time_slot_ref2')\n",
    "            phrase = ann.find('annotation_value').text\n",
    "\n",
    "            ann_num = '000'[:-len(str(i+1))]+str(i+1)\n",
    "            if eaf_filename.startswith('pr'):\n",
    "                filename = 'eve_biblical_pr_'+eaf_filename[3:6]+'_'+ann_num+'.wav'\n",
    "            else:\n",
    "                filename = 'eve_biblical_'+eaf_filename[:3]+'_'+ann_num+'.wav'\n",
    "\n",
    "            newAudio = AudioSegment.from_wav(\"../biblio/\"+eaf_filename[:-8]+'.wav')\n",
    "            newAudio = newAudio[ts_msec[ann_ts_1]:ts_msec[ann_ts_2]]\n",
    "            newAudio.export('../dataset/'+filename, format=\"wav\")\n",
    "            \n",
    "            file_phrase_start_end.append([filename,\n",
    "                                          phrase, \n",
    "                                          ts_msec[ann_ts_1],\n",
    "                                          ts_msec[ann_ts_2]])"
   ]
  },
  {
   "cell_type": "code",
   "execution_count": 56,
   "id": "812cb1ac-defd-4afe-9832-bc274a54992e",
   "metadata": {},
   "outputs": [],
   "source": [
    "df = pd.DataFrame(file_phrase_start_end, columns = ['file', 'text', 'start', 'end'])\n",
    "df[['file', 'text']].to_csv('even_speech_biblical.csv', index=False)"
   ]
  },
  {
   "cell_type": "markdown",
   "id": "68d1f2ed-8e36-4866-9112-ada305dbc80b",
   "metadata": {},
   "source": [
    "### Немного статистики"
   ]
  },
  {
   "cell_type": "code",
   "execution_count": 26,
   "id": "013645f4-bdc9-46f6-bed9-a4e538a2248f",
   "metadata": {},
   "outputs": [
    {
     "data": {
      "text/html": [
       "<div>\n",
       "<style scoped>\n",
       "    .dataframe tbody tr th:only-of-type {\n",
       "        vertical-align: middle;\n",
       "    }\n",
       "\n",
       "    .dataframe tbody tr th {\n",
       "        vertical-align: top;\n",
       "    }\n",
       "\n",
       "    .dataframe thead th {\n",
       "        text-align: right;\n",
       "    }\n",
       "</style>\n",
       "<table border=\"1\" class=\"dataframe\">\n",
       "  <thead>\n",
       "    <tr style=\"text-align: right;\">\n",
       "      <th></th>\n",
       "      <th>file</th>\n",
       "      <th>text</th>\n",
       "      <th>start</th>\n",
       "      <th>end</th>\n",
       "      <th>time_len</th>\n",
       "    </tr>\n",
       "  </thead>\n",
       "  <tbody>\n",
       "    <tr>\n",
       "      <th>0</th>\n",
       "      <td>eve_biblical_001_1.wav</td>\n",
       "      <td>Хөвки Дукундукун укчэнэкэл</td>\n",
       "      <td>1040</td>\n",
       "      <td>3470</td>\n",
       "      <td>2430</td>\n",
       "    </tr>\n",
       "    <tr>\n",
       "      <th>1</th>\n",
       "      <td>eve_biblical_001_2.wav</td>\n",
       "      <td>Хөвки онмаин</td>\n",
       "      <td>5370</td>\n",
       "      <td>6477</td>\n",
       "      <td>1107</td>\n",
       "    </tr>\n",
       "    <tr>\n",
       "      <th>2</th>\n",
       "      <td>eve_biblical_001_3.wav</td>\n",
       "      <td>Нонан Хөвки няним нян төру оча.</td>\n",
       "      <td>7880</td>\n",
       "      <td>10710</td>\n",
       "      <td>2830</td>\n",
       "    </tr>\n",
       "    <tr>\n",
       "      <th>3</th>\n",
       "      <td>eve_biblical_001_4.wav</td>\n",
       "      <td>Тараком төррэ як-та ачча бичэ,</td>\n",
       "      <td>11486</td>\n",
       "      <td>13700</td>\n",
       "      <td>2214</td>\n",
       "    </tr>\n",
       "    <tr>\n",
       "      <th>4</th>\n",
       "      <td>eve_biblical_001_5.wav</td>\n",
       "      <td>хатарсинюн мөнюн бичэл.</td>\n",
       "      <td>14100</td>\n",
       "      <td>15560</td>\n",
       "      <td>1460</td>\n",
       "    </tr>\n",
       "  </tbody>\n",
       "</table>\n",
       "</div>"
      ],
      "text/plain": [
       "                     file                             text  start    end  \\\n",
       "0  eve_biblical_001_1.wav       Хөвки Дукундукун укчэнэкэл   1040   3470   \n",
       "1  eve_biblical_001_2.wav                     Хөвки онмаин   5370   6477   \n",
       "2  eve_biblical_001_3.wav  Нонан Хөвки няним нян төру оча.   7880  10710   \n",
       "3  eve_biblical_001_4.wav   Тараком төррэ як-та ачча бичэ,  11486  13700   \n",
       "4  eve_biblical_001_5.wav          хатарсинюн мөнюн бичэл.  14100  15560   \n",
       "\n",
       "   time_len  \n",
       "0      2430  \n",
       "1      1107  \n",
       "2      2830  \n",
       "3      2214  \n",
       "4      1460  "
      ]
     },
     "execution_count": 26,
     "metadata": {},
     "output_type": "execute_result"
    }
   ],
   "source": [
    "df = pd.DataFrame(file_phrase_start_end, columns = ['file', 'text', 'start', 'end'])\n",
    "df['time_len'] = df['end']-df['start']\n",
    "df.head()"
   ]
  },
  {
   "cell_type": "markdown",
   "id": "319b84fa-f749-41c8-9254-d5b6afa75b6b",
   "metadata": {},
   "source": [
    "**Столько звучащих минут**"
   ]
  },
  {
   "cell_type": "code",
   "execution_count": 31,
   "id": "fbfc0134-4019-4f9d-bc07-c99cae56936b",
   "metadata": {},
   "outputs": [
    {
     "data": {
      "text/plain": [
       "67.9605"
      ]
     },
     "execution_count": 31,
     "metadata": {},
     "output_type": "execute_result"
    }
   ],
   "source": [
    "df['time_len'].sum() / 60000"
   ]
  },
  {
   "cell_type": "markdown",
   "id": "fac92b88-6132-4584-ace9-e62acdb35e4d",
   "metadata": {},
   "source": [
    "**Столько минут было в аудио (с тишиной)**"
   ]
  },
  {
   "cell_type": "code",
   "execution_count": 39,
   "id": "5ffd57cc-c03d-4c48-af8a-1ee4779461eb",
   "metadata": {},
   "outputs": [
    {
     "name": "stderr",
     "output_type": "stream",
     "text": [
      "100%|███████████████████████████████████████| 120/120 [00:00<00:00, 1368.97it/s]"
     ]
    },
    {
     "name": "stdout",
     "output_type": "stream",
     "text": [
      "89.26666666666667\n"
     ]
    },
    {
     "name": "stderr",
     "output_type": "stream",
     "text": [
      "\n"
     ]
    }
   ],
   "source": [
    "filenames = os.listdir('../biblio')\n",
    "whole_l = 0\n",
    "for filename in tqdm(filenames):\n",
    "    if filename.endswith('wav'):\n",
    "        audio = WAVE(\"../biblio/\"+filename)\n",
    "        audio_info = audio.info\n",
    "        length = int(audio_info.length)\n",
    "        whole_l += length\n",
    "print(whole_l / 60)"
   ]
  }
 ],
 "metadata": {
  "kernelspec": {
   "display_name": "Python 3 (ipykernel)",
   "language": "python",
   "name": "python3"
  },
  "language_info": {
   "codemirror_mode": {
    "name": "ipython",
    "version": 3
   },
   "file_extension": ".py",
   "mimetype": "text/x-python",
   "name": "python",
   "nbconvert_exporter": "python",
   "pygments_lexer": "ipython3",
   "version": "3.12.0"
  }
 },
 "nbformat": 4,
 "nbformat_minor": 5
}
