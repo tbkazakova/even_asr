{
 "cells": [
  {
   "cell_type": "markdown",
   "id": "3c32d3ae-b54c-4e20-be3d-e43bd2be2ace",
   "metadata": {},
   "source": [
    "Эта тетрадка берёт расшифровки фраз из biblical_byspans.txt и вставляет в eaf файлы, в которых автоматически размечено, когда человек говорит (voice_activity.ipynb)"
   ]
  },
  {
   "cell_type": "code",
   "execution_count": 26,
   "id": "8fc799fb-7c02-414f-99d4-2cdd665966db",
   "metadata": {},
   "outputs": [],
   "source": [
    "import os\n",
    "from tqdm import tqdm"
   ]
  },
  {
   "cell_type": "code",
   "execution_count": 21,
   "id": "620dc4a8-8e9e-4761-bb5c-76f411527498",
   "metadata": {},
   "outputs": [],
   "source": [
    "with open('../texts/biblical_byspans.txt', encoding='utf8') as f:\n",
    "    texts = f.read().split('=====\\n')"
   ]
  },
  {
   "cell_type": "code",
   "execution_count": 22,
   "id": "d48b131e-95ac-48e2-92ba-e7679ae4a7ea",
   "metadata": {},
   "outputs": [],
   "source": [
    "spans_in_texts = []\n",
    "for text in texts:\n",
    "    spans = text.strip().split('\\n')\n",
    "    spans_in_texts.append(spans)"
   ]
  },
  {
   "cell_type": "code",
   "execution_count": 41,
   "id": "b2509e04-c7da-4315-8bb5-fdab26c5cfb9",
   "metadata": {},
   "outputs": [
    {
     "data": {
      "text/plain": [
       "(29, 29)"
      ]
     },
     "execution_count": 41,
     "metadata": {},
     "output_type": "execute_result"
    }
   ],
   "source": [
    "len(spans_in_texts), len(eaf_filenames)"
   ]
  },
  {
   "cell_type": "code",
   "execution_count": 29,
   "id": "c1662ffb-1d78-4306-806a-15fe71bf9f09",
   "metadata": {},
   "outputs": [
    {
     "data": {
      "text/plain": [
       "['001 vki onmain.eaf',\n",
       " '002 vki nonap bylbu odaan.eaf',\n",
       " '003 byl vkiduk rritne.eaf',\n",
       " '004 byl kenilikki guukenten.eaf',\n",
       " '005 vki trre mv tilkamkandaan dugulin.eaf',\n",
       " '006 byl trre oyalbudaatna nan vkiv omodaatnan.eaf',\n",
       " '007 vki byldu nan-da ichuunche.eaf',\n",
       " '008 vki avraam tedemen yaruttan.eaf',\n",
       " '009 iisus khristos baldadakan.eaf',\n",
       " '010 miami oldov epkudek.eaf',\n",
       " '011 iisus nan samariya ain.eaf',\n",
       " '012 iisus tunon tikicha byu debukendeen.eaf',\n",
       " '013 iisus bylbu bgdedden.eaf',\n",
       " '014 iisus egden unev odukanin.eaf',\n",
       " '015 arikalbu ilbeendeen.eaf',\n",
       " '016 iisus lazaru urukanin.eaf',\n",
       " '017 iisus bylbu upkuchedden.eaf',\n",
       " '018 iisus mutt u kelmettey emnin.eaf',\n",
       " '019 iisus bylbu ayday emnin.eaf',\n",
       " '020 iisus noman miavandukur mendeschirilbu mentiki gadin.eaf',\n",
       " '021 iisus kkedeken.eaf',\n",
       " '022 iisus urrin.eaf',\n",
       " '023 iisus nanindula ennin.eaf',\n",
       " '024 iisustu tederil chakabakan baldanmain.eaf',\n",
       " '025 iisus dris emenni nan yak taduk onnan.eaf',\n",
       " 'pr 001 meykechetche nyarikan khut dyogulin tele.eaf',\n",
       " 'pr 002 ay samariyankan dyogulin tele.eaf',\n",
       " 'pr 003 khebdekedek debedeklen achin dyogulin tele.eaf',\n",
       " 'pr 004 farisey nyan tamam tavama dyogulin tele.eaf']"
      ]
     },
     "execution_count": 29,
     "metadata": {},
     "output_type": "execute_result"
    }
   ],
   "source": [
    "eaf_filenames = [name for name in os.listdir(\"../biblio\") if name.endswith('.eaf')]\n",
    "sorted(eaf_filenames)"
   ]
  },
  {
   "cell_type": "code",
   "execution_count": 37,
   "id": "2cbf4c51-7521-4a91-9a28-60514226f67a",
   "metadata": {},
   "outputs": [],
   "source": [
    "templ_ann = '<ANNOTATION_VALUE>{}</ANNOTATION_VALUE>'"
   ]
  },
  {
   "cell_type": "code",
   "execution_count": 49,
   "id": "d4b1f608-e60b-44e5-b736-79ac42b5ec13",
   "metadata": {},
   "outputs": [],
   "source": [
    "for num_file, eaf_filename in enumerate(sorted(eaf_filenames)):\n",
    "    ready_eaf_file = ''\n",
    "    new_eaf_filename = eaf_filename[:-4]+'_ann.eaf'\n",
    "    if num_file != 0:  # потому что первый размечен вручную\n",
    "        with open('../biblio/'+eaf_filename, encoding='utf8') as f:\n",
    "            eaf_file = f.read()\n",
    "        for i, part in enumerate(eaf_file.split('<ANNOTATION_VALUE/>')):\n",
    "            ready_eaf_file += part\n",
    "            if i != len(spans_in_texts[num_file]):\n",
    "                ready_eaf_file += templ_ann.format(spans_in_texts[num_file][i])\n",
    "        with open('../biblio/'+new_eaf_filename, 'w', encoding='utf8') as f:\n",
    "            f.write(ready_eaf_file)"
   ]
  }
 ],
 "metadata": {
  "kernelspec": {
   "display_name": "Python 3 (ipykernel)",
   "language": "python",
   "name": "python3"
  },
  "language_info": {
   "codemirror_mode": {
    "name": "ipython",
    "version": 3
   },
   "file_extension": ".py",
   "mimetype": "text/x-python",
   "name": "python",
   "nbconvert_exporter": "python",
   "pygments_lexer": "ipython3",
   "version": "3.12.0"
  }
 },
 "nbformat": 4,
 "nbformat_minor": 5
}
