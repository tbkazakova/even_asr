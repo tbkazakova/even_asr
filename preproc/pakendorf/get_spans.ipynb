{
 "cells": [
  {
   "cell_type": "code",
   "execution_count": 19,
   "id": "8038d243-d9ee-49ad-a6a0-e5965092716b",
   "metadata": {},
   "outputs": [],
   "source": [
    "import os, re\n",
    "from collections import Counter\n",
    "from tqdm import tqdm\n",
    "from collections import OrderedDict\n",
    "from razdel import tokenize\n",
    "from bs4 import BeautifulSoup\n",
    "import warnings\n",
    "from bs4 import XMLParsedAsHTMLWarning\n",
    "warnings.filterwarnings(\"ignore\", category=XMLParsedAsHTMLWarning, module='bs4')\n",
    "from pyaspeller import YandexSpeller\n",
    "from pyaspeller import Word\n",
    "speller = YandexSpeller()"
   ]
  },
  {
   "cell_type": "markdown",
   "id": "dd089d04-f681-4525-bef5-3738815db084",
   "metadata": {},
   "source": [
    "### Транслитератор lat2cyr"
   ]
  },
  {
   "cell_type": "code",
   "execution_count": 206,
   "id": "83779d48-6a42-4829-858d-8efc407510be",
   "metadata": {},
   "outputs": [],
   "source": [
    "TRANSLIT_TABLE = {\n",
    "    \"`\": \"'\",\n",
    "    \"_\": \" \",\n",
    "    \"о\": \"o\",\n",
    "    \"а\": \"a\",\n",
    "    \"а\": \"a\",\n",
    "    \"е\": \"e\",\n",
    "    \"с\": \"c\",\n",
    "    \"р\": \"p\", # конец кир-лат\n",
    "    \"ịa\": \"я\",\n",
    "    \"ː\" : \"\",\n",
    "    \":\" : \"\",\n",
    "    \"ị\" : \"i\",\n",
    "    \"ọ\" : \"o\",\n",
    "    \"ụ\" : \"u\",\n",
    "    \"ae\": \"aе\",  # кир. е\n",
    "    \"oe\": \"oе\",  # кир. е\n",
    "    \"ue\": \"uе\",  # кир. е\n",
    "    \"ee\": \"eе\",  # кир. е\n",
    "    \"ie\": \"iе\",  # кир. е\n",
    "    \"dʒo\" : \"дё\",\n",
    "    \"dʒe\" : \"де\",\n",
    "    \"dʒi\" : \"ди\",\n",
    "    \"dʒu\" : \"дю\",\n",
    "    \"dʒa\" : \"дя\",\n",
    "    \"d'o\" : \"дё\",\n",
    "    \"d'a\" : \"дя\",\n",
    "    \"d'e\" : \"де\",\n",
    "    \"d'u\" : \"дю\",\n",
    "    \"d'i\" : \"ди\",\n",
    "    \"dʒ\" : \"дь\",\n",
    "    \"di\" : \"ды\",\n",
    "    \"ti\" : \"ты\",\n",
    "    \"ja\" : \"я\",\n",
    "    \"je\" : \"е\",\n",
    "    \"jo\" : \"ё\",\n",
    "    \"ju\" : \"ю\",\n",
    "    \"ńa\" : \"ня\",\n",
    "    \"ńo\" : \"нё\",\n",
    "    \"ńi\" : \"ни\",\n",
    "    \"ńe\" : \"не\",\n",
    "    \"ńu\" : \"ню\",\n",
    "    \"ń\" : \"нь\",\n",
    "    \"n'\" : \"нь\",\n",
    "    \"s'\" : \"сь\",\n",
    "    \"sj\" : \"сь\",\n",
    "    \"t'\" : \"ть\",\n",
    "    \"d'\" : \"дь\",\n",
    "    \"l'u\" : \"лю\",\n",
    "    \"l'a\" : \"ля\",\n",
    "    \"l'e\" : \"ле\",\n",
    "    \"l'i\" : \"ли\",\n",
    "    \"r'u\" : \"рю\",\n",
    "    \"r'a\" : \"ря\",\n",
    "    \"r'e\" : \"ре\",\n",
    "    \"r'i\" : \"ри\",\n",
    "    \"r'\" : \"рь\",\n",
    "    \"l'\" : \"ль\",\n",
    "    \"š'\" : \"шь\",\n",
    "    \"zh\" : \"ж\",\n",
    "    \"a\" : \"а\",\n",
    "    \"b\" : \"б\",\n",
    "    \"č\" : \"ч\",\n",
    "    \"ch\" : \"ч\",\n",
    "    \"c\" : \"ц\",\n",
    "    \"d\" : \"д\",\n",
    "    \"e\" : \"э\",\n",
    "    \"f\" : \"ф\",\n",
    "    \"g\" : \"г\",\n",
    "    \"γ\" : \"г\",\n",
    "    \"h\" : \"х\",\n",
    "    \"i\" : \"и\",\n",
    "    \"j\" : \"й\",\n",
    "    \"k\" : \"к\",\n",
    "    \"l\" : \"л\",\n",
    "    \"m\" : \"м\",\n",
    "    \"n\" : \"н\",\n",
    "    \"ŋ\" : \"ӈ\",\n",
    "    \"o\" : \"о\",\n",
    "    \"ö\" : \"ё\",\n",
    "    \"p\" : \"п\",\n",
    "    \"r\" : \"р\",\n",
    "    \"s\" : \"с\",\n",
    "    \"š\" : \"ш\",\n",
    "    \"t\" : \"т\",\n",
    "    \"u\" : \"у\",\n",
    "    \"ü\" : \"ю\",\n",
    "    \"v\" : \"в\",\n",
    "    \"w\" : \"в\",\n",
    "    \"x\" : \"х\",\n",
    "    \"χ\" : \"х\",\n",
    "    \"y\" : \"ы\",\n",
    "    \"ï\" : \"ы\",\n",
    "    \"ə\" : \"э\",\n",
    "    \"z\" : \"з\",\n",
    "    \"ž\" : \"ж\",\n",
    "    \"гэро\": \"геро\",\n",
    "    \"пэрэд\": \"перед\",\n",
    "    \"звэр\": \"звер\",\n",
    "    \"корэн\": \"корен\",\n",
    "    \"чэв\": \"чев\",\n",
    "    \"цэ\": \"це\",\n",
    "    \"сэло\": \"село\",\n",
    "    \"осхо\": \"ошо\",\n",
    "    \"госты\": \"гости\"}\n",
    "tr_pairs = OrderedDict(TRANSLIT_TABLE)"
   ]
  },
  {
   "cell_type": "code",
   "execution_count": 207,
   "id": "784ca204-e24e-4cdd-89dd-5548820d7821",
   "metadata": {},
   "outputs": [],
   "source": [
    "def lat2cyr(text):\n",
    "    text = text.lower().strip()\n",
    "    for lat, cyr in tr_pairs.items():\n",
    "        text = text.replace(lat,cyr)\n",
    "    return text"
   ]
  },
  {
   "cell_type": "markdown",
   "id": "7ac962c2-92fb-441d-8316-b81709d05588",
   "metadata": {},
   "source": [
    "### Транслитератор cyr2cyr"
   ]
  },
  {
   "cell_type": "code",
   "execution_count": 208,
   "id": "b8f48b0c-6c88-412f-b5b6-70c285f77d0d",
   "metadata": {},
   "outputs": [],
   "source": [
    "TRANSLIT_TABLE_cyr = {\n",
    "    \"ŋ\" : \"ӈ\",\n",
    "    \"қ\" : \"к\",\n",
    "    \"\" : \"г\",\n",
    "    \"ҕ\" : \"г\",\n",
    "    \"h\" : \"х\",\n",
    "    \"χ\" : \"х\",\n",
    "    \"дьо\" : \"дё\",\n",
    "    \"дьэ\" : \"де\",\n",
    "    \"дьа\" : \"дя\",\n",
    "    \"дьу\" : \"ню\",\n",
    "    \"ньо\" : \"нё\",\n",
    "    \"ньэ\" : \"не\",\n",
    "    \"ньа\" : \"ня\",\n",
    "    \"ньу\" : \"ню\"\n",
    "}\n",
    "tr_pairs_cyr = OrderedDict(TRANSLIT_TABLE_cyr)\n",
    "\n",
    "def cyr2cyr(sent):\n",
    "    sent = sent.lower().strip()\n",
    "    for lat, cyr in tr_pairs_cyr.items():\n",
    "        sent = sent.replace(lat,cyr)\n",
    "    correction = re.sub(r'(.*?\\w[.,!?:])(\"?\\w.*?)', r'\\1 \\2', sent)\n",
    "    correction = re.sub(r'(.*?\\w\\w\\w)-(\\w\\w\\w.*?)', r'\\1 - \\2', correction)\n",
    "    return correction"
   ]
  },
  {
   "cell_type": "markdown",
   "id": "d815c39f-38b6-45d8-a07e-d398a431083a",
   "metadata": {},
   "source": [
    "### Проверка русского"
   ]
  },
  {
   "cell_type": "code",
   "execution_count": 5,
   "id": "a5b68df9-e904-4584-83b5-e706336c6465",
   "metadata": {},
   "outputs": [],
   "source": [
    "# я написала спелчекер с яндексовской библиотекой, но работало не очень\n",
    "# sent = 'я, я-то в эссо эздыла, вот они здэсь отделно дэлаэтэ приэду отличаэтся мэдвэдь иды по-своэму'\n",
    "# def rucheck(sent):\n",
    "#     for word in tokenize(sent):\n",
    "#         correction = Word(word.text).spellsafe\n",
    "#         if correction:\n",
    "#             if word.text.replace('э', '').replace('ы', '').replace('ь', '').replace('и', '') == correction.replace('э', '').replace('е', '').replace('ы', '').replace('и', '').replace('ь', ''):  # otdelno\n",
    "#                 sent = sent[:word.start] + correction + sent[word.stop:]\n",
    "#     return sent\n",
    "# \n",
    "# rucheck(sent)"
   ]
  },
  {
   "cell_type": "code",
   "execution_count": 6,
   "id": "fa619964-6262-4f2a-818b-b08cb6ed0ba7",
   "metadata": {},
   "outputs": [
    {
     "name": "stderr",
     "output_type": "stream",
     "text": [
      "\n",
      "KeyboardInterrupt\n",
      "\n"
     ]
    }
   ],
   "source": [
    "wiki_data = open('data/wiki_data.txt', encoding='utf8').readlines()\n",
    "lib_rus = open('data/lib_rus_ec_2016_utf.txt', encoding='utf8').readlines()  # Источник: minio.cosyco.ru"
   ]
  },
  {
   "cell_type": "code",
   "execution_count": null,
   "id": "d531f806-9837-4d00-bd65-b02559e04a84",
   "metadata": {},
   "outputs": [],
   "source": [
    "corpus = wiki_data + lib_rus"
   ]
  },
  {
   "cell_type": "code",
   "execution_count": 27,
   "id": "ac18534a-7320-4ffb-a8c6-6c44c614a885",
   "metadata": {},
   "outputs": [
    {
     "name": "stderr",
     "output_type": "stream",
     "text": [
      " 11%|███▍                           | 861910/7892774 [12:41<02:48, 41646.13it/s]IOStream.flush timed out\n",
      "100%|█████████████████████████████| 7892774/7892774 [1:32:19<00:00, 1424.88it/s]\n"
     ]
    }
   ],
   "source": [
    "tokens = []\n",
    "for line in tqdm(corpus):\n",
    "    tokens.extend(re.findall(r'[\\w-]+', line.lower()))"
   ]
  },
  {
   "cell_type": "code",
   "execution_count": 36,
   "id": "3b93372e-3c3f-427f-840b-764fc632bf06",
   "metadata": {},
   "outputs": [],
   "source": [
    "vocab = Counter(tokens)"
   ]
  },
  {
   "cell_type": "code",
   "execution_count": 44,
   "id": "31c9ceda-1c59-4c52-80f6-afc45696becc",
   "metadata": {},
   "outputs": [],
   "source": [
    "with open('tokens.txt', 'w', encoding='utf8') as f:\n",
    "    for w, k in vocab.items():\n",
    "        f.write(w + ' ' + str(k)+ '\\n')"
   ]
  },
  {
   "cell_type": "code",
   "execution_count": 23,
   "id": "60590679-8aef-4a8a-ae86-c6d0f54b3568",
   "metadata": {},
   "outputs": [],
   "source": [
    "with open('tokens.txt', encoding='utf8') as f:\n",
    "    word_num = f.readlines()"
   ]
  },
  {
   "cell_type": "code",
   "execution_count": 24,
   "id": "a4746ea1-8b65-4ffb-b219-2cef9f50256a",
   "metadata": {},
   "outputs": [
    {
     "name": "stderr",
     "output_type": "stream",
     "text": [
      "100%|█████████████████████████████| 2081652/2081652 [00:08<00:00, 252053.85it/s]\n"
     ]
    }
   ],
   "source": [
    "vocab = {}\n",
    "for line in tqdm(word_num):\n",
    "    word, num = line.split()\n",
    "    vocab[word] = int(num)"
   ]
  },
  {
   "cell_type": "code",
   "execution_count": 25,
   "id": "5cae9230-666d-4f73-aab8-c294ad9da4a9",
   "metadata": {},
   "outputs": [],
   "source": [
    "N = sum(vocab.values())\n",
    "def P(word, N=N):\n",
    "    return vocab[word] / N"
   ]
  },
  {
   "cell_type": "code",
   "execution_count": 26,
   "id": "9d7631cc-1a17-4ca8-a011-330496ca4b1d",
   "metadata": {},
   "outputs": [],
   "source": [
    "del vocab['еч']\n",
    "del vocab['иавь']\n",
    "del vocab['ечь']\n",
    "del vocab['нань']\n",
    "del vocab['бее']\n",
    "del vocab['беем']\n",
    "del vocab['радытели']\n",
    "del vocab['явь']\n",
    "del vocab['нянь']\n",
    "del vocab['муть']"
   ]
  },
  {
   "cell_type": "code",
   "execution_count": 93,
   "id": "f9b50f91-270e-48c5-aad3-91ca3a8e3865",
   "metadata": {},
   "outputs": [],
   "source": [
    "vocab['охотничее'] = 1\n",
    "vocab['радители'] = 1\n",
    "vocab['нартовые'] = 1\n",
    "vocab['чумработница'] = 1"
   ]
  },
  {
   "cell_type": "code",
   "execution_count": 78,
   "id": "ad3a0113-db08-4839-b95d-79326f92b9ec",
   "metadata": {},
   "outputs": [],
   "source": [
    "# Medved podvel\n",
    "word_rules = {'эе': 'ээ',\n",
    "              'эссо': 'эссо'}\n",
    "def check_word(word):\n",
    "    vars = [word]\n",
    "    for var in vars:\n",
    "        for i, letter in enumerate(var):\n",
    "            if letter == 'э':\n",
    "                vars.append(var[:i] + 'е' + var[i+1:])\n",
    "    for var in vars:\n",
    "        if 'ты' in var:\n",
    "            vars.append(var.replace('ты', 'ти', 1))\n",
    "    for var in vars:\n",
    "        if 'ды' in var:\n",
    "            vars.append(var.replace('ды', 'ди', 1))\n",
    "    for var in vars:\n",
    "        if 'шч' in var:\n",
    "            vars.append(var.replace('шч', 'щ', 1))\n",
    "    for var in vars:\n",
    "            if 'тс' in var:\n",
    "                vars.append(var.replace('тс', 'ц', 1))\n",
    "    for var in vars:\n",
    "        splits  = [(var[:i], var[i:]) for i in range(len(var) + 1)]\n",
    "        inserts = [L + 'ь' + R for L, R in splits]\n",
    "    set_vars = set(vars + inserts)\n",
    "    # print('set_vars', set_vars)\n",
    "    vocab_vars = set(w for w in set_vars if w in vocab)\n",
    "    # print('vocab_vars', vocab_vars)\n",
    "    if word in word_rules:\n",
    "        correction = word_rules[word]\n",
    "    elif vocab_vars:\n",
    "        correction = max(vocab_vars, key=P)\n",
    "    else:\n",
    "        correction = word\n",
    "    return correction\n",
    "\n",
    "def check_sent(sent):\n",
    "    sent = sent.lower().strip()\n",
    "    for word in tokenize(sent):\n",
    "        correction = check_word(word.text)\n",
    "        if correction != word.text:\n",
    "            sent = sent.replace(word.text, correction, 1)\n",
    "    return sent"
   ]
  },
  {
   "cell_type": "markdown",
   "id": "0b3559c4-b1dd-4fa7-94da-25285f2cb523",
   "metadata": {},
   "source": [
    "# Форматы -> таблица (аудио, фраза, checked_фраза, start, end)"
   ]
  },
  {
   "cell_type": "code",
   "execution_count": 28,
   "id": "88b53867-4a1c-4cdd-be7f-85d3a7f1e3c7",
   "metadata": {},
   "outputs": [],
   "source": [
    "# Получаем soup файла\n",
    "def get_soup(filename):\n",
    "    with open('../audio/'+filename) as f:\n",
    "        file = f.read()\n",
    "    soup = BeautifulSoup(file)\n",
    "    return soup"
   ]
  },
  {
   "cell_type": "code",
   "execution_count": 29,
   "id": "63c0e0f9-97f6-421d-a633-745ca47f126d",
   "metadata": {},
   "outputs": [],
   "source": [
    "# Получаем таймкоды границ\n",
    "def get_timecodes(soup):\n",
    "    timecodes = soup.find_all('time_slot')\n",
    "    ts_msec = {}\n",
    "    for timecode in timecodes:\n",
    "        if timecode.get('time_value'):\n",
    "            ts_msec[timecode.get('time_slot_id')] = int(timecode.get('time_value'))\n",
    "    return ts_msec"
   ]
  },
  {
   "cell_type": "markdown",
   "id": "f2eb73b8-0f6a-4316-82fa-86ef6f75a13b",
   "metadata": {},
   "source": [
    "### Формат id, tx (латиница)"
   ]
  },
  {
   "cell_type": "code",
   "execution_count": 259,
   "id": "1a87b942-f995-424f-afdd-eddd4e79e1f2",
   "metadata": {},
   "outputs": [],
   "source": [
    "filenames = [\"Bystraja District__Conversations__Adukanova_Ichanga_Managic__Managic.eaf\",\n",
    "             \"Bystraja District__Narratives__Personal Narratives__Adukanova_DB_life__Adukanova_Darja_Borisovna_2010_02_01.eaf\",\n",
    "             \"Bystraja District__Narratives__Personal Narratives__Adukanova_EG_Managic__Adukanova_EG_Managic.eaf\",\n",
    "             \"Bystraja District__Narratives__Personal Narratives__Amganov_EI_crossing_river_140609__Amganov_EI_crossing_river.eaf\",\n",
    "             \"Bystraja District__Narratives__Personal Narratives__Amganov_EI_ducks_Esso_140609__Amganov_EI_ducks_Esso_140609.eaf\",\n",
    "             \"Bystraja District__Narratives__Personal Narratives__Amganov_EI_eggs_Esso_140609__Amganov_eggs.eaf\",\n",
    "             \"Bystraja District__Narratives__Personal Narratives__Amganov_EI_first_tractor__Amganov_EI_first_tractor_2010_01_30.eaf\",\n",
    "             \"Bystraja District__Narratives__Personal Narratives__Amganov_EI_food_from_sky_Esso_140609__Amganov_food_from_sky.eaf\",\n",
    "             \"Bystraja District__Narratives__Personal Narratives__Amganov_EI_kids_uphill_Esso_140609__Amganov_kids_uphill.eaf\",\n",
    "             \"Bystraja District__Narratives__Personal Narratives__Amganov_EI_kino_Esso_140609__Amganov_kino.eaf\",\n",
    "             \"Bystraja District__Narratives__Personal Narratives__Amganov_EI_live_duck_Esso_140609__Amganov_EI_live_duck_Esso_140609.eaf\",\n",
    "             \"Bystraja District__Narratives__Personal Narratives__Amganov_EI_pugalo_Esso_140609__Amganov_pugalo.eaf\",\n",
    "             \"Bystraja District__Narratives__Personal Narratives__Amganov_EI_whip_Esso_140609__Amganov_whip.eaf\",\n",
    "             \"Bystraja District__Narratives__Personal Narratives__Ichanga_NF_Managic__Ichanga_Nikolaj_Fomich.eaf\",\n",
    "             \"Bystraja District__Procedural texts__Axmetova_VI_scraping_fur__Axmetova_VI_pyzhik_LZ_RM.eaf\",\n",
    "             \"Sebjan-Küöl__Conversations__RDA_TPK_birth__RDA_TPK_birth.eaf\",\n",
    "             \"Sebjan-Küöl__Conversations__RDA_TPK_death__RDA_TPK_death.eaf\",\n",
    "             \"Sebjan-Küöl__Conversations__RDA_TPK_delburge__RDA_TPK_delburge.eaf\",\n",
    "             \"Sebjan-Küöl__Conversations__RDA_TPK_hongachan_baldarakan__RDA_TPK_hongachan_baldarakan.eaf\",\n",
    "             \"Sebjan-Küöl__Conversations__RDA_TPK_names_origins__RDA_TPK_names_origins.eaf\",\n",
    "             \"Sebjan-Küöl__Conversations__RDA_TPK_spirits__RDA_TPK_spirits.eaf\",\n",
    "             \"Sebjan-Küöl__Explanatory materials__Daily life__Krivoshapkin_SP_oxota__Krivoshapkin_SP_oxota_260210_Sebjan.eaf\",\n",
    "             \"Sebjan-Küöl__Explanatory materials__Social Organization__Burtsev_ID_traditions__Burtsev_ID_traditions_040310.eaf\",\n",
    "             \"Sebjan-Küöl__Explanatory materials__Social Organization__Kirillina_KK_history__Kirillina_KK_history_210310_Sebjan.eaf\",\n",
    "             \"Sebjan-Küöl__Explanatory materials__Social Organization__Krivoshapkina_AX_Sebjan_history1__Krivoshapkina_AX_Sebjan_history1_240310_Sebjan.eaf\",\n",
    "             \"Sebjan-Küöl__Explanatory materials__Social Organization__Stepanova_NA_nomadic_school_110310__Stepanova_NA_kochevaja_shkola_110310_Sebjan.eaf\",\n",
    "             \"Sebjan-Küöl__Narratives__Personal Narratives__Kejmetinova_AA_headmistress__Kejmetinova_AA_headmistress_Yakutsk_311010.eaf\",\n",
    "             \"Sebjan-Küöl__Narratives__Personal Narratives__Kejmetinova_XA_various__Kejmetinova_XA_various.eaf\",\n",
    "             \"Sebjan-Küöl__Narratives__Personal Narratives__Krivoshapkin_Misha_school__Krivoshapkin_Misha_school_220310_Sebjan.eaf\",\n",
    "             \"Sebjan-Küöl__Narratives__Personal Narratives__Stepanova_ZA_jubki_Aniwrin__Stepanova_ZA_jubki_Aniwrin_230210_Sebjan.eaf\",\n",
    "             \"Sebjan-Küöl__Narratives__Personal Narratives__Suzopova_Olja_Eveny_Tompo__Suzopova_Olja_eveny_Tompo_240310_Sebjan.eaf\",\n",
    "             \"Sebjan-Küöl__Narratives__Personal Narratives__Suzopova_Olja_pro_babushku__Suzopova_Olja_pro_babushku_240310_Sebjan.eaf\",\n",
    "             \"Sebjan-Küöl__Narratives__Personal Narratives__Suzopova_Olja_stado__Suzopova_Olja_stado_240310_Sebjan.eaf\",\n",
    "             \"Topolinoe__Explanatory texts__Social Organization__Top09_ZKM_2.4_Hebdjek_Festival_1__Top09_ZKM_2_4_Hebdjek_1a.eaf\",\n",
    "             \"Topolinoe__Narratives__Folklore__Top07_GNM1_Ed'ek__Top07_Golikova1_Edjek.eaf\",\n",
    "             \"Topolinoe__Narratives__Folklore__Top07_ZKM_1a_Raven__Top_07_ZKM_1a_Raven.eaf\",\n",
    "             \"Topolinoe__Narratives__Folklore__Top07_ZKM_1b_Birds__Top07_ZKM_1b_Birds.eaf\",\n",
    "             \"Topolinoe__Narratives__Personal Narratives__Top09_GNM_3_3-fun-misunderst-dial1__Top09_GNM_3_3_Fun_Misunderst_Dial1-reimport.eaf\"]"
   ]
  },
  {
   "cell_type": "code",
   "execution_count": 260,
   "id": "cdc7bd4d-d744-45a8-9a2a-c9e7a59985f8",
   "metadata": {},
   "outputs": [
    {
     "name": "stderr",
     "output_type": "stream",
     "text": [
      "100%|███████████████████████████████████████████| 38/38 [00:28<00:00,  1.34it/s]\n"
     ]
    }
   ],
   "source": [
    "files_phrases_tc_idtx = []\n",
    "\n",
    "for filename in tqdm(filenames):\n",
    "    soup = get_soup(filename)\n",
    "    ts_msec = get_timecodes(soup)\n",
    "    wavname = filename[:-4]+'.wav'\n",
    "    \n",
    "    # У слотов фраз узнаём границы\n",
    "    parent_anns = {}\n",
    "    for tier in soup.find_all('tier'):\n",
    "        if tier.get('linguistic_type_ref') == 'id' and tier.get('tier_id') != 'id@comment':\n",
    "            al_anns = tier.find_all('alignable_annotation')\n",
    "            for al_ann in al_anns:\n",
    "                ann_id = al_ann.get('annotation_id')\n",
    "                ref1 = al_ann.get('time_slot_ref1')\n",
    "                ref2 = al_ann.get('time_slot_ref2')\n",
    "                parent_anns[ann_id] = [ref1, ref2]\n",
    "    # Соединяем слова в предложения, помним родительский слот фразы.\n",
    "    ann_ref = 0\n",
    "    ann_phrase = {}\n",
    "    for tier in soup.find_all('tier'):\n",
    "        if tier.get('linguistic_type_ref') == 'tx' and tier.get('tier_id') != 'tx@comment':\n",
    "            ref_anns = tier.find_all('ref_annotation')\n",
    "            for ref_ann in ref_anns:\n",
    "                ann_ref = ref_ann.get('annotation_ref')\n",
    "                word = ref_ann.find('annotation_value').text\n",
    "                if ann_ref in ann_phrase:\n",
    "                    ann_phrase[ann_ref] += ' ' + word\n",
    "                else:\n",
    "                    ann_phrase[ann_ref] = word\n",
    "    for ann in ann_phrase:\n",
    "        files_phrases_tc_idtx.append([wavname,\n",
    "                                      ann_phrase[ann].strip(),\n",
    "                                      check_sent(lat2cyr(ann_phrase[ann])),\n",
    "                                      ts_msec[parent_anns[ann][0]],\n",
    "                                      ts_msec[parent_anns[ann][1]]])"
   ]
  },
  {
   "cell_type": "code",
   "execution_count": 261,
   "id": "556d8297-ba47-4cc0-93a2-d4db26e946b3",
   "metadata": {},
   "outputs": [],
   "source": [
    "idtx = pd.DataFrame(files_phrases_tc_idtx, columns = ['filename', 'phrase',\n",
    "                                                      'checked', 'start', 'end'])"
   ]
  },
  {
   "cell_type": "markdown",
   "id": "bf8c1da4-f176-4d84-b2f9-df36818bf985",
   "metadata": {},
   "source": [
    "### Формат ev (кириллица)"
   ]
  },
  {
   "cell_type": "code",
   "execution_count": 262,
   "id": "54d2e3c5-0df0-46fc-8879-e6df738a1c69",
   "metadata": {},
   "outputs": [],
   "source": [
    "filenames = [\"Bystraja District__Conversations__Paderina_JI_Egorova_RM_conversation_Esso__Paderina_JI_Egorova_RM_razgovor_070709_Esso.eaf\",\n",
    "             \"Topolinoe__Music Sound__Songs Dances__Top09_PAI_1a_songs&life__Top_PAI_1a_Songs-Life.eaf\",\n",
    "             \"Topolinoe__Narratives__Folklore__Top09_PAI_1b_nimkan&life__Top_PAI_1b_Nimkan-Life.eaf\",\n",
    "             \"Topolinoe__Narratives__Personal Narratives__Top09_DMP_1a_Life__Top09_DMP_1a-Life.ZOOM.eaf\",\n",
    "             \"Topolinoe__Narratives__Personal Narratives__Top09_DMP_1b_Shaman__Top09_DMP_1b_Schaman.eaf\",\n",
    "             \"Topolinoe__Narratives__Personal Narratives__Top09_GNM_1_1-Childhood__Top_gol.n.m.1.1.eaf\",\n",
    "             \"Topolinoe__Procedural texts__Top09_GNM_5_Sewing-Unty__TOP_GNM_5_Unty_Sewing.eaf\",\n",
    "             \"Topolinoe__Narratives__Personal Narratives__Top09_SEV_2_1_childhood_history__Top_SEV_2_1_childhood_history.eaf\"]"
   ]
  },
  {
   "cell_type": "code",
   "execution_count": 263,
   "id": "ed528e51-6e55-4b61-815e-73a1b9258bfd",
   "metadata": {},
   "outputs": [
    {
     "name": "stderr",
     "output_type": "stream",
     "text": [
      "100%|█████████████████████████████████████████████| 8/8 [00:01<00:00,  4.20it/s]\n"
     ]
    }
   ],
   "source": [
    "files_phrases_tc_ev = []\n",
    "\n",
    "for filename in tqdm(filenames):\n",
    "    wavname = filename[:-4]+'.wav'\n",
    "    soup = get_soup(filename)\n",
    "    ts_msec = get_timecodes(soup)\n",
    "    # Соединяем слова в предложения, помним родительский слот фразы.\n",
    "    ann_ref = 0\n",
    "    ann_phrase = {}\n",
    "    for tier in soup.find_all('tier'):\n",
    "        if tier.get('tier_id').startswith('ev@'):\n",
    "            anns = tier.find_all('alignable_annotation')\n",
    "            for ann in anns:\n",
    "                ann_ts_1 = ann.get('time_slot_ref1')\n",
    "                ann_ts_2 = ann.get('time_slot_ref2')\n",
    "                phrase = ann.find('annotation_value').text\n",
    "                if re.search(r'[A-Za-z]', cyr2cyr(phrase)):\n",
    "                    checked = check_sent(lat2cyr(phrase))\n",
    "                else:\n",
    "                    checked = cyr2cyr(phrase)\n",
    "                files_phrases_tc_ev.append([wavname,\n",
    "                                    phrase.strip(),\n",
    "                                    checked,\n",
    "                                    ts_msec[ann_ts_1],\n",
    "                                    ts_msec[ann_ts_2]])"
   ]
  },
  {
   "cell_type": "code",
   "execution_count": 264,
   "id": "ab6723f5-2150-4d81-a21a-54763511cda3",
   "metadata": {},
   "outputs": [],
   "source": [
    "ev = pd.DataFrame(files_phrases_tc_ev, columns = ['filename', 'phrase',\n",
    "                                                  'checked', 'start', 'end'])"
   ]
  },
  {
   "cell_type": "markdown",
   "id": "a4d70449-d784-4ce1-bb31-333e4d4af74a",
   "metadata": {},
   "source": [
    "### Формат id, tx (латиница), ft объединяет"
   ]
  },
  {
   "cell_type": "code",
   "execution_count": 265,
   "id": "12edbfc0-7025-41a0-9d11-8137ef6579a3",
   "metadata": {},
   "outputs": [],
   "source": [
    "filenames = [\"Topolinoe__Explanatory texts__Reindeer__Top09_GNM_1_2-sacred-reindeer__Top09_GNM_1_2-sacred-reindeer.eaf\",\n",
    "             \"Bystraja District__Narratives__Folklore__Egorova_RM_fox_wolf__Egorova_RM_fox_wolf_Esso_240609.eaf\",\n",
    "             \"Bystraja District__Narratives__Folklore__Egorova_RM_Uindja__Egorova_RM_Uindja_Esso_240609.eaf\",\n",
    "             \"Bystraja District__Narratives__Personal Narratives__Amganov_EI_leaving_Twajan__Amganov_EI_leaving_Twajan_2010_01_30.eaf\",\n",
    "             \"Bystraja District__Narratives__Personal Narratives__Bataxaeva_TE_childhood__Bataxaeva_TE_childhood_Esso_14-06-09.eaf\",\n",
    "             \"Bystraja District__Narratives__Personal Narratives__Solodikov_AA_bearhunt__Solodikov_AA_bearhunt.eaf\",\n",
    "             \"Bystraja District__Narratives__Personal Narratives__Solodikov_AA_muxa_roditeli__Solodikov_AA_muxa_roditeli_NA.eaf\",\n",
    "             \"Bystraja District__Narratives__Personal Narratives__Solodikov_AA_Tabun_1__Solodikov_AA_tabun_1.eaf\",\n",
    "             \"Bystraja District__Narratives__Personal Narratives__Solodikov_AA_Tabun_2__Solodikov_AA_tabun_2.eaf\",\n",
    "             \"Bystraja District__Narratives__Personal Narratives__Solodikov_Artem_Nikolaevich_Managich_180609__Solodikov_Artem_Nikolaevich_Managich_180609.eaf\",\n",
    "             \"Bystraja District__Narratives__Folklore__Lomovceva_Grigorieva_Duo__Kam10_Lomovceva_Grigorieva_Duo.eaf\"]"
   ]
  },
  {
   "cell_type": "code",
   "execution_count": 266,
   "id": "e078f221-50ee-4da6-9bf0-c7bf6bb37acf",
   "metadata": {},
   "outputs": [
    {
     "name": "stderr",
     "output_type": "stream",
     "text": [
      "100%|███████████████████████████████████████████| 11/11 [00:06<00:00,  1.74it/s]\n"
     ]
    }
   ],
   "source": [
    "files_phrases_tc_ft = []\n",
    "\n",
    "for filename in tqdm(filenames):\n",
    "    soup = get_soup(filename)\n",
    "    ts_msec = get_timecodes(soup)\n",
    "    phrase_timecodes = OrderedDict()\n",
    "    phrase = []\n",
    "    for tier in soup.find_all('tier'):\n",
    "        if tier.get('tier_id').startswith('tx@') and tier.get('tier_id') != 'tx@comment':\n",
    "            anns = tier.find_all('alignable_annotation')\n",
    "            for ann in anns:\n",
    "                ann_ts_1 = ann.get('time_slot_ref1')\n",
    "                ann_ts_2 = ann.get('time_slot_ref2')\n",
    "                word = ann.find('annotation_value').text\n",
    "                phrase.append(word)\n",
    "                if ann_ts_1 in ts_msec:\n",
    "                    start = ts_msec[ann_ts_1]\n",
    "                if ann_ts_2 in ts_msec:\n",
    "                    end = ts_msec[ann_ts_2]\n",
    "                    phrase_timecodes[' '.join(phrase)] = (start, end)\n",
    "                    phrase = []\n",
    "    wavname = filename[:-4]+'.wav'\n",
    "    for phrase, timecodes in phrase_timecodes.items():\n",
    "        files_phrases_tc_ft.append([wavname,\n",
    "                                    phrase.strip(),\n",
    "                                    check_sent(lat2cyr(phrase)),\n",
    "                                    timecodes[0],\n",
    "                                    timecodes[1]])"
   ]
  },
  {
   "cell_type": "code",
   "execution_count": 267,
   "id": "2c433aed-018b-4f05-b3d9-afc87c854e5f",
   "metadata": {},
   "outputs": [],
   "source": [
    "ft = pd.DataFrame(files_phrases_tc_ft, columns = ['filename', 'phrase',\n",
    "                                                  'checked', 'start', 'end'])"
   ]
  },
  {
   "cell_type": "markdown",
   "id": "6bf353d8-2fb3-4f76-ab50-20dce48509b8",
   "metadata": {},
   "source": [
    "### Формат id, tx (латиница), ev (кириллица)"
   ]
  },
  {
   "cell_type": "code",
   "execution_count": 268,
   "id": "b10ed8ee-94f5-46b9-982f-4161f964b8b1",
   "metadata": {},
   "outputs": [],
   "source": [
    "filenames = [\"Sebjan-Küöl__Explanatory materials__Social Organization__Krivoshapkina_AX_Even_wedding__Krivoshapkina_AX_svatovstvo_25032009_Sebjan.eaf\",\n",
    "             \"Sebjan-Küöl__Music Sound__Songs Dances__3_women_songs__3_women_songs_190310_Sebjan.eaf\",\n",
    "             \"Sebjan-Küöl__Music Sound__Songs Dances__Zaxarov_AV_song__Zaxarov_AV_song_180310_Sebjan.eaf\",\n",
    "             \"Sebjan-Küöl__Narratives__Folklore__Kirillina_KK_emchen__Kirillina_KK_emcheni_220310_Sebjan.eaf\",\n",
    "             \"Sebjan-Küöl__Narratives__Folklore__Neustroev_PD_Sebjan__Neustroev_PD_nimkan_25032009_Sebjan.eaf\",\n",
    "             \"Sebjan-Küöl__Narratives__Personal Narratives__Alekseeva_RD_chuchuna_family__Alekseeva_RD_chuchuna_family_190210.eaf\",\n",
    "             \"Sebjan-Küöl__Narratives__Personal Narratives__Alekseeva_RD_lost_tapes_znatoki__Alekseeva_RD_lost_tapes_znatoki_190210.eaf\",\n",
    "             \"Sebjan-Küöl__Narratives__Personal Narratives__Alekseeva_RD_old_remains_traditions__Alekseeva_RD_old_remains_traditions_190210.eaf\",\n",
    "             \"Sebjan-Küöl__Narratives__Personal Narratives__Alekseeva_RD_shatun__Alekseeva_RD_shatun_190210.eaf\",\n",
    "             \"Sebjan-Küöl__Narratives__Personal Narratives__Krivoshapkina_MK_nastavlenie_materi__Krivoshapkina_MK_nastavlenie_materi_Sebjan_11032012.eaf\",\n",
    "             \"Sebjan-Küöl__Narratives__Personal Narratives__Stepanova_ZA_arrival_Tashkent__Stepanova_ZA_arrival_Tashkent.eaf\",\n",
    "             \"Sebjan-Küöl__Narratives__Personal Narratives__Stepanova_ZA_naled__Stepanova_ZA_naled_23022010_Sebjan.eaf\",\n",
    "             \"Sebjan-Küöl__Narratives__Personal Narratives__Zaxarov_AV_indjuk_internat__Zaxarov_AV_indjuk_internat_180310_Sebjan_2.eaf\",\n",
    "             \"Topolinoe__Conversations__Top09_GNM_SAT_conversation__Top09_GNM_SAT_conversation.eaf\",\n",
    "             \"Topolinoe__Explanatory texts__Flora__Top09_ZTA_2_2_healing-shaman-taboo__Top09_ZTA_2_2_HealingDreamsTaboos.eaf\",\n",
    "             \"Topolinoe__Explanatory texts__Reindeer__Top09_GNM_4_1_Reindeer-birds-colours-rituals__TOP09_GNM_4_1_Reindeer_masti_ritual.eaf\",\n",
    "             \"Topolinoe__Music Sound__Songs Dances__Top09_GMG_1275-bird.song__Top09_GMG_1275-bird.song.eaf\",\n",
    "             \"Topolinoe__Music Sound__Songs Dances__Top09_GMG_1276-chipmunk__Top09_GMG_1276-chipmunk.eaf\",\n",
    "             \"Topolinoe__Narratives__Folklore__Top09_GMG_1277-Glove.Love__Top09_GMG_1277.Glove.Love.eaf\",\n",
    "             \"Topolinoe__Narratives__Personal Narratives__Top09_GNM_2_3_shamans and kulaks__Top09_GNM_2_3_shamans_and_kulaks.eaf\",\n",
    "             \"Topolinoe__Narratives__Personal Narratives__Top09_GNM_3_2_Funny Story about Father__Top09_GNM_3_2_Funny_Story_about_Father.eaf\",\n",
    "             \"Topolinoe__Narratives__Personal Narratives__Top09_GNM_4_3_Funny Story about a fawn__Top09_GNM_4_3_FunStory_Angacha.eaf\",\n",
    "             \"Topolinoe__Narratives__Personal Narratives__Top09_LVA_LSM_1_1a_Shaman__TOP09_LVA_LSM_1_1a_Shaman-reimport.eaf\",\n",
    "             \"Topolinoe__Narratives__Personal Narratives__Top09_LVA_LSM_1_1b_Shaman__Top09_LVA_LSM_1_1b_Shaman-reimport.eaf\",\n",
    "             \"Topolinoe__Narratives__Personal Narratives__Top09_TMA_1_2_Hunt__Top09_TMA_1_2_Hunt-reimport.eaf\",\n",
    "             \"Topolinoe__Narratives__Ritual texts__TOP09_GNM_6_3_Dead Spirit Baby__Top09_GNM_6_3_Dead_Spirit_Baby.eaf\",\n",
    "             \"Topolinoe__Narratives__Personal Narratives__Top09_LVA_LSM_1_2_Shaman__Top09_LVA_LSM_1_2_Shaman.eaf\"]"
   ]
  },
  {
   "cell_type": "code",
   "execution_count": 269,
   "id": "9eb034dd-4305-4ff3-9263-02048d6b0d93",
   "metadata": {},
   "outputs": [
    {
     "name": "stderr",
     "output_type": "stream",
     "text": [
      "100%|███████████████████████████████████████████| 27/27 [00:20<00:00,  1.33it/s]\n"
     ]
    }
   ],
   "source": [
    "files_phrases_tc_idtxev = []\n",
    "\n",
    "for filename in tqdm(filenames):\n",
    "    soup = get_soup(filename)\n",
    "    ts_msec = get_timecodes(soup)\n",
    "\n",
    "    # У слотов фраз узнаём границы\n",
    "    parent_anns = {}\n",
    "    for tier in soup.find_all('tier'):\n",
    "        if tier.get('linguistic_type_ref') == 'id' and tier.get('tier_id') != 'id@comment':\n",
    "            al_anns = tier.find_all('alignable_annotation')\n",
    "            for al_ann in al_anns:\n",
    "                ann_id = al_ann.get('annotation_id')\n",
    "                ref1 = al_ann.get('time_slot_ref1')\n",
    "                ref2 = al_ann.get('time_slot_ref2')\n",
    "                parent_anns[ann_id] = [ref1, ref2]\n",
    "    # Соединяем слова в предложения, помним родительский слот фразы.\n",
    "    ann_ref = 0\n",
    "    ann_phrase = {}\n",
    "    for tier in soup.find_all('tier'):\n",
    "        if tier.get('linguistic_type_ref') == 'tx' and tier.get('tier_id') != 'tx@comment':\n",
    "            ref_anns = tier.find_all('ref_annotation')\n",
    "            for ref_ann in ref_anns:\n",
    "                ann_ref = ref_ann.get('annotation_ref')\n",
    "                word = ref_ann.find('annotation_value').text\n",
    "                if ann_ref in ann_phrase:\n",
    "                    ann_phrase[ann_ref] += ' ' + word\n",
    "                else:\n",
    "                    ann_phrase[ann_ref] = word\n",
    "    wavname = filename[:-4]+'.wav'\n",
    "    for ann in ann_phrase:\n",
    "        files_phrases_tc_idtxev.append([wavname,\n",
    "                                       ann_phrase[ann].strip(),\n",
    "                                       check_sent(lat2cyr(ann_phrase[ann])),\n",
    "                                       ts_msec[parent_anns[ann][0]],\n",
    "                                       ts_msec[parent_anns[ann][1]]])"
   ]
  },
  {
   "cell_type": "code",
   "execution_count": 270,
   "id": "0f15bc1c-5278-4d47-b1de-f00424d89703",
   "metadata": {},
   "outputs": [],
   "source": [
    "idtxev = pd.DataFrame(files_phrases_tc_idtxev, columns = ['filename', 'phrase',\n",
    "                                               'checked', 'start', 'end'])"
   ]
  },
  {
   "cell_type": "markdown",
   "id": "b1f66f9b-a3e2-4c92-8634-8ca6283d1a51",
   "metadata": {},
   "source": [
    "# Итого"
   ]
  },
  {
   "cell_type": "code",
   "execution_count": 271,
   "id": "d5aa58c5-5a4e-4ae9-ad10-13630cfee515",
   "metadata": {},
   "outputs": [
    {
     "data": {
      "text/plain": [
       "9145"
      ]
     },
     "execution_count": 271,
     "metadata": {},
     "output_type": "execute_result"
    }
   ],
   "source": [
    "spans = pd.concat([idtx, ev, ft, idtxev])\n",
    "len(spans)"
   ]
  },
  {
   "cell_type": "markdown",
   "id": "09b54fa7-d78c-440f-8fc5-cdb2454f3815",
   "metadata": {},
   "source": [
    "### Очистка от комментариев и пунктуационных проблем"
   ]
  },
  {
   "cell_type": "code",
   "execution_count": 282,
   "id": "fb0b96ec-f54b-4024-917a-431702e57b58",
   "metadata": {},
   "outputs": [
    {
     "data": {
      "text/plain": [
       "8681"
      ]
     },
     "execution_count": 282,
     "metadata": {},
     "output_type": "execute_result"
    }
   ],
   "source": [
    "comments = [r'\\(русс\\.\\)', r'\\(unclear\\)', 'russian', 'Russian', 'laughter', 'stammers', r'\\(R\\)', r'\\?\\?\\?', r'\\[BP:', 'sound', 'incomprehensible']\n",
    "for comment in comments:\n",
    "    spans = spans.drop(spans[spans['phrase'].str.contains(comment)].index)\n",
    "spans = spans.drop(spans[spans['phrase']==''].index)\n",
    "len(spans)"
   ]
  },
  {
   "cell_type": "code",
   "execution_count": 283,
   "id": "fc340a9a-6eb8-45d0-8509-d3a9b1e8b8fa",
   "metadata": {},
   "outputs": [
    {
     "data": {
      "text/html": [
       "<div>\n",
       "<style scoped>\n",
       "    .dataframe tbody tr th:only-of-type {\n",
       "        vertical-align: middle;\n",
       "    }\n",
       "\n",
       "    .dataframe tbody tr th {\n",
       "        vertical-align: top;\n",
       "    }\n",
       "\n",
       "    .dataframe thead th {\n",
       "        text-align: right;\n",
       "    }\n",
       "</style>\n",
       "<table border=\"1\" class=\"dataframe\">\n",
       "  <thead>\n",
       "    <tr style=\"text-align: right;\">\n",
       "      <th></th>\n",
       "      <th>filename</th>\n",
       "      <th>phrase</th>\n",
       "      <th>checked</th>\n",
       "      <th>start</th>\n",
       "      <th>end</th>\n",
       "      <th>length</th>\n",
       "      <th>place</th>\n",
       "    </tr>\n",
       "  </thead>\n",
       "  <tbody>\n",
       "    <tr>\n",
       "      <th>0</th>\n",
       "      <td>Bystraja District__Conversations__Adukanova_Ic...</td>\n",
       "      <td>Teːleŋni</td>\n",
       "      <td>тэлэӈни</td>\n",
       "      <td>18090</td>\n",
       "      <td>21025</td>\n",
       "      <td>2935</td>\n",
       "      <td>Bystraja District</td>\n",
       "    </tr>\n",
       "    <tr>\n",
       "      <th>1</th>\n",
       "      <td>Bystraja District__Conversations__Adukanova_Ic...</td>\n",
       "      <td>V armiju služili...</td>\n",
       "      <td>в армию служили</td>\n",
       "      <td>21025</td>\n",
       "      <td>24065</td>\n",
       "      <td>3040</td>\n",
       "      <td>Bystraja District</td>\n",
       "    </tr>\n",
       "    <tr>\n",
       "      <th>2</th>\n",
       "      <td>Bystraja District__Conversations__Adukanova_Ic...</td>\n",
       "      <td>Ọrọttịč teːleŋni</td>\n",
       "      <td>ороттыч тэлэӈни</td>\n",
       "      <td>34415</td>\n",
       "      <td>35575</td>\n",
       "      <td>1160</td>\n",
       "      <td>Bystraja District</td>\n",
       "    </tr>\n",
       "    <tr>\n",
       "      <th>3</th>\n",
       "      <td>Bystraja District__Conversations__Adukanova_Ic...</td>\n",
       "      <td>Tugenidu tụrkị...</td>\n",
       "      <td>тугэниду турки</td>\n",
       "      <td>108325</td>\n",
       "      <td>110685</td>\n",
       "      <td>2360</td>\n",
       "      <td>Bystraja District</td>\n",
       "    </tr>\n",
       "    <tr>\n",
       "      <th>4</th>\n",
       "      <td>Bystraja District__Conversations__Adukanova_Ic...</td>\n",
       "      <td>Nu, a sobak obučat', kak vy eto delaete?</td>\n",
       "      <td>ну а собак обучать как вы это делаете</td>\n",
       "      <td>395194</td>\n",
       "      <td>403985</td>\n",
       "      <td>8791</td>\n",
       "      <td>Bystraja District</td>\n",
       "    </tr>\n",
       "    <tr>\n",
       "      <th>...</th>\n",
       "      <td>...</td>\n",
       "      <td>...</td>\n",
       "      <td>...</td>\n",
       "      <td>...</td>\n",
       "      <td>...</td>\n",
       "      <td>...</td>\n",
       "      <td>...</td>\n",
       "    </tr>\n",
       "    <tr>\n",
       "      <th>2540</th>\n",
       "      <td>Topolinoe__Narratives__Personal Narratives__To...</td>\n",
       "      <td>Tačịn upe ukčeːneddin.</td>\n",
       "      <td>тачин упе укчэнэддын</td>\n",
       "      <td>233362</td>\n",
       "      <td>235870</td>\n",
       "      <td>2508</td>\n",
       "      <td>Topolinoe</td>\n",
       "    </tr>\n",
       "    <tr>\n",
       "      <th>2541</th>\n",
       "      <td>Topolinoe__Narratives__Personal Narratives__To...</td>\n",
       "      <td>Tara.</td>\n",
       "      <td>тара</td>\n",
       "      <td>238521</td>\n",
       "      <td>239317</td>\n",
       "      <td>796</td>\n",
       "      <td>Topolinoe</td>\n",
       "    </tr>\n",
       "    <tr>\n",
       "      <th>2542</th>\n",
       "      <td>Topolinoe__Narratives__Personal Narratives__To...</td>\n",
       "      <td>Tar.</td>\n",
       "      <td>тар</td>\n",
       "      <td>241800</td>\n",
       "      <td>242230</td>\n",
       "      <td>430</td>\n",
       "      <td>Topolinoe</td>\n",
       "    </tr>\n",
       "    <tr>\n",
       "      <th>2543</th>\n",
       "      <td>Topolinoe__Narratives__Personal Narratives__To...</td>\n",
       "      <td>Ewedič.</td>\n",
       "      <td>эвэдыч</td>\n",
       "      <td>58520</td>\n",
       "      <td>59340</td>\n",
       "      <td>820</td>\n",
       "      <td>Topolinoe</td>\n",
       "    </tr>\n",
       "    <tr>\n",
       "      <th>2544</th>\n",
       "      <td>Topolinoe__Narratives__Personal Narratives__To...</td>\n",
       "      <td>Ewedič.</td>\n",
       "      <td>эвэдыч</td>\n",
       "      <td>59430</td>\n",
       "      <td>59960</td>\n",
       "      <td>530</td>\n",
       "      <td>Topolinoe</td>\n",
       "    </tr>\n",
       "  </tbody>\n",
       "</table>\n",
       "<p>8681 rows × 7 columns</p>\n",
       "</div>"
      ],
      "text/plain": [
       "                                               filename  \\\n",
       "0     Bystraja District__Conversations__Adukanova_Ic...   \n",
       "1     Bystraja District__Conversations__Adukanova_Ic...   \n",
       "2     Bystraja District__Conversations__Adukanova_Ic...   \n",
       "3     Bystraja District__Conversations__Adukanova_Ic...   \n",
       "4     Bystraja District__Conversations__Adukanova_Ic...   \n",
       "...                                                 ...   \n",
       "2540  Topolinoe__Narratives__Personal Narratives__To...   \n",
       "2541  Topolinoe__Narratives__Personal Narratives__To...   \n",
       "2542  Topolinoe__Narratives__Personal Narratives__To...   \n",
       "2543  Topolinoe__Narratives__Personal Narratives__To...   \n",
       "2544  Topolinoe__Narratives__Personal Narratives__To...   \n",
       "\n",
       "                                        phrase  \\\n",
       "0                                     Teːleŋni   \n",
       "1                          V armiju služili...   \n",
       "2                             Ọrọttịč teːleŋni   \n",
       "3                            Tugenidu tụrkị...   \n",
       "4     Nu, a sobak obučat', kak vy eto delaete?   \n",
       "...                                        ...   \n",
       "2540                    Tačịn upe ukčeːneddin.   \n",
       "2541                                     Tara.   \n",
       "2542                                      Tar.   \n",
       "2543                                   Ewedič.   \n",
       "2544                                   Ewedič.   \n",
       "\n",
       "                                     checked   start     end  length  \\\n",
       "0                                    тэлэӈни   18090   21025    2935   \n",
       "1                           в армию служили    21025   24065    3040   \n",
       "2                            ороттыч тэлэӈни   34415   35575    1160   \n",
       "3                            тугэниду турки   108325  110685    2360   \n",
       "4     ну а собак обучать как вы это делаете   395194  403985    8791   \n",
       "...                                      ...     ...     ...     ...   \n",
       "2540                   тачин упе укчэнэддын   233362  235870    2508   \n",
       "2541                                   тара   238521  239317     796   \n",
       "2542                                    тар   241800  242230     430   \n",
       "2543                                 эвэдыч    58520   59340     820   \n",
       "2544                                 эвэдыч    59430   59960     530   \n",
       "\n",
       "                  place  \n",
       "0     Bystraja District  \n",
       "1     Bystraja District  \n",
       "2     Bystraja District  \n",
       "3     Bystraja District  \n",
       "4     Bystraja District  \n",
       "...                 ...  \n",
       "2540          Topolinoe  \n",
       "2541          Topolinoe  \n",
       "2542          Topolinoe  \n",
       "2543          Topolinoe  \n",
       "2544          Topolinoe  \n",
       "\n",
       "[8681 rows x 7 columns]"
      ]
     },
     "execution_count": 283,
     "metadata": {},
     "output_type": "execute_result"
    }
   ],
   "source": [
    "spans"
   ]
  },
  {
   "cell_type": "code",
   "execution_count": 284,
   "id": "76e5d314-2bd9-4d40-b010-ebe9d6ff09e3",
   "metadata": {},
   "outputs": [],
   "source": [
    "def punct_clear(sent):\n",
    "    chars_to_remove_regex = r'[,\\?\\.\\!\\-\\;\\:\\\"\\“\\%\\‘\\”\\�\\'\\»\\«\\„\\‐\\–_]'\n",
    "    sent = re.sub(chars_to_remove_regex, ' ', sent)\n",
    "    sent = re.sub(' +', ' ', sent)\n",
    "    return sent"
   ]
  },
  {
   "cell_type": "code",
   "execution_count": 285,
   "id": "6c72982b-e2bf-44a2-8705-9ee9781d9aed",
   "metadata": {},
   "outputs": [],
   "source": [
    "spans['checked'] = spans['checked'].apply(punct_clear)"
   ]
  },
  {
   "cell_type": "code",
   "execution_count": 286,
   "id": "c66211dd-e1f8-45ad-89de-c7e2e9e3597e",
   "metadata": {},
   "outputs": [],
   "source": [
    "spans.to_csv('../spans.csv', index=False) "
   ]
  },
  {
   "cell_type": "markdown",
   "id": "a5ced807-3df3-4650-81d1-7c3b3673b7a0",
   "metadata": {},
   "source": [
    "### Статистика"
   ]
  },
  {
   "cell_type": "code",
   "execution_count": 287,
   "id": "c18e28d2-5990-44d4-a51e-79eea39cf14a",
   "metadata": {},
   "outputs": [
    {
     "data": {
      "text/plain": [
       "677.2684666666667"
      ]
     },
     "execution_count": 287,
     "metadata": {},
     "output_type": "execute_result"
    }
   ],
   "source": [
    "spans['length'] = spans['end'] - spans['start']\n",
    "# столько звучащих минут\n",
    "spans['length'].sum() / 60000"
   ]
  },
  {
   "cell_type": "code",
   "execution_count": 288,
   "id": "8894047d-db28-496d-af57-3fff6ad4629b",
   "metadata": {},
   "outputs": [
    {
     "data": {
      "text/plain": [
       "11.287807777777777"
      ]
     },
     "execution_count": 288,
     "metadata": {},
     "output_type": "execute_result"
    }
   ],
   "source": [
    "# столько звучащих часов\n",
    "spans['length'].sum() / 60000 / 60"
   ]
  },
  {
   "cell_type": "code",
   "execution_count": 289,
   "id": "bad12a44-dedb-4f94-ab16-fca730a5a316",
   "metadata": {},
   "outputs": [
    {
     "data": {
      "text/html": [
       "<div>\n",
       "<style scoped>\n",
       "    .dataframe tbody tr th:only-of-type {\n",
       "        vertical-align: middle;\n",
       "    }\n",
       "\n",
       "    .dataframe tbody tr th {\n",
       "        vertical-align: top;\n",
       "    }\n",
       "\n",
       "    .dataframe thead th {\n",
       "        text-align: right;\n",
       "    }\n",
       "</style>\n",
       "<table border=\"1\" class=\"dataframe\">\n",
       "  <thead>\n",
       "    <tr style=\"text-align: right;\">\n",
       "      <th></th>\n",
       "      <th>filename</th>\n",
       "      <th>phrase</th>\n",
       "      <th>checked</th>\n",
       "      <th>start</th>\n",
       "      <th>end</th>\n",
       "      <th>length</th>\n",
       "      <th>place</th>\n",
       "    </tr>\n",
       "  </thead>\n",
       "  <tbody>\n",
       "    <tr>\n",
       "      <th>0</th>\n",
       "      <td>Bystraja District__Conversations__Adukanova_Ic...</td>\n",
       "      <td>Teːleŋni</td>\n",
       "      <td>тэлэӈни</td>\n",
       "      <td>18090</td>\n",
       "      <td>21025</td>\n",
       "      <td>2935</td>\n",
       "      <td>Bystraja District</td>\n",
       "    </tr>\n",
       "    <tr>\n",
       "      <th>1</th>\n",
       "      <td>Bystraja District__Conversations__Adukanova_Ic...</td>\n",
       "      <td>V armiju služili...</td>\n",
       "      <td>в армию служили</td>\n",
       "      <td>21025</td>\n",
       "      <td>24065</td>\n",
       "      <td>3040</td>\n",
       "      <td>Bystraja District</td>\n",
       "    </tr>\n",
       "    <tr>\n",
       "      <th>2</th>\n",
       "      <td>Bystraja District__Conversations__Adukanova_Ic...</td>\n",
       "      <td>Ọrọttịč teːleŋni</td>\n",
       "      <td>ороттыч тэлэӈни</td>\n",
       "      <td>34415</td>\n",
       "      <td>35575</td>\n",
       "      <td>1160</td>\n",
       "      <td>Bystraja District</td>\n",
       "    </tr>\n",
       "    <tr>\n",
       "      <th>3</th>\n",
       "      <td>Bystraja District__Conversations__Adukanova_Ic...</td>\n",
       "      <td>Tugenidu tụrkị...</td>\n",
       "      <td>тугэниду турки</td>\n",
       "      <td>108325</td>\n",
       "      <td>110685</td>\n",
       "      <td>2360</td>\n",
       "      <td>Bystraja District</td>\n",
       "    </tr>\n",
       "    <tr>\n",
       "      <th>4</th>\n",
       "      <td>Bystraja District__Conversations__Adukanova_Ic...</td>\n",
       "      <td>Nu, a sobak obučat', kak vy eto delaete?</td>\n",
       "      <td>ну а собак обучать как вы это делаете</td>\n",
       "      <td>395194</td>\n",
       "      <td>403985</td>\n",
       "      <td>8791</td>\n",
       "      <td>Bystraja District</td>\n",
       "    </tr>\n",
       "  </tbody>\n",
       "</table>\n",
       "</div>"
      ],
      "text/plain": [
       "                                            filename  \\\n",
       "0  Bystraja District__Conversations__Adukanova_Ic...   \n",
       "1  Bystraja District__Conversations__Adukanova_Ic...   \n",
       "2  Bystraja District__Conversations__Adukanova_Ic...   \n",
       "3  Bystraja District__Conversations__Adukanova_Ic...   \n",
       "4  Bystraja District__Conversations__Adukanova_Ic...   \n",
       "\n",
       "                                     phrase  \\\n",
       "0                                  Teːleŋni   \n",
       "1                       V armiju služili...   \n",
       "2                          Ọrọttịč teːleŋni   \n",
       "3                         Tugenidu tụrkị...   \n",
       "4  Nu, a sobak obučat', kak vy eto delaete?   \n",
       "\n",
       "                                  checked   start     end  length  \\\n",
       "0                                 тэлэӈни   18090   21025    2935   \n",
       "1                        в армию служили    21025   24065    3040   \n",
       "2                         ороттыч тэлэӈни   34415   35575    1160   \n",
       "3                         тугэниду турки   108325  110685    2360   \n",
       "4  ну а собак обучать как вы это делаете   395194  403985    8791   \n",
       "\n",
       "               place  \n",
       "0  Bystraja District  \n",
       "1  Bystraja District  \n",
       "2  Bystraja District  \n",
       "3  Bystraja District  \n",
       "4  Bystraja District  "
      ]
     },
     "execution_count": 289,
     "metadata": {},
     "output_type": "execute_result"
    }
   ],
   "source": [
    "spans['place'] = spans['filename'].apply(lambda x: x.split('__')[0])\n",
    "spans.head()"
   ]
  },
  {
   "cell_type": "code",
   "execution_count": 290,
   "id": "435dfc6e-0d13-46cf-aff1-b371eccca518",
   "metadata": {},
   "outputs": [
    {
     "data": {
      "text/plain": [
       "place\n",
       "Bystraja District    3.479447\n",
       "Sebjan-Küöl          4.233915\n",
       "Topolinoe            3.574446\n",
       "Name: length, dtype: float64"
      ]
     },
     "execution_count": 290,
     "metadata": {},
     "output_type": "execute_result"
    }
   ],
   "source": [
    "spans.groupby('place')['length'].sum() / 60000 / 60"
   ]
  },
  {
   "cell_type": "code",
   "execution_count": 291,
   "id": "ff4d7031-47b2-4124-8b5c-2f524f57386f",
   "metadata": {},
   "outputs": [
    {
     "data": {
      "text/plain": [
       "place\n",
       "Bystraja District    208.766833\n",
       "Sebjan-Küöl          254.034900\n",
       "Topolinoe            214.466733\n",
       "Name: length, dtype: float64"
      ]
     },
     "execution_count": 291,
     "metadata": {},
     "output_type": "execute_result"
    }
   ],
   "source": [
    "spans.groupby('place')['length'].sum() / 60000"
   ]
  },
  {
   "cell_type": "code",
   "execution_count": null,
   "id": "afa30d6b-c5b6-46e7-92dd-c7e726bb1af7",
   "metadata": {},
   "outputs": [],
   "source": []
  }
 ],
 "metadata": {
  "kernelspec": {
   "display_name": "Python 3 (ipykernel)",
   "language": "python",
   "name": "python3"
  },
  "language_info": {
   "codemirror_mode": {
    "name": "ipython",
    "version": 3
   },
   "file_extension": ".py",
   "mimetype": "text/x-python",
   "name": "python",
   "nbconvert_exporter": "python",
   "pygments_lexer": "ipython3",
   "version": "3.12.0"
  }
 },
 "nbformat": 4,
 "nbformat_minor": 5
}
