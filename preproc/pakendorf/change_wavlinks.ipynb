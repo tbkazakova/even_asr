{
 "cells": [
  {
   "cell_type": "markdown",
   "id": "9f46769a-1ef0-4970-a330-e157218f9a46",
   "metadata": {},
   "source": [
    "Эта тетрадка меняет в eaf файлах ссылки на wav файлы.\n",
    "\n",
    "Раньше wav файлы имели названия, похожие на названия eaf файлов. Теперь они ровно такие же, руками исправлено. Поэтому нужно, перепривязать eaf."
   ]
  },
  {
   "cell_type": "code",
   "execution_count": 57,
   "id": "1cead37e-0554-44a0-827c-ffacd21c7a16",
   "metadata": {},
   "outputs": [],
   "source": [
    "import os, re"
   ]
  },
  {
   "cell_type": "code",
   "execution_count": 72,
   "id": "2c2052f6-e986-4a90-9907-aa2065c28ef2",
   "metadata": {},
   "outputs": [],
   "source": [
    "filenames = os.listdir('../audio')\n",
    "for filename in filenames:\n",
    "    if filename.endswith('.eaf'):\n",
    "        \n",
    "        with open('../audio/'+filename, 'r') as f:\n",
    "            text = f.read()\n",
    "        wavname = filename.split('.')[0]+'.wav'\n",
    "        text = re.sub(r'''MEDIA_URL=\"file:///Users/tbkazakova/Desktop/2023/diplom/audio/.+?\\.wav''',\n",
    "                      '''MEDIA_URL=\"file:///Users/tbkazakova/Desktop/2023/diplom/audio/''' + wavname,\n",
    "                      text)\n",
    "        text = re.sub(r'''RELATIVE_MEDIA_URL=\"./.+?\\.wav''',\n",
    "                      '''RELATIVE_MEDIA_URL=\"./''' + wavname,\n",
    "                      text)\n",
    "        with open('../audio/'+filename, 'w') as f:\n",
    "            f.write(text)"
   ]
  }
 ],
 "metadata": {
  "kernelspec": {
   "display_name": "Python 3 (ipykernel)",
   "language": "python",
   "name": "python3"
  },
  "language_info": {
   "codemirror_mode": {
    "name": "ipython",
    "version": 3
   },
   "file_extension": ".py",
   "mimetype": "text/x-python",
   "name": "python",
   "nbconvert_exporter": "python",
   "pygments_lexer": "ipython3",
   "version": "3.12.0"
  }
 },
 "nbformat": 4,
 "nbformat_minor": 5
}
