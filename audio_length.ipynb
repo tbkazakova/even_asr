{
 "cells": [
  {
   "cell_type": "markdown",
   "id": "dbe03258-96d8-486d-9edb-888f009a477e",
   "metadata": {},
   "source": [
    "# Считает длину аудио"
   ]
  },
  {
   "cell_type": "code",
   "execution_count": 1,
   "id": "606d9731-f1f3-4f9f-921e-27f7ca749e90",
   "metadata": {},
   "outputs": [
    {
     "name": "stdout",
     "output_type": "stream",
     "text": [
      "Requirement already satisfied: mutagen in /Library/Frameworks/Python.framework/Versions/3.12/lib/python3.12/site-packages (1.47.0)\n",
      "\n",
      "\u001b[1m[\u001b[0m\u001b[34;49mnotice\u001b[0m\u001b[1;39;49m]\u001b[0m\u001b[39;49m A new release of pip is available: \u001b[0m\u001b[31;49m23.3.1\u001b[0m\u001b[39;49m -> \u001b[0m\u001b[32;49m24.0\u001b[0m\n",
      "\u001b[1m[\u001b[0m\u001b[34;49mnotice\u001b[0m\u001b[1;39;49m]\u001b[0m\u001b[39;49m To update, run: \u001b[0m\u001b[32;49mpip install --upgrade pip\u001b[0m\n"
     ]
    }
   ],
   "source": [
    "! pip install mutagen"
   ]
  },
  {
   "cell_type": "code",
   "execution_count": 4,
   "id": "19d881a7-32f1-4c9e-b48f-7318023ef034",
   "metadata": {},
   "outputs": [],
   "source": [
    "import os\n",
    "import mutagen \n",
    "from mutagen.wave import WAVE\n",
    "import pandas as pd\n",
    "from tqdm import tqdm"
   ]
  },
  {
   "cell_type": "code",
   "execution_count": 3,
   "id": "101f233e-a08a-43ee-aebe-0ca6df2b5911",
   "metadata": {},
   "outputs": [],
   "source": [
    "# function to convert the information into \n",
    "# some readable format \n",
    "def audio_duration(length): \n",
    "\thours = length // 3600 # calculate in hours \n",
    "\tlength %= 3600\n",
    "\tmins = length // 60 # calculate in minutes \n",
    "\tlength %= 60\n",
    "\tseconds = length # calculate in seconds \n",
    "\n",
    "\treturn hours, mins, seconds # returns the duration "
   ]
  },
  {
   "cell_type": "code",
   "execution_count": 9,
   "id": "c855558b-39bf-4db0-a36c-7f64bd153457",
   "metadata": {},
   "outputs": [
    {
     "name": "stderr",
     "output_type": "stream",
     "text": [
      "100%|███████████████████████████████████████| 137/137 [00:00<00:00, 1165.35it/s]\n"
     ]
    }
   ],
   "source": [
    "# Create a WAVE object \n",
    "# Specify the directory address of your wavpack file\n",
    "lengths = []\n",
    "\n",
    "filenames = os.listdir('../audio')\n",
    "wav_filenames = [filename for filename in filenames if filename.endswith('wav')]\n",
    "\n",
    "\n",
    "for filename in tqdm(wav_filenames):\n",
    "    audio = WAVE(\"../audio/\"+filename)\n",
    "    audio_info = audio.info\n",
    "    lengths.append(int(audio_info.length))"
   ]
  },
  {
   "cell_type": "markdown",
   "id": "2a595911-aea3-4107-8794-3c5a6dfd18dd",
   "metadata": {},
   "source": [
    "# Статистика для корпуса Пакендорф"
   ]
  },
  {
   "cell_type": "code",
   "execution_count": 11,
   "id": "17a31fc9-303d-406c-817d-7946f442046a",
   "metadata": {},
   "outputs": [],
   "source": [
    "wav_df = pd.DataFrame()\n",
    "wav_df['filename'] = wav_filenames\n",
    "wav_df['length'] = lengths\n",
    "wav_df['place'] = wav_df['filename'].apply(lambda x: x.split('__')[0])"
   ]
  },
  {
   "cell_type": "code",
   "execution_count": 12,
   "id": "830fc968-800a-4b1f-8b1b-d1055204367d",
   "metadata": {},
   "outputs": [
    {
     "data": {
      "text/html": [
       "<div>\n",
       "<style scoped>\n",
       "    .dataframe tbody tr th:only-of-type {\n",
       "        vertical-align: middle;\n",
       "    }\n",
       "\n",
       "    .dataframe tbody tr th {\n",
       "        vertical-align: top;\n",
       "    }\n",
       "\n",
       "    .dataframe thead th {\n",
       "        text-align: right;\n",
       "    }\n",
       "</style>\n",
       "<table border=\"1\" class=\"dataframe\">\n",
       "  <thead>\n",
       "    <tr style=\"text-align: right;\">\n",
       "      <th></th>\n",
       "      <th>filename</th>\n",
       "      <th>length</th>\n",
       "      <th>place</th>\n",
       "    </tr>\n",
       "  </thead>\n",
       "  <tbody>\n",
       "    <tr>\n",
       "      <th>0</th>\n",
       "      <td>Sebjan-Küöl__Narratives__Personal Narratives...</td>\n",
       "      <td>595</td>\n",
       "      <td>Sebjan-Küöl</td>\n",
       "    </tr>\n",
       "    <tr>\n",
       "      <th>1</th>\n",
       "      <td>Bystraja District__Narratives__Personal Narrat...</td>\n",
       "      <td>128</td>\n",
       "      <td>Bystraja District</td>\n",
       "    </tr>\n",
       "    <tr>\n",
       "      <th>2</th>\n",
       "      <td>Bystraja District__Phonetic recordings__VIA__V...</td>\n",
       "      <td>310</td>\n",
       "      <td>Bystraja District</td>\n",
       "    </tr>\n",
       "    <tr>\n",
       "      <th>3</th>\n",
       "      <td>Bystraja District__Narratives__Personal Narrat...</td>\n",
       "      <td>51</td>\n",
       "      <td>Bystraja District</td>\n",
       "    </tr>\n",
       "    <tr>\n",
       "      <th>4</th>\n",
       "      <td>Topolinoe__Narratives__Personal Narratives__To...</td>\n",
       "      <td>210</td>\n",
       "      <td>Topolinoe</td>\n",
       "    </tr>\n",
       "  </tbody>\n",
       "</table>\n",
       "</div>"
      ],
      "text/plain": [
       "                                            filename  length  \\\n",
       "0  Sebjan-Küöl__Narratives__Personal Narratives...     595   \n",
       "1  Bystraja District__Narratives__Personal Narrat...     128   \n",
       "2  Bystraja District__Phonetic recordings__VIA__V...     310   \n",
       "3  Bystraja District__Narratives__Personal Narrat...      51   \n",
       "4  Topolinoe__Narratives__Personal Narratives__To...     210   \n",
       "\n",
       "               place  \n",
       "0      Sebjan-Küöl  \n",
       "1  Bystraja District  \n",
       "2  Bystraja District  \n",
       "3  Bystraja District  \n",
       "4          Topolinoe  "
      ]
     },
     "execution_count": 12,
     "metadata": {},
     "output_type": "execute_result"
    }
   ],
   "source": [
    "wav_df.head()"
   ]
  },
  {
   "cell_type": "code",
   "execution_count": 14,
   "id": "46d22894-fa84-4bfb-b48f-4c68316317a2",
   "metadata": {},
   "outputs": [],
   "source": [
    "wav_df['place'] = wav_df['place'].apply(lambda x: x if x != 'Sebjan-Küöl' else 'Sebjan-Küöl')"
   ]
  },
  {
   "cell_type": "code",
   "execution_count": 21,
   "id": "a06f4a4d-63d0-4ff2-93c8-59bc473a7e77",
   "metadata": {},
   "outputs": [
    {
     "data": {
      "text/plain": [
       "place\n",
       "Bystraja District    1042.550000\n",
       "Sebjan-Küöl           269.566667\n",
       "Topolinoe             372.250000\n",
       "Name: length, dtype: float64"
      ]
     },
     "execution_count": 21,
     "metadata": {},
     "output_type": "execute_result"
    }
   ],
   "source": [
    "# минут\n",
    "wav_df.groupby('place')['length'].sum() / 60"
   ]
  },
  {
   "cell_type": "code",
   "execution_count": 17,
   "id": "09842bb5-f80b-49ad-8e22-40803fbf69ba",
   "metadata": {},
   "outputs": [
    {
     "data": {
      "text/plain": [
       "place\n",
       "Bystraja District    17.375833\n",
       "Sebjan-Küöl           4.492778\n",
       "Topolinoe             6.204167\n",
       "Name: length, dtype: float64"
      ]
     },
     "execution_count": 17,
     "metadata": {},
     "output_type": "execute_result"
    }
   ],
   "source": [
    "# часов\n",
    "wav_df.groupby('place')['length'].sum() / 60 / 60"
   ]
  },
  {
   "cell_type": "code",
   "execution_count": 25,
   "id": "6a5cdfc3-4570-47f5-93ef-3f6312805553",
   "metadata": {},
   "outputs": [
    {
     "data": {
      "text/plain": [
       "place\n",
       "Bystraja District    78\n",
       "Sebjan-Küöl          31\n",
       "Topolinoe            28\n",
       "Name: count, dtype: int64"
      ]
     },
     "execution_count": 25,
     "metadata": {},
     "output_type": "execute_result"
    }
   ],
   "source": [
    "# файлов\n",
    "wav_df['place'].value_counts()"
   ]
  },
  {
   "cell_type": "markdown",
   "id": "0971bb34-a56b-49b6-9e7e-b1ec2043824f",
   "metadata": {},
   "source": [
    "### Не будем считать фонетические пары"
   ]
  },
  {
   "cell_type": "code",
   "execution_count": 19,
   "id": "39aa8a73-cba5-44e7-98da-995c5da931ee",
   "metadata": {},
   "outputs": [
    {
     "data": {
      "text/html": [
       "<div>\n",
       "<style scoped>\n",
       "    .dataframe tbody tr th:only-of-type {\n",
       "        vertical-align: middle;\n",
       "    }\n",
       "\n",
       "    .dataframe tbody tr th {\n",
       "        vertical-align: top;\n",
       "    }\n",
       "\n",
       "    .dataframe thead th {\n",
       "        text-align: right;\n",
       "    }\n",
       "</style>\n",
       "<table border=\"1\" class=\"dataframe\">\n",
       "  <thead>\n",
       "    <tr style=\"text-align: right;\">\n",
       "      <th></th>\n",
       "      <th>filename</th>\n",
       "      <th>length</th>\n",
       "      <th>place</th>\n",
       "      <th>phonetic</th>\n",
       "    </tr>\n",
       "  </thead>\n",
       "  <tbody>\n",
       "    <tr>\n",
       "      <th>0</th>\n",
       "      <td>Sebjan-Küöl__Narratives__Personal Narratives...</td>\n",
       "      <td>595</td>\n",
       "      <td>Sebjan-Küöl</td>\n",
       "      <td>False</td>\n",
       "    </tr>\n",
       "    <tr>\n",
       "      <th>1</th>\n",
       "      <td>Bystraja District__Narratives__Personal Narrat...</td>\n",
       "      <td>128</td>\n",
       "      <td>Bystraja District</td>\n",
       "      <td>False</td>\n",
       "    </tr>\n",
       "    <tr>\n",
       "      <th>2</th>\n",
       "      <td>Bystraja District__Phonetic recordings__VIA__V...</td>\n",
       "      <td>310</td>\n",
       "      <td>Bystraja District</td>\n",
       "      <td>True</td>\n",
       "    </tr>\n",
       "    <tr>\n",
       "      <th>3</th>\n",
       "      <td>Bystraja District__Narratives__Personal Narrat...</td>\n",
       "      <td>51</td>\n",
       "      <td>Bystraja District</td>\n",
       "      <td>False</td>\n",
       "    </tr>\n",
       "    <tr>\n",
       "      <th>4</th>\n",
       "      <td>Topolinoe__Narratives__Personal Narratives__To...</td>\n",
       "      <td>210</td>\n",
       "      <td>Topolinoe</td>\n",
       "      <td>False</td>\n",
       "    </tr>\n",
       "  </tbody>\n",
       "</table>\n",
       "</div>"
      ],
      "text/plain": [
       "                                            filename  length  \\\n",
       "0  Sebjan-Küöl__Narratives__Personal Narratives...     595   \n",
       "1  Bystraja District__Narratives__Personal Narrat...     128   \n",
       "2  Bystraja District__Phonetic recordings__VIA__V...     310   \n",
       "3  Bystraja District__Narratives__Personal Narrat...      51   \n",
       "4  Topolinoe__Narratives__Personal Narratives__To...     210   \n",
       "\n",
       "               place  phonetic  \n",
       "0        Sebjan-Küöl     False  \n",
       "1  Bystraja District     False  \n",
       "2  Bystraja District      True  \n",
       "3  Bystraja District     False  \n",
       "4          Topolinoe     False  "
      ]
     },
     "execution_count": 19,
     "metadata": {},
     "output_type": "execute_result"
    }
   ],
   "source": [
    "wav_df['phonetic'] = wav_df['filename'].apply(lambda x: True if 'Phonetic' in x else False)\n",
    "wav_df.head()"
   ]
  },
  {
   "cell_type": "code",
   "execution_count": 22,
   "id": "864d540d-29fd-4f6b-96dc-d0627de47a69",
   "metadata": {},
   "outputs": [
    {
     "data": {
      "text/plain": [
       "place\n",
       "Bystraja District    242.416667\n",
       "Sebjan-Küöl          269.566667\n",
       "Topolinoe            372.250000\n",
       "Name: length, dtype: float64"
      ]
     },
     "execution_count": 22,
     "metadata": {},
     "output_type": "execute_result"
    }
   ],
   "source": [
    "# минут\n",
    "wav_df[wav_df['phonetic'] == False].groupby('place')['length'].sum() / 60"
   ]
  },
  {
   "cell_type": "code",
   "execution_count": 23,
   "id": "642657c2-2d55-4f1c-b94d-bc9e3d51886a",
   "metadata": {},
   "outputs": [
    {
     "data": {
      "text/plain": [
       "place\n",
       "Bystraja District    4.040278\n",
       "Sebjan-Küöl          4.492778\n",
       "Topolinoe            6.204167\n",
       "Name: length, dtype: float64"
      ]
     },
     "execution_count": 23,
     "metadata": {},
     "output_type": "execute_result"
    }
   ],
   "source": [
    "# часов\n",
    "wav_df[wav_df['phonetic'] == False].groupby('place')['length'].sum() / 60 / 60"
   ]
  },
  {
   "cell_type": "code",
   "execution_count": 26,
   "id": "63aa4219-b3c0-4544-a098-88c4450908ac",
   "metadata": {},
   "outputs": [
    {
     "data": {
      "text/plain": [
       "place\n",
       "Sebjan-Küöl          31\n",
       "Topolinoe            28\n",
       "Bystraja District    26\n",
       "Name: count, dtype: int64"
      ]
     },
     "execution_count": 26,
     "metadata": {},
     "output_type": "execute_result"
    }
   ],
   "source": [
    "# файлов\n",
    "wav_df[wav_df['phonetic'] == False]['place'].value_counts()"
   ]
  },
  {
   "cell_type": "code",
   "execution_count": null,
   "id": "53c9d54d-d1d8-4694-83b4-f7b3c9247d65",
   "metadata": {},
   "outputs": [],
   "source": []
  }
 ],
 "metadata": {
  "kernelspec": {
   "display_name": "Python 3 (ipykernel)",
   "language": "python",
   "name": "python3"
  },
  "language_info": {
   "codemirror_mode": {
    "name": "ipython",
    "version": 3
   },
   "file_extension": ".py",
   "mimetype": "text/x-python",
   "name": "python",
   "nbconvert_exporter": "python",
   "pygments_lexer": "ipython3",
   "version": "3.12.0"
  }
 },
 "nbformat": 4,
 "nbformat_minor": 5
}
